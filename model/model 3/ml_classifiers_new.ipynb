{
 "cells": [
  {
   "cell_type": "code",
   "execution_count": 24,
   "metadata": {},
   "outputs": [],
   "source": [
    "# To ignore warinings\n",
    "import warnings\n",
    "warnings.filterwarnings('ignore')"
   ]
  },
  {
   "cell_type": "code",
   "execution_count": 25,
   "metadata": {},
   "outputs": [],
   "source": [
    "import numpy as np\n",
    "import pandas as pd\n",
    "from sklearn.model_selection import train_test_split\n",
    "from sklearn.pipeline import Pipeline\n",
    "from sklearn.feature_extraction.text import TfidfVectorizer\n",
    "from sklearn.naive_bayes import MultinomialNB\n",
    "from sklearn.svm import SVC\n",
    "from sklearn.ensemble import RandomForestClassifier, GradientBoostingClassifier\n",
    "import xgboost as xgb\n",
    "from sklearn.preprocessing import LabelEncoder\n",
    "from sklearn.metrics import precision_recall_fscore_support, accuracy_score, confusion_matrix, classification_report"
   ]
  },
  {
   "cell_type": "code",
   "execution_count": 26,
   "metadata": {},
   "outputs": [],
   "source": [
    "# Reading the dataset\n",
    "df = pd.read_csv('../../data/full_cleaned.csv')"
   ]
  },
  {
   "cell_type": "code",
   "execution_count": 27,
   "metadata": {},
   "outputs": [
    {
     "data": {
      "text/html": [
       "<div>\n",
       "<style scoped>\n",
       "    .dataframe tbody tr th:only-of-type {\n",
       "        vertical-align: middle;\n",
       "    }\n",
       "\n",
       "    .dataframe tbody tr th {\n",
       "        vertical-align: top;\n",
       "    }\n",
       "\n",
       "    .dataframe thead th {\n",
       "        text-align: right;\n",
       "    }\n",
       "</style>\n",
       "<table border=\"1\" class=\"dataframe\">\n",
       "  <thead>\n",
       "    <tr style=\"text-align: right;\">\n",
       "      <th></th>\n",
       "      <th>title</th>\n",
       "      <th>news_stopwords</th>\n",
       "      <th>news_no_stopwords</th>\n",
       "      <th>category</th>\n",
       "    </tr>\n",
       "  </thead>\n",
       "  <tbody>\n",
       "    <tr>\n",
       "      <th>0</th>\n",
       "      <td>निखिल उप्रेतीको भैरव फिल्मले अमेरिकामा रहेका न...</td>\n",
       "      <td>अमेरिकाका नेपालीको प्रतिक्रिया लिने इच्छा व्यक...</td>\n",
       "      <td>अमेरिकाका नेपालीको प्रतिक्रिया लिने इच्छा व्यक...</td>\n",
       "      <td>मनोरञ्जन</td>\n",
       "    </tr>\n",
       "    <tr>\n",
       "      <th>1</th>\n",
       "      <td>सुशील कोइरालाको निधनपछि चौरासी बाले खोले यस्ता...</td>\n",
       "      <td>झण्डै बर्षअघि सुशील कोइरालाले प्रधानमन्त्रीको ...</td>\n",
       "      <td>झण्डै बर्षअघि सुशील कोइरालाले प्रधानमन्त्रीको ...</td>\n",
       "      <td>मनोरञ्जन</td>\n",
       "    </tr>\n",
       "    <tr>\n",
       "      <th>2</th>\n",
       "      <td>लिटल प्रिन्स एण्ड प्रिन्सेसको ग्रान्ड फिनाले</td>\n",
       "      <td>ग्ल्यामरस नेपालले सुरुङ्गामा लिटल प्रिन्स एन्ड...</td>\n",
       "      <td>ग्ल्यामरस नेपालले सुरुङ्गामा लिटल प्रिन्स एन्ड...</td>\n",
       "      <td>मनोरञ्जन</td>\n",
       "    </tr>\n",
       "    <tr>\n",
       "      <th>3</th>\n",
       "      <td>अमेरिकामा सबैभन्दा धेरै कमाउने सिईओ बने पिचाई ...</td>\n",
       "      <td>गूगलका सिईओ सुन्दर पिचाई अमेरिकामा सबैभन्दा धे...</td>\n",
       "      <td>गूगलका सिईओ सुन्दर पिचाई अमेरिकामा सबैभन्दा कम...</td>\n",
       "      <td>मनोरञ्जन</td>\n",
       "    </tr>\n",
       "    <tr>\n",
       "      <th>4</th>\n",
       "      <td>ज्योती मगरको धमाका दोहोरीमा र्याप</td>\n",
       "      <td>दोहोरीमा र्याप बोलको गीतको भिडियो सार्वजनिक भए...</td>\n",
       "      <td>दोहोरीमा र्याप बोलको गीतको भिडियो सार्वजनिक चर...</td>\n",
       "      <td>मनोरञ्जन</td>\n",
       "    </tr>\n",
       "  </tbody>\n",
       "</table>\n",
       "</div>"
      ],
      "text/plain": [
       "                                               title  \\\n",
       "0  निखिल उप्रेतीको भैरव फिल्मले अमेरिकामा रहेका न...   \n",
       "1  सुशील कोइरालाको निधनपछि चौरासी बाले खोले यस्ता...   \n",
       "2       लिटल प्रिन्स एण्ड प्रिन्सेसको ग्रान्ड फिनाले   \n",
       "3  अमेरिकामा सबैभन्दा धेरै कमाउने सिईओ बने पिचाई ...   \n",
       "4                  ज्योती मगरको धमाका दोहोरीमा र्याप   \n",
       "\n",
       "                                      news_stopwords  \\\n",
       "0  अमेरिकाका नेपालीको प्रतिक्रिया लिने इच्छा व्यक...   \n",
       "1  झण्डै बर्षअघि सुशील कोइरालाले प्रधानमन्त्रीको ...   \n",
       "2  ग्ल्यामरस नेपालले सुरुङ्गामा लिटल प्रिन्स एन्ड...   \n",
       "3  गूगलका सिईओ सुन्दर पिचाई अमेरिकामा सबैभन्दा धे...   \n",
       "4  दोहोरीमा र्याप बोलको गीतको भिडियो सार्वजनिक भए...   \n",
       "\n",
       "                                   news_no_stopwords  category  \n",
       "0  अमेरिकाका नेपालीको प्रतिक्रिया लिने इच्छा व्यक...  मनोरञ्जन  \n",
       "1  झण्डै बर्षअघि सुशील कोइरालाले प्रधानमन्त्रीको ...  मनोरञ्जन  \n",
       "2  ग्ल्यामरस नेपालले सुरुङ्गामा लिटल प्रिन्स एन्ड...  मनोरञ्जन  \n",
       "3  गूगलका सिईओ सुन्दर पिचाई अमेरिकामा सबैभन्दा कम...  मनोरञ्जन  \n",
       "4  दोहोरीमा र्याप बोलको गीतको भिडियो सार्वजनिक चर...  मनोरञ्जन  "
      ]
     },
     "execution_count": 27,
     "metadata": {},
     "output_type": "execute_result"
    }
   ],
   "source": [
    "df.head()"
   ]
  },
  {
   "cell_type": "code",
   "execution_count": 28,
   "metadata": {},
   "outputs": [],
   "source": [
    "df.drop(columns=[\"title\", \"news_stopwords\"], inplace=True)"
   ]
  },
  {
   "cell_type": "code",
   "execution_count": 29,
   "metadata": {},
   "outputs": [],
   "source": [
    "# Remove sikshya category\n",
    "df = df[df[\"category\"] != \"शिक्षा\"]\n",
    "# Remove desh pradesh category\n",
    "df = df[df[\"category\"] != \"देश/प्रदेश\"]"
   ]
  },
  {
   "cell_type": "code",
   "execution_count": 30,
   "metadata": {},
   "outputs": [],
   "source": [
    "le = LabelEncoder()\n",
    "df['label'] = le.fit_transform(df['category'])"
   ]
  },
  {
   "cell_type": "code",
   "execution_count": 31,
   "metadata": {},
   "outputs": [
    {
     "data": {
      "text/plain": [
       "category\n",
       "राजनीति              59975\n",
       "समाज                 50205\n",
       "खेलकुद               42367\n",
       "अर्थ / वाणिज्य       41231\n",
       "विश्व                37816\n",
       "मनोरञ्जन             34169\n",
       "विज्ञान र प्रविधि    23095\n",
       "स्वास्थ्य            22389\n",
       "Name: count, dtype: int64"
      ]
     },
     "execution_count": 31,
     "metadata": {},
     "output_type": "execute_result"
    }
   ],
   "source": [
    "df['category'].value_counts()"
   ]
  },
  {
   "cell_type": "code",
   "execution_count": 32,
   "metadata": {},
   "outputs": [],
   "source": [
    "def random_undersampling(data, random_state):\n",
    "    if len(data) > 25000:\n",
    "        return data.sample(25000, random_state=random_state)\n",
    "    return data"
   ]
  },
  {
   "cell_type": "code",
   "execution_count": 33,
   "metadata": {},
   "outputs": [],
   "source": [
    "# Drop Duplicates\n",
    "df.drop_duplicates([\"news_no_stopwords\"], inplace=True)\n",
    "# Remove rows with null values\n",
    "df.dropna(inplace=True, axis=0)\n",
    "# Compute length of each news articles\n",
    "df[\"length\"] = df[\"news_no_stopwords\"].apply(lambda x: len(x.split()))\n",
    "# Remove all news with <30 words\n",
    "df = df[df[\"length\"] >= 30]"
   ]
  },
  {
   "cell_type": "code",
   "execution_count": 34,
   "metadata": {},
   "outputs": [
    {
     "data": {
      "text/html": [
       "<div>\n",
       "<style scoped>\n",
       "    .dataframe tbody tr th:only-of-type {\n",
       "        vertical-align: middle;\n",
       "    }\n",
       "\n",
       "    .dataframe tbody tr th {\n",
       "        vertical-align: top;\n",
       "    }\n",
       "\n",
       "    .dataframe thead th {\n",
       "        text-align: right;\n",
       "    }\n",
       "</style>\n",
       "<table border=\"1\" class=\"dataframe\">\n",
       "  <thead>\n",
       "    <tr style=\"text-align: right;\">\n",
       "      <th></th>\n",
       "      <th>news_no_stopwords</th>\n",
       "      <th>category</th>\n",
       "      <th>label</th>\n",
       "      <th>length</th>\n",
       "    </tr>\n",
       "  </thead>\n",
       "  <tbody>\n",
       "    <tr>\n",
       "      <th>0</th>\n",
       "      <td>अमेरिकाका नेपालीको प्रतिक्रिया लिने इच्छा व्यक...</td>\n",
       "      <td>मनोरञ्जन</td>\n",
       "      <td>2</td>\n",
       "      <td>206</td>\n",
       "    </tr>\n",
       "    <tr>\n",
       "      <th>1</th>\n",
       "      <td>झण्डै बर्षअघि सुशील कोइरालाले प्रधानमन्त्रीको ...</td>\n",
       "      <td>मनोरञ्जन</td>\n",
       "      <td>2</td>\n",
       "      <td>316</td>\n",
       "    </tr>\n",
       "  </tbody>\n",
       "</table>\n",
       "</div>"
      ],
      "text/plain": [
       "                                   news_no_stopwords  category  label  length\n",
       "0  अमेरिकाका नेपालीको प्रतिक्रिया लिने इच्छा व्यक...  मनोरञ्जन      2     206\n",
       "1  झण्डै बर्षअघि सुशील कोइरालाले प्रधानमन्त्रीको ...  मनोरञ्जन      2     316"
      ]
     },
     "execution_count": 34,
     "metadata": {},
     "output_type": "execute_result"
    }
   ],
   "source": [
    "df.head(2)"
   ]
  },
  {
   "cell_type": "code",
   "execution_count": 35,
   "metadata": {},
   "outputs": [],
   "source": [
    "parameters = {\n",
    "    'TOTAL_CATEGORIES': df['label'].nunique(),\n",
    "    'MAX_NEWS_LENGTH': 256,\n",
    "}"
   ]
  },
  {
   "cell_type": "code",
   "execution_count": 36,
   "metadata": {},
   "outputs": [
    {
     "data": {
      "text/plain": [
       "label\n",
       "3    57301\n",
       "6    49745\n",
       "1    42073\n",
       "0    40592\n",
       "5    37160\n",
       "2    33949\n",
       "4    23033\n",
       "7    22074\n",
       "Name: count, dtype: int64"
      ]
     },
     "execution_count": 36,
     "metadata": {},
     "output_type": "execute_result"
    }
   ],
   "source": [
    "df['label'].value_counts()"
   ]
  },
  {
   "cell_type": "code",
   "execution_count": 37,
   "metadata": {},
   "outputs": [],
   "source": [
    "df[\"news_no_stopwords\"] = df[\"news_no_stopwords\"].apply(lambda x: \" \".join(x.split()[:parameters[\"MAX_NEWS_LENGTH\"]]))\n",
    "# Perform random undersampling\n",
    "df_balanced = pd.DataFrame(columns=['news_no_stopwords', 'label'])\n",
    "for i in range(parameters[\"TOTAL_CATEGORIES\"]):\n",
    "    res = random_undersampling(df[df[\"label\"] == i], i * np.random.randint(100))\n",
    "    if df_balanced.empty == True:\n",
    "        df_balanced = res\n",
    "    else:\n",
    "        df_balanced = pd.concat([df_balanced, res], ignore_index=True)\n",
    "\n",
    "# Shuffle the dataset\n",
    "for i in range(20):\n",
    "    df_balanced = df_balanced.sample(frac=1)"
   ]
  },
  {
   "cell_type": "code",
   "execution_count": 38,
   "metadata": {},
   "outputs": [
    {
     "data": {
      "text/html": [
       "<div>\n",
       "<style scoped>\n",
       "    .dataframe tbody tr th:only-of-type {\n",
       "        vertical-align: middle;\n",
       "    }\n",
       "\n",
       "    .dataframe tbody tr th {\n",
       "        vertical-align: top;\n",
       "    }\n",
       "\n",
       "    .dataframe thead th {\n",
       "        text-align: right;\n",
       "    }\n",
       "</style>\n",
       "<table border=\"1\" class=\"dataframe\">\n",
       "  <thead>\n",
       "    <tr style=\"text-align: right;\">\n",
       "      <th></th>\n",
       "      <th>news_no_stopwords</th>\n",
       "      <th>category</th>\n",
       "      <th>label</th>\n",
       "      <th>length</th>\n",
       "    </tr>\n",
       "  </thead>\n",
       "  <tbody>\n",
       "    <tr>\n",
       "      <th>99109</th>\n",
       "      <td>प्रधानमन्त्री पुष्पकमल दाहाल प्रचण्ड सरकारको ए...</td>\n",
       "      <td>राजनीति</td>\n",
       "      <td>3</td>\n",
       "      <td>79</td>\n",
       "    </tr>\n",
       "    <tr>\n",
       "      <th>13714</th>\n",
       "      <td>बैंकका कर्मचारीलाई दु:ख दिएको भन्दै नेपाल बैंक...</td>\n",
       "      <td>अर्थ / वाणिज्य</td>\n",
       "      <td>0</td>\n",
       "      <td>127</td>\n",
       "    </tr>\n",
       "    <tr>\n",
       "      <th>90982</th>\n",
       "      <td>नेपाल कम्युनिस्ट पार्टीका महासचिव नेत्र विक्रम...</td>\n",
       "      <td>राजनीति</td>\n",
       "      <td>3</td>\n",
       "      <td>123</td>\n",
       "    </tr>\n",
       "    <tr>\n",
       "      <th>177086</th>\n",
       "      <td>अछाममा सय जना कोरोना संक्रमित निको भएर घर फर्क...</td>\n",
       "      <td>स्वास्थ्य</td>\n",
       "      <td>7</td>\n",
       "      <td>112</td>\n",
       "    </tr>\n",
       "    <tr>\n",
       "      <th>88068</th>\n",
       "      <td>सञ्चार सूचना प्रविधि मन्त्री ज्ञानेन्द्रबहादुर...</td>\n",
       "      <td>राजनीति</td>\n",
       "      <td>3</td>\n",
       "      <td>114</td>\n",
       "    </tr>\n",
       "  </tbody>\n",
       "</table>\n",
       "</div>"
      ],
      "text/plain": [
       "                                        news_no_stopwords        category  \\\n",
       "99109   प्रधानमन्त्री पुष्पकमल दाहाल प्रचण्ड सरकारको ए...         राजनीति   \n",
       "13714   बैंकका कर्मचारीलाई दु:ख दिएको भन्दै नेपाल बैंक...  अर्थ / वाणिज्य   \n",
       "90982   नेपाल कम्युनिस्ट पार्टीका महासचिव नेत्र विक्रम...         राजनीति   \n",
       "177086  अछाममा सय जना कोरोना संक्रमित निको भएर घर फर्क...       स्वास्थ्य   \n",
       "88068   सञ्चार सूचना प्रविधि मन्त्री ज्ञानेन्द्रबहादुर...         राजनीति   \n",
       "\n",
       "        label  length  \n",
       "99109       3      79  \n",
       "13714       0     127  \n",
       "90982       3     123  \n",
       "177086      7     112  \n",
       "88068       3     114  "
      ]
     },
     "execution_count": 38,
     "metadata": {},
     "output_type": "execute_result"
    }
   ],
   "source": [
    "df_balanced.head()"
   ]
  },
  {
   "cell_type": "code",
   "execution_count": 39,
   "metadata": {},
   "outputs": [
    {
     "data": {
      "text/plain": [
       "category\n",
       "राजनीति              25000\n",
       "अर्थ / वाणिज्य       25000\n",
       "मनोरञ्जन             25000\n",
       "खेलकुद               25000\n",
       "विश्व                25000\n",
       "समाज                 25000\n",
       "विज्ञान र प्रविधि    23033\n",
       "स्वास्थ्य            22074\n",
       "Name: count, dtype: int64"
      ]
     },
     "execution_count": 39,
     "metadata": {},
     "output_type": "execute_result"
    }
   ],
   "source": [
    "df_balanced['category'].value_counts()"
   ]
  },
  {
   "cell_type": "code",
   "execution_count": 40,
   "metadata": {},
   "outputs": [],
   "source": [
    "# Train test split\n",
    "X_train, X_test, y_train, y_test = train_test_split(df_balanced[\"news_no_stopwords\"], df_balanced[\"label\"], test_size=0.10, random_state=34, stratify=df_balanced[\"label\"])"
   ]
  },
  {
   "cell_type": "code",
   "execution_count": 41,
   "metadata": {},
   "outputs": [
    {
     "data": {
      "text/plain": [
       "(175596, 19511)"
      ]
     },
     "execution_count": 41,
     "metadata": {},
     "output_type": "execute_result"
    }
   ],
   "source": [
    "len(X_train), len(X_test)"
   ]
  },
  {
   "cell_type": "code",
   "execution_count": 42,
   "metadata": {},
   "outputs": [],
   "source": [
    "tfidf = TfidfVectorizer(ngram_range=(1,2), max_features=52000)"
   ]
  },
  {
   "cell_type": "code",
   "execution_count": 43,
   "metadata": {},
   "outputs": [],
   "source": [
    "X_train_tfidf = tfidf.fit_transform(X_train)"
   ]
  },
  {
   "cell_type": "code",
   "execution_count": 44,
   "metadata": {},
   "outputs": [],
   "source": [
    "X_test_tfidf = tfidf.transform(X_test)"
   ]
  },
  {
   "cell_type": "code",
   "execution_count": 45,
   "metadata": {},
   "outputs": [],
   "source": [
    "models = [('Naive Bayes Classifier', MultinomialNB()), (\"Gradient Boosting Classifier\", GradientBoostingClassifier()), (\"XG Boost Classifier\", xgb.XGBClassifier())]"
   ]
  },
  {
   "cell_type": "code",
   "execution_count": 46,
   "metadata": {},
   "outputs": [
    {
     "data": {
      "text/plain": [
       "32861     1\n",
       "73466     2\n",
       "160887    6\n",
       "151982    6\n",
       "59184     2\n",
       "         ..\n",
       "20276     0\n",
       "183666    7\n",
       "120807    4\n",
       "100549    4\n",
       "106631    4\n",
       "Name: label, Length: 175596, dtype: int64"
      ]
     },
     "execution_count": 46,
     "metadata": {},
     "output_type": "execute_result"
    }
   ],
   "source": [
    "y_train"
   ]
  },
  {
   "cell_type": "code",
   "execution_count": 47,
   "metadata": {},
   "outputs": [
    {
     "name": "stdout",
     "output_type": "stream",
     "text": [
      "Training Naive Bayes Classifier...\n",
      "Training Gradient Boosting Classifier...\n",
      "Training XG Boost Classifier...\n"
     ]
    }
   ],
   "source": [
    "results = dict()\n",
    "\n",
    "for model_name, model in models:\n",
    "    print(f'Training {model_name}...')\n",
    "    model.fit(X_train_tfidf, y_train)\n",
    "    model_preds = model.predict(X_test_tfidf)\n",
    "    results[model_name] = {\n",
    "        'model': model,\n",
    "        'classification_report': classification_report(y_test, model_preds)\n",
    "    }"
   ]
  },
  {
   "cell_type": "code",
   "execution_count": 48,
   "metadata": {},
   "outputs": [],
   "source": [
    "from joblib import dump, load\n",
    "import pickle"
   ]
  },
  {
   "cell_type": "code",
   "execution_count": 49,
   "metadata": {},
   "outputs": [],
   "source": [
    "with open('../../outputs/ml/tfidf_vectorizer.pkl', 'wb') as f:\n",
    "    pickle.dump(tfidf, f)"
   ]
  },
  {
   "cell_type": "code",
   "execution_count": 50,
   "metadata": {},
   "outputs": [
    {
     "name": "stdout",
     "output_type": "stream",
     "text": [
      "Naive Bayes Classifier\n",
      "              precision    recall  f1-score   support\n",
      "\n",
      "           0       0.75      0.77      0.76      2500\n",
      "           1       0.98      0.91      0.94      2500\n",
      "           2       0.92      0.93      0.92      2500\n",
      "           3       0.77      0.88      0.82      2500\n",
      "           4       0.84      0.83      0.84      2303\n",
      "           5       0.86      0.83      0.85      2500\n",
      "           6       0.70      0.63      0.66      2500\n",
      "           7       0.79      0.83      0.81      2208\n",
      "\n",
      "    accuracy                           0.83     19511\n",
      "   macro avg       0.83      0.83      0.83     19511\n",
      "weighted avg       0.83      0.83      0.83     19511\n",
      "\n",
      "Gradient Boosting Classifier\n",
      "              precision    recall  f1-score   support\n",
      "\n",
      "           0       0.73      0.74      0.74      2500\n",
      "           1       0.95      0.93      0.94      2500\n",
      "           2       0.90      0.88      0.89      2500\n",
      "           3       0.80      0.84      0.82      2500\n",
      "           4       0.83      0.81      0.82      2303\n",
      "           5       0.81      0.81      0.81      2500\n",
      "           6       0.65      0.64      0.64      2500\n",
      "           7       0.78      0.81      0.80      2208\n",
      "\n",
      "    accuracy                           0.81     19511\n",
      "   macro avg       0.81      0.81      0.81     19511\n",
      "weighted avg       0.81      0.81      0.81     19511\n",
      "\n",
      "XG Boost Classifier\n",
      "              precision    recall  f1-score   support\n",
      "\n",
      "           0       0.78      0.78      0.78      2500\n",
      "           1       0.97      0.95      0.96      2500\n",
      "           2       0.92      0.92      0.92      2500\n",
      "           3       0.84      0.87      0.86      2500\n",
      "           4       0.87      0.85      0.86      2303\n",
      "           5       0.85      0.88      0.87      2500\n",
      "           6       0.71      0.67      0.69      2500\n",
      "           7       0.83      0.85      0.84      2208\n",
      "\n",
      "    accuracy                           0.85     19511\n",
      "   macro avg       0.85      0.85      0.85     19511\n",
      "weighted avg       0.85      0.85      0.85     19511\n",
      "\n"
     ]
    }
   ],
   "source": [
    "for key, value in results.items():\n",
    "    print(key)\n",
    "    dump(value['model'], f'../../outputs/ml/{\"_\".join(key.split())}.joblib')\n",
    "    with open(f'../../outputs/ml/{\"_\".join(key.split())}_Classification_Report.pkl', 'wb') as f:\n",
    "        pickle.dump(value['classification_report'], f)\n",
    "    print(value['classification_report'])"
   ]
  },
  {
   "cell_type": "code",
   "execution_count": 52,
   "metadata": {},
   "outputs": [],
   "source": [
    "import json\n",
    "with open(\"../../outputs/ml/parameters.json\", \"w\") as const: \n",
    "    json.dump(parameters, const)\n",
    "\n",
    "with open('../../outputs/ml/label_encoder.pkl', 'wb') as f:\n",
    "    pickle.dump(le, f)"
   ]
  }
 ],
 "metadata": {
  "kernelspec": {
   "display_name": ".venv",
   "language": "python",
   "name": "python3"
  },
  "language_info": {
   "codemirror_mode": {
    "name": "ipython",
    "version": 3
   },
   "file_extension": ".py",
   "mimetype": "text/x-python",
   "name": "python",
   "nbconvert_exporter": "python",
   "pygments_lexer": "ipython3",
   "version": "3.11.11"
  }
 },
 "nbformat": 4,
 "nbformat_minor": 2
}

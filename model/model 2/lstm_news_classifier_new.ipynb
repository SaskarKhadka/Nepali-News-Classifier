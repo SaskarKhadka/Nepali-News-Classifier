{
 "cells": [
  {
   "cell_type": "code",
   "execution_count": 1,
   "metadata": {},
   "outputs": [],
   "source": [
    "import numpy as np\n",
    "import pandas as pd\n",
    "import matplotlib.pyplot as plt\n",
    "import seaborn as sns\n",
    "import tensorflow as tf\n",
    "from sklearn.preprocessing import LabelEncoder\n",
    "from sklearn.model_selection import train_test_split\n",
    "from tensorflow.keras.preprocessing.text import Tokenizer\n",
    "from tensorflow.keras.preprocessing.sequence import pad_sequences"
   ]
  },
  {
   "cell_type": "code",
   "execution_count": 2,
   "metadata": {},
   "outputs": [],
   "source": [
    "# To ignore warinings\n",
    "import warnings\n",
    "warnings.filterwarnings('ignore')"
   ]
  },
  {
   "cell_type": "code",
   "execution_count": 3,
   "metadata": {},
   "outputs": [],
   "source": [
    "# Reading the dataset\n",
    "df = pd.read_csv('../../data/full_cleaned.csv')"
   ]
  },
  {
   "cell_type": "code",
   "execution_count": 4,
   "metadata": {},
   "outputs": [
    {
     "data": {
      "text/html": [
       "<div>\n",
       "<style scoped>\n",
       "    .dataframe tbody tr th:only-of-type {\n",
       "        vertical-align: middle;\n",
       "    }\n",
       "\n",
       "    .dataframe tbody tr th {\n",
       "        vertical-align: top;\n",
       "    }\n",
       "\n",
       "    .dataframe thead th {\n",
       "        text-align: right;\n",
       "    }\n",
       "</style>\n",
       "<table border=\"1\" class=\"dataframe\">\n",
       "  <thead>\n",
       "    <tr style=\"text-align: right;\">\n",
       "      <th></th>\n",
       "      <th>title</th>\n",
       "      <th>news_stopwords</th>\n",
       "      <th>news_no_stopwords</th>\n",
       "      <th>category</th>\n",
       "    </tr>\n",
       "  </thead>\n",
       "  <tbody>\n",
       "    <tr>\n",
       "      <th>0</th>\n",
       "      <td>निखिल उप्रेतीको भैरव फिल्मले अमेरिकामा रहेका न...</td>\n",
       "      <td>अमेरिकाका नेपालीको प्रतिक्रिया लिने इच्छा व्यक...</td>\n",
       "      <td>अमेरिकाका नेपालीको प्रतिक्रिया लिने इच्छा व्यक...</td>\n",
       "      <td>मनोरञ्जन</td>\n",
       "    </tr>\n",
       "    <tr>\n",
       "      <th>1</th>\n",
       "      <td>सुशील कोइरालाको निधनपछि चौरासी बाले खोले यस्ता...</td>\n",
       "      <td>झण्डै बर्षअघि सुशील कोइरालाले प्रधानमन्त्रीको ...</td>\n",
       "      <td>झण्डै बर्षअघि सुशील कोइरालाले प्रधानमन्त्रीको ...</td>\n",
       "      <td>मनोरञ्जन</td>\n",
       "    </tr>\n",
       "    <tr>\n",
       "      <th>2</th>\n",
       "      <td>लिटल प्रिन्स एण्ड प्रिन्सेसको ग्रान्ड फिनाले</td>\n",
       "      <td>ग्ल्यामरस नेपालले सुरुङ्गामा लिटल प्रिन्स एन्ड...</td>\n",
       "      <td>ग्ल्यामरस नेपालले सुरुङ्गामा लिटल प्रिन्स एन्ड...</td>\n",
       "      <td>मनोरञ्जन</td>\n",
       "    </tr>\n",
       "    <tr>\n",
       "      <th>3</th>\n",
       "      <td>अमेरिकामा सबैभन्दा धेरै कमाउने सिईओ बने पिचाई ...</td>\n",
       "      <td>गूगलका सिईओ सुन्दर पिचाई अमेरिकामा सबैभन्दा धे...</td>\n",
       "      <td>गूगलका सिईओ सुन्दर पिचाई अमेरिकामा सबैभन्दा कम...</td>\n",
       "      <td>मनोरञ्जन</td>\n",
       "    </tr>\n",
       "    <tr>\n",
       "      <th>4</th>\n",
       "      <td>ज्योती मगरको धमाका दोहोरीमा र्याप</td>\n",
       "      <td>दोहोरीमा र्याप बोलको गीतको भिडियो सार्वजनिक भए...</td>\n",
       "      <td>दोहोरीमा र्याप बोलको गीतको भिडियो सार्वजनिक चर...</td>\n",
       "      <td>मनोरञ्जन</td>\n",
       "    </tr>\n",
       "  </tbody>\n",
       "</table>\n",
       "</div>"
      ],
      "text/plain": [
       "                                               title  \\\n",
       "0  निखिल उप्रेतीको भैरव फिल्मले अमेरिकामा रहेका न...   \n",
       "1  सुशील कोइरालाको निधनपछि चौरासी बाले खोले यस्ता...   \n",
       "2       लिटल प्रिन्स एण्ड प्रिन्सेसको ग्रान्ड फिनाले   \n",
       "3  अमेरिकामा सबैभन्दा धेरै कमाउने सिईओ बने पिचाई ...   \n",
       "4                  ज्योती मगरको धमाका दोहोरीमा र्याप   \n",
       "\n",
       "                                      news_stopwords  \\\n",
       "0  अमेरिकाका नेपालीको प्रतिक्रिया लिने इच्छा व्यक...   \n",
       "1  झण्डै बर्षअघि सुशील कोइरालाले प्रधानमन्त्रीको ...   \n",
       "2  ग्ल्यामरस नेपालले सुरुङ्गामा लिटल प्रिन्स एन्ड...   \n",
       "3  गूगलका सिईओ सुन्दर पिचाई अमेरिकामा सबैभन्दा धे...   \n",
       "4  दोहोरीमा र्याप बोलको गीतको भिडियो सार्वजनिक भए...   \n",
       "\n",
       "                                   news_no_stopwords  category  \n",
       "0  अमेरिकाका नेपालीको प्रतिक्रिया लिने इच्छा व्यक...  मनोरञ्जन  \n",
       "1  झण्डै बर्षअघि सुशील कोइरालाले प्रधानमन्त्रीको ...  मनोरञ्जन  \n",
       "2  ग्ल्यामरस नेपालले सुरुङ्गामा लिटल प्रिन्स एन्ड...  मनोरञ्जन  \n",
       "3  गूगलका सिईओ सुन्दर पिचाई अमेरिकामा सबैभन्दा कम...  मनोरञ्जन  \n",
       "4  दोहोरीमा र्याप बोलको गीतको भिडियो सार्वजनिक चर...  मनोरञ्जन  "
      ]
     },
     "execution_count": 4,
     "metadata": {},
     "output_type": "execute_result"
    }
   ],
   "source": [
    "df.head()"
   ]
  },
  {
   "cell_type": "code",
   "execution_count": 5,
   "metadata": {},
   "outputs": [
    {
     "data": {
      "text/html": [
       "<div>\n",
       "<style scoped>\n",
       "    .dataframe tbody tr th:only-of-type {\n",
       "        vertical-align: middle;\n",
       "    }\n",
       "\n",
       "    .dataframe tbody tr th {\n",
       "        vertical-align: top;\n",
       "    }\n",
       "\n",
       "    .dataframe thead th {\n",
       "        text-align: right;\n",
       "    }\n",
       "</style>\n",
       "<table border=\"1\" class=\"dataframe\">\n",
       "  <thead>\n",
       "    <tr style=\"text-align: right;\">\n",
       "      <th></th>\n",
       "      <th>title</th>\n",
       "      <th>news_stopwords</th>\n",
       "      <th>news_no_stopwords</th>\n",
       "      <th>category</th>\n",
       "    </tr>\n",
       "  </thead>\n",
       "  <tbody>\n",
       "    <tr>\n",
       "      <th>0</th>\n",
       "      <td>निखिल उप्रेतीको भैरव फिल्मले अमेरिकामा रहेका न...</td>\n",
       "      <td>अमेरिकाका नेपालीको प्रतिक्रिया लिने इच्छा व्यक...</td>\n",
       "      <td>अमेरिकाका नेपालीको प्रतिक्रिया लिने इच्छा व्यक...</td>\n",
       "      <td>मनोरञ्जन</td>\n",
       "    </tr>\n",
       "    <tr>\n",
       "      <th>1</th>\n",
       "      <td>सुशील कोइरालाको निधनपछि चौरासी बाले खोले यस्ता...</td>\n",
       "      <td>झण्डै बर्षअघि सुशील कोइरालाले प्रधानमन्त्रीको ...</td>\n",
       "      <td>झण्डै बर्षअघि सुशील कोइरालाले प्रधानमन्त्रीको ...</td>\n",
       "      <td>मनोरञ्जन</td>\n",
       "    </tr>\n",
       "    <tr>\n",
       "      <th>2</th>\n",
       "      <td>लिटल प्रिन्स एण्ड प्रिन्सेसको ग्रान्ड फिनाले</td>\n",
       "      <td>ग्ल्यामरस नेपालले सुरुङ्गामा लिटल प्रिन्स एन्ड...</td>\n",
       "      <td>ग्ल्यामरस नेपालले सुरुङ्गामा लिटल प्रिन्स एन्ड...</td>\n",
       "      <td>मनोरञ्जन</td>\n",
       "    </tr>\n",
       "    <tr>\n",
       "      <th>3</th>\n",
       "      <td>अमेरिकामा सबैभन्दा धेरै कमाउने सिईओ बने पिचाई ...</td>\n",
       "      <td>गूगलका सिईओ सुन्दर पिचाई अमेरिकामा सबैभन्दा धे...</td>\n",
       "      <td>गूगलका सिईओ सुन्दर पिचाई अमेरिकामा सबैभन्दा कम...</td>\n",
       "      <td>मनोरञ्जन</td>\n",
       "    </tr>\n",
       "    <tr>\n",
       "      <th>4</th>\n",
       "      <td>ज्योती मगरको धमाका दोहोरीमा र्याप</td>\n",
       "      <td>दोहोरीमा र्याप बोलको गीतको भिडियो सार्वजनिक भए...</td>\n",
       "      <td>दोहोरीमा र्याप बोलको गीतको भिडियो सार्वजनिक चर...</td>\n",
       "      <td>मनोरञ्जन</td>\n",
       "    </tr>\n",
       "  </tbody>\n",
       "</table>\n",
       "</div>"
      ],
      "text/plain": [
       "                                               title  \\\n",
       "0  निखिल उप्रेतीको भैरव फिल्मले अमेरिकामा रहेका न...   \n",
       "1  सुशील कोइरालाको निधनपछि चौरासी बाले खोले यस्ता...   \n",
       "2       लिटल प्रिन्स एण्ड प्रिन्सेसको ग्रान्ड फिनाले   \n",
       "3  अमेरिकामा सबैभन्दा धेरै कमाउने सिईओ बने पिचाई ...   \n",
       "4                  ज्योती मगरको धमाका दोहोरीमा र्याप   \n",
       "\n",
       "                                      news_stopwords  \\\n",
       "0  अमेरिकाका नेपालीको प्रतिक्रिया लिने इच्छा व्यक...   \n",
       "1  झण्डै बर्षअघि सुशील कोइरालाले प्रधानमन्त्रीको ...   \n",
       "2  ग्ल्यामरस नेपालले सुरुङ्गामा लिटल प्रिन्स एन्ड...   \n",
       "3  गूगलका सिईओ सुन्दर पिचाई अमेरिकामा सबैभन्दा धे...   \n",
       "4  दोहोरीमा र्याप बोलको गीतको भिडियो सार्वजनिक भए...   \n",
       "\n",
       "                                   news_no_stopwords  category  \n",
       "0  अमेरिकाका नेपालीको प्रतिक्रिया लिने इच्छा व्यक...  मनोरञ्जन  \n",
       "1  झण्डै बर्षअघि सुशील कोइरालाले प्रधानमन्त्रीको ...  मनोरञ्जन  \n",
       "2  ग्ल्यामरस नेपालले सुरुङ्गामा लिटल प्रिन्स एन्ड...  मनोरञ्जन  \n",
       "3  गूगलका सिईओ सुन्दर पिचाई अमेरिकामा सबैभन्दा कम...  मनोरञ्जन  \n",
       "4  दोहोरीमा र्याप बोलको गीतको भिडियो सार्वजनिक चर...  मनोरञ्जन  "
      ]
     },
     "execution_count": 5,
     "metadata": {},
     "output_type": "execute_result"
    }
   ],
   "source": [
    "df.head(5)"
   ]
  },
  {
   "cell_type": "code",
   "execution_count": 6,
   "metadata": {},
   "outputs": [
    {
     "data": {
      "text/plain": [
       "(369800, 4)"
      ]
     },
     "execution_count": 6,
     "metadata": {},
     "output_type": "execute_result"
    }
   ],
   "source": [
    "df.shape"
   ]
  },
  {
   "cell_type": "markdown",
   "metadata": {},
   "source": [
    "For classification, we only need the news(news_no_stopwords) and catgeory.<br>\n",
    "So lets remove the other unnecessary columns"
   ]
  },
  {
   "cell_type": "code",
   "execution_count": 7,
   "metadata": {},
   "outputs": [],
   "source": [
    "df.drop(columns=[\"title\", \"news_stopwords\"], inplace=True)"
   ]
  },
  {
   "cell_type": "code",
   "execution_count": 8,
   "metadata": {},
   "outputs": [
    {
     "data": {
      "text/plain": [
       "(369800, 2)"
      ]
     },
     "execution_count": 8,
     "metadata": {},
     "output_type": "execute_result"
    }
   ],
   "source": [
    "df.shape"
   ]
  },
  {
   "cell_type": "code",
   "execution_count": 9,
   "metadata": {},
   "outputs": [
    {
     "data": {
      "text/html": [
       "<div>\n",
       "<style scoped>\n",
       "    .dataframe tbody tr th:only-of-type {\n",
       "        vertical-align: middle;\n",
       "    }\n",
       "\n",
       "    .dataframe tbody tr th {\n",
       "        vertical-align: top;\n",
       "    }\n",
       "\n",
       "    .dataframe thead th {\n",
       "        text-align: right;\n",
       "    }\n",
       "</style>\n",
       "<table border=\"1\" class=\"dataframe\">\n",
       "  <thead>\n",
       "    <tr style=\"text-align: right;\">\n",
       "      <th></th>\n",
       "      <th>news_no_stopwords</th>\n",
       "      <th>category</th>\n",
       "    </tr>\n",
       "  </thead>\n",
       "  <tbody>\n",
       "    <tr>\n",
       "      <th>count</th>\n",
       "      <td>369800</td>\n",
       "      <td>369800</td>\n",
       "    </tr>\n",
       "    <tr>\n",
       "      <th>unique</th>\n",
       "      <td>361955</td>\n",
       "      <td>10</td>\n",
       "    </tr>\n",
       "    <tr>\n",
       "      <th>top</th>\n",
       "      <td>थप जनामा कोरोना भाइरस संक्रमण पुष्टि घन्टामा द...</td>\n",
       "      <td>राजनीति</td>\n",
       "    </tr>\n",
       "    <tr>\n",
       "      <th>freq</th>\n",
       "      <td>36</td>\n",
       "      <td>59975</td>\n",
       "    </tr>\n",
       "  </tbody>\n",
       "</table>\n",
       "</div>"
      ],
      "text/plain": [
       "                                        news_no_stopwords category\n",
       "count                                              369800   369800\n",
       "unique                                             361955       10\n",
       "top     थप जनामा कोरोना भाइरस संक्रमण पुष्टि घन्टामा द...  राजनीति\n",
       "freq                                                   36    59975"
      ]
     },
     "execution_count": 9,
     "metadata": {},
     "output_type": "execute_result"
    }
   ],
   "source": [
    "df.describe()"
   ]
  },
  {
   "cell_type": "markdown",
   "metadata": {},
   "source": [
    "So, we have 361955 unique news scattered along 10 different catgeories.<br>\n",
    "There seems to be duplicate news. So lets remove them."
   ]
  },
  {
   "cell_type": "code",
   "execution_count": 10,
   "metadata": {},
   "outputs": [],
   "source": [
    "df.drop_duplicates([\"news_no_stopwords\"], inplace=True)"
   ]
  },
  {
   "cell_type": "code",
   "execution_count": 11,
   "metadata": {},
   "outputs": [
    {
     "data": {
      "text/html": [
       "<div>\n",
       "<style scoped>\n",
       "    .dataframe tbody tr th:only-of-type {\n",
       "        vertical-align: middle;\n",
       "    }\n",
       "\n",
       "    .dataframe tbody tr th {\n",
       "        vertical-align: top;\n",
       "    }\n",
       "\n",
       "    .dataframe thead th {\n",
       "        text-align: right;\n",
       "    }\n",
       "</style>\n",
       "<table border=\"1\" class=\"dataframe\">\n",
       "  <thead>\n",
       "    <tr style=\"text-align: right;\">\n",
       "      <th></th>\n",
       "      <th>news_no_stopwords</th>\n",
       "      <th>category</th>\n",
       "    </tr>\n",
       "  </thead>\n",
       "  <tbody>\n",
       "    <tr>\n",
       "      <th>count</th>\n",
       "      <td>361955</td>\n",
       "      <td>361955</td>\n",
       "    </tr>\n",
       "    <tr>\n",
       "      <th>unique</th>\n",
       "      <td>361955</td>\n",
       "      <td>10</td>\n",
       "    </tr>\n",
       "    <tr>\n",
       "      <th>top</th>\n",
       "      <td>अमेरिकाका नेपालीको प्रतिक्रिया लिने इच्छा व्यक...</td>\n",
       "      <td>राजनीति</td>\n",
       "    </tr>\n",
       "    <tr>\n",
       "      <th>freq</th>\n",
       "      <td>1</td>\n",
       "      <td>57256</td>\n",
       "    </tr>\n",
       "  </tbody>\n",
       "</table>\n",
       "</div>"
      ],
      "text/plain": [
       "                                        news_no_stopwords category\n",
       "count                                              361955   361955\n",
       "unique                                             361955       10\n",
       "top     अमेरिकाका नेपालीको प्रतिक्रिया लिने इच्छा व्यक...  राजनीति\n",
       "freq                                                    1    57256"
      ]
     },
     "execution_count": 11,
     "metadata": {},
     "output_type": "execute_result"
    }
   ],
   "source": [
    "df.describe()"
   ]
  },
  {
   "cell_type": "markdown",
   "metadata": {},
   "source": [
    "Now lets check if there are any null values.<br>\n",
    "If there are any, we will remove them too"
   ]
  },
  {
   "cell_type": "code",
   "execution_count": 12,
   "metadata": {},
   "outputs": [
    {
     "data": {
      "text/plain": [
       "news_no_stopwords    0\n",
       "category             0\n",
       "dtype: int64"
      ]
     },
     "execution_count": 12,
     "metadata": {},
     "output_type": "execute_result"
    }
   ],
   "source": [
    "df.isnull().sum()"
   ]
  },
  {
   "cell_type": "code",
   "execution_count": 13,
   "metadata": {},
   "outputs": [
    {
     "data": {
      "text/plain": [
       "category\n",
       "राजनीति              57256\n",
       "देश/प्रदेश           50188\n",
       "समाज                 49303\n",
       "खेलकुद               42201\n",
       "अर्थ / वाणिज्य       40238\n",
       "विश्व                37305\n",
       "मनोरञ्जन             34074\n",
       "विज्ञान र प्रविधि    23076\n",
       "स्वास्थ्य            21600\n",
       "शिक्षा                6714\n",
       "Name: count, dtype: int64"
      ]
     },
     "execution_count": 13,
     "metadata": {},
     "output_type": "execute_result"
    }
   ],
   "source": [
    "df['category'].value_counts()"
   ]
  },
  {
   "cell_type": "markdown",
   "metadata": {},
   "source": [
    "The number of samples for catgeory \"शिक्षा\" is extremely low, so lets just remove it from the dataset altogether"
   ]
  },
  {
   "cell_type": "markdown",
   "metadata": {},
   "source": [
    "Also, I found that data relating to \"देश/प्रदेश\" is also pretty bad. Most of them are about just local news which repeats the same as news from other categories.<br>\n",
    "So, I am going to remove it too"
   ]
  },
  {
   "cell_type": "code",
   "execution_count": 14,
   "metadata": {},
   "outputs": [],
   "source": [
    "df = df[df[\"category\"] != \"शिक्षा\"]\n",
    "df = df[df[\"category\"] != \"देश/प्रदेश\"]"
   ]
  },
  {
   "cell_type": "markdown",
   "metadata": {},
   "source": [
    "Lets convert our categories to labels"
   ]
  },
  {
   "cell_type": "code",
   "execution_count": 15,
   "metadata": {},
   "outputs": [],
   "source": [
    "le = LabelEncoder()\n",
    "df['label'] = le.fit_transform(df['category'])"
   ]
  },
  {
   "cell_type": "code",
   "execution_count": 16,
   "metadata": {},
   "outputs": [
    {
     "data": {
      "text/plain": [
       "category\n",
       "राजनीति              57256\n",
       "समाज                 49303\n",
       "खेलकुद               42201\n",
       "अर्थ / वाणिज्य       40238\n",
       "विश्व                37305\n",
       "मनोरञ्जन             34074\n",
       "विज्ञान र प्रविधि    23076\n",
       "स्वास्थ्य            21600\n",
       "Name: count, dtype: int64"
      ]
     },
     "execution_count": 16,
     "metadata": {},
     "output_type": "execute_result"
    }
   ],
   "source": [
    "df['category'].value_counts()"
   ]
  },
  {
   "cell_type": "markdown",
   "metadata": {},
   "source": [
    "Now lets compute the length of each news article<br>"
   ]
  },
  {
   "cell_type": "code",
   "execution_count": 17,
   "metadata": {},
   "outputs": [],
   "source": [
    "df[\"length\"] = df[\"news_no_stopwords\"].apply(lambda x: len(x.split()))"
   ]
  },
  {
   "cell_type": "markdown",
   "metadata": {},
   "source": [
    "Lets remove any news of length <30<br>"
   ]
  },
  {
   "cell_type": "code",
   "execution_count": 18,
   "metadata": {},
   "outputs": [],
   "source": [
    "df = df[df[\"length\"] >= 30]"
   ]
  },
  {
   "cell_type": "markdown",
   "metadata": {},
   "source": [
    "We will train our model to predict its catgeory using news with maximum length of 256.<br>\n",
    "So, any news of length >256, we will slice it to be of required length.<br>\n",
    "Similarly, news of length <250 will be extended to to be of required length by padding 0s"
   ]
  },
  {
   "cell_type": "code",
   "execution_count": 19,
   "metadata": {},
   "outputs": [],
   "source": [
    "parameters = {\n",
    "    'MAX_NEWS_LENGTH': 256,\n",
    "    'TOTAL_CATEGORIES': df['label'].nunique(),\n",
    "    'VOCAB_SIZE': 52_000,\n",
    "    'EMBEDDING_DIMENSION': 50,\n",
    "    'LATENT_DIMENSION': 8,\n",
    "    'DROPOUT': 0.2,\n",
    "    'BATCH_SIZE': 512,\n",
    "    'EPOCHS': 16,\n",
    "    'EARLY_STOPPING': 3\n",
    "}"
   ]
  },
  {
   "cell_type": "code",
   "execution_count": 20,
   "metadata": {},
   "outputs": [],
   "source": [
    "df[\"news_no_stopwords\"] = df[\"news_no_stopwords\"].apply(lambda x: \" \".join(x.split()[:parameters[\"MAX_NEWS_LENGTH\"]]))"
   ]
  },
  {
   "cell_type": "markdown",
   "metadata": {},
   "source": [
    "Lets check if data is distributed evenly between the catgeories  "
   ]
  },
  {
   "cell_type": "code",
   "execution_count": 21,
   "metadata": {},
   "outputs": [
    {
     "data": {
      "text/plain": [
       "<Axes: xlabel='label', ylabel='count'>"
      ]
     },
     "execution_count": 21,
     "metadata": {},
     "output_type": "execute_result"
    },
    {
     "data": {
      "image/png": "[encoded data removed]",
      "text/plain": [
       "<Figure size 640x480 with 1 Axes>"
      ]
     },
     "metadata": {},
     "output_type": "display_data"
    }
   ],
   "source": [
    "sns.countplot(data=df, x='label')"
   ]
  },
  {
   "cell_type": "markdown",
   "metadata": {},
   "source": [
    "Our data is highly imbalanced, so lets perform random undersampling so that maximum number of instances for each catgeory is atmost 25K"
   ]
  },
  {
   "cell_type": "code",
   "execution_count": 22,
   "metadata": {},
   "outputs": [],
   "source": [
    "def random_undersampling(data, random_state):\n",
    "    if len(data) > 25000:\n",
    "        return data.sample(25000, random_state=random_state)\n",
    "    return data"
   ]
  },
  {
   "cell_type": "code",
   "execution_count": 23,
   "metadata": {},
   "outputs": [],
   "source": [
    "df_balanced = pd.DataFrame(columns=['news_no_stopwords', 'label'])\n",
    "for i in range(parameters[\"TOTAL_CATEGORIES\"]):\n",
    "    res = random_undersampling(df[df[\"label\"] == i], i * np.random.randint(100))\n",
    "    if df_balanced.empty == True:\n",
    "        df_balanced = res\n",
    "    else:\n",
    "        df_balanced = pd.concat([df_balanced, res], ignore_index=True)"
   ]
  },
  {
   "cell_type": "code",
   "execution_count": 24,
   "metadata": {},
   "outputs": [
    {
     "data": {
      "text/plain": [
       "label\n",
       "0    25000\n",
       "1    25000\n",
       "2    25000\n",
       "3    25000\n",
       "5    25000\n",
       "6    25000\n",
       "4    23027\n",
       "7    21490\n",
       "Name: count, dtype: int64"
      ]
     },
     "execution_count": 24,
     "metadata": {},
     "output_type": "execute_result"
    }
   ],
   "source": [
    "df_balanced[\"label\"].value_counts()"
   ]
  },
  {
   "cell_type": "markdown",
   "metadata": {},
   "source": [
    "Now, our dataset has been balanced.<br>\n",
    "Lets shuffle the dataset so that their order of news from same categories is not simulatenous"
   ]
  },
  {
   "cell_type": "code",
   "execution_count": 25,
   "metadata": {},
   "outputs": [
    {
     "data": {
      "text/html": [
       "<div>\n",
       "<style scoped>\n",
       "    .dataframe tbody tr th:only-of-type {\n",
       "        vertical-align: middle;\n",
       "    }\n",
       "\n",
       "    .dataframe tbody tr th {\n",
       "        vertical-align: top;\n",
       "    }\n",
       "\n",
       "    .dataframe thead th {\n",
       "        text-align: right;\n",
       "    }\n",
       "</style>\n",
       "<table border=\"1\" class=\"dataframe\">\n",
       "  <thead>\n",
       "    <tr style=\"text-align: right;\">\n",
       "      <th></th>\n",
       "      <th>news_no_stopwords</th>\n",
       "      <th>category</th>\n",
       "      <th>label</th>\n",
       "      <th>length</th>\n",
       "    </tr>\n",
       "  </thead>\n",
       "  <tbody>\n",
       "    <tr>\n",
       "      <th>0</th>\n",
       "      <td>बैंक अफ काठमाण्डूले फर्निचर वान स्टोरसँग सम्झौ...</td>\n",
       "      <td>अर्थ / वाणिज्य</td>\n",
       "      <td>0</td>\n",
       "      <td>74</td>\n",
       "    </tr>\n",
       "    <tr>\n",
       "      <th>1</th>\n",
       "      <td>गत आर्थिक वर्षको अन्त्यसम्म मुलुकभरका उद्योगले...</td>\n",
       "      <td>अर्थ / वाणिज्य</td>\n",
       "      <td>0</td>\n",
       "      <td>543</td>\n",
       "    </tr>\n",
       "    <tr>\n",
       "      <th>2</th>\n",
       "      <td>वर्षझैँ यसपटक बागमती प्रदेशको बजेट कार्यान्वयन...</td>\n",
       "      <td>अर्थ / वाणिज्य</td>\n",
       "      <td>0</td>\n",
       "      <td>1066</td>\n",
       "    </tr>\n",
       "    <tr>\n",
       "      <th>3</th>\n",
       "      <td>काठमाण्डौमा दिनसम्म टाटा मोटर्स कार्निभलमा हजा...</td>\n",
       "      <td>अर्थ / वाणिज्य</td>\n",
       "      <td>0</td>\n",
       "      <td>106</td>\n",
       "    </tr>\n",
       "  </tbody>\n",
       "</table>\n",
       "</div>"
      ],
      "text/plain": [
       "                                   news_no_stopwords        category  label  \\\n",
       "0  बैंक अफ काठमाण्डूले फर्निचर वान स्टोरसँग सम्झौ...  अर्थ / वाणिज्य      0   \n",
       "1  गत आर्थिक वर्षको अन्त्यसम्म मुलुकभरका उद्योगले...  अर्थ / वाणिज्य      0   \n",
       "2  वर्षझैँ यसपटक बागमती प्रदेशको बजेट कार्यान्वयन...  अर्थ / वाणिज्य      0   \n",
       "3  काठमाण्डौमा दिनसम्म टाटा मोटर्स कार्निभलमा हजा...  अर्थ / वाणिज्य      0   \n",
       "\n",
       "   length  \n",
       "0      74  \n",
       "1     543  \n",
       "2    1066  \n",
       "3     106  "
      ]
     },
     "execution_count": 25,
     "metadata": {},
     "output_type": "execute_result"
    }
   ],
   "source": [
    "df_balanced.head(4)"
   ]
  },
  {
   "cell_type": "code",
   "execution_count": 26,
   "metadata": {},
   "outputs": [],
   "source": [
    "for i in range(20):\n",
    "    df_balanced = df_balanced.sample(frac=1).reset_index(drop=True)"
   ]
  },
  {
   "cell_type": "code",
   "execution_count": 27,
   "metadata": {},
   "outputs": [
    {
     "data": {
      "text/html": [
       "<div>\n",
       "<style scoped>\n",
       "    .dataframe tbody tr th:only-of-type {\n",
       "        vertical-align: middle;\n",
       "    }\n",
       "\n",
       "    .dataframe tbody tr th {\n",
       "        vertical-align: top;\n",
       "    }\n",
       "\n",
       "    .dataframe thead th {\n",
       "        text-align: right;\n",
       "    }\n",
       "</style>\n",
       "<table border=\"1\" class=\"dataframe\">\n",
       "  <thead>\n",
       "    <tr style=\"text-align: right;\">\n",
       "      <th></th>\n",
       "      <th>news_no_stopwords</th>\n",
       "      <th>category</th>\n",
       "      <th>label</th>\n",
       "      <th>length</th>\n",
       "    </tr>\n",
       "  </thead>\n",
       "  <tbody>\n",
       "    <tr>\n",
       "      <th>0</th>\n",
       "      <td>धरान उपमहानगरपालिकाले इटहरीमा जारी स्वर्गीय गि...</td>\n",
       "      <td>खेलकुद</td>\n",
       "      <td>1</td>\n",
       "      <td>123</td>\n",
       "    </tr>\n",
       "    <tr>\n",
       "      <th>1</th>\n",
       "      <td>निर्वाचन आयोगले जारी आचारसंहिता उलंघन गृहमन्त्...</td>\n",
       "      <td>राजनीति</td>\n",
       "      <td>3</td>\n",
       "      <td>121</td>\n",
       "    </tr>\n",
       "    <tr>\n",
       "      <th>2</th>\n",
       "      <td>प्रमुख प्रतिपक्षी दल नेकपा एमालेका उपाध्यक्ष भ...</td>\n",
       "      <td>राजनीति</td>\n",
       "      <td>3</td>\n",
       "      <td>167</td>\n",
       "    </tr>\n",
       "    <tr>\n",
       "      <th>3</th>\n",
       "      <td>परराष्ट्र मन्त्रालयका सहसचिव हरिशचन्द्र घिमिरे...</td>\n",
       "      <td>समाज</td>\n",
       "      <td>6</td>\n",
       "      <td>95</td>\n",
       "    </tr>\n",
       "  </tbody>\n",
       "</table>\n",
       "</div>"
      ],
      "text/plain": [
       "                                   news_no_stopwords category  label  length\n",
       "0  धरान उपमहानगरपालिकाले इटहरीमा जारी स्वर्गीय गि...   खेलकुद      1     123\n",
       "1  निर्वाचन आयोगले जारी आचारसंहिता उलंघन गृहमन्त्...  राजनीति      3     121\n",
       "2  प्रमुख प्रतिपक्षी दल नेकपा एमालेका उपाध्यक्ष भ...  राजनीति      3     167\n",
       "3  परराष्ट्र मन्त्रालयका सहसचिव हरिशचन्द्र घिमिरे...     समाज      6      95"
      ]
     },
     "execution_count": 27,
     "metadata": {},
     "output_type": "execute_result"
    }
   ],
   "source": [
    "df_balanced.head(4)"
   ]
  },
  {
   "cell_type": "markdown",
   "metadata": {},
   "source": [
    "Now lets split our dataset into train(70%), validation set(12.5%) and test set(12.5%)"
   ]
  },
  {
   "cell_type": "code",
   "execution_count": 28,
   "metadata": {},
   "outputs": [],
   "source": [
    "X_train, X_val_test, y_train, y_val_test = train_test_split(df_balanced['news_no_stopwords'], df_balanced['label'], test_size=0.20, random_state=21, stratify=df_balanced[\"label\"], shuffle=True)"
   ]
  },
  {
   "cell_type": "code",
   "execution_count": 29,
   "metadata": {},
   "outputs": [],
   "source": [
    "X_val, X_test, y_val, y_test = train_test_split(X_val_test, y_val_test, test_size=0.5, random_state=28, stratify=y_val_test, shuffle=True)"
   ]
  },
  {
   "cell_type": "code",
   "execution_count": 30,
   "metadata": {},
   "outputs": [
    {
     "data": {
      "text/plain": [
       "((155613,), (19452,), (19452,))"
      ]
     },
     "execution_count": 30,
     "metadata": {},
     "output_type": "execute_result"
    }
   ],
   "source": [
    "X_train.shape, X_val.shape, X_test.shape "
   ]
  },
  {
   "cell_type": "markdown",
   "metadata": {},
   "source": [
    "Now we will create our tokenizer"
   ]
  },
  {
   "cell_type": "markdown",
   "metadata": {},
   "source": [
    "Here, we will be creating a word tokenizer"
   ]
  },
  {
   "cell_type": "code",
   "execution_count": 31,
   "metadata": {},
   "outputs": [],
   "source": [
    "tokenizer = Tokenizer(num_words=parameters['VOCAB_SIZE'])\n",
    "tokenizer.fit_on_texts(list(X_train))"
   ]
  },
  {
   "cell_type": "markdown",
   "metadata": {},
   "source": [
    "Now we convert our words to integers"
   ]
  },
  {
   "cell_type": "code",
   "execution_count": 32,
   "metadata": {},
   "outputs": [],
   "source": [
    "X_train_seq = tokenizer.texts_to_sequences(X_train)\n",
    "X_test_seq = tokenizer.texts_to_sequences(X_test)\n",
    "X_val_seq = tokenizer.texts_to_sequences(X_val)"
   ]
  },
  {
   "cell_type": "markdown",
   "metadata": {},
   "source": [
    "Finally we will pad our sequences so that all the inputs are of same length, 256"
   ]
  },
  {
   "cell_type": "code",
   "execution_count": 33,
   "metadata": {},
   "outputs": [],
   "source": [
    "X_train_pad_seq = pad_sequences(X_train_seq,  maxlen=parameters[\"MAX_NEWS_LENGTH\"], padding='post')\n",
    "X_test_pad_seq = pad_sequences(X_test_seq,  maxlen=parameters[\"MAX_NEWS_LENGTH\"], padding='post')\n",
    "X_val_pad_seq = pad_sequences(X_val_seq,  maxlen=parameters[\"MAX_NEWS_LENGTH\"], padding='post')"
   ]
  },
  {
   "cell_type": "code",
   "execution_count": 34,
   "metadata": {},
   "outputs": [
    {
     "data": {
      "text/plain": [
       "((155613, 256), (19452, 256), (19452, 256))"
      ]
     },
     "execution_count": 34,
     "metadata": {},
     "output_type": "execute_result"
    }
   ],
   "source": [
    "X_train_pad_seq.shape, X_val_pad_seq.shape, X_test_pad_seq.shape"
   ]
  },
  {
   "cell_type": "markdown",
   "metadata": {},
   "source": [
    "If target variables are simply a list of targets. Eg: [1, 2, 0] then, we can use the sparse catgeorical crossentropy loss"
   ]
  },
  {
   "cell_type": "markdown",
   "metadata": {},
   "source": [
    "Similarly, we can also one-hot-encode each target value in which case we would use categorical crossentropy loss"
   ]
  },
  {
   "cell_type": "code",
   "execution_count": 35,
   "metadata": {},
   "outputs": [],
   "source": [
    "y_train = tf.keras.utils.to_categorical(y_train, parameters[\"TOTAL_CATEGORIES\"])\n",
    "y_val = tf.keras.utils.to_categorical(y_val, parameters[\"TOTAL_CATEGORIES\"])\n",
    "y_test = tf.keras.utils.to_categorical(y_test, parameters[\"TOTAL_CATEGORIES\"])"
   ]
  },
  {
   "cell_type": "code",
   "execution_count": 36,
   "metadata": {},
   "outputs": [
    {
     "data": {
      "text/plain": [
       "((155613, 8), (19452, 8), (19452, 8))"
      ]
     },
     "execution_count": 36,
     "metadata": {},
     "output_type": "execute_result"
    }
   ],
   "source": [
    "y_train.shape, y_val.shape, y_test.shape"
   ]
  },
  {
   "cell_type": "markdown",
   "metadata": {},
   "source": [
    "Now lets create our LSTM model for news classification"
   ]
  },
  {
   "cell_type": "code",
   "execution_count": 37,
   "metadata": {},
   "outputs": [
    {
     "data": {
      "text/html": [
       "<pre style=\"white-space:pre;overflow-x:auto;line-height:normal;font-family:Menlo,'DejaVu Sans Mono',consolas,'Courier New',monospace\"><span style=\"font-weight: bold\">Model: \"sequential\"</span>\n",
       "</pre>\n"
      ],
      "text/plain": [
       "\u001b[1mModel: \"sequential\"\u001b[0m\n"
      ]
     },
     "metadata": {},
     "output_type": "display_data"
    },
    {
     "data": {
      "text/html": [
       "<pre style=\"white-space:pre;overflow-x:auto;line-height:normal;font-family:Menlo,'DejaVu Sans Mono',consolas,'Courier New',monospace\">┏━━━━━━━━━━━━━━━━━━━━━━━━━━━━━━━━━┳━━━━━━━━━━━━━━━━━━━━━━━━┳━━━━━━━━━━━━━━━┓\n",
       "┃<span style=\"font-weight: bold\"> Layer (type)                    </span>┃<span style=\"font-weight: bold\"> Output Shape           </span>┃<span style=\"font-weight: bold\">       Param # </span>┃\n",
       "┡━━━━━━━━━━━━━━━━━━━━━━━━━━━━━━━━━╇━━━━━━━━━━━━━━━━━━━━━━━━╇━━━━━━━━━━━━━━━┩\n",
       "│ Embedding_Layer (<span style=\"color: #0087ff; text-decoration-color: #0087ff\">Embedding</span>)     │ (<span style=\"color: #00d7ff; text-decoration-color: #00d7ff\">None</span>, <span style=\"color: #00af00; text-decoration-color: #00af00\">256</span>, <span style=\"color: #00af00; text-decoration-color: #00af00\">50</span>)        │     <span style=\"color: #00af00; text-decoration-color: #00af00\">2,600,000</span> │\n",
       "├─────────────────────────────────┼────────────────────────┼───────────────┤\n",
       "│ bidirectional (<span style=\"color: #0087ff; text-decoration-color: #0087ff\">Bidirectional</span>)   │ (<span style=\"color: #00d7ff; text-decoration-color: #00d7ff\">None</span>, <span style=\"color: #00af00; text-decoration-color: #00af00\">16</span>)             │         <span style=\"color: #00af00; text-decoration-color: #00af00\">3,776</span> │\n",
       "├─────────────────────────────────┼────────────────────────┼───────────────┤\n",
       "│ Softmax_Layer (<span style=\"color: #0087ff; text-decoration-color: #0087ff\">Dense</span>)           │ (<span style=\"color: #00d7ff; text-decoration-color: #00d7ff\">None</span>, <span style=\"color: #00af00; text-decoration-color: #00af00\">8</span>)              │           <span style=\"color: #00af00; text-decoration-color: #00af00\">136</span> │\n",
       "└─────────────────────────────────┴────────────────────────┴───────────────┘\n",
       "</pre>\n"
      ],
      "text/plain": [
       "┏━━━━━━━━━━━━━━━━━━━━━━━━━━━━━━━━━┳━━━━━━━━━━━━━━━━━━━━━━━━┳━━━━━━━━━━━━━━━┓\n",
       "┃\u001b[1m \u001b[0m\u001b[1mLayer (type)                   \u001b[0m\u001b[1m \u001b[0m┃\u001b[1m \u001b[0m\u001b[1mOutput Shape          \u001b[0m\u001b[1m \u001b[0m┃\u001b[1m \u001b[0m\u001b[1m      Param #\u001b[0m\u001b[1m \u001b[0m┃\n",
       "┡━━━━━━━━━━━━━━━━━━━━━━━━━━━━━━━━━╇━━━━━━━━━━━━━━━━━━━━━━━━╇━━━━━━━━━━━━━━━┩\n",
       "│ Embedding_Layer (\u001b[38;5;33mEmbedding\u001b[0m)     │ (\u001b[38;5;45mNone\u001b[0m, \u001b[38;5;34m256\u001b[0m, \u001b[38;5;34m50\u001b[0m)        │     \u001b[38;5;34m2,600,000\u001b[0m │\n",
       "├─────────────────────────────────┼────────────────────────┼───────────────┤\n",
       "│ bidirectional (\u001b[38;5;33mBidirectional\u001b[0m)   │ (\u001b[38;5;45mNone\u001b[0m, \u001b[38;5;34m16\u001b[0m)             │         \u001b[38;5;34m3,776\u001b[0m │\n",
       "├─────────────────────────────────┼────────────────────────┼───────────────┤\n",
       "│ Softmax_Layer (\u001b[38;5;33mDense\u001b[0m)           │ (\u001b[38;5;45mNone\u001b[0m, \u001b[38;5;34m8\u001b[0m)              │           \u001b[38;5;34m136\u001b[0m │\n",
       "└─────────────────────────────────┴────────────────────────┴───────────────┘\n"
      ]
     },
     "metadata": {},
     "output_type": "display_data"
    },
    {
     "data": {
      "text/html": [
       "<pre style=\"white-space:pre;overflow-x:auto;line-height:normal;font-family:Menlo,'DejaVu Sans Mono',consolas,'Courier New',monospace\"><span style=\"font-weight: bold\"> Total params: </span><span style=\"color: #00af00; text-decoration-color: #00af00\">2,603,912</span> (9.93 MB)\n",
       "</pre>\n"
      ],
      "text/plain": [
       "\u001b[1m Total params: \u001b[0m\u001b[38;5;34m2,603,912\u001b[0m (9.93 MB)\n"
      ]
     },
     "metadata": {},
     "output_type": "display_data"
    },
    {
     "data": {
      "text/html": [
       "<pre style=\"white-space:pre;overflow-x:auto;line-height:normal;font-family:Menlo,'DejaVu Sans Mono',consolas,'Courier New',monospace\"><span style=\"font-weight: bold\"> Trainable params: </span><span style=\"color: #00af00; text-decoration-color: #00af00\">2,603,912</span> (9.93 MB)\n",
       "</pre>\n"
      ],
      "text/plain": [
       "\u001b[1m Trainable params: \u001b[0m\u001b[38;5;34m2,603,912\u001b[0m (9.93 MB)\n"
      ]
     },
     "metadata": {},
     "output_type": "display_data"
    },
    {
     "data": {
      "text/html": [
       "<pre style=\"white-space:pre;overflow-x:auto;line-height:normal;font-family:Menlo,'DejaVu Sans Mono',consolas,'Courier New',monospace\"><span style=\"font-weight: bold\"> Non-trainable params: </span><span style=\"color: #00af00; text-decoration-color: #00af00\">0</span> (0.00 B)\n",
       "</pre>\n"
      ],
      "text/plain": [
       "\u001b[1m Non-trainable params: \u001b[0m\u001b[38;5;34m0\u001b[0m (0.00 B)\n"
      ]
     },
     "metadata": {},
     "output_type": "display_data"
    }
   ],
   "source": [
    "model = tf.keras.Sequential()\n",
    "model.add(tf.keras.layers.Input(shape=(parameters['MAX_NEWS_LENGTH'],)))\n",
    "model.add(tf.keras.layers.Embedding(parameters[\"VOCAB_SIZE\"], parameters[\"EMBEDDING_DIMENSION\"], input_length=parameters[\"MAX_NEWS_LENGTH\"], name=\"Embedding_Layer\"))\n",
    "model.add(tf.keras.layers.Bidirectional(tf.keras.layers.LSTM(parameters[\"LATENT_DIMENSION\"], return_sequences=False, dropout=parameters['DROPOUT'], recurrent_dropout=parameters['DROPOUT'], name=\"BiLSTM_Layer\")))\n",
    "model.add(tf.keras.layers.Dense(parameters[\"TOTAL_CATEGORIES\"], activation='softmax', name=\"Softmax_Layer\"))\n",
    "model.summary()"
   ]
  },
  {
   "cell_type": "code",
   "execution_count": 38,
   "metadata": {},
   "outputs": [
    {
     "name": "stdout",
     "output_type": "stream",
     "text": [
      "You must install graphviz (see instructions at https://graphviz.gitlab.io/download/) for `plot_model` to work.\n"
     ]
    }
   ],
   "source": [
    "tf.keras.utils.plot_model(model, to_file='../../outputs/model_architecture.png', show_shapes=True)"
   ]
  },
  {
   "cell_type": "code",
   "execution_count": 39,
   "metadata": {},
   "outputs": [],
   "source": [
    "model.compile(loss='categorical_crossentropy',\n",
    "    optimizer=\"adam\",\n",
    "    metrics=['accuracy', tf.keras.metrics.F1Score(), tf.keras.metrics.Precision(), tf.keras.metrics.Recall()]\n",
    ")"
   ]
  },
  {
   "cell_type": "markdown",
   "metadata": {},
   "source": [
    "We will train using early stopping"
   ]
  },
  {
   "cell_type": "code",
   "execution_count": 40,
   "metadata": {},
   "outputs": [],
   "source": [
    "es = tf.keras.callbacks.EarlyStopping(monitor='val_loss', mode='min', verbose=1, patience=parameters[\"EARLY_STOPPING\"])\n",
    "cp = tf.keras.callbacks.ModelCheckpoint(\"../../outputs/lstm/LSTM_nepali_news_classifier_model.keras\", monitor=\"val_loss\", mode=\"min\", save_best_only=True)"
   ]
  },
  {
   "cell_type": "code",
   "execution_count": 41,
   "metadata": {},
   "outputs": [
    {
     "name": "stdout",
     "output_type": "stream",
     "text": [
      "Epoch 1/16\n",
      "\u001b[1m304/304\u001b[0m \u001b[32m━━━━━━━━━━━━━━━━━━━━\u001b[0m\u001b[37m\u001b[0m \u001b[1m59s\u001b[0m 187ms/step - accuracy: 0.4652 - f1_score: 0.4155 - loss: 1.7204 - precision: 0.5537 - recall: 0.0249 - val_accuracy: 0.8065 - val_f1_score: 0.8008 - val_loss: 0.8778 - val_precision: 0.9273 - val_recall: 0.4878\n",
      "Epoch 2/16\n",
      "\u001b[1m304/304\u001b[0m \u001b[32m━━━━━━━━━━━━━━━━━━━━\u001b[0m\u001b[37m\u001b[0m \u001b[1m61s\u001b[0m 202ms/step - accuracy: 0.8099 - f1_score: 0.8062 - loss: 0.7745 - precision: 0.9131 - recall: 0.6086 - val_accuracy: 0.8544 - val_f1_score: 0.8527 - val_loss: 0.5500 - val_precision: 0.8925 - val_recall: 0.8100\n",
      "Epoch 3/16\n",
      "\u001b[1m304/304\u001b[0m \u001b[32m━━━━━━━━━━━━━━━━━━━━\u001b[0m\u001b[37m\u001b[0m \u001b[1m72s\u001b[0m 236ms/step - accuracy: 0.8661 - f1_score: 0.8646 - loss: 0.5012 - precision: 0.9033 - recall: 0.8226 - val_accuracy: 0.8602 - val_f1_score: 0.8582 - val_loss: 0.4880 - val_precision: 0.8865 - val_recall: 0.8344\n",
      "Epoch 4/16\n",
      "\u001b[1m304/304\u001b[0m \u001b[32m━━━━━━━━━━━━━━━━━━━━\u001b[0m\u001b[37m\u001b[0m \u001b[1m82s\u001b[0m 270ms/step - accuracy: 0.8881 - f1_score: 0.8867 - loss: 0.3978 - precision: 0.9125 - recall: 0.8633 - val_accuracy: 0.8618 - val_f1_score: 0.8601 - val_loss: 0.4647 - val_precision: 0.8861 - val_recall: 0.8416\n",
      "Epoch 5/16\n",
      "\u001b[1m304/304\u001b[0m \u001b[32m━━━━━━━━━━━━━━━━━━━━\u001b[0m\u001b[37m\u001b[0m \u001b[1m72s\u001b[0m 237ms/step - accuracy: 0.9053 - f1_score: 0.9036 - loss: 0.3342 - precision: 0.9245 - recall: 0.8865 - val_accuracy: 0.8626 - val_f1_score: 0.8614 - val_loss: 0.4594 - val_precision: 0.8811 - val_recall: 0.8444\n",
      "Epoch 6/16\n",
      "\u001b[1m304/304\u001b[0m \u001b[32m━━━━━━━━━━━━━━━━━━━━\u001b[0m\u001b[37m\u001b[0m \u001b[1m70s\u001b[0m 231ms/step - accuracy: 0.9164 - f1_score: 0.9156 - loss: 0.2912 - precision: 0.9315 - recall: 0.9020 - val_accuracy: 0.8634 - val_f1_score: 0.8617 - val_loss: 0.4579 - val_precision: 0.8803 - val_recall: 0.8485\n",
      "Epoch 7/16\n",
      "\u001b[1m304/304\u001b[0m \u001b[32m━━━━━━━━━━━━━━━━━━━━\u001b[0m\u001b[37m\u001b[0m \u001b[1m73s\u001b[0m 238ms/step - accuracy: 0.9264 - f1_score: 0.9255 - loss: 0.2582 - precision: 0.9386 - recall: 0.9139 - val_accuracy: 0.8642 - val_f1_score: 0.8629 - val_loss: 0.4596 - val_precision: 0.8805 - val_recall: 0.8507\n",
      "Epoch 8/16\n",
      "\u001b[1m304/304\u001b[0m \u001b[32m━━━━━━━━━━━━━━━━━━━━\u001b[0m\u001b[37m\u001b[0m \u001b[1m71s\u001b[0m 235ms/step - accuracy: 0.9347 - f1_score: 0.9339 - loss: 0.2274 - precision: 0.9451 - recall: 0.9245 - val_accuracy: 0.8654 - val_f1_score: 0.8636 - val_loss: 0.4668 - val_precision: 0.8785 - val_recall: 0.8534\n",
      "Epoch 9/16\n",
      "\u001b[1m304/304\u001b[0m \u001b[32m━━━━━━━━━━━━━━━━━━━━\u001b[0m\u001b[37m\u001b[0m \u001b[1m73s\u001b[0m 239ms/step - accuracy: 0.9423 - f1_score: 0.9417 - loss: 0.2030 - precision: 0.9512 - recall: 0.9336 - val_accuracy: 0.8656 - val_f1_score: 0.8643 - val_loss: 0.4730 - val_precision: 0.8773 - val_recall: 0.8544\n",
      "Epoch 9: early stopping\n"
     ]
    }
   ],
   "source": [
    "history = model.fit(X_train_pad_seq, y_train,\n",
    "                    batch_size=parameters[\"BATCH_SIZE\"],\n",
    "                    epochs=parameters[\"EPOCHS\"],\n",
    "                    validation_data=(X_val_pad_seq, y_val),\n",
    "                    callbacks=[es, cp])"
   ]
  },
  {
   "cell_type": "markdown",
   "metadata": {},
   "source": [
    "Now lets evalaute our model on the test set"
   ]
  },
  {
   "cell_type": "code",
   "execution_count": 42,
   "metadata": {},
   "outputs": [
    {
     "name": "stdout",
     "output_type": "stream",
     "text": [
      "\u001b[1m608/608\u001b[0m \u001b[32m━━━━━━━━━━━━━━━━━━━━\u001b[0m\u001b[37m\u001b[0m \u001b[1m9s\u001b[0m 15ms/step - accuracy: 0.8595 - f1_score: 0.8569 - loss: 0.4871 - precision: 0.8738 - recall: 0.8474\n"
     ]
    },
    {
     "data": {
      "text/plain": [
       "[0.475491464138031,\n",
       " 0.8622763752937317,\n",
       " <tf.Tensor: shape=(8,), dtype=float32, numpy=\n",
       " array([0.7909257 , 0.9713831 , 0.94648224, 0.8750742 , 0.8740327 ,\n",
       "        0.89090544, 0.69509417, 0.8447685 ], dtype=float32)>,\n",
       " 0.8768929243087769,\n",
       " 0.8513777256011963]"
      ]
     },
     "execution_count": 42,
     "metadata": {},
     "output_type": "execute_result"
    }
   ],
   "source": [
    "model.evaluate(X_test_pad_seq, y_test)"
   ]
  },
  {
   "cell_type": "markdown",
   "metadata": {},
   "source": [
    "Finally, lets save our tokenizer, CONSTANTS"
   ]
  },
  {
   "cell_type": "code",
   "execution_count": 43,
   "metadata": {},
   "outputs": [],
   "source": [
    "import io, json, pickle"
   ]
  },
  {
   "cell_type": "code",
   "execution_count": 44,
   "metadata": {},
   "outputs": [],
   "source": [
    "with open('../../outputs/lstm/train_history.pkl', 'wb') as hist:\n",
    "    pickle.dump(history.history, hist)"
   ]
  },
  {
   "cell_type": "code",
   "execution_count": 45,
   "metadata": {},
   "outputs": [],
   "source": [
    "# Convert and write JSON object to file\n",
    "with open(\"../../outputs/lstm/parameters.json\", \"w\") as const: \n",
    "    json.dump(parameters, const)"
   ]
  },
  {
   "cell_type": "code",
   "execution_count": 46,
   "metadata": {},
   "outputs": [],
   "source": [
    "with io.open('../../outputs/lstm//tokenizer.json', 'w', encoding='utf-8') as tok:\n",
    "    tok.write(json.dumps(tokenizer.to_json(), ensure_ascii=False))"
   ]
  },
  {
   "cell_type": "code",
   "execution_count": 47,
   "metadata": {},
   "outputs": [],
   "source": [
    "with open('../../outputs/lstm/label_encoder.pkl', 'wb') as f:\n",
    "    pickle.dump(le, f)"
   ]
  }
 ],
 "metadata": {
  "kernelspec": {
   "display_name": ".venv",
   "language": "python",
   "name": "python3"
  },
  "language_info": {
   "codemirror_mode": {
    "name": "ipython",
    "version": 3
   },
   "file_extension": ".py",
   "mimetype": "text/x-python",
   "name": "python",
   "nbconvert_exporter": "python",
   "pygments_lexer": "ipython3",
   "version": "3.11.11"
  }
 },
 "nbformat": 4,
 "nbformat_minor": 2
}

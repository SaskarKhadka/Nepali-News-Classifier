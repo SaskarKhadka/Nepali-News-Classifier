{
 "cells": [
  {
   "cell_type": "code",
   "execution_count": 1,
   "id": "b17fb76d",
   "metadata": {
    "_cell_guid": "b1076dfc-b9ad-4769-8c92-a6c4dae69d19",
    "_uuid": "8f2839f25d086af736a60e9eeb907d3b93b6e0e5",
    "execution": {
     "iopub.execute_input": "2024-02-26T12:27:40.520490Z",
     "iopub.status.busy": "2024-02-26T12:27:40.520083Z",
     "iopub.status.idle": "2024-02-26T12:27:54.425711Z",
     "shell.execute_reply": "2024-02-26T12:27:54.424681Z"
    },
    "papermill": {
     "duration": 13.926311,
     "end_time": "2024-02-26T12:27:54.428251",
     "exception": false,
     "start_time": "2024-02-26T12:27:40.501940",
     "status": "completed"
    },
    "tags": []
   },
   "outputs": [
    {
     "name": "stderr",
     "output_type": "stream",
     "text": [
      "2024-02-26 12:27:43.924258: E external/local_xla/xla/stream_executor/cuda/cuda_dnn.cc:9261] Unable to register cuDNN factory: Attempting to register factory for plugin cuDNN when one has already been registered\n",
      "2024-02-26 12:27:43.924418: E external/local_xla/xla/stream_executor/cuda/cuda_fft.cc:607] Unable to register cuFFT factory: Attempting to register factory for plugin cuFFT when one has already been registered\n",
      "2024-02-26 12:27:44.035356: E external/local_xla/xla/stream_executor/cuda/cuda_blas.cc:1515] Unable to register cuBLAS factory: Attempting to register factory for plugin cuBLAS when one has already been registered\n"
     ]
    }
   ],
   "source": [
    "import numpy as np\n",
    "import pandas as pd\n",
    "import matplotlib.pyplot as plt\n",
    "import seaborn as sns\n",
    "import tensorflow as tf"
   ]
  },
  {
   "cell_type": "code",
   "execution_count": 2,
   "id": "f599449d",
   "metadata": {
    "execution": {
     "iopub.execute_input": "2024-02-26T12:27:54.462954Z",
     "iopub.status.busy": "2024-02-26T12:27:54.462320Z",
     "iopub.status.idle": "2024-02-26T12:27:54.466912Z",
     "shell.execute_reply": "2024-02-26T12:27:54.466060Z"
    },
    "papermill": {
     "duration": 0.023997,
     "end_time": "2024-02-26T12:27:54.468844",
     "exception": false,
     "start_time": "2024-02-26T12:27:54.444847",
     "status": "completed"
    },
    "tags": []
   },
   "outputs": [],
   "source": [
    "# To ignore warinings\n",
    "import warnings\n",
    "warnings.filterwarnings('ignore')"
   ]
  },
  {
   "cell_type": "code",
   "execution_count": 3,
   "id": "7e64c85e",
   "metadata": {
    "execution": {
     "iopub.execute_input": "2024-02-26T12:27:54.504226Z",
     "iopub.status.busy": "2024-02-26T12:27:54.503857Z",
     "iopub.status.idle": "2024-02-26T12:29:07.091797Z",
     "shell.execute_reply": "2024-02-26T12:29:07.090596Z"
    },
    "papermill": {
     "duration": 72.60881,
     "end_time": "2024-02-26T12:29:07.095004",
     "exception": false,
     "start_time": "2024-02-26T12:27:54.486194",
     "status": "completed"
    },
    "tags": []
   },
   "outputs": [],
   "source": [
    "# Reading the dataset\n",
    "df = pd.read_csv('/kaggle/input/nepali-news-classification-set/full_cleaned.csv')"
   ]
  },
  {
   "cell_type": "code",
   "execution_count": 4,
   "id": "e4ba5e62",
   "metadata": {
    "execution": {
     "iopub.execute_input": "2024-02-26T12:29:07.133553Z",
     "iopub.status.busy": "2024-02-26T12:29:07.133181Z",
     "iopub.status.idle": "2024-02-26T12:29:07.149778Z",
     "shell.execute_reply": "2024-02-26T12:29:07.148785Z"
    },
    "papermill": {
     "duration": 0.036416,
     "end_time": "2024-02-26T12:29:07.151894",
     "exception": false,
     "start_time": "2024-02-26T12:29:07.115478",
     "status": "completed"
    },
    "tags": []
   },
   "outputs": [
    {
     "data": {
      "text/html": [
       "<div>\n",
       "<style scoped>\n",
       "    .dataframe tbody tr th:only-of-type {\n",
       "        vertical-align: middle;\n",
       "    }\n",
       "\n",
       "    .dataframe tbody tr th {\n",
       "        vertical-align: top;\n",
       "    }\n",
       "\n",
       "    .dataframe thead th {\n",
       "        text-align: right;\n",
       "    }\n",
       "</style>\n",
       "<table border=\"1\" class=\"dataframe\">\n",
       "  <thead>\n",
       "    <tr style=\"text-align: right;\">\n",
       "      <th></th>\n",
       "      <th>title</th>\n",
       "      <th>news_stopwords</th>\n",
       "      <th>news_no_stopwords</th>\n",
       "      <th>category</th>\n",
       "    </tr>\n",
       "  </thead>\n",
       "  <tbody>\n",
       "    <tr>\n",
       "      <th>0</th>\n",
       "      <td>निखिल उप्रेतीको भैरव फिल्मले अमेरिकामा रहेका न...</td>\n",
       "      <td>अमेरिकाका नेपालीको प्रतिक्रिया लिने इच्छा व्यक...</td>\n",
       "      <td>अमेरिकाका नेपालीको प्रतिक्रिया लिने इच्छा व्यक...</td>\n",
       "      <td>मनोरञ्जन</td>\n",
       "    </tr>\n",
       "    <tr>\n",
       "      <th>1</th>\n",
       "      <td>सुशील कोइरालाको निधनपछि चौरासी बाले खोले यस्ता...</td>\n",
       "      <td>झण्डै बर्षअघि सुशील कोइरालाले प्रधानमन्त्रीको ...</td>\n",
       "      <td>झण्डै बर्षअघि सुशील कोइरालाले प्रधानमन्त्रीको ...</td>\n",
       "      <td>मनोरञ्जन</td>\n",
       "    </tr>\n",
       "    <tr>\n",
       "      <th>2</th>\n",
       "      <td>लिटल प्रिन्स एण्ड प्रिन्सेसको ग्रान्ड फिनाले</td>\n",
       "      <td>ग्ल्यामरस नेपालले सुरुङ्गामा लिटल प्रिन्स एन्ड...</td>\n",
       "      <td>ग्ल्यामरस नेपालले सुरुङ्गामा लिटल प्रिन्स एन्ड...</td>\n",
       "      <td>मनोरञ्जन</td>\n",
       "    </tr>\n",
       "    <tr>\n",
       "      <th>3</th>\n",
       "      <td>अमेरिकामा सबैभन्दा धेरै कमाउने सिईओ बने पिचाई ...</td>\n",
       "      <td>गूगलका सिईओ सुन्दर पिचाई अमेरिकामा सबैभन्दा धे...</td>\n",
       "      <td>गूगलका सिईओ सुन्दर पिचाई अमेरिकामा सबैभन्दा कम...</td>\n",
       "      <td>मनोरञ्जन</td>\n",
       "    </tr>\n",
       "    <tr>\n",
       "      <th>4</th>\n",
       "      <td>ज्योती मगरको धमाका दोहोरीमा र्याप</td>\n",
       "      <td>दोहोरीमा र्याप बोलको गीतको भिडियो सार्वजनिक भए...</td>\n",
       "      <td>दोहोरीमा र्याप बोलको गीतको भिडियो सार्वजनिक चर...</td>\n",
       "      <td>मनोरञ्जन</td>\n",
       "    </tr>\n",
       "  </tbody>\n",
       "</table>\n",
       "</div>"
      ],
      "text/plain": [
       "                                               title  \\\n",
       "0  निखिल उप्रेतीको भैरव फिल्मले अमेरिकामा रहेका न...   \n",
       "1  सुशील कोइरालाको निधनपछि चौरासी बाले खोले यस्ता...   \n",
       "2       लिटल प्रिन्स एण्ड प्रिन्सेसको ग्रान्ड फिनाले   \n",
       "3  अमेरिकामा सबैभन्दा धेरै कमाउने सिईओ बने पिचाई ...   \n",
       "4                  ज्योती मगरको धमाका दोहोरीमा र्याप   \n",
       "\n",
       "                                      news_stopwords  \\\n",
       "0  अमेरिकाका नेपालीको प्रतिक्रिया लिने इच्छा व्यक...   \n",
       "1  झण्डै बर्षअघि सुशील कोइरालाले प्रधानमन्त्रीको ...   \n",
       "2  ग्ल्यामरस नेपालले सुरुङ्गामा लिटल प्रिन्स एन्ड...   \n",
       "3  गूगलका सिईओ सुन्दर पिचाई अमेरिकामा सबैभन्दा धे...   \n",
       "4  दोहोरीमा र्याप बोलको गीतको भिडियो सार्वजनिक भए...   \n",
       "\n",
       "                                   news_no_stopwords  category  \n",
       "0  अमेरिकाका नेपालीको प्रतिक्रिया लिने इच्छा व्यक...  मनोरञ्जन  \n",
       "1  झण्डै बर्षअघि सुशील कोइरालाले प्रधानमन्त्रीको ...  मनोरञ्जन  \n",
       "2  ग्ल्यामरस नेपालले सुरुङ्गामा लिटल प्रिन्स एन्ड...  मनोरञ्जन  \n",
       "3  गूगलका सिईओ सुन्दर पिचाई अमेरिकामा सबैभन्दा कम...  मनोरञ्जन  \n",
       "4  दोहोरीमा र्याप बोलको गीतको भिडियो सार्वजनिक चर...  मनोरञ्जन  "
      ]
     },
     "execution_count": 4,
     "metadata": {},
     "output_type": "execute_result"
    }
   ],
   "source": [
    "df.head()"
   ]
  },
  {
   "cell_type": "code",
   "execution_count": 5,
   "id": "d6fa0f56",
   "metadata": {
    "execution": {
     "iopub.execute_input": "2024-02-26T12:29:07.187748Z",
     "iopub.status.busy": "2024-02-26T12:29:07.187013Z",
     "iopub.status.idle": "2024-02-26T12:29:07.197947Z",
     "shell.execute_reply": "2024-02-26T12:29:07.197001Z"
    },
    "papermill": {
     "duration": 0.031755,
     "end_time": "2024-02-26T12:29:07.200803",
     "exception": false,
     "start_time": "2024-02-26T12:29:07.169048",
     "status": "completed"
    },
    "tags": []
   },
   "outputs": [
    {
     "data": {
      "text/html": [
       "<div>\n",
       "<style scoped>\n",
       "    .dataframe tbody tr th:only-of-type {\n",
       "        vertical-align: middle;\n",
       "    }\n",
       "\n",
       "    .dataframe tbody tr th {\n",
       "        vertical-align: top;\n",
       "    }\n",
       "\n",
       "    .dataframe thead th {\n",
       "        text-align: right;\n",
       "    }\n",
       "</style>\n",
       "<table border=\"1\" class=\"dataframe\">\n",
       "  <thead>\n",
       "    <tr style=\"text-align: right;\">\n",
       "      <th></th>\n",
       "      <th>title</th>\n",
       "      <th>news_stopwords</th>\n",
       "      <th>news_no_stopwords</th>\n",
       "      <th>category</th>\n",
       "    </tr>\n",
       "  </thead>\n",
       "  <tbody>\n",
       "    <tr>\n",
       "      <th>0</th>\n",
       "      <td>निखिल उप्रेतीको भैरव फिल्मले अमेरिकामा रहेका न...</td>\n",
       "      <td>अमेरिकाका नेपालीको प्रतिक्रिया लिने इच्छा व्यक...</td>\n",
       "      <td>अमेरिकाका नेपालीको प्रतिक्रिया लिने इच्छा व्यक...</td>\n",
       "      <td>मनोरञ्जन</td>\n",
       "    </tr>\n",
       "    <tr>\n",
       "      <th>1</th>\n",
       "      <td>सुशील कोइरालाको निधनपछि चौरासी बाले खोले यस्ता...</td>\n",
       "      <td>झण्डै बर्षअघि सुशील कोइरालाले प्रधानमन्त्रीको ...</td>\n",
       "      <td>झण्डै बर्षअघि सुशील कोइरालाले प्रधानमन्त्रीको ...</td>\n",
       "      <td>मनोरञ्जन</td>\n",
       "    </tr>\n",
       "    <tr>\n",
       "      <th>2</th>\n",
       "      <td>लिटल प्रिन्स एण्ड प्रिन्सेसको ग्रान्ड फिनाले</td>\n",
       "      <td>ग्ल्यामरस नेपालले सुरुङ्गामा लिटल प्रिन्स एन्ड...</td>\n",
       "      <td>ग्ल्यामरस नेपालले सुरुङ्गामा लिटल प्रिन्स एन्ड...</td>\n",
       "      <td>मनोरञ्जन</td>\n",
       "    </tr>\n",
       "    <tr>\n",
       "      <th>3</th>\n",
       "      <td>अमेरिकामा सबैभन्दा धेरै कमाउने सिईओ बने पिचाई ...</td>\n",
       "      <td>गूगलका सिईओ सुन्दर पिचाई अमेरिकामा सबैभन्दा धे...</td>\n",
       "      <td>गूगलका सिईओ सुन्दर पिचाई अमेरिकामा सबैभन्दा कम...</td>\n",
       "      <td>मनोरञ्जन</td>\n",
       "    </tr>\n",
       "    <tr>\n",
       "      <th>4</th>\n",
       "      <td>ज्योती मगरको धमाका दोहोरीमा र्याप</td>\n",
       "      <td>दोहोरीमा र्याप बोलको गीतको भिडियो सार्वजनिक भए...</td>\n",
       "      <td>दोहोरीमा र्याप बोलको गीतको भिडियो सार्वजनिक चर...</td>\n",
       "      <td>मनोरञ्जन</td>\n",
       "    </tr>\n",
       "  </tbody>\n",
       "</table>\n",
       "</div>"
      ],
      "text/plain": [
       "                                               title  \\\n",
       "0  निखिल उप्रेतीको भैरव फिल्मले अमेरिकामा रहेका न...   \n",
       "1  सुशील कोइरालाको निधनपछि चौरासी बाले खोले यस्ता...   \n",
       "2       लिटल प्रिन्स एण्ड प्रिन्सेसको ग्रान्ड फिनाले   \n",
       "3  अमेरिकामा सबैभन्दा धेरै कमाउने सिईओ बने पिचाई ...   \n",
       "4                  ज्योती मगरको धमाका दोहोरीमा र्याप   \n",
       "\n",
       "                                      news_stopwords  \\\n",
       "0  अमेरिकाका नेपालीको प्रतिक्रिया लिने इच्छा व्यक...   \n",
       "1  झण्डै बर्षअघि सुशील कोइरालाले प्रधानमन्त्रीको ...   \n",
       "2  ग्ल्यामरस नेपालले सुरुङ्गामा लिटल प्रिन्स एन्ड...   \n",
       "3  गूगलका सिईओ सुन्दर पिचाई अमेरिकामा सबैभन्दा धे...   \n",
       "4  दोहोरीमा र्याप बोलको गीतको भिडियो सार्वजनिक भए...   \n",
       "\n",
       "                                   news_no_stopwords  category  \n",
       "0  अमेरिकाका नेपालीको प्रतिक्रिया लिने इच्छा व्यक...  मनोरञ्जन  \n",
       "1  झण्डै बर्षअघि सुशील कोइरालाले प्रधानमन्त्रीको ...  मनोरञ्जन  \n",
       "2  ग्ल्यामरस नेपालले सुरुङ्गामा लिटल प्रिन्स एन्ड...  मनोरञ्जन  \n",
       "3  गूगलका सिईओ सुन्दर पिचाई अमेरिकामा सबैभन्दा कम...  मनोरञ्जन  \n",
       "4  दोहोरीमा र्याप बोलको गीतको भिडियो सार्वजनिक चर...  मनोरञ्जन  "
      ]
     },
     "execution_count": 5,
     "metadata": {},
     "output_type": "execute_result"
    }
   ],
   "source": [
    "df.head(5)"
   ]
  },
  {
   "cell_type": "code",
   "execution_count": 6,
   "id": "3588d81c",
   "metadata": {
    "execution": {
     "iopub.execute_input": "2024-02-26T12:29:07.238347Z",
     "iopub.status.busy": "2024-02-26T12:29:07.237635Z",
     "iopub.status.idle": "2024-02-26T12:29:07.243660Z",
     "shell.execute_reply": "2024-02-26T12:29:07.242721Z"
    },
    "papermill": {
     "duration": 0.026187,
     "end_time": "2024-02-26T12:29:07.245613",
     "exception": false,
     "start_time": "2024-02-26T12:29:07.219426",
     "status": "completed"
    },
    "tags": []
   },
   "outputs": [
    {
     "data": {
      "text/plain": [
       "(369800, 4)"
      ]
     },
     "execution_count": 6,
     "metadata": {},
     "output_type": "execute_result"
    }
   ],
   "source": [
    "df.shape"
   ]
  },
  {
   "cell_type": "markdown",
   "id": "febdc7d6",
   "metadata": {
    "papermill": {
     "duration": 0.017013,
     "end_time": "2024-02-26T12:29:07.280002",
     "exception": false,
     "start_time": "2024-02-26T12:29:07.262989",
     "status": "completed"
    },
    "tags": []
   },
   "source": [
    "For classification, we only need the news(news_no_stopwords) and catgeory.<br>\n",
    "So lets remove the other unnecessary columns"
   ]
  },
  {
   "cell_type": "code",
   "execution_count": 7,
   "id": "b28cc991",
   "metadata": {
    "execution": {
     "iopub.execute_input": "2024-02-26T12:29:07.317707Z",
     "iopub.status.busy": "2024-02-26T12:29:07.316852Z",
     "iopub.status.idle": "2024-02-26T12:29:07.344666Z",
     "shell.execute_reply": "2024-02-26T12:29:07.343858Z"
    },
    "papermill": {
     "duration": 0.048429,
     "end_time": "2024-02-26T12:29:07.346977",
     "exception": false,
     "start_time": "2024-02-26T12:29:07.298548",
     "status": "completed"
    },
    "tags": []
   },
   "outputs": [],
   "source": [
    "df.drop(columns=[\"title\", \"news_stopwords\"], inplace=True)"
   ]
  },
  {
   "cell_type": "code",
   "execution_count": 8,
   "id": "2785c03b",
   "metadata": {
    "execution": {
     "iopub.execute_input": "2024-02-26T12:29:07.382779Z",
     "iopub.status.busy": "2024-02-26T12:29:07.382413Z",
     "iopub.status.idle": "2024-02-26T12:29:07.388371Z",
     "shell.execute_reply": "2024-02-26T12:29:07.387465Z"
    },
    "papermill": {
     "duration": 0.026177,
     "end_time": "2024-02-26T12:29:07.390367",
     "exception": false,
     "start_time": "2024-02-26T12:29:07.364190",
     "status": "completed"
    },
    "tags": []
   },
   "outputs": [
    {
     "data": {
      "text/plain": [
       "(369800, 2)"
      ]
     },
     "execution_count": 8,
     "metadata": {},
     "output_type": "execute_result"
    }
   ],
   "source": [
    "df.shape"
   ]
  },
  {
   "cell_type": "code",
   "execution_count": 9,
   "id": "04abba20",
   "metadata": {
    "execution": {
     "iopub.execute_input": "2024-02-26T12:29:07.426163Z",
     "iopub.status.busy": "2024-02-26T12:29:07.425779Z",
     "iopub.status.idle": "2024-02-26T12:29:08.660325Z",
     "shell.execute_reply": "2024-02-26T12:29:08.659341Z"
    },
    "papermill": {
     "duration": 1.254844,
     "end_time": "2024-02-26T12:29:08.662415",
     "exception": false,
     "start_time": "2024-02-26T12:29:07.407571",
     "status": "completed"
    },
    "tags": []
   },
   "outputs": [
    {
     "data": {
      "text/html": [
       "<div>\n",
       "<style scoped>\n",
       "    .dataframe tbody tr th:only-of-type {\n",
       "        vertical-align: middle;\n",
       "    }\n",
       "\n",
       "    .dataframe tbody tr th {\n",
       "        vertical-align: top;\n",
       "    }\n",
       "\n",
       "    .dataframe thead th {\n",
       "        text-align: right;\n",
       "    }\n",
       "</style>\n",
       "<table border=\"1\" class=\"dataframe\">\n",
       "  <thead>\n",
       "    <tr style=\"text-align: right;\">\n",
       "      <th></th>\n",
       "      <th>news_no_stopwords</th>\n",
       "      <th>category</th>\n",
       "    </tr>\n",
       "  </thead>\n",
       "  <tbody>\n",
       "    <tr>\n",
       "      <th>count</th>\n",
       "      <td>369800</td>\n",
       "      <td>369800</td>\n",
       "    </tr>\n",
       "    <tr>\n",
       "      <th>unique</th>\n",
       "      <td>361955</td>\n",
       "      <td>10</td>\n",
       "    </tr>\n",
       "    <tr>\n",
       "      <th>top</th>\n",
       "      <td>थप जनामा कोरोना भाइरस संक्रमण पुष्टि घन्टामा द...</td>\n",
       "      <td>राजनीति</td>\n",
       "    </tr>\n",
       "    <tr>\n",
       "      <th>freq</th>\n",
       "      <td>36</td>\n",
       "      <td>59975</td>\n",
       "    </tr>\n",
       "  </tbody>\n",
       "</table>\n",
       "</div>"
      ],
      "text/plain": [
       "                                        news_no_stopwords category\n",
       "count                                              369800   369800\n",
       "unique                                             361955       10\n",
       "top     थप जनामा कोरोना भाइरस संक्रमण पुष्टि घन्टामा द...  राजनीति\n",
       "freq                                                   36    59975"
      ]
     },
     "execution_count": 9,
     "metadata": {},
     "output_type": "execute_result"
    }
   ],
   "source": [
    "df.describe()"
   ]
  },
  {
   "cell_type": "markdown",
   "id": "e7b748f4",
   "metadata": {
    "papermill": {
     "duration": 0.017364,
     "end_time": "2024-02-26T12:29:08.697410",
     "exception": false,
     "start_time": "2024-02-26T12:29:08.680046",
     "status": "completed"
    },
    "tags": []
   },
   "source": [
    "So, we have 361955 unique news scattered along 10 different catgeories.<br>\n",
    "There seems to be duplicate news. So lets remove them."
   ]
  },
  {
   "cell_type": "code",
   "execution_count": 10,
   "id": "6ee4adac",
   "metadata": {
    "execution": {
     "iopub.execute_input": "2024-02-26T12:29:08.733869Z",
     "iopub.status.busy": "2024-02-26T12:29:08.733005Z",
     "iopub.status.idle": "2024-02-26T12:29:08.868152Z",
     "shell.execute_reply": "2024-02-26T12:29:08.867337Z"
    },
    "papermill": {
     "duration": 0.155989,
     "end_time": "2024-02-26T12:29:08.870583",
     "exception": false,
     "start_time": "2024-02-26T12:29:08.714594",
     "status": "completed"
    },
    "tags": []
   },
   "outputs": [],
   "source": [
    "df.drop_duplicates([\"news_no_stopwords\"], inplace=True)"
   ]
  },
  {
   "cell_type": "code",
   "execution_count": 11,
   "id": "74d434f1",
   "metadata": {
    "execution": {
     "iopub.execute_input": "2024-02-26T12:29:08.907816Z",
     "iopub.status.busy": "2024-02-26T12:29:08.906988Z",
     "iopub.status.idle": "2024-02-26T12:29:09.549512Z",
     "shell.execute_reply": "2024-02-26T12:29:09.548521Z"
    },
    "papermill": {
     "duration": 0.663853,
     "end_time": "2024-02-26T12:29:09.552095",
     "exception": false,
     "start_time": "2024-02-26T12:29:08.888242",
     "status": "completed"
    },
    "tags": []
   },
   "outputs": [
    {
     "data": {
      "text/html": [
       "<div>\n",
       "<style scoped>\n",
       "    .dataframe tbody tr th:only-of-type {\n",
       "        vertical-align: middle;\n",
       "    }\n",
       "\n",
       "    .dataframe tbody tr th {\n",
       "        vertical-align: top;\n",
       "    }\n",
       "\n",
       "    .dataframe thead th {\n",
       "        text-align: right;\n",
       "    }\n",
       "</style>\n",
       "<table border=\"1\" class=\"dataframe\">\n",
       "  <thead>\n",
       "    <tr style=\"text-align: right;\">\n",
       "      <th></th>\n",
       "      <th>news_no_stopwords</th>\n",
       "      <th>category</th>\n",
       "    </tr>\n",
       "  </thead>\n",
       "  <tbody>\n",
       "    <tr>\n",
       "      <th>count</th>\n",
       "      <td>361955</td>\n",
       "      <td>361955</td>\n",
       "    </tr>\n",
       "    <tr>\n",
       "      <th>unique</th>\n",
       "      <td>361955</td>\n",
       "      <td>10</td>\n",
       "    </tr>\n",
       "    <tr>\n",
       "      <th>top</th>\n",
       "      <td>आइसिएफसी फाइनान्स लिमिटेडले रूपन्देहीको तिलोत्...</td>\n",
       "      <td>राजनीति</td>\n",
       "    </tr>\n",
       "    <tr>\n",
       "      <th>freq</th>\n",
       "      <td>1</td>\n",
       "      <td>57256</td>\n",
       "    </tr>\n",
       "  </tbody>\n",
       "</table>\n",
       "</div>"
      ],
      "text/plain": [
       "                                        news_no_stopwords category\n",
       "count                                              361955   361955\n",
       "unique                                             361955       10\n",
       "top     आइसिएफसी फाइनान्स लिमिटेडले रूपन्देहीको तिलोत्...  राजनीति\n",
       "freq                                                    1    57256"
      ]
     },
     "execution_count": 11,
     "metadata": {},
     "output_type": "execute_result"
    }
   ],
   "source": [
    "df.describe()"
   ]
  },
  {
   "cell_type": "markdown",
   "id": "9d7265db",
   "metadata": {
    "papermill": {
     "duration": 0.017469,
     "end_time": "2024-02-26T12:29:09.588116",
     "exception": false,
     "start_time": "2024-02-26T12:29:09.570647",
     "status": "completed"
    },
    "tags": []
   },
   "source": [
    "Now lets check if there are any null values.<br>\n",
    "If there are any, we will remove them too"
   ]
  },
  {
   "cell_type": "code",
   "execution_count": 12,
   "id": "8f22c0e9",
   "metadata": {
    "execution": {
     "iopub.execute_input": "2024-02-26T12:29:09.626228Z",
     "iopub.status.busy": "2024-02-26T12:29:09.625505Z",
     "iopub.status.idle": "2024-02-26T12:29:09.721895Z",
     "shell.execute_reply": "2024-02-26T12:29:09.721001Z"
    },
    "papermill": {
     "duration": 0.118219,
     "end_time": "2024-02-26T12:29:09.723842",
     "exception": false,
     "start_time": "2024-02-26T12:29:09.605623",
     "status": "completed"
    },
    "tags": []
   },
   "outputs": [
    {
     "data": {
      "text/plain": [
       "news_no_stopwords    0\n",
       "category             0\n",
       "dtype: int64"
      ]
     },
     "execution_count": 12,
     "metadata": {},
     "output_type": "execute_result"
    }
   ],
   "source": [
    "df.isnull().sum()"
   ]
  },
  {
   "cell_type": "markdown",
   "id": "a8645fe2",
   "metadata": {
    "papermill": {
     "duration": 0.017378,
     "end_time": "2024-02-26T12:29:09.758923",
     "exception": false,
     "start_time": "2024-02-26T12:29:09.741545",
     "status": "completed"
    },
    "tags": []
   },
   "source": [
    "Now lets compute the length of each news article<br>"
   ]
  },
  {
   "cell_type": "code",
   "execution_count": 13,
   "id": "88acd9f4",
   "metadata": {
    "execution": {
     "iopub.execute_input": "2024-02-26T12:29:09.795897Z",
     "iopub.status.busy": "2024-02-26T12:29:09.795237Z",
     "iopub.status.idle": "2024-02-26T12:29:15.510552Z",
     "shell.execute_reply": "2024-02-26T12:29:15.509758Z"
    },
    "papermill": {
     "duration": 5.73649,
     "end_time": "2024-02-26T12:29:15.512947",
     "exception": false,
     "start_time": "2024-02-26T12:29:09.776457",
     "status": "completed"
    },
    "tags": []
   },
   "outputs": [],
   "source": [
    "df[\"length\"] = df[\"news_no_stopwords\"].apply(lambda x: len(x.split()))"
   ]
  },
  {
   "cell_type": "markdown",
   "id": "793b43d3",
   "metadata": {
    "papermill": {
     "duration": 0.017486,
     "end_time": "2024-02-26T12:29:15.548264",
     "exception": false,
     "start_time": "2024-02-26T12:29:15.530778",
     "status": "completed"
    },
    "tags": []
   },
   "source": [
    "Lets remove any news of length <30<br>"
   ]
  },
  {
   "cell_type": "code",
   "execution_count": 14,
   "id": "8a944e2c",
   "metadata": {
    "execution": {
     "iopub.execute_input": "2024-02-26T12:29:15.584987Z",
     "iopub.status.busy": "2024-02-26T12:29:15.584633Z",
     "iopub.status.idle": "2024-02-26T12:29:15.622460Z",
     "shell.execute_reply": "2024-02-26T12:29:15.621638Z"
    },
    "papermill": {
     "duration": 0.058907,
     "end_time": "2024-02-26T12:29:15.624730",
     "exception": false,
     "start_time": "2024-02-26T12:29:15.565823",
     "status": "completed"
    },
    "tags": []
   },
   "outputs": [],
   "source": [
    "df = df[df[\"length\"] >= 30]"
   ]
  },
  {
   "cell_type": "markdown",
   "id": "aca32a85",
   "metadata": {
    "papermill": {
     "duration": 0.017694,
     "end_time": "2024-02-26T12:29:15.660397",
     "exception": false,
     "start_time": "2024-02-26T12:29:15.642703",
     "status": "completed"
    },
    "tags": []
   },
   "source": [
    "We will train our model to predict its catgeory using news with maximum length of 250 .<br>\n",
    "So, any news of length >250, we will slice it to be of required length.<br>\n",
    "Similarly, news of length <250 will be extended to to be of required length by padding 0s"
   ]
  },
  {
   "cell_type": "code",
   "execution_count": 15,
   "id": "24a1c349",
   "metadata": {
    "execution": {
     "iopub.execute_input": "2024-02-26T12:29:15.753980Z",
     "iopub.status.busy": "2024-02-26T12:29:15.753632Z",
     "iopub.status.idle": "2024-02-26T12:29:15.758102Z",
     "shell.execute_reply": "2024-02-26T12:29:15.757163Z"
    },
    "papermill": {
     "duration": 0.025855,
     "end_time": "2024-02-26T12:29:15.760009",
     "exception": false,
     "start_time": "2024-02-26T12:29:15.734154",
     "status": "completed"
    },
    "tags": []
   },
   "outputs": [],
   "source": [
    "CONSTANTS = {}\n",
    "CONSTANTS[\"max_news_length\"] = 300"
   ]
  },
  {
   "cell_type": "code",
   "execution_count": 16,
   "id": "26673cbb",
   "metadata": {
    "execution": {
     "iopub.execute_input": "2024-02-26T12:29:15.797361Z",
     "iopub.status.busy": "2024-02-26T12:29:15.796997Z",
     "iopub.status.idle": "2024-02-26T12:29:24.327822Z",
     "shell.execute_reply": "2024-02-26T12:29:24.326905Z"
    },
    "papermill": {
     "duration": 8.552008,
     "end_time": "2024-02-26T12:29:24.330264",
     "exception": false,
     "start_time": "2024-02-26T12:29:15.778256",
     "status": "completed"
    },
    "tags": []
   },
   "outputs": [],
   "source": [
    "df[\"news_no_stopwords\"] = df[\"news_no_stopwords\"].apply(lambda x: \" \".join(x.split()[:CONSTANTS[\"max_news_length\"]]))"
   ]
  },
  {
   "cell_type": "markdown",
   "id": "93ea9c3a",
   "metadata": {
    "papermill": {
     "duration": 0.017871,
     "end_time": "2024-02-26T12:29:24.367695",
     "exception": false,
     "start_time": "2024-02-26T12:29:24.349824",
     "status": "completed"
    },
    "tags": []
   },
   "source": [
    "Lets check if data is distributed evenly between the catgeories  "
   ]
  },
  {
   "cell_type": "code",
   "execution_count": 17,
   "id": "72d8a23b",
   "metadata": {
    "execution": {
     "iopub.execute_input": "2024-02-26T12:29:24.405301Z",
     "iopub.status.busy": "2024-02-26T12:29:24.404896Z",
     "iopub.status.idle": "2024-02-26T12:29:25.098115Z",
     "shell.execute_reply": "2024-02-26T12:29:25.097050Z"
    },
    "papermill": {
     "duration": 0.714857,
     "end_time": "2024-02-26T12:29:25.100341",
     "exception": false,
     "start_time": "2024-02-26T12:29:24.385484",
     "status": "completed"
    },
    "tags": []
   },
   "outputs": [
    {
     "data": {
      "text/plain": [
       "<Axes: xlabel='category', ylabel='count'>"
      ]
     },
     "execution_count": 17,
     "metadata": {},
     "output_type": "execute_result"
    },
    {
     "data": {
      "image/png": "[encoded data removed]",
      "text/plain": [
       "<Figure size 640x480 with 1 Axes>"
      ]
     },
     "metadata": {},
     "output_type": "display_data"
    }
   ],
   "source": [
    "sns.countplot(data=df, x='category')"
   ]
  },
  {
   "cell_type": "markdown",
   "id": "b5a501b7",
   "metadata": {
    "papermill": {
     "duration": 0.018506,
     "end_time": "2024-02-26T12:29:25.137866",
     "exception": false,
     "start_time": "2024-02-26T12:29:25.119360",
     "status": "completed"
    },
    "tags": []
   },
   "source": [
    "The plot is not understanding nepali language, so lets map the catgeories to numbers"
   ]
  },
  {
   "cell_type": "code",
   "execution_count": 18,
   "id": "e296a7e6",
   "metadata": {
    "execution": {
     "iopub.execute_input": "2024-02-26T12:29:25.177960Z",
     "iopub.status.busy": "2024-02-26T12:29:25.177069Z",
     "iopub.status.idle": "2024-02-26T12:29:25.239810Z",
     "shell.execute_reply": "2024-02-26T12:29:25.238803Z"
    },
    "papermill": {
     "duration": 0.085148,
     "end_time": "2024-02-26T12:29:25.242015",
     "exception": false,
     "start_time": "2024-02-26T12:29:25.156867",
     "status": "completed"
    },
    "tags": []
   },
   "outputs": [
    {
     "data": {
      "text/plain": [
       "category\n",
       "राजनीति              56680\n",
       "देश/प्रदेश           49979\n",
       "समाज                 49062\n",
       "खेलकुद               42009\n",
       "अर्थ / वाणिज्य       40004\n",
       "विश्व                37158\n",
       "मनोरञ्जन             33949\n",
       "विज्ञान र प्रविधि    23027\n",
       "स्वास्थ्य            21490\n",
       "शिक्षा                6691\n",
       "Name: count, dtype: int64"
      ]
     },
     "execution_count": 18,
     "metadata": {},
     "output_type": "execute_result"
    }
   ],
   "source": [
    "df[\"category\"].value_counts()"
   ]
  },
  {
   "cell_type": "markdown",
   "id": "c50116da",
   "metadata": {
    "papermill": {
     "duration": 0.01889,
     "end_time": "2024-02-26T12:29:25.281102",
     "exception": false,
     "start_time": "2024-02-26T12:29:25.262212",
     "status": "completed"
    },
    "tags": []
   },
   "source": [
    "The number of samples for catgeory \"शिक्षा\" is extremely low, so lets just remove it from the dataset altogether"
   ]
  },
  {
   "cell_type": "markdown",
   "id": "ad01b3d5",
   "metadata": {
    "papermill": {
     "duration": 0.018856,
     "end_time": "2024-02-26T12:29:25.318999",
     "exception": false,
     "start_time": "2024-02-26T12:29:25.300143",
     "status": "completed"
    },
    "tags": []
   },
   "source": [
    "Also, I found that data relating to \"देश/प्रदेश\" is also pretty bad. Most of them are about just local news which repeats the same as news from other categories.<br>\n",
    "So, I am going to remove it too"
   ]
  },
  {
   "cell_type": "code",
   "execution_count": 19,
   "id": "c158376d",
   "metadata": {
    "execution": {
     "iopub.execute_input": "2024-02-26T12:29:25.359681Z",
     "iopub.status.busy": "2024-02-26T12:29:25.359312Z",
     "iopub.status.idle": "2024-02-26T12:29:25.365342Z",
     "shell.execute_reply": "2024-02-26T12:29:25.364430Z"
    },
    "papermill": {
     "duration": 0.029072,
     "end_time": "2024-02-26T12:29:25.367411",
     "exception": false,
     "start_time": "2024-02-26T12:29:25.338339",
     "status": "completed"
    },
    "tags": []
   },
   "outputs": [
    {
     "data": {
      "text/plain": [
       "360049"
      ]
     },
     "execution_count": 19,
     "metadata": {},
     "output_type": "execute_result"
    }
   ],
   "source": [
    "len(df[\"category\"])"
   ]
  },
  {
   "cell_type": "code",
   "execution_count": 20,
   "id": "844a0dbb",
   "metadata": {
    "execution": {
     "iopub.execute_input": "2024-02-26T12:29:25.407974Z",
     "iopub.status.busy": "2024-02-26T12:29:25.407105Z",
     "iopub.status.idle": "2024-02-26T12:29:25.651029Z",
     "shell.execute_reply": "2024-02-26T12:29:25.650007Z"
    },
    "papermill": {
     "duration": 0.267162,
     "end_time": "2024-02-26T12:29:25.653700",
     "exception": false,
     "start_time": "2024-02-26T12:29:25.386538",
     "status": "completed"
    },
    "tags": []
   },
   "outputs": [],
   "source": [
    "df = df[df[\"category\"] != \"शिक्षा\"]\n",
    "df = df[df[\"category\"] != \"शिक्षा\"]"
   ]
  },
  {
   "cell_type": "code",
   "execution_count": 21,
   "id": "3d616934",
   "metadata": {
    "execution": {
     "iopub.execute_input": "2024-02-26T12:29:25.693806Z",
     "iopub.status.busy": "2024-02-26T12:29:25.693446Z",
     "iopub.status.idle": "2024-02-26T12:29:25.698755Z",
     "shell.execute_reply": "2024-02-26T12:29:25.697606Z"
    },
    "papermill": {
     "duration": 0.027928,
     "end_time": "2024-02-26T12:29:25.700703",
     "exception": false,
     "start_time": "2024-02-26T12:29:25.672775",
     "status": "completed"
    },
    "tags": []
   },
   "outputs": [],
   "source": [
    "category_mapping = {\n",
    "    \"मनोरञ्जन\": 0,\n",
    "#     \"देश/प्रदेश\": 1,\n",
    "    \"अर्थ / वाणिज्य\": 1,\n",
    "    \"विश्व\": 2,\n",
    "    \"खेलकुद\": 3,\n",
    "    \"समाज\": 4,\n",
    "    \"राजनीति\": 5,\n",
    "    \"विज्ञान र प्रविधि\": 6,\n",
    "    \"स्वास्थ्य\": 7,\n",
    "} "
   ]
  },
  {
   "cell_type": "code",
   "execution_count": 22,
   "id": "c6bf6209",
   "metadata": {
    "execution": {
     "iopub.execute_input": "2024-02-26T12:29:25.739305Z",
     "iopub.status.busy": "2024-02-26T12:29:25.738925Z",
     "iopub.status.idle": "2024-02-26T12:29:25.743405Z",
     "shell.execute_reply": "2024-02-26T12:29:25.742589Z"
    },
    "papermill": {
     "duration": 0.026006,
     "end_time": "2024-02-26T12:29:25.745365",
     "exception": false,
     "start_time": "2024-02-26T12:29:25.719359",
     "status": "completed"
    },
    "tags": []
   },
   "outputs": [],
   "source": [
    "CONSTANTS[\"total_categories\"] = 8"
   ]
  },
  {
   "cell_type": "code",
   "execution_count": 23,
   "id": "98e40347",
   "metadata": {
    "execution": {
     "iopub.execute_input": "2024-02-26T12:29:25.784918Z",
     "iopub.status.busy": "2024-02-26T12:29:25.784560Z",
     "iopub.status.idle": "2024-02-26T12:29:25.825768Z",
     "shell.execute_reply": "2024-02-26T12:29:25.824922Z"
    },
    "papermill": {
     "duration": 0.062902,
     "end_time": "2024-02-26T12:29:25.827830",
     "exception": false,
     "start_time": "2024-02-26T12:29:25.764928",
     "status": "completed"
    },
    "tags": []
   },
   "outputs": [],
   "source": [
    "df[\"category\"] = df[\"category\"].map(category_mapping)"
   ]
  },
  {
   "cell_type": "markdown",
   "id": "6b73190c",
   "metadata": {
    "papermill": {
     "duration": 0.018733,
     "end_time": "2024-02-26T12:29:25.865328",
     "exception": false,
     "start_time": "2024-02-26T12:29:25.846595",
     "status": "completed"
    },
    "tags": []
   },
   "source": [
    "Now lets look at the distribution"
   ]
  },
  {
   "cell_type": "code",
   "execution_count": 24,
   "id": "a8bed8fd",
   "metadata": {
    "execution": {
     "iopub.execute_input": "2024-02-26T12:29:25.905874Z",
     "iopub.status.busy": "2024-02-26T12:29:25.905503Z",
     "iopub.status.idle": "2024-02-26T12:29:26.133963Z",
     "shell.execute_reply": "2024-02-26T12:29:26.133059Z"
    },
    "papermill": {
     "duration": 0.251763,
     "end_time": "2024-02-26T12:29:26.136116",
     "exception": false,
     "start_time": "2024-02-26T12:29:25.884353",
     "status": "completed"
    },
    "tags": []
   },
   "outputs": [
    {
     "data": {
      "text/plain": [
       "<Axes: xlabel='category', ylabel='count'>"
      ]
     },
     "execution_count": 24,
     "metadata": {},
     "output_type": "execute_result"
    },
    {
     "data": {
      "image/png": "[encoded data removed]",
      "text/plain": [
       "<Figure size 640x480 with 1 Axes>"
      ]
     },
     "metadata": {},
     "output_type": "display_data"
    }
   ],
   "source": [
    "sns.countplot(data=df, x='category')"
   ]
  },
  {
   "cell_type": "code",
   "execution_count": 25,
   "id": "0ad4d29a",
   "metadata": {
    "execution": {
     "iopub.execute_input": "2024-02-26T12:29:26.176820Z",
     "iopub.status.busy": "2024-02-26T12:29:26.176031Z",
     "iopub.status.idle": "2024-02-26T12:29:26.188918Z",
     "shell.execute_reply": "2024-02-26T12:29:26.188035Z"
    },
    "papermill": {
     "duration": 0.035491,
     "end_time": "2024-02-26T12:29:26.190914",
     "exception": false,
     "start_time": "2024-02-26T12:29:26.155423",
     "status": "completed"
    },
    "tags": []
   },
   "outputs": [
    {
     "data": {
      "text/plain": [
       "category\n",
       "5.0    56680\n",
       "4.0    49062\n",
       "3.0    42009\n",
       "1.0    40004\n",
       "2.0    37158\n",
       "0.0    33949\n",
       "6.0    23027\n",
       "7.0    21490\n",
       "Name: count, dtype: int64"
      ]
     },
     "execution_count": 25,
     "metadata": {},
     "output_type": "execute_result"
    }
   ],
   "source": [
    "df[\"category\"].value_counts()"
   ]
  },
  {
   "cell_type": "markdown",
   "id": "c4133950",
   "metadata": {
    "papermill": {
     "duration": 0.019001,
     "end_time": "2024-02-26T12:29:26.229384",
     "exception": false,
     "start_time": "2024-02-26T12:29:26.210383",
     "status": "completed"
    },
    "tags": []
   },
   "source": [
    "Our data is highly imbalanced, so lets perform random undersampling so that maximum number of instances for each catgeory is atmost 25K"
   ]
  },
  {
   "cell_type": "code",
   "execution_count": 26,
   "id": "25b04ade",
   "metadata": {
    "execution": {
     "iopub.execute_input": "2024-02-26T12:29:26.269395Z",
     "iopub.status.busy": "2024-02-26T12:29:26.268761Z",
     "iopub.status.idle": "2024-02-26T12:29:26.273795Z",
     "shell.execute_reply": "2024-02-26T12:29:26.272917Z"
    },
    "papermill": {
     "duration": 0.027251,
     "end_time": "2024-02-26T12:29:26.275715",
     "exception": false,
     "start_time": "2024-02-26T12:29:26.248464",
     "status": "completed"
    },
    "tags": []
   },
   "outputs": [],
   "source": [
    "def random_undersampling(data, random_state):\n",
    "    if len(data) > 25000:\n",
    "        return data.sample(25000, random_state=random_state)\n",
    "    return data"
   ]
  },
  {
   "cell_type": "code",
   "execution_count": 27,
   "id": "1cc81cbf",
   "metadata": {
    "execution": {
     "iopub.execute_input": "2024-02-26T12:29:26.316241Z",
     "iopub.status.busy": "2024-02-26T12:29:26.315647Z",
     "iopub.status.idle": "2024-02-26T12:29:26.451341Z",
     "shell.execute_reply": "2024-02-26T12:29:26.450514Z"
    },
    "papermill": {
     "duration": 0.158509,
     "end_time": "2024-02-26T12:29:26.453755",
     "exception": false,
     "start_time": "2024-02-26T12:29:26.295246",
     "status": "completed"
    },
    "tags": []
   },
   "outputs": [],
   "source": [
    "df_balanced = pd.DataFrame(columns=['news_no_stopwords', 'category'])\n",
    "for i in range(CONSTANTS[\"total_categories\"]):\n",
    "    res = random_undersampling(df[df[\"category\"] == i], i * np.random.randint(100))\n",
    "    if df_balanced.empty == True:\n",
    "        df_balanced = res\n",
    "    else:\n",
    "        df_balanced = pd.concat([df_balanced, res], ignore_index=True)"
   ]
  },
  {
   "cell_type": "code",
   "execution_count": 28,
   "id": "8c275ad7",
   "metadata": {
    "execution": {
     "iopub.execute_input": "2024-02-26T12:29:26.495597Z",
     "iopub.status.busy": "2024-02-26T12:29:26.494919Z",
     "iopub.status.idle": "2024-02-26T12:29:26.506658Z",
     "shell.execute_reply": "2024-02-26T12:29:26.505676Z"
    },
    "papermill": {
     "duration": 0.034812,
     "end_time": "2024-02-26T12:29:26.508724",
     "exception": false,
     "start_time": "2024-02-26T12:29:26.473912",
     "status": "completed"
    },
    "tags": []
   },
   "outputs": [
    {
     "data": {
      "text/plain": [
       "category\n",
       "0.0    25000\n",
       "1.0    25000\n",
       "2.0    25000\n",
       "3.0    25000\n",
       "4.0    25000\n",
       "5.0    25000\n",
       "6.0    23027\n",
       "7.0    21490\n",
       "Name: count, dtype: int64"
      ]
     },
     "execution_count": 28,
     "metadata": {},
     "output_type": "execute_result"
    }
   ],
   "source": [
    "df_balanced[\"category\"].value_counts()"
   ]
  },
  {
   "cell_type": "markdown",
   "id": "a5f9c53f",
   "metadata": {
    "papermill": {
     "duration": 0.019865,
     "end_time": "2024-02-26T12:29:26.548747",
     "exception": false,
     "start_time": "2024-02-26T12:29:26.528882",
     "status": "completed"
    },
    "tags": []
   },
   "source": [
    "Now, our dataset has been balanced.<br>\n",
    "Lets shuffle the dataset so that their order of news from same categories is not simulatenous"
   ]
  },
  {
   "cell_type": "code",
   "execution_count": 29,
   "id": "7d7f5a40",
   "metadata": {
    "execution": {
     "iopub.execute_input": "2024-02-26T12:29:26.589530Z",
     "iopub.status.busy": "2024-02-26T12:29:26.588927Z",
     "iopub.status.idle": "2024-02-26T12:29:26.599775Z",
     "shell.execute_reply": "2024-02-26T12:29:26.598893Z"
    },
    "papermill": {
     "duration": 0.033512,
     "end_time": "2024-02-26T12:29:26.601682",
     "exception": false,
     "start_time": "2024-02-26T12:29:26.568170",
     "status": "completed"
    },
    "tags": []
   },
   "outputs": [
    {
     "data": {
      "text/html": [
       "<div>\n",
       "<style scoped>\n",
       "    .dataframe tbody tr th:only-of-type {\n",
       "        vertical-align: middle;\n",
       "    }\n",
       "\n",
       "    .dataframe tbody tr th {\n",
       "        vertical-align: top;\n",
       "    }\n",
       "\n",
       "    .dataframe thead th {\n",
       "        text-align: right;\n",
       "    }\n",
       "</style>\n",
       "<table border=\"1\" class=\"dataframe\">\n",
       "  <thead>\n",
       "    <tr style=\"text-align: right;\">\n",
       "      <th></th>\n",
       "      <th>news_no_stopwords</th>\n",
       "      <th>category</th>\n",
       "      <th>length</th>\n",
       "    </tr>\n",
       "  </thead>\n",
       "  <tbody>\n",
       "    <tr>\n",
       "      <th>0</th>\n",
       "      <td>नो नो नो फेक दयाट इज फेक फेक न्युज फेक मिडिया ...</td>\n",
       "      <td>0.0</td>\n",
       "      <td>265</td>\n",
       "    </tr>\n",
       "    <tr>\n",
       "      <th>1</th>\n",
       "      <td>रोहित शेट्टी निर्देशित गोलमाल अगेन प्रदर्शनको ...</td>\n",
       "      <td>0.0</td>\n",
       "      <td>198</td>\n",
       "    </tr>\n",
       "    <tr>\n",
       "      <th>2</th>\n",
       "      <td>नेपाल संस्करण कार्कीले जितेकी दक्ष ईन्टेरनेशनल...</td>\n",
       "      <td>0.0</td>\n",
       "      <td>264</td>\n",
       "    </tr>\n",
       "    <tr>\n",
       "      <th>3</th>\n",
       "      <td>बलिउड नायिका आलिया भट्ट सोसल मिडियामा निकै सक्...</td>\n",
       "      <td>0.0</td>\n",
       "      <td>124</td>\n",
       "    </tr>\n",
       "    <tr>\n",
       "      <th>4</th>\n",
       "      <td>मुम्बईको थिएटरमा फिल्म गान्धी गोडसे युद्ध स्क्...</td>\n",
       "      <td>0.0</td>\n",
       "      <td>118</td>\n",
       "    </tr>\n",
       "  </tbody>\n",
       "</table>\n",
       "</div>"
      ],
      "text/plain": [
       "                                   news_no_stopwords  category  length\n",
       "0  नो नो नो फेक दयाट इज फेक फेक न्युज फेक मिडिया ...       0.0     265\n",
       "1  रोहित शेट्टी निर्देशित गोलमाल अगेन प्रदर्शनको ...       0.0     198\n",
       "2  नेपाल संस्करण कार्कीले जितेकी दक्ष ईन्टेरनेशनल...       0.0     264\n",
       "3  बलिउड नायिका आलिया भट्ट सोसल मिडियामा निकै सक्...       0.0     124\n",
       "4  मुम्बईको थिएटरमा फिल्म गान्धी गोडसे युद्ध स्क्...       0.0     118"
      ]
     },
     "execution_count": 29,
     "metadata": {},
     "output_type": "execute_result"
    }
   ],
   "source": [
    "df_balanced.head()"
   ]
  },
  {
   "cell_type": "code",
   "execution_count": 30,
   "id": "9725acc6",
   "metadata": {
    "execution": {
     "iopub.execute_input": "2024-02-26T12:29:26.643323Z",
     "iopub.status.busy": "2024-02-26T12:29:26.642518Z",
     "iopub.status.idle": "2024-02-26T12:29:27.353916Z",
     "shell.execute_reply": "2024-02-26T12:29:27.352888Z"
    },
    "papermill": {
     "duration": 0.735375,
     "end_time": "2024-02-26T12:29:27.356819",
     "exception": false,
     "start_time": "2024-02-26T12:29:26.621444",
     "status": "completed"
    },
    "tags": []
   },
   "outputs": [],
   "source": [
    "for i in range(20):\n",
    "    df_balanced = df_balanced.sample(frac=1)"
   ]
  },
  {
   "cell_type": "code",
   "execution_count": 31,
   "id": "de097ea2",
   "metadata": {
    "execution": {
     "iopub.execute_input": "2024-02-26T12:29:27.399632Z",
     "iopub.status.busy": "2024-02-26T12:29:27.398807Z",
     "iopub.status.idle": "2024-02-26T12:29:27.409680Z",
     "shell.execute_reply": "2024-02-26T12:29:27.408769Z"
    },
    "papermill": {
     "duration": 0.033801,
     "end_time": "2024-02-26T12:29:27.411598",
     "exception": false,
     "start_time": "2024-02-26T12:29:27.377797",
     "status": "completed"
    },
    "tags": []
   },
   "outputs": [
    {
     "data": {
      "text/html": [
       "<div>\n",
       "<style scoped>\n",
       "    .dataframe tbody tr th:only-of-type {\n",
       "        vertical-align: middle;\n",
       "    }\n",
       "\n",
       "    .dataframe tbody tr th {\n",
       "        vertical-align: top;\n",
       "    }\n",
       "\n",
       "    .dataframe thead th {\n",
       "        text-align: right;\n",
       "    }\n",
       "</style>\n",
       "<table border=\"1\" class=\"dataframe\">\n",
       "  <thead>\n",
       "    <tr style=\"text-align: right;\">\n",
       "      <th></th>\n",
       "      <th>news_no_stopwords</th>\n",
       "      <th>category</th>\n",
       "      <th>length</th>\n",
       "    </tr>\n",
       "  </thead>\n",
       "  <tbody>\n",
       "    <tr>\n",
       "      <th>55224</th>\n",
       "      <td>चीनले नेपालसँग द्विपक्षीय रणनीतिक सहयोगात्मक स...</td>\n",
       "      <td>2.0</td>\n",
       "      <td>136</td>\n",
       "    </tr>\n",
       "    <tr>\n",
       "      <th>108513</th>\n",
       "      <td>बाघको आक्रमणबाट बेपत्ता महिलाको शव घण्टापछि फे...</td>\n",
       "      <td>4.0</td>\n",
       "      <td>132</td>\n",
       "    </tr>\n",
       "    <tr>\n",
       "      <th>194271</th>\n",
       "      <td>काठमाडौं बरिष्ठ हाडजोर्नी विशेषज्ञ एवं चिकित्स...</td>\n",
       "      <td>7.0</td>\n",
       "      <td>620</td>\n",
       "    </tr>\n",
       "    <tr>\n",
       "      <th>65370</th>\n",
       "      <td>संयुक्त राज्य अमेरिकाले युक्रेन द्वन्दवमा प्रत...</td>\n",
       "      <td>2.0</td>\n",
       "      <td>68</td>\n",
       "    </tr>\n",
       "    <tr>\n",
       "      <th>166982</th>\n",
       "      <td>सरकारले श्रम व्यवसायजन्य सुरक्षा विभागलाई पूर्...</td>\n",
       "      <td>6.0</td>\n",
       "      <td>325</td>\n",
       "    </tr>\n",
       "  </tbody>\n",
       "</table>\n",
       "</div>"
      ],
      "text/plain": [
       "                                        news_no_stopwords  category  length\n",
       "55224   चीनले नेपालसँग द्विपक्षीय रणनीतिक सहयोगात्मक स...       2.0     136\n",
       "108513  बाघको आक्रमणबाट बेपत्ता महिलाको शव घण्टापछि फे...       4.0     132\n",
       "194271  काठमाडौं बरिष्ठ हाडजोर्नी विशेषज्ञ एवं चिकित्स...       7.0     620\n",
       "65370   संयुक्त राज्य अमेरिकाले युक्रेन द्वन्दवमा प्रत...       2.0      68\n",
       "166982  सरकारले श्रम व्यवसायजन्य सुरक्षा विभागलाई पूर्...       6.0     325"
      ]
     },
     "execution_count": 31,
     "metadata": {},
     "output_type": "execute_result"
    }
   ],
   "source": [
    "df_balanced.head()"
   ]
  },
  {
   "cell_type": "markdown",
   "id": "ddef610c",
   "metadata": {
    "papermill": {
     "duration": 0.01972,
     "end_time": "2024-02-26T12:29:27.451760",
     "exception": false,
     "start_time": "2024-02-26T12:29:27.432040",
     "status": "completed"
    },
    "tags": []
   },
   "source": [
    "We will train our model to predict its catgeory using news with maximum length of 250 .<br>\n",
    "So, any news of length >250, we will slice it to be of required length.<br>\n",
    "Similarly, news of length <250 will be extended to to be of required length by padding 0s"
   ]
  },
  {
   "cell_type": "markdown",
   "id": "d1a00abc",
   "metadata": {
    "papermill": {
     "duration": 0.019863,
     "end_time": "2024-02-26T12:29:27.491667",
     "exception": false,
     "start_time": "2024-02-26T12:29:27.471804",
     "status": "completed"
    },
    "tags": []
   },
   "source": [
    "Now lets split our dataset into train(70%), validation set(12.5%) and test set(12.5%)"
   ]
  },
  {
   "cell_type": "code",
   "execution_count": 32,
   "id": "e1c3c519",
   "metadata": {
    "execution": {
     "iopub.execute_input": "2024-02-26T12:29:27.533981Z",
     "iopub.status.busy": "2024-02-26T12:29:27.533311Z",
     "iopub.status.idle": "2024-02-26T12:29:27.713462Z",
     "shell.execute_reply": "2024-02-26T12:29:27.712626Z"
    },
    "papermill": {
     "duration": 0.203812,
     "end_time": "2024-02-26T12:29:27.715862",
     "exception": false,
     "start_time": "2024-02-26T12:29:27.512050",
     "status": "completed"
    },
    "tags": []
   },
   "outputs": [],
   "source": [
    "from sklearn.model_selection import train_test_split"
   ]
  },
  {
   "cell_type": "code",
   "execution_count": 33,
   "id": "64dbfe2f",
   "metadata": {
    "execution": {
     "iopub.execute_input": "2024-02-26T12:29:27.758468Z",
     "iopub.status.busy": "2024-02-26T12:29:27.757626Z",
     "iopub.status.idle": "2024-02-26T12:29:27.860595Z",
     "shell.execute_reply": "2024-02-26T12:29:27.859516Z"
    },
    "papermill": {
     "duration": 0.126573,
     "end_time": "2024-02-26T12:29:27.863014",
     "exception": false,
     "start_time": "2024-02-26T12:29:27.736441",
     "status": "completed"
    },
    "tags": []
   },
   "outputs": [],
   "source": [
    "X_train, X_val_test, y_train, y_val_test = train_test_split(df_balanced['news_no_stopwords'], df_balanced['category'], test_size=0.20, random_state=21, stratify=df_balanced[\"category\"], shuffle=True)"
   ]
  },
  {
   "cell_type": "code",
   "execution_count": 34,
   "id": "00bd8326",
   "metadata": {
    "execution": {
     "iopub.execute_input": "2024-02-26T12:29:27.905702Z",
     "iopub.status.busy": "2024-02-26T12:29:27.905016Z",
     "iopub.status.idle": "2024-02-26T12:29:27.930688Z",
     "shell.execute_reply": "2024-02-26T12:29:27.929891Z"
    },
    "papermill": {
     "duration": 0.049382,
     "end_time": "2024-02-26T12:29:27.932985",
     "exception": false,
     "start_time": "2024-02-26T12:29:27.883603",
     "status": "completed"
    },
    "tags": []
   },
   "outputs": [],
   "source": [
    "X_val, X_test, y_val, y_test = train_test_split(X_val_test, y_val_test, test_size=0.5, random_state=28, stratify=y_val_test, shuffle=True)"
   ]
  },
  {
   "cell_type": "code",
   "execution_count": 35,
   "id": "0f168de4",
   "metadata": {
    "execution": {
     "iopub.execute_input": "2024-02-26T12:29:27.980060Z",
     "iopub.status.busy": "2024-02-26T12:29:27.979682Z",
     "iopub.status.idle": "2024-02-26T12:29:27.986375Z",
     "shell.execute_reply": "2024-02-26T12:29:27.985469Z"
    },
    "papermill": {
     "duration": 0.032646,
     "end_time": "2024-02-26T12:29:27.988390",
     "exception": false,
     "start_time": "2024-02-26T12:29:27.955744",
     "status": "completed"
    },
    "tags": []
   },
   "outputs": [
    {
     "data": {
      "text/plain": [
       "((155613,), (19452,), (19452,))"
      ]
     },
     "execution_count": 35,
     "metadata": {},
     "output_type": "execute_result"
    }
   ],
   "source": [
    "X_train.shape, X_val.shape, X_test.shape "
   ]
  },
  {
   "cell_type": "markdown",
   "id": "9830fdd0",
   "metadata": {
    "papermill": {
     "duration": 0.023781,
     "end_time": "2024-02-26T12:29:28.038111",
     "exception": false,
     "start_time": "2024-02-26T12:29:28.014330",
     "status": "completed"
    },
    "tags": []
   },
   "source": [
    "Now we will create our tokenizer"
   ]
  },
  {
   "cell_type": "code",
   "execution_count": 36,
   "id": "1a7041cb",
   "metadata": {
    "execution": {
     "iopub.execute_input": "2024-02-26T12:29:28.085259Z",
     "iopub.status.busy": "2024-02-26T12:29:28.084507Z",
     "iopub.status.idle": "2024-02-26T12:29:28.180516Z",
     "shell.execute_reply": "2024-02-26T12:29:28.179687Z"
    },
    "papermill": {
     "duration": 0.120758,
     "end_time": "2024-02-26T12:29:28.182840",
     "exception": false,
     "start_time": "2024-02-26T12:29:28.062082",
     "status": "completed"
    },
    "tags": []
   },
   "outputs": [],
   "source": [
    "from tensorflow.keras.preprocessing.text import Tokenizer"
   ]
  },
  {
   "cell_type": "code",
   "execution_count": 37,
   "id": "5f9d6b3f",
   "metadata": {
    "execution": {
     "iopub.execute_input": "2024-02-26T12:29:28.226887Z",
     "iopub.status.busy": "2024-02-26T12:29:28.226514Z",
     "iopub.status.idle": "2024-02-26T12:30:15.892662Z",
     "shell.execute_reply": "2024-02-26T12:30:15.891855Z"
    },
    "papermill": {
     "duration": 47.690655,
     "end_time": "2024-02-26T12:30:15.895031",
     "exception": false,
     "start_time": "2024-02-26T12:29:28.204376",
     "status": "completed"
    },
    "tags": []
   },
   "outputs": [],
   "source": [
    "tokenizer = Tokenizer(num_words=52000)\n",
    "tokenizer.fit_on_texts(list(X_train))"
   ]
  },
  {
   "cell_type": "code",
   "execution_count": 38,
   "id": "84c39798",
   "metadata": {
    "execution": {
     "iopub.execute_input": "2024-02-26T12:30:15.938479Z",
     "iopub.status.busy": "2024-02-26T12:30:15.938149Z",
     "iopub.status.idle": "2024-02-26T12:30:15.942426Z",
     "shell.execute_reply": "2024-02-26T12:30:15.941483Z"
    },
    "papermill": {
     "duration": 0.02841,
     "end_time": "2024-02-26T12:30:15.944487",
     "exception": false,
     "start_time": "2024-02-26T12:30:15.916077",
     "status": "completed"
    },
    "tags": []
   },
   "outputs": [],
   "source": [
    "CONSTANTS[\"voc_size\"] = 52000"
   ]
  },
  {
   "cell_type": "markdown",
   "id": "9278c811",
   "metadata": {
    "papermill": {
     "duration": 0.02108,
     "end_time": "2024-02-26T12:30:15.986434",
     "exception": false,
     "start_time": "2024-02-26T12:30:15.965354",
     "status": "completed"
    },
    "tags": []
   },
   "source": [
    "Now we convert our words to integers"
   ]
  },
  {
   "cell_type": "code",
   "execution_count": 39,
   "id": "5d79323a",
   "metadata": {
    "execution": {
     "iopub.execute_input": "2024-02-26T12:30:16.030174Z",
     "iopub.status.busy": "2024-02-26T12:30:16.029307Z",
     "iopub.status.idle": "2024-02-26T12:31:00.789065Z",
     "shell.execute_reply": "2024-02-26T12:31:00.788057Z"
    },
    "papermill": {
     "duration": 44.784207,
     "end_time": "2024-02-26T12:31:00.791591",
     "exception": false,
     "start_time": "2024-02-26T12:30:16.007384",
     "status": "completed"
    },
    "tags": []
   },
   "outputs": [],
   "source": [
    "X_train_seq = tokenizer.texts_to_sequences(X_train)\n",
    "X_test_seq = tokenizer.texts_to_sequences(X_test)\n",
    "X_val_seq = tokenizer.texts_to_sequences(X_val)"
   ]
  },
  {
   "cell_type": "markdown",
   "id": "974da0f3",
   "metadata": {
    "papermill": {
     "duration": 0.020369,
     "end_time": "2024-02-26T12:31:00.833005",
     "exception": false,
     "start_time": "2024-02-26T12:31:00.812636",
     "status": "completed"
    },
    "tags": []
   },
   "source": [
    "Finally we will pad our sequences so that all the inputs are of same length, 250"
   ]
  },
  {
   "cell_type": "code",
   "execution_count": 40,
   "id": "1284df18",
   "metadata": {
    "execution": {
     "iopub.execute_input": "2024-02-26T12:31:00.876688Z",
     "iopub.status.busy": "2024-02-26T12:31:00.875842Z",
     "iopub.status.idle": "2024-02-26T12:31:00.880665Z",
     "shell.execute_reply": "2024-02-26T12:31:00.879906Z"
    },
    "papermill": {
     "duration": 0.028913,
     "end_time": "2024-02-26T12:31:00.882646",
     "exception": false,
     "start_time": "2024-02-26T12:31:00.853733",
     "status": "completed"
    },
    "tags": []
   },
   "outputs": [],
   "source": [
    "from tensorflow.keras.preprocessing.sequence import pad_sequences"
   ]
  },
  {
   "cell_type": "code",
   "execution_count": 41,
   "id": "9507b157",
   "metadata": {
    "execution": {
     "iopub.execute_input": "2024-02-26T12:31:00.926720Z",
     "iopub.status.busy": "2024-02-26T12:31:00.925859Z",
     "iopub.status.idle": "2024-02-26T12:31:03.934012Z",
     "shell.execute_reply": "2024-02-26T12:31:03.933229Z"
    },
    "papermill": {
     "duration": 3.032591,
     "end_time": "2024-02-26T12:31:03.936332",
     "exception": false,
     "start_time": "2024-02-26T12:31:00.903741",
     "status": "completed"
    },
    "tags": []
   },
   "outputs": [],
   "source": [
    "X_train_pad_seq = pad_sequences(X_train_seq,  maxlen=CONSTANTS[\"max_news_length\"], padding='post')\n",
    "X_test_pad_seq = pad_sequences(X_test_seq,  maxlen=CONSTANTS[\"max_news_length\"], padding='post')\n",
    "X_val_pad_seq = pad_sequences(X_val_seq,  maxlen=CONSTANTS[\"max_news_length\"], padding='post')"
   ]
  },
  {
   "cell_type": "code",
   "execution_count": 42,
   "id": "6c640c13",
   "metadata": {
    "execution": {
     "iopub.execute_input": "2024-02-26T12:31:03.980137Z",
     "iopub.status.busy": "2024-02-26T12:31:03.979389Z",
     "iopub.status.idle": "2024-02-26T12:31:03.985698Z",
     "shell.execute_reply": "2024-02-26T12:31:03.984794Z"
    },
    "papermill": {
     "duration": 0.030139,
     "end_time": "2024-02-26T12:31:03.987607",
     "exception": false,
     "start_time": "2024-02-26T12:31:03.957468",
     "status": "completed"
    },
    "tags": []
   },
   "outputs": [
    {
     "data": {
      "text/plain": [
       "((155613, 300), (19452, 300), (19452, 300))"
      ]
     },
     "execution_count": 42,
     "metadata": {},
     "output_type": "execute_result"
    }
   ],
   "source": [
    "X_train_pad_seq.shape, X_val_pad_seq.shape, X_test_pad_seq.shape"
   ]
  },
  {
   "cell_type": "code",
   "execution_count": 43,
   "id": "ccee6290",
   "metadata": {
    "execution": {
     "iopub.execute_input": "2024-02-26T12:31:04.032243Z",
     "iopub.status.busy": "2024-02-26T12:31:04.031485Z",
     "iopub.status.idle": "2024-02-26T12:31:04.035738Z",
     "shell.execute_reply": "2024-02-26T12:31:04.034851Z"
    },
    "papermill": {
     "duration": 0.028603,
     "end_time": "2024-02-26T12:31:04.037739",
     "exception": false,
     "start_time": "2024-02-26T12:31:04.009136",
     "status": "completed"
    },
    "tags": []
   },
   "outputs": [],
   "source": [
    "CONSTANTS[\"total_categories\"] = 8"
   ]
  },
  {
   "cell_type": "markdown",
   "id": "26439032",
   "metadata": {
    "papermill": {
     "duration": 0.020769,
     "end_time": "2024-02-26T12:31:04.080578",
     "exception": false,
     "start_time": "2024-02-26T12:31:04.059809",
     "status": "completed"
    },
    "tags": []
   },
   "source": [
    "If target variables are simply a list of targets. Eg: [1, 2, 0] then, we can use the sparse catgeorical crossentropy loss"
   ]
  },
  {
   "cell_type": "markdown",
   "id": "f9ba2c5e",
   "metadata": {
    "papermill": {
     "duration": 0.021469,
     "end_time": "2024-02-26T12:31:04.124006",
     "exception": false,
     "start_time": "2024-02-26T12:31:04.102537",
     "status": "completed"
    },
    "tags": []
   },
   "source": [
    "Similarly, we can only one-hot-encode each target value in which case we would use categorical crossentropy loss"
   ]
  },
  {
   "cell_type": "code",
   "execution_count": 44,
   "id": "c75097c3",
   "metadata": {
    "execution": {
     "iopub.execute_input": "2024-02-26T12:31:04.169376Z",
     "iopub.status.busy": "2024-02-26T12:31:04.168555Z",
     "iopub.status.idle": "2024-02-26T12:31:04.180832Z",
     "shell.execute_reply": "2024-02-26T12:31:04.180004Z"
    },
    "papermill": {
     "duration": 0.037285,
     "end_time": "2024-02-26T12:31:04.182883",
     "exception": false,
     "start_time": "2024-02-26T12:31:04.145598",
     "status": "completed"
    },
    "tags": []
   },
   "outputs": [],
   "source": [
    "y_train = tf.keras.utils.to_categorical(y_train, CONSTANTS[\"total_categories\"])\n",
    "y_val = tf.keras.utils.to_categorical(y_val, CONSTANTS[\"total_categories\"])\n",
    "y_test = tf.keras.utils.to_categorical(y_test, CONSTANTS[\"total_categories\"])"
   ]
  },
  {
   "cell_type": "code",
   "execution_count": 45,
   "id": "0d0bc0be",
   "metadata": {
    "execution": {
     "iopub.execute_input": "2024-02-26T12:31:04.229531Z",
     "iopub.status.busy": "2024-02-26T12:31:04.228796Z",
     "iopub.status.idle": "2024-02-26T12:31:04.235167Z",
     "shell.execute_reply": "2024-02-26T12:31:04.234226Z"
    },
    "papermill": {
     "duration": 0.031686,
     "end_time": "2024-02-26T12:31:04.237096",
     "exception": false,
     "start_time": "2024-02-26T12:31:04.205410",
     "status": "completed"
    },
    "tags": []
   },
   "outputs": [
    {
     "data": {
      "text/plain": [
       "((155613, 8), (19452, 8), (19452, 8))"
      ]
     },
     "execution_count": 45,
     "metadata": {},
     "output_type": "execute_result"
    }
   ],
   "source": [
    "y_train.shape, y_val.shape, y_test.shape"
   ]
  },
  {
   "cell_type": "markdown",
   "id": "cb4bdd0a",
   "metadata": {
    "papermill": {
     "duration": 0.021816,
     "end_time": "2024-02-26T12:31:04.280500",
     "exception": false,
     "start_time": "2024-02-26T12:31:04.258684",
     "status": "completed"
    },
    "tags": []
   },
   "source": [
    "Now lets create our LSTM model for news classification"
   ]
  },
  {
   "cell_type": "code",
   "execution_count": 46,
   "id": "88aa1ca7",
   "metadata": {
    "execution": {
     "iopub.execute_input": "2024-02-26T12:31:04.325202Z",
     "iopub.status.busy": "2024-02-26T12:31:04.324463Z",
     "iopub.status.idle": "2024-02-26T12:31:04.328676Z",
     "shell.execute_reply": "2024-02-26T12:31:04.327797Z"
    },
    "papermill": {
     "duration": 0.028659,
     "end_time": "2024-02-26T12:31:04.330634",
     "exception": false,
     "start_time": "2024-02-26T12:31:04.301975",
     "status": "completed"
    },
    "tags": []
   },
   "outputs": [],
   "source": [
    "CONSTANTS[\"embedding_dim\"] = 50\n",
    "CONSTANTS[\"latent_dim\"] = 8"
   ]
  },
  {
   "cell_type": "code",
   "execution_count": 47,
   "id": "04d7607c",
   "metadata": {
    "execution": {
     "iopub.execute_input": "2024-02-26T12:31:04.375249Z",
     "iopub.status.busy": "2024-02-26T12:31:04.374882Z",
     "iopub.status.idle": "2024-02-26T12:31:05.837449Z",
     "shell.execute_reply": "2024-02-26T12:31:05.836490Z"
    },
    "papermill": {
     "duration": 1.490958,
     "end_time": "2024-02-26T12:31:05.843222",
     "exception": false,
     "start_time": "2024-02-26T12:31:04.352264",
     "status": "completed"
    },
    "tags": []
   },
   "outputs": [
    {
     "name": "stdout",
     "output_type": "stream",
     "text": [
      "Model: \"sequential\"\n",
      "_________________________________________________________________\n",
      " Layer (type)                Output Shape              Param #   \n",
      "=================================================================\n",
      " Embedding_Layer (Embedding  (None, 300, 50)           2600000   \n",
      " )                                                               \n",
      "                                                                 \n",
      " bidirectional (Bidirection  (None, 16)                3776      \n",
      " al)                                                             \n",
      "                                                                 \n",
      " Softmax_Layer (Dense)       (None, 8)                 136       \n",
      "                                                                 \n",
      "=================================================================\n",
      "Total params: 2603912 (9.93 MB)\n",
      "Trainable params: 2603912 (9.93 MB)\n",
      "Non-trainable params: 0 (0.00 Byte)\n",
      "_________________________________________________________________\n"
     ]
    }
   ],
   "source": [
    "model = tf.keras.Sequential()\n",
    "model.add(tf.keras.layers.Embedding(CONSTANTS[\"voc_size\"], CONSTANTS[\"embedding_dim\"], trainable=True, input_length=CONSTANTS[\"max_news_length\"], name=\"Embedding_Layer\"))\n",
    "model.add(tf.keras.layers.Bidirectional(tf.keras.layers.LSTM(CONSTANTS[\"latent_dim\"], return_sequences=False, dropout=0.2, recurrent_dropout=0.2, name=\"BiLSTM_Layer\")))\n",
    "model.add(tf.keras.layers.Dense(CONSTANTS[\"total_categories\"], activation='softmax', name=\"Softmax_Layer\"))\n",
    "model.summary()"
   ]
  },
  {
   "cell_type": "code",
   "execution_count": 48,
   "id": "33abbdff",
   "metadata": {
    "execution": {
     "iopub.execute_input": "2024-02-26T12:31:05.891732Z",
     "iopub.status.busy": "2024-02-26T12:31:05.891368Z",
     "iopub.status.idle": "2024-02-26T12:31:06.622965Z",
     "shell.execute_reply": "2024-02-26T12:31:06.622019Z"
    },
    "papermill": {
     "duration": 0.759806,
     "end_time": "2024-02-26T12:31:06.626071",
     "exception": false,
     "start_time": "2024-02-26T12:31:05.866265",
     "status": "completed"
    },
    "tags": []
   },
   "outputs": [
    {
     "data": {
      "image/png": "[encoded data removed]",
      "text/plain": [
       "<IPython.core.display.Image object>"
      ]
     },
     "execution_count": 48,
     "metadata": {},
     "output_type": "execute_result"
    }
   ],
   "source": [
    "tf.keras.utils.plot_model(model, to_file='/kaggle/working/model_architecture.png', show_shapes=True)"
   ]
  },
  {
   "cell_type": "code",
   "execution_count": 49,
   "id": "2451c1b8",
   "metadata": {
    "execution": {
     "iopub.execute_input": "2024-02-26T12:31:06.677276Z",
     "iopub.status.busy": "2024-02-26T12:31:06.676894Z",
     "iopub.status.idle": "2024-02-26T12:31:06.709170Z",
     "shell.execute_reply": "2024-02-26T12:31:06.708361Z"
    },
    "papermill": {
     "duration": 0.061174,
     "end_time": "2024-02-26T12:31:06.711546",
     "exception": false,
     "start_time": "2024-02-26T12:31:06.650372",
     "status": "completed"
    },
    "tags": []
   },
   "outputs": [],
   "source": [
    "model.compile(loss='categorical_crossentropy',\n",
    "              optimizer=\"adam\",\n",
    "              metrics=['accuracy', tf.keras.metrics.F1Score(), tf.keras.metrics.Precision(), tf.keras.metrics.Recall()]\n",
    "              )"
   ]
  },
  {
   "cell_type": "code",
   "execution_count": 50,
   "id": "a2c06082",
   "metadata": {
    "execution": {
     "iopub.execute_input": "2024-02-26T12:31:06.763211Z",
     "iopub.status.busy": "2024-02-26T12:31:06.762566Z",
     "iopub.status.idle": "2024-02-26T12:31:06.767280Z",
     "shell.execute_reply": "2024-02-26T12:31:06.766314Z"
    },
    "papermill": {
     "duration": 0.031555,
     "end_time": "2024-02-26T12:31:06.769141",
     "exception": false,
     "start_time": "2024-02-26T12:31:06.737586",
     "status": "completed"
    },
    "tags": []
   },
   "outputs": [],
   "source": [
    "CONSTANTS[\"batch_size\"] = 512\n",
    "CONSTANTS[\"epochs\"] = 16\n",
    "CONSTANTS[\"patience\"] = 3"
   ]
  },
  {
   "cell_type": "markdown",
   "id": "8eb15e07",
   "metadata": {
    "papermill": {
     "duration": 0.023775,
     "end_time": "2024-02-26T12:31:06.816964",
     "exception": false,
     "start_time": "2024-02-26T12:31:06.793189",
     "status": "completed"
    },
    "tags": []
   },
   "source": [
    "We will train using early stopping"
   ]
  },
  {
   "cell_type": "code",
   "execution_count": 51,
   "id": "7d0cd128",
   "metadata": {
    "execution": {
     "iopub.execute_input": "2024-02-26T12:31:06.866338Z",
     "iopub.status.busy": "2024-02-26T12:31:06.865693Z",
     "iopub.status.idle": "2024-02-26T12:31:06.871074Z",
     "shell.execute_reply": "2024-02-26T12:31:06.870166Z"
    },
    "papermill": {
     "duration": 0.032346,
     "end_time": "2024-02-26T12:31:06.873015",
     "exception": false,
     "start_time": "2024-02-26T12:31:06.840669",
     "status": "completed"
    },
    "tags": []
   },
   "outputs": [],
   "source": [
    "es = tf.keras.callbacks.EarlyStopping(monitor='val_loss', mode='min', verbose=1, patience=CONSTANTS[\"patience\"])\n",
    "cp = tf.keras.callbacks.ModelCheckpoint(\"/kaggle/working/NepaliNewsClassifier\", monitor=\"val_loss\", mode=\"min\", save_best_only=True)"
   ]
  },
  {
   "cell_type": "code",
   "execution_count": 52,
   "id": "ea44363b",
   "metadata": {
    "execution": {
     "iopub.execute_input": "2024-02-26T12:31:06.922720Z",
     "iopub.status.busy": "2024-02-26T12:31:06.921965Z",
     "iopub.status.idle": "2024-02-26T13:44:01.424593Z",
     "shell.execute_reply": "2024-02-26T13:44:01.423407Z"
    },
    "papermill": {
     "duration": 4374.529775,
     "end_time": "2024-02-26T13:44:01.426741",
     "exception": false,
     "start_time": "2024-02-26T12:31:06.896966",
     "status": "completed"
    },
    "tags": []
   },
   "outputs": [
    {
     "name": "stdout",
     "output_type": "stream",
     "text": [
      "Epoch 1/16\n"
     ]
    },
    {
     "name": "stderr",
     "output_type": "stream",
     "text": [
      "WARNING: All log messages before absl::InitializeLog() is called are written to STDERR\n",
      "I0000 00:00:1708950676.080821      66 device_compiler.h:186] Compiled cluster using XLA!  This line is logged at most once for the lifetime of the process.\n"
     ]
    },
    {
     "name": "stdout",
     "output_type": "stream",
     "text": [
      "304/304 [==============================] - 529s 2s/step - loss: 1.5320 - accuracy: 0.5269 - f1_score: 0.4937 - precision: 0.9467 - recall: 0.0548 - val_loss: 1.0416 - val_accuracy: 0.7233 - val_f1_score: 0.6949 - val_precision: 0.9352 - val_recall: 0.2856\n",
      "Epoch 2/16\n",
      "304/304 [==============================] - 505s 2s/step - loss: 0.8169 - accuracy: 0.7756 - f1_score: 0.7632 - precision: 0.9080 - recall: 0.5372 - val_loss: 0.6728 - val_accuracy: 0.7991 - val_f1_score: 0.7909 - val_precision: 0.8822 - val_recall: 0.6975\n",
      "Epoch 3/16\n",
      "304/304 [==============================] - 490s 2s/step - loss: 0.5319 - accuracy: 0.8552 - f1_score: 0.8531 - precision: 0.9023 - recall: 0.7895 - val_loss: 0.5372 - val_accuracy: 0.8461 - val_f1_score: 0.8446 - val_precision: 0.8775 - val_recall: 0.8161\n",
      "Epoch 4/16\n",
      "304/304 [==============================] - 485s 2s/step - loss: 0.3993 - accuracy: 0.8909 - f1_score: 0.8899 - precision: 0.9127 - recall: 0.8682 - val_loss: 0.4821 - val_accuracy: 0.8570 - val_f1_score: 0.8557 - val_precision: 0.8798 - val_recall: 0.8394\n",
      "Epoch 5/16\n",
      "304/304 [==============================] - 484s 2s/step - loss: 0.3268 - accuracy: 0.9097 - f1_score: 0.9088 - precision: 0.9265 - recall: 0.8941 - val_loss: 0.4727 - val_accuracy: 0.8620 - val_f1_score: 0.8608 - val_precision: 0.8840 - val_recall: 0.8446\n",
      "Epoch 6/16\n",
      "304/304 [==============================] - 485s 2s/step - loss: 0.2691 - accuracy: 0.9268 - f1_score: 0.9261 - precision: 0.9395 - recall: 0.9148 - val_loss: 0.4648 - val_accuracy: 0.8654 - val_f1_score: 0.8645 - val_precision: 0.8799 - val_recall: 0.8527\n",
      "Epoch 7/16\n",
      "304/304 [==============================] - 469s 2s/step - loss: 0.2257 - accuracy: 0.9391 - f1_score: 0.9385 - precision: 0.9483 - recall: 0.9306 - val_loss: 0.4718 - val_accuracy: 0.8659 - val_f1_score: 0.8652 - val_precision: 0.8778 - val_recall: 0.8567\n",
      "Epoch 8/16\n",
      "304/304 [==============================] - 455s 1s/step - loss: 0.1949 - accuracy: 0.9482 - f1_score: 0.9477 - precision: 0.9555 - recall: 0.9411 - val_loss: 0.4866 - val_accuracy: 0.8631 - val_f1_score: 0.8619 - val_precision: 0.8770 - val_recall: 0.8545\n",
      "Epoch 9/16\n",
      "304/304 [==============================] - 472s 2s/step - loss: 0.1713 - accuracy: 0.9547 - f1_score: 0.9543 - precision: 0.9611 - recall: 0.9489 - val_loss: 0.5033 - val_accuracy: 0.8619 - val_f1_score: 0.8609 - val_precision: 0.8719 - val_recall: 0.8557\n",
      "Epoch 9: early stopping\n"
     ]
    }
   ],
   "source": [
    "history = model.fit(X_train_pad_seq, y_train,\n",
    "                    batch_size=CONSTANTS[\"batch_size\"],\n",
    "                    epochs=CONSTANTS[\"epochs\"],\n",
    "                    validation_data=(X_val_pad_seq, y_val),\n",
    "                    callbacks=[es, cp])"
   ]
  },
  {
   "cell_type": "markdown",
   "id": "3b3edef6",
   "metadata": {
    "papermill": {
     "duration": 0.248148,
     "end_time": "2024-02-26T13:44:01.926370",
     "exception": false,
     "start_time": "2024-02-26T13:44:01.678222",
     "status": "completed"
    },
    "tags": []
   },
   "source": [
    "Now lets evalaute our model on the test set"
   ]
  },
  {
   "cell_type": "code",
   "execution_count": 53,
   "id": "95550bc6",
   "metadata": {
    "execution": {
     "iopub.execute_input": "2024-02-26T13:44:02.422090Z",
     "iopub.status.busy": "2024-02-26T13:44:02.421218Z",
     "iopub.status.idle": "2024-02-26T13:45:54.541569Z",
     "shell.execute_reply": "2024-02-26T13:45:54.540491Z"
    },
    "papermill": {
     "duration": 112.37071,
     "end_time": "2024-02-26T13:45:54.543726",
     "exception": false,
     "start_time": "2024-02-26T13:44:02.173016",
     "status": "completed"
    },
    "tags": []
   },
   "outputs": [
    {
     "name": "stdout",
     "output_type": "stream",
     "text": [
      "608/608 [==============================] - 79s 130ms/step - loss: 0.4930 - accuracy: 0.8618 - f1_score: 0.8607 - precision: 0.8712 - recall: 0.8538\n"
     ]
    },
    {
     "data": {
      "text/plain": [
       "[0.4930418133735657,\n",
       " 0.861762285232544,\n",
       " array([0.9491797 , 0.79395163, 0.89246666, 0.9772182 , 0.69028383,\n",
       "        0.8656119 , 0.87336427, 0.8435562 ], dtype=float32),\n",
       " 0.8711708188056946,\n",
       " 0.8537939786911011]"
      ]
     },
     "execution_count": 53,
     "metadata": {},
     "output_type": "execute_result"
    }
   ],
   "source": [
    "model.evaluate(X_test_pad_seq, y_test)"
   ]
  },
  {
   "cell_type": "markdown",
   "id": "f1be0842",
   "metadata": {
    "papermill": {
     "duration": 0.294933,
     "end_time": "2024-02-26T13:45:55.138790",
     "exception": false,
     "start_time": "2024-02-26T13:45:54.843857",
     "status": "completed"
    },
    "tags": []
   },
   "source": [
    "Finally, lets save our tokenizer, CONSTANTS"
   ]
  },
  {
   "cell_type": "code",
   "execution_count": 54,
   "id": "a99c1aae",
   "metadata": {
    "execution": {
     "iopub.execute_input": "2024-02-26T13:45:55.736961Z",
     "iopub.status.busy": "2024-02-26T13:45:55.736112Z",
     "iopub.status.idle": "2024-02-26T13:45:55.740502Z",
     "shell.execute_reply": "2024-02-26T13:45:55.739563Z"
    },
    "papermill": {
     "duration": 0.306359,
     "end_time": "2024-02-26T13:45:55.742468",
     "exception": false,
     "start_time": "2024-02-26T13:45:55.436109",
     "status": "completed"
    },
    "tags": []
   },
   "outputs": [],
   "source": [
    "import io, json, pickle"
   ]
  },
  {
   "cell_type": "code",
   "execution_count": 55,
   "id": "5e8eea3e",
   "metadata": {
    "execution": {
     "iopub.execute_input": "2024-02-26T13:45:56.335842Z",
     "iopub.status.busy": "2024-02-26T13:45:56.334956Z",
     "iopub.status.idle": "2024-02-26T13:45:56.340331Z",
     "shell.execute_reply": "2024-02-26T13:45:56.339389Z"
    },
    "papermill": {
     "duration": 0.303757,
     "end_time": "2024-02-26T13:45:56.342424",
     "exception": false,
     "start_time": "2024-02-26T13:45:56.038667",
     "status": "completed"
    },
    "tags": []
   },
   "outputs": [],
   "source": [
    "with open('/kaggle/working/train_history.pkl', 'wb') as hist:\n",
    "    pickle.dump(history.history, hist)"
   ]
  },
  {
   "cell_type": "code",
   "execution_count": 56,
   "id": "30e177f2",
   "metadata": {
    "execution": {
     "iopub.execute_input": "2024-02-26T13:45:56.937041Z",
     "iopub.status.busy": "2024-02-26T13:45:56.936148Z",
     "iopub.status.idle": "2024-02-26T13:45:56.941324Z",
     "shell.execute_reply": "2024-02-26T13:45:56.940450Z"
    },
    "papermill": {
     "duration": 0.304182,
     "end_time": "2024-02-26T13:45:56.943192",
     "exception": false,
     "start_time": "2024-02-26T13:45:56.639010",
     "status": "completed"
    },
    "tags": []
   },
   "outputs": [],
   "source": [
    "# Convert and write JSON object to file\n",
    "with open(\"/kaggle/working/constants.json\", \"w\") as const: \n",
    "    json.dump(CONSTANTS, const)"
   ]
  },
  {
   "cell_type": "code",
   "execution_count": 57,
   "id": "8315c267",
   "metadata": {
    "execution": {
     "iopub.execute_input": "2024-02-26T13:45:57.616605Z",
     "iopub.status.busy": "2024-02-26T13:45:57.616253Z",
     "iopub.status.idle": "2024-02-26T13:46:07.175752Z",
     "shell.execute_reply": "2024-02-26T13:46:07.174708Z"
    },
    "papermill": {
     "duration": 9.858182,
     "end_time": "2024-02-26T13:46:07.178215",
     "exception": false,
     "start_time": "2024-02-26T13:45:57.320033",
     "status": "completed"
    },
    "tags": []
   },
   "outputs": [],
   "source": [
    "with io.open('/kaggle/working/tokenizer.json', 'w', encoding='utf-8') as tok:\n",
    "    tok.write(json.dumps(tokenizer.to_json(), ensure_ascii=False))"
   ]
  }
 ],
 "metadata": {
  "kaggle": {
   "accelerator": "gpu",
   "dataSources": [
    {
     "datasetId": 4484558,
     "sourceId": 7685447,
     "sourceType": "datasetVersion"
    }
   ],
   "dockerImageVersionId": 30648,
   "isGpuEnabled": true,
   "isInternetEnabled": true,
   "language": "python",
   "sourceType": "notebook"
  },
  "kernelspec": {
   "display_name": "Python 3",
   "language": "python",
   "name": "python3"
  },
  "language_info": {
   "codemirror_mode": {
    "name": "ipython",
    "version": 3
   },
   "file_extension": ".py",
   "mimetype": "text/x-python",
   "name": "python",
   "nbconvert_exporter": "python",
   "pygments_lexer": "ipython3",
   "version": "3.10.13"
  },
  "papermill": {
   "default_parameters": {},
   "duration": 4713.536636,
   "end_time": "2024-02-26T13:46:11.291825",
   "environment_variables": {},
   "exception": null,
   "input_path": "__notebook__.ipynb",
   "output_path": "__notebook__.ipynb",
   "parameters": {},
   "start_time": "2024-02-26T12:27:37.755189",
   "version": "2.5.0"
  }
 },
 "nbformat": 4,
 "nbformat_minor": 5
}

{
 "cells": [
  {
   "cell_type": "code",
   "execution_count": 1,
   "id": "9b3f1e4d",
   "metadata": {
    "execution": {
     "iopub.execute_input": "2025-05-06T06:51:18.267672Z",
     "iopub.status.busy": "2025-05-06T06:51:18.266978Z",
     "iopub.status.idle": "2025-05-06T06:51:22.171634Z",
     "shell.execute_reply": "2025-05-06T06:51:22.170808Z"
    },
    "papermill": {
     "duration": 3.913347,
     "end_time": "2025-05-06T06:51:22.173244",
     "exception": false,
     "start_time": "2025-05-06T06:51:18.259897",
     "status": "completed"
    },
    "tags": []
   },
   "outputs": [],
   "source": [
    "import torch\n",
    "from torch.utils.data import Dataset, DataLoader\n",
    "from torch.optim import AdamW"
   ]
  },
  {
   "cell_type": "code",
   "execution_count": 2,
   "id": "12723bff",
   "metadata": {
    "_cell_guid": "b1076dfc-b9ad-4769-8c92-a6c4dae69d19",
    "_uuid": "8f2839f25d086af736a60e9eeb907d3b93b6e0e5",
    "execution": {
     "iopub.execute_input": "2025-05-06T06:51:22.185615Z",
     "iopub.status.busy": "2025-05-06T06:51:22.185271Z",
     "iopub.status.idle": "2025-05-06T06:51:48.289449Z",
     "shell.execute_reply": "2025-05-06T06:51:48.288634Z"
    },
    "papermill": {
     "duration": 26.112256,
     "end_time": "2025-05-06T06:51:48.290992",
     "exception": false,
     "start_time": "2025-05-06T06:51:22.178736",
     "status": "completed"
    },
    "tags": []
   },
   "outputs": [
    {
     "name": "stderr",
     "output_type": "stream",
     "text": [
      "2025-05-06 06:51:35.227981: E external/local_xla/xla/stream_executor/cuda/cuda_fft.cc:477] Unable to register cuFFT factory: Attempting to register factory for plugin cuFFT when one has already been registered\n",
      "WARNING: All log messages before absl::InitializeLog() is called are written to STDERR\n",
      "E0000 00:00:1746514295.415847      19 cuda_dnn.cc:8310] Unable to register cuDNN factory: Attempting to register factory for plugin cuDNN when one has already been registered\n",
      "E0000 00:00:1746514295.467330      19 cuda_blas.cc:1418] Unable to register cuBLAS factory: Attempting to register factory for plugin cuBLAS when one has already been registered\n"
     ]
    }
   ],
   "source": [
    "import pandas as pd\n",
    "import numpy as np\n",
    "import random\n",
    "from transformers import BertTokenizer, BertForSequenceClassification, TrainingArguments, Trainer\n",
    "from sklearn.model_selection import train_test_split\n",
    "from sklearn.preprocessing import LabelEncoder\n",
    "from tqdm import tqdm\n",
    "from sklearn.metrics import accuracy_score, precision_recall_fscore_support\n",
    "from sklearn.model_selection import train_test_split\n",
    "import pickle"
   ]
  },
  {
   "cell_type": "code",
   "execution_count": 3,
   "id": "81500a14",
   "metadata": {
    "execution": {
     "iopub.execute_input": "2025-05-06T06:51:48.302779Z",
     "iopub.status.busy": "2025-05-06T06:51:48.302239Z",
     "iopub.status.idle": "2025-05-06T06:51:48.306213Z",
     "shell.execute_reply": "2025-05-06T06:51:48.305692Z"
    },
    "papermill": {
     "duration": 0.010674,
     "end_time": "2025-05-06T06:51:48.307319",
     "exception": false,
     "start_time": "2025-05-06T06:51:48.296645",
     "status": "completed"
    },
    "tags": []
   },
   "outputs": [],
   "source": [
    "parameters = {\n",
    "    'NEWS_SEQUENCE_LENGTH': 256,\n",
    "    \n",
    "    'TRAIN_BATCH_SIZE': 32,\n",
    "    'EVAL_BATCH_SIZE': 32,\n",
    "    'EPOCHS': 3,\n",
    "    'LEARNING_RATE': 5e-5,\n",
    "    'WARMUP_STEPS': 1_000,\n",
    "    'GRADIENT_ACCUMULATION_STEPS': 4,\n",
    "    'L2_REG': 0.01,\n",
    "    # 'MAX_STEPS': 3664 # dataset_size / (BATCH*GRADIENT_ACCUMULATION_STEPS) = 1 epoch = 1221.375\n",
    "}"
   ]
  },
  {
   "cell_type": "code",
   "execution_count": 4,
   "id": "e46a04da",
   "metadata": {
    "execution": {
     "iopub.execute_input": "2025-05-06T06:51:48.318347Z",
     "iopub.status.busy": "2025-05-06T06:51:48.317684Z",
     "iopub.status.idle": "2025-05-06T06:52:48.777593Z",
     "shell.execute_reply": "2025-05-06T06:52:48.776930Z"
    },
    "papermill": {
     "duration": 60.46674,
     "end_time": "2025-05-06T06:52:48.779109",
     "exception": false,
     "start_time": "2025-05-06T06:51:48.312369",
     "status": "completed"
    },
    "tags": []
   },
   "outputs": [],
   "source": [
    "df = pd.read_csv('/kaggle/input/nepali-news-classification-set/full_cleaned.csv')"
   ]
  },
  {
   "cell_type": "code",
   "execution_count": 5,
   "id": "dd9524f6",
   "metadata": {
    "execution": {
     "iopub.execute_input": "2025-05-06T06:52:48.790952Z",
     "iopub.status.busy": "2025-05-06T06:52:48.790725Z",
     "iopub.status.idle": "2025-05-06T06:52:48.810907Z",
     "shell.execute_reply": "2025-05-06T06:52:48.809981Z"
    },
    "papermill": {
     "duration": 0.02741,
     "end_time": "2025-05-06T06:52:48.812122",
     "exception": false,
     "start_time": "2025-05-06T06:52:48.784712",
     "status": "completed"
    },
    "tags": []
   },
   "outputs": [
    {
     "data": {
      "text/html": [
       "<div>\n",
       "<style scoped>\n",
       "    .dataframe tbody tr th:only-of-type {\n",
       "        vertical-align: middle;\n",
       "    }\n",
       "\n",
       "    .dataframe tbody tr th {\n",
       "        vertical-align: top;\n",
       "    }\n",
       "\n",
       "    .dataframe thead th {\n",
       "        text-align: right;\n",
       "    }\n",
       "</style>\n",
       "<table border=\"1\" class=\"dataframe\">\n",
       "  <thead>\n",
       "    <tr style=\"text-align: right;\">\n",
       "      <th></th>\n",
       "      <th>title</th>\n",
       "      <th>news_stopwords</th>\n",
       "      <th>news_no_stopwords</th>\n",
       "      <th>category</th>\n",
       "    </tr>\n",
       "  </thead>\n",
       "  <tbody>\n",
       "    <tr>\n",
       "      <th>0</th>\n",
       "      <td>निखिल उप्रेतीको भैरव फिल्मले अमेरिकामा रहेका न...</td>\n",
       "      <td>अमेरिकाका नेपालीको प्रतिक्रिया लिने इच्छा व्यक...</td>\n",
       "      <td>अमेरिकाका नेपालीको प्रतिक्रिया लिने इच्छा व्यक...</td>\n",
       "      <td>मनोरञ्जन</td>\n",
       "    </tr>\n",
       "    <tr>\n",
       "      <th>1</th>\n",
       "      <td>सुशील कोइरालाको निधनपछि चौरासी बाले खोले यस्ता...</td>\n",
       "      <td>झण्डै बर्षअघि सुशील कोइरालाले प्रधानमन्त्रीको ...</td>\n",
       "      <td>झण्डै बर्षअघि सुशील कोइरालाले प्रधानमन्त्रीको ...</td>\n",
       "      <td>मनोरञ्जन</td>\n",
       "    </tr>\n",
       "    <tr>\n",
       "      <th>2</th>\n",
       "      <td>लिटल प्रिन्स एण्ड प्रिन्सेसको ग्रान्ड फिनाले</td>\n",
       "      <td>ग्ल्यामरस नेपालले सुरुङ्गामा लिटल प्रिन्स एन्ड...</td>\n",
       "      <td>ग्ल्यामरस नेपालले सुरुङ्गामा लिटल प्रिन्स एन्ड...</td>\n",
       "      <td>मनोरञ्जन</td>\n",
       "    </tr>\n",
       "  </tbody>\n",
       "</table>\n",
       "</div>"
      ],
      "text/plain": [
       "                                               title  \\\n",
       "0  निखिल उप्रेतीको भैरव फिल्मले अमेरिकामा रहेका न...   \n",
       "1  सुशील कोइरालाको निधनपछि चौरासी बाले खोले यस्ता...   \n",
       "2       लिटल प्रिन्स एण्ड प्रिन्सेसको ग्रान्ड फिनाले   \n",
       "\n",
       "                                      news_stopwords  \\\n",
       "0  अमेरिकाका नेपालीको प्रतिक्रिया लिने इच्छा व्यक...   \n",
       "1  झण्डै बर्षअघि सुशील कोइरालाले प्रधानमन्त्रीको ...   \n",
       "2  ग्ल्यामरस नेपालले सुरुङ्गामा लिटल प्रिन्स एन्ड...   \n",
       "\n",
       "                                   news_no_stopwords  category  \n",
       "0  अमेरिकाका नेपालीको प्रतिक्रिया लिने इच्छा व्यक...  मनोरञ्जन  \n",
       "1  झण्डै बर्षअघि सुशील कोइरालाले प्रधानमन्त्रीको ...  मनोरञ्जन  \n",
       "2  ग्ल्यामरस नेपालले सुरुङ्गामा लिटल प्रिन्स एन्ड...  मनोरञ्जन  "
      ]
     },
     "execution_count": 5,
     "metadata": {},
     "output_type": "execute_result"
    }
   ],
   "source": [
    "df.head(3)"
   ]
  },
  {
   "cell_type": "markdown",
   "id": "d7f958b3",
   "metadata": {
    "papermill": {
     "duration": 0.004904,
     "end_time": "2025-05-06T06:52:48.822343",
     "exception": false,
     "start_time": "2025-05-06T06:52:48.817439",
     "status": "completed"
    },
    "tags": []
   },
   "source": [
    "Apply same preprocessing as in the LSTM Network."
   ]
  },
  {
   "cell_type": "code",
   "execution_count": 6,
   "id": "69dd368d",
   "metadata": {
    "execution": {
     "iopub.execute_input": "2025-05-06T06:52:48.833345Z",
     "iopub.status.busy": "2025-05-06T06:52:48.832808Z",
     "iopub.status.idle": "2025-05-06T06:52:48.855693Z",
     "shell.execute_reply": "2025-05-06T06:52:48.854893Z"
    },
    "papermill": {
     "duration": 0.029785,
     "end_time": "2025-05-06T06:52:48.857049",
     "exception": false,
     "start_time": "2025-05-06T06:52:48.827264",
     "status": "completed"
    },
    "tags": []
   },
   "outputs": [],
   "source": [
    "df.drop(columns=[\"title\", \"news_no_stopwords\"], inplace=True)"
   ]
  },
  {
   "cell_type": "code",
   "execution_count": 7,
   "id": "6431f292",
   "metadata": {
    "execution": {
     "iopub.execute_input": "2025-05-06T06:52:48.868171Z",
     "iopub.status.busy": "2025-05-06T06:52:48.867934Z",
     "iopub.status.idle": "2025-05-06T06:52:49.824551Z",
     "shell.execute_reply": "2025-05-06T06:52:49.823751Z"
    },
    "papermill": {
     "duration": 0.963365,
     "end_time": "2025-05-06T06:52:49.825701",
     "exception": false,
     "start_time": "2025-05-06T06:52:48.862336",
     "status": "completed"
    },
    "tags": []
   },
   "outputs": [
    {
     "data": {
      "text/html": [
       "<div>\n",
       "<style scoped>\n",
       "    .dataframe tbody tr th:only-of-type {\n",
       "        vertical-align: middle;\n",
       "    }\n",
       "\n",
       "    .dataframe tbody tr th {\n",
       "        vertical-align: top;\n",
       "    }\n",
       "\n",
       "    .dataframe thead th {\n",
       "        text-align: right;\n",
       "    }\n",
       "</style>\n",
       "<table border=\"1\" class=\"dataframe\">\n",
       "  <thead>\n",
       "    <tr style=\"text-align: right;\">\n",
       "      <th></th>\n",
       "      <th>news_stopwords</th>\n",
       "      <th>category</th>\n",
       "    </tr>\n",
       "  </thead>\n",
       "  <tbody>\n",
       "    <tr>\n",
       "      <th>count</th>\n",
       "      <td>369800</td>\n",
       "      <td>369800</td>\n",
       "    </tr>\n",
       "    <tr>\n",
       "      <th>unique</th>\n",
       "      <td>362052</td>\n",
       "      <td>10</td>\n",
       "    </tr>\n",
       "    <tr>\n",
       "      <th>top</th>\n",
       "      <td>थप जनामा कोरोना भाइरस संक्रमण पुष्टि भएको छ पछ...</td>\n",
       "      <td>राजनीति</td>\n",
       "    </tr>\n",
       "    <tr>\n",
       "      <th>freq</th>\n",
       "      <td>35</td>\n",
       "      <td>59975</td>\n",
       "    </tr>\n",
       "  </tbody>\n",
       "</table>\n",
       "</div>"
      ],
      "text/plain": [
       "                                           news_stopwords category\n",
       "count                                              369800   369800\n",
       "unique                                             362052       10\n",
       "top     थप जनामा कोरोना भाइरस संक्रमण पुष्टि भएको छ पछ...  राजनीति\n",
       "freq                                                   35    59975"
      ]
     },
     "execution_count": 7,
     "metadata": {},
     "output_type": "execute_result"
    }
   ],
   "source": [
    "df.describe()"
   ]
  },
  {
   "cell_type": "code",
   "execution_count": 8,
   "id": "e2ced495",
   "metadata": {
    "execution": {
     "iopub.execute_input": "2025-05-06T06:52:49.837109Z",
     "iopub.status.busy": "2025-05-06T06:52:49.836903Z",
     "iopub.status.idle": "2025-05-06T06:52:56.225421Z",
     "shell.execute_reply": "2025-05-06T06:52:56.224654Z"
    },
    "papermill": {
     "duration": 6.395821,
     "end_time": "2025-05-06T06:52:56.226893",
     "exception": false,
     "start_time": "2025-05-06T06:52:49.831072",
     "status": "completed"
    },
    "tags": []
   },
   "outputs": [],
   "source": [
    "df[\"length\"] = df[\"news_stopwords\"].apply(lambda x: len(x.split()))\n",
    "df = df[df[\"length\"] >= 30]"
   ]
  },
  {
   "cell_type": "code",
   "execution_count": 9,
   "id": "310769b7",
   "metadata": {
    "execution": {
     "iopub.execute_input": "2025-05-06T06:52:56.238775Z",
     "iopub.status.busy": "2025-05-06T06:52:56.238290Z",
     "iopub.status.idle": "2025-05-06T06:53:04.965394Z",
     "shell.execute_reply": "2025-05-06T06:53:04.964585Z"
    },
    "papermill": {
     "duration": 8.734639,
     "end_time": "2025-05-06T06:53:04.967109",
     "exception": false,
     "start_time": "2025-05-06T06:52:56.232470",
     "status": "completed"
    },
    "tags": []
   },
   "outputs": [],
   "source": [
    "df[\"news_stopwords\"] = df[\"news_stopwords\"].apply(lambda x: \" \".join(x.split()[:parameters[\"NEWS_SEQUENCE_LENGTH\"]]))"
   ]
  },
  {
   "cell_type": "code",
   "execution_count": 10,
   "id": "fffb5614",
   "metadata": {
    "execution": {
     "iopub.execute_input": "2025-05-06T06:53:04.979043Z",
     "iopub.status.busy": "2025-05-06T06:53:04.978800Z",
     "iopub.status.idle": "2025-05-06T06:53:05.127852Z",
     "shell.execute_reply": "2025-05-06T06:53:05.127025Z"
    },
    "papermill": {
     "duration": 0.15685,
     "end_time": "2025-05-06T06:53:05.129576",
     "exception": false,
     "start_time": "2025-05-06T06:53:04.972726",
     "status": "completed"
    },
    "tags": []
   },
   "outputs": [],
   "source": [
    "df = df[df[\"category\"] != \"शिक्षा\"]\n",
    "df = df[df[\"category\"] != \"देश/प्रदेश\"]"
   ]
  },
  {
   "cell_type": "code",
   "execution_count": 11,
   "id": "b13fd836",
   "metadata": {
    "execution": {
     "iopub.execute_input": "2025-05-06T06:53:05.142179Z",
     "iopub.status.busy": "2025-05-06T06:53:05.141956Z",
     "iopub.status.idle": "2025-05-06T06:53:05.191787Z",
     "shell.execute_reply": "2025-05-06T06:53:05.191214Z"
    },
    "papermill": {
     "duration": 0.056889,
     "end_time": "2025-05-06T06:53:05.192962",
     "exception": false,
     "start_time": "2025-05-06T06:53:05.136073",
     "status": "completed"
    },
    "tags": []
   },
   "outputs": [],
   "source": [
    "le = LabelEncoder()\n",
    "df['label'] = le.fit_transform(df['category'])"
   ]
  },
  {
   "cell_type": "code",
   "execution_count": 12,
   "id": "0f59189a",
   "metadata": {
    "execution": {
     "iopub.execute_input": "2025-05-06T06:53:05.204986Z",
     "iopub.status.busy": "2025-05-06T06:53:05.204291Z",
     "iopub.status.idle": "2025-05-06T06:53:05.211174Z",
     "shell.execute_reply": "2025-05-06T06:53:05.210663Z"
    },
    "papermill": {
     "duration": 0.013544,
     "end_time": "2025-05-06T06:53:05.212107",
     "exception": false,
     "start_time": "2025-05-06T06:53:05.198563",
     "status": "completed"
    },
    "tags": []
   },
   "outputs": [],
   "source": [
    "parameters[\"TOTAL_CATEGORIES\"] = df['label'].nunique()"
   ]
  },
  {
   "cell_type": "code",
   "execution_count": 13,
   "id": "b5b17d67",
   "metadata": {
    "execution": {
     "iopub.execute_input": "2025-05-06T06:53:05.223401Z",
     "iopub.status.busy": "2025-05-06T06:53:05.223190Z",
     "iopub.status.idle": "2025-05-06T06:53:05.230601Z",
     "shell.execute_reply": "2025-05-06T06:53:05.230016Z"
    },
    "papermill": {
     "duration": 0.014115,
     "end_time": "2025-05-06T06:53:05.231606",
     "exception": false,
     "start_time": "2025-05-06T06:53:05.217491",
     "status": "completed"
    },
    "tags": []
   },
   "outputs": [
    {
     "data": {
      "text/html": [
       "<div>\n",
       "<style scoped>\n",
       "    .dataframe tbody tr th:only-of-type {\n",
       "        vertical-align: middle;\n",
       "    }\n",
       "\n",
       "    .dataframe tbody tr th {\n",
       "        vertical-align: top;\n",
       "    }\n",
       "\n",
       "    .dataframe thead th {\n",
       "        text-align: right;\n",
       "    }\n",
       "</style>\n",
       "<table border=\"1\" class=\"dataframe\">\n",
       "  <thead>\n",
       "    <tr style=\"text-align: right;\">\n",
       "      <th></th>\n",
       "      <th>news_stopwords</th>\n",
       "      <th>category</th>\n",
       "      <th>length</th>\n",
       "      <th>label</th>\n",
       "    </tr>\n",
       "  </thead>\n",
       "  <tbody>\n",
       "    <tr>\n",
       "      <th>0</th>\n",
       "      <td>अमेरिकाका नेपालीको प्रतिक्रिया लिने इच्छा व्यक...</td>\n",
       "      <td>मनोरञ्जन</td>\n",
       "      <td>268</td>\n",
       "      <td>2</td>\n",
       "    </tr>\n",
       "    <tr>\n",
       "      <th>1</th>\n",
       "      <td>झण्डै बर्षअघि सुशील कोइरालाले प्रधानमन्त्रीको ...</td>\n",
       "      <td>मनोरञ्जन</td>\n",
       "      <td>406</td>\n",
       "      <td>2</td>\n",
       "    </tr>\n",
       "  </tbody>\n",
       "</table>\n",
       "</div>"
      ],
      "text/plain": [
       "                                      news_stopwords  category  length  label\n",
       "0  अमेरिकाका नेपालीको प्रतिक्रिया लिने इच्छा व्यक...  मनोरञ्जन     268      2\n",
       "1  झण्डै बर्षअघि सुशील कोइरालाले प्रधानमन्त्रीको ...  मनोरञ्जन     406      2"
      ]
     },
     "execution_count": 13,
     "metadata": {},
     "output_type": "execute_result"
    }
   ],
   "source": [
    "df.head(2)"
   ]
  },
  {
   "cell_type": "code",
   "execution_count": 14,
   "id": "048c4599",
   "metadata": {
    "execution": {
     "iopub.execute_input": "2025-05-06T06:53:05.242875Z",
     "iopub.status.busy": "2025-05-06T06:53:05.242673Z",
     "iopub.status.idle": "2025-05-06T06:53:05.246133Z",
     "shell.execute_reply": "2025-05-06T06:53:05.245618Z"
    },
    "papermill": {
     "duration": 0.010186,
     "end_time": "2025-05-06T06:53:05.247121",
     "exception": false,
     "start_time": "2025-05-06T06:53:05.236935",
     "status": "completed"
    },
    "tags": []
   },
   "outputs": [],
   "source": [
    "def random_undersampling(data, random_state):\n",
    "    if len(data) > 25000:\n",
    "        return data.sample(25000, random_state=random_state)\n",
    "    return data"
   ]
  },
  {
   "cell_type": "code",
   "execution_count": 15,
   "id": "9da5ab8f",
   "metadata": {
    "execution": {
     "iopub.execute_input": "2025-05-06T06:53:05.258579Z",
     "iopub.status.busy": "2025-05-06T06:53:05.258144Z",
     "iopub.status.idle": "2025-05-06T06:53:05.377787Z",
     "shell.execute_reply": "2025-05-06T06:53:05.376954Z"
    },
    "papermill": {
     "duration": 0.126862,
     "end_time": "2025-05-06T06:53:05.379279",
     "exception": false,
     "start_time": "2025-05-06T06:53:05.252417",
     "status": "completed"
    },
    "tags": []
   },
   "outputs": [],
   "source": [
    "df_balanced = pd.DataFrame(columns=['news_stopwords', 'label'])\n",
    "for i in range(parameters[\"TOTAL_CATEGORIES\"]):\n",
    "    res = random_undersampling(df[df[\"label\"] == i], i * np.random.randint(100))\n",
    "    if df_balanced.empty == True:\n",
    "        df_balanced = res\n",
    "    else:\n",
    "        df_balanced = pd.concat([df_balanced, res], ignore_index=True)"
   ]
  },
  {
   "cell_type": "code",
   "execution_count": 16,
   "id": "7e5119a1",
   "metadata": {
    "execution": {
     "iopub.execute_input": "2025-05-06T06:53:05.391334Z",
     "iopub.status.busy": "2025-05-06T06:53:05.390881Z",
     "iopub.status.idle": "2025-05-06T06:53:05.408403Z",
     "shell.execute_reply": "2025-05-06T06:53:05.407638Z"
    },
    "papermill": {
     "duration": 0.02479,
     "end_time": "2025-05-06T06:53:05.409641",
     "exception": false,
     "start_time": "2025-05-06T06:53:05.384851",
     "status": "completed"
    },
    "tags": []
   },
   "outputs": [
    {
     "data": {
      "text/plain": [
       "category\n",
       "अर्थ / वाणिज्य       25000\n",
       "खेलकुद               25000\n",
       "मनोरञ्जन             25000\n",
       "राजनीति              25000\n",
       "विश्व                25000\n",
       "समाज                 25000\n",
       "विज्ञान र प्रविधि    23072\n",
       "स्वास्थ्य            22349\n",
       "Name: count, dtype: int64"
      ]
     },
     "execution_count": 16,
     "metadata": {},
     "output_type": "execute_result"
    }
   ],
   "source": [
    "df_balanced[\"category\"].value_counts()"
   ]
  },
  {
   "cell_type": "code",
   "execution_count": 17,
   "id": "358d497c",
   "metadata": {
    "execution": {
     "iopub.execute_input": "2025-05-06T06:53:05.422212Z",
     "iopub.status.busy": "2025-05-06T06:53:05.421954Z",
     "iopub.status.idle": "2025-05-06T06:53:05.430457Z",
     "shell.execute_reply": "2025-05-06T06:53:05.429787Z"
    },
    "papermill": {
     "duration": 0.015962,
     "end_time": "2025-05-06T06:53:05.431685",
     "exception": false,
     "start_time": "2025-05-06T06:53:05.415723",
     "status": "completed"
    },
    "tags": []
   },
   "outputs": [
    {
     "data": {
      "text/plain": [
       "label\n",
       "0    25000\n",
       "1    25000\n",
       "2    25000\n",
       "3    25000\n",
       "5    25000\n",
       "6    25000\n",
       "4    23072\n",
       "7    22349\n",
       "Name: count, dtype: int64"
      ]
     },
     "execution_count": 17,
     "metadata": {},
     "output_type": "execute_result"
    }
   ],
   "source": [
    "df_balanced[\"label\"].value_counts()"
   ]
  },
  {
   "cell_type": "code",
   "execution_count": 18,
   "id": "4426ef7a",
   "metadata": {
    "execution": {
     "iopub.execute_input": "2025-05-06T06:53:05.443996Z",
     "iopub.status.busy": "2025-05-06T06:53:05.443299Z",
     "iopub.status.idle": "2025-05-06T06:53:06.494879Z",
     "shell.execute_reply": "2025-05-06T06:53:06.493939Z"
    },
    "papermill": {
     "duration": 1.058983,
     "end_time": "2025-05-06T06:53:06.496360",
     "exception": false,
     "start_time": "2025-05-06T06:53:05.437377",
     "status": "completed"
    },
    "tags": []
   },
   "outputs": [],
   "source": [
    "for i in range(20):\n",
    "    df_balanced = df_balanced.sample(frac=1).reset_index(drop=True)"
   ]
  },
  {
   "cell_type": "code",
   "execution_count": 19,
   "id": "2c9f713a",
   "metadata": {
    "execution": {
     "iopub.execute_input": "2025-05-06T06:53:06.509245Z",
     "iopub.status.busy": "2025-05-06T06:53:06.508593Z",
     "iopub.status.idle": "2025-05-06T06:53:06.516117Z",
     "shell.execute_reply": "2025-05-06T06:53:06.515519Z"
    },
    "papermill": {
     "duration": 0.01488,
     "end_time": "2025-05-06T06:53:06.517240",
     "exception": false,
     "start_time": "2025-05-06T06:53:06.502360",
     "status": "completed"
    },
    "tags": []
   },
   "outputs": [
    {
     "data": {
      "text/html": [
       "<div>\n",
       "<style scoped>\n",
       "    .dataframe tbody tr th:only-of-type {\n",
       "        vertical-align: middle;\n",
       "    }\n",
       "\n",
       "    .dataframe tbody tr th {\n",
       "        vertical-align: top;\n",
       "    }\n",
       "\n",
       "    .dataframe thead th {\n",
       "        text-align: right;\n",
       "    }\n",
       "</style>\n",
       "<table border=\"1\" class=\"dataframe\">\n",
       "  <thead>\n",
       "    <tr style=\"text-align: right;\">\n",
       "      <th></th>\n",
       "      <th>news_stopwords</th>\n",
       "      <th>category</th>\n",
       "      <th>length</th>\n",
       "      <th>label</th>\n",
       "    </tr>\n",
       "  </thead>\n",
       "  <tbody>\n",
       "    <tr>\n",
       "      <th>0</th>\n",
       "      <td>इजरायलीहरू मङ्गलबार चार वर्षभित्र हुन लागेको प...</td>\n",
       "      <td>विश्व</td>\n",
       "      <td>131</td>\n",
       "      <td>5</td>\n",
       "    </tr>\n",
       "    <tr>\n",
       "      <th>1</th>\n",
       "      <td>बागमती प्रदेशको राजधानी हेटौँडामा आजदेखि सञ्चा...</td>\n",
       "      <td>खेलकुद</td>\n",
       "      <td>153</td>\n",
       "      <td>1</td>\n",
       "    </tr>\n",
       "  </tbody>\n",
       "</table>\n",
       "</div>"
      ],
      "text/plain": [
       "                                      news_stopwords category  length  label\n",
       "0  इजरायलीहरू मङ्गलबार चार वर्षभित्र हुन लागेको प...    विश्व     131      5\n",
       "1  बागमती प्रदेशको राजधानी हेटौँडामा आजदेखि सञ्चा...   खेलकुद     153      1"
      ]
     },
     "execution_count": 19,
     "metadata": {},
     "output_type": "execute_result"
    }
   ],
   "source": [
    "df_balanced.head(2)"
   ]
  },
  {
   "cell_type": "code",
   "execution_count": 20,
   "id": "bee9324b",
   "metadata": {
    "execution": {
     "iopub.execute_input": "2025-05-06T06:53:06.529370Z",
     "iopub.status.busy": "2025-05-06T06:53:06.529137Z",
     "iopub.status.idle": "2025-05-06T06:53:06.707400Z",
     "shell.execute_reply": "2025-05-06T06:53:06.706800Z"
    },
    "papermill": {
     "duration": 0.185897,
     "end_time": "2025-05-06T06:53:06.708856",
     "exception": false,
     "start_time": "2025-05-06T06:53:06.522959",
     "status": "completed"
    },
    "tags": []
   },
   "outputs": [],
   "source": [
    "X_train, X_val_test, y_train, y_val_test = train_test_split(df_balanced['news_stopwords'].tolist(), df_balanced['label'].tolist(), test_size=0.20, random_state=21, stratify=df_balanced[\"label\"], shuffle=True)"
   ]
  },
  {
   "cell_type": "code",
   "execution_count": 21,
   "id": "578596b4",
   "metadata": {
    "execution": {
     "iopub.execute_input": "2025-05-06T06:53:06.721694Z",
     "iopub.status.busy": "2025-05-06T06:53:06.721393Z",
     "iopub.status.idle": "2025-05-06T06:53:06.755753Z",
     "shell.execute_reply": "2025-05-06T06:53:06.755104Z"
    },
    "papermill": {
     "duration": 0.042274,
     "end_time": "2025-05-06T06:53:06.757099",
     "exception": false,
     "start_time": "2025-05-06T06:53:06.714825",
     "status": "completed"
    },
    "tags": []
   },
   "outputs": [],
   "source": [
    "X_val, X_test, y_val, y_test = train_test_split(X_val_test, y_val_test, test_size=0.5, random_state=28, stratify=y_val_test, shuffle=True)"
   ]
  },
  {
   "cell_type": "code",
   "execution_count": 22,
   "id": "f9d8260d",
   "metadata": {
    "execution": {
     "iopub.execute_input": "2025-05-06T06:53:06.826095Z",
     "iopub.status.busy": "2025-05-06T06:53:06.825811Z",
     "iopub.status.idle": "2025-05-06T06:53:06.830375Z",
     "shell.execute_reply": "2025-05-06T06:53:06.829795Z"
    },
    "papermill": {
     "duration": 0.012298,
     "end_time": "2025-05-06T06:53:06.831509",
     "exception": false,
     "start_time": "2025-05-06T06:53:06.819211",
     "status": "completed"
    },
    "tags": []
   },
   "outputs": [
    {
     "data": {
      "text/plain": [
       "(156336, 19543, 19542)"
      ]
     },
     "execution_count": 22,
     "metadata": {},
     "output_type": "execute_result"
    }
   ],
   "source": [
    "len(X_train), len(X_test), len(X_val)"
   ]
  },
  {
   "cell_type": "code",
   "execution_count": 23,
   "id": "d962486b",
   "metadata": {
    "execution": {
     "iopub.execute_input": "2025-05-06T06:53:06.843424Z",
     "iopub.status.busy": "2025-05-06T06:53:06.843223Z",
     "iopub.status.idle": "2025-05-06T06:53:08.644586Z",
     "shell.execute_reply": "2025-05-06T06:53:08.643939Z"
    },
    "papermill": {
     "duration": 1.808856,
     "end_time": "2025-05-06T06:53:08.646002",
     "exception": false,
     "start_time": "2025-05-06T06:53:06.837146",
     "status": "completed"
    },
    "tags": []
   },
   "outputs": [
    {
     "data": {
      "application/vnd.jupyter.widget-view+json": {
       "model_id": "3c450fefd92f4c49a9c958432e7adb77",
       "version_major": 2,
       "version_minor": 0
      },
      "text/plain": [
       "tokenizer_config.json:   0%|          | 0.00/49.0 [00:00<?, ?B/s]"
      ]
     },
     "metadata": {},
     "output_type": "display_data"
    },
    {
     "data": {
      "application/vnd.jupyter.widget-view+json": {
       "model_id": "e006011a5689467da08e1191468279d5",
       "version_major": 2,
       "version_minor": 0
      },
      "text/plain": [
       "vocab.txt:   0%|          | 0.00/996k [00:00<?, ?B/s]"
      ]
     },
     "metadata": {},
     "output_type": "display_data"
    },
    {
     "data": {
      "application/vnd.jupyter.widget-view+json": {
       "model_id": "1157814328e046aea4e44fb5c8ee9285",
       "version_major": 2,
       "version_minor": 0
      },
      "text/plain": [
       "tokenizer.json:   0%|          | 0.00/1.96M [00:00<?, ?B/s]"
      ]
     },
     "metadata": {},
     "output_type": "display_data"
    },
    {
     "data": {
      "application/vnd.jupyter.widget-view+json": {
       "model_id": "1f4c035e4b8b40a896a78950e861f30a",
       "version_major": 2,
       "version_minor": 0
      },
      "text/plain": [
       "config.json:   0%|          | 0.00/625 [00:00<?, ?B/s]"
      ]
     },
     "metadata": {},
     "output_type": "display_data"
    }
   ],
   "source": [
    "tokenizer = BertTokenizer.from_pretrained('bert-base-multilingual-cased')"
   ]
  },
  {
   "cell_type": "code",
   "execution_count": 24,
   "id": "0936d2c9",
   "metadata": {
    "execution": {
     "iopub.execute_input": "2025-05-06T06:53:08.659882Z",
     "iopub.status.busy": "2025-05-06T06:53:08.659343Z",
     "iopub.status.idle": "2025-05-06T06:53:08.664061Z",
     "shell.execute_reply": "2025-05-06T06:53:08.663520Z"
    },
    "papermill": {
     "duration": 0.012419,
     "end_time": "2025-05-06T06:53:08.665079",
     "exception": false,
     "start_time": "2025-05-06T06:53:08.652660",
     "status": "completed"
    },
    "tags": []
   },
   "outputs": [],
   "source": [
    "class NepaliNewsDataset(Dataset):\n",
    "    def __init__(self, texts, labels, tokenizer, max_len=256):\n",
    "        self.encodings = tokenizer(texts, truncation=True, padding=True, max_length=max_len)\n",
    "        self.labels = labels\n",
    "\n",
    "    def __getitem__(self, idx):\n",
    "        item = {key: torch.tensor(val[idx]) for key, val in self.encodings.items()}\n",
    "        item['labels'] = torch.tensor(self.labels[idx])\n",
    "        return item\n",
    "\n",
    "    def __len__(self):\n",
    "        return len(self.labels)"
   ]
  },
  {
   "cell_type": "code",
   "execution_count": 25,
   "id": "0834cd97",
   "metadata": {
    "execution": {
     "iopub.execute_input": "2025-05-06T06:53:08.677746Z",
     "iopub.status.busy": "2025-05-06T06:53:08.677540Z",
     "iopub.status.idle": "2025-05-06T07:05:27.217989Z",
     "shell.execute_reply": "2025-05-06T07:05:27.217361Z"
    },
    "papermill": {
     "duration": 738.54852,
     "end_time": "2025-05-06T07:05:27.219574",
     "exception": false,
     "start_time": "2025-05-06T06:53:08.671054",
     "status": "completed"
    },
    "tags": []
   },
   "outputs": [],
   "source": [
    "train_dataset = NepaliNewsDataset(X_train, y_train, tokenizer)\n",
    "test_dataset = NepaliNewsDataset(X_test, y_test, tokenizer)\n",
    "val_dataset = NepaliNewsDataset(X_val, y_val, tokenizer)"
   ]
  },
  {
   "cell_type": "markdown",
   "id": "506b372f",
   "metadata": {
    "papermill": {
     "duration": 0.005984,
     "end_time": "2025-05-06T07:05:27.232511",
     "exception": false,
     "start_time": "2025-05-06T07:05:27.226527",
     "status": "completed"
    },
    "tags": []
   },
   "source": [
    "### Define the evaluation metrics: Accuracy, Precision, Recall, and F-Score"
   ]
  },
  {
   "cell_type": "code",
   "execution_count": 26,
   "id": "603a911b",
   "metadata": {
    "execution": {
     "iopub.execute_input": "2025-05-06T07:05:27.246140Z",
     "iopub.status.busy": "2025-05-06T07:05:27.245874Z",
     "iopub.status.idle": "2025-05-06T07:05:27.250277Z",
     "shell.execute_reply": "2025-05-06T07:05:27.249624Z"
    },
    "papermill": {
     "duration": 0.012999,
     "end_time": "2025-05-06T07:05:27.251586",
     "exception": false,
     "start_time": "2025-05-06T07:05:27.238587",
     "status": "completed"
    },
    "tags": []
   },
   "outputs": [],
   "source": [
    "def compute_metrics(preds):\n",
    "    logits, labels = preds\n",
    "    pred = logits.argmax(-1)\n",
    "    precision, recall, fscore, _ = precision_recall_fscore_support(labels, pred, average='macro', zero_division=0)\n",
    "    accuracy = accuracy_score(labels, pred)\n",
    "\n",
    "    return {\n",
    "        'Accuracy': accuracy,\n",
    "        'Precision': precision,\n",
    "        'Recall': recall,\n",
    "        'F-Score': fscore,\n",
    "    }"
   ]
  },
  {
   "cell_type": "code",
   "execution_count": 27,
   "id": "34b0b08f",
   "metadata": {
    "execution": {
     "iopub.execute_input": "2025-05-06T07:05:27.264604Z",
     "iopub.status.busy": "2025-05-06T07:05:27.264334Z",
     "iopub.status.idle": "2025-05-06T07:05:27.294042Z",
     "shell.execute_reply": "2025-05-06T07:05:27.293426Z"
    },
    "papermill": {
     "duration": 0.037622,
     "end_time": "2025-05-06T07:05:27.295350",
     "exception": false,
     "start_time": "2025-05-06T07:05:27.257728",
     "status": "completed"
    },
    "tags": []
   },
   "outputs": [],
   "source": [
    "training_args = TrainingArguments(\n",
    "    output_dir=\"/kaggle/tmp/\", \n",
    "    do_train=True,\n",
    "    do_eval=True,\n",
    "    overwrite_output_dir=True,\n",
    "    eval_strategy='steps',\n",
    "    eval_steps=4_800,\n",
    "    per_device_train_batch_size=parameters['TRAIN_BATCH_SIZE'],\n",
    "    per_device_eval_batch_size=parameters['EVAL_BATCH_SIZE'],\n",
    "    warmup_steps=parameters['WARMUP_STEPS'],\n",
    "    learning_rate=parameters['LEARNING_RATE'], \n",
    "    num_train_epochs=parameters['EPOCHS'],\n",
    "    # max_steps=parameters['MAX_STEPS'],\n",
    "    weight_decay=parameters['L2_REG'],  \n",
    "    save_steps=4_800,\n",
    "    save_total_limit=1,              \n",
    "    load_best_model_at_end=True,     \n",
    "    logging_dir=\"/kaggle/tmp/\",            \n",
    "    logging_steps=4_800,\n",
    "    fp16=True,                     \n",
    "    metric_for_best_model=\"loss\",\n",
    "    greater_is_better=False,\n",
    "    report_to=\"none\",\n",
    ")"
   ]
  },
  {
   "cell_type": "code",
   "execution_count": 28,
   "id": "89a90816",
   "metadata": {
    "execution": {
     "iopub.execute_input": "2025-05-06T07:05:27.308945Z",
     "iopub.status.busy": "2025-05-06T07:05:27.308399Z",
     "iopub.status.idle": "2025-05-06T07:05:27.312783Z",
     "shell.execute_reply": "2025-05-06T07:05:27.312209Z"
    },
    "papermill": {
     "duration": 0.012073,
     "end_time": "2025-05-06T07:05:27.313806",
     "exception": false,
     "start_time": "2025-05-06T07:05:27.301733",
     "status": "completed"
    },
    "tags": []
   },
   "outputs": [
    {
     "data": {
      "text/plain": [
       "8"
      ]
     },
     "execution_count": 28,
     "metadata": {},
     "output_type": "execute_result"
    }
   ],
   "source": [
    "parameters['TOTAL_CATEGORIES']"
   ]
  },
  {
   "cell_type": "code",
   "execution_count": 29,
   "id": "af6af4aa",
   "metadata": {
    "execution": {
     "iopub.execute_input": "2025-05-06T07:05:27.326714Z",
     "iopub.status.busy": "2025-05-06T07:05:27.326455Z",
     "iopub.status.idle": "2025-05-06T07:05:30.287244Z",
     "shell.execute_reply": "2025-05-06T07:05:30.286636Z"
    },
    "papermill": {
     "duration": 2.968561,
     "end_time": "2025-05-06T07:05:30.288377",
     "exception": false,
     "start_time": "2025-05-06T07:05:27.319816",
     "status": "completed"
    },
    "tags": []
   },
   "outputs": [
    {
     "name": "stderr",
     "output_type": "stream",
     "text": [
      "Xet Storage is enabled for this repo, but the 'hf_xet' package is not installed. Falling back to regular HTTP download. For better performance, install the package with: `pip install huggingface_hub[hf_xet]` or `pip install hf_xet`\n"
     ]
    },
    {
     "data": {
      "application/vnd.jupyter.widget-view+json": {
       "model_id": "e7fb24f4996a4b5f9c8203c7f2bbf2bd",
       "version_major": 2,
       "version_minor": 0
      },
      "text/plain": [
       "model.safetensors:   0%|          | 0.00/714M [00:00<?, ?B/s]"
      ]
     },
     "metadata": {},
     "output_type": "display_data"
    },
    {
     "name": "stderr",
     "output_type": "stream",
     "text": [
      "Some weights of BertForSequenceClassification were not initialized from the model checkpoint at bert-base-multilingual-cased and are newly initialized: ['classifier.bias', 'classifier.weight']\n",
      "You should probably TRAIN this model on a down-stream task to be able to use it for predictions and inference.\n"
     ]
    }
   ],
   "source": [
    "model = BertForSequenceClassification.from_pretrained('bert-base-multilingual-cased', num_labels=parameters['TOTAL_CATEGORIES'])"
   ]
  },
  {
   "cell_type": "code",
   "execution_count": 30,
   "id": "207ac72d",
   "metadata": {
    "execution": {
     "iopub.execute_input": "2025-05-06T07:05:30.302039Z",
     "iopub.status.busy": "2025-05-06T07:05:30.301813Z",
     "iopub.status.idle": "2025-05-06T07:05:30.726008Z",
     "shell.execute_reply": "2025-05-06T07:05:30.725388Z"
    },
    "papermill": {
     "duration": 0.432487,
     "end_time": "2025-05-06T07:05:30.727446",
     "exception": false,
     "start_time": "2025-05-06T07:05:30.294959",
     "status": "completed"
    },
    "tags": []
   },
   "outputs": [],
   "source": [
    "trainer = Trainer(\n",
    "    model=model,\n",
    "    args=training_args,\n",
    "    train_dataset=train_dataset,\n",
    "    eval_dataset=test_dataset,\n",
    "    compute_metrics=compute_metrics\n",
    ")"
   ]
  },
  {
   "cell_type": "code",
   "execution_count": 31,
   "id": "fc04f198",
   "metadata": {
    "execution": {
     "iopub.execute_input": "2025-05-06T07:05:30.741162Z",
     "iopub.status.busy": "2025-05-06T07:05:30.740934Z",
     "iopub.status.idle": "2025-05-06T10:12:41.459210Z",
     "shell.execute_reply": "2025-05-06T10:12:41.458427Z"
    },
    "papermill": {
     "duration": 11230.726612,
     "end_time": "2025-05-06T10:12:41.460715",
     "exception": false,
     "start_time": "2025-05-06T07:05:30.734103",
     "status": "completed"
    },
    "tags": []
   },
   "outputs": [
    {
     "data": {
      "text/html": [
       "\n",
       "    <div>\n",
       "      \n",
       "      <progress value='14658' max='14658' style='width:300px; height:20px; vertical-align: middle;'></progress>\n",
       "      [14658/14658 3:07:07, Epoch 3/3]\n",
       "    </div>\n",
       "    <table border=\"1\" class=\"dataframe\">\n",
       "  <thead>\n",
       " <tr style=\"text-align: left;\">\n",
       "      <th>Step</th>\n",
       "      <th>Training Loss</th>\n",
       "      <th>Validation Loss</th>\n",
       "      <th>Accuracy</th>\n",
       "      <th>Precision</th>\n",
       "      <th>Recall</th>\n",
       "      <th>F-score</th>\n",
       "    </tr>\n",
       "  </thead>\n",
       "  <tbody>\n",
       "    <tr>\n",
       "      <td>4800</td>\n",
       "      <td>0.521500</td>\n",
       "      <td>0.407395</td>\n",
       "      <td>0.866244</td>\n",
       "      <td>0.863326</td>\n",
       "      <td>0.867075</td>\n",
       "      <td>0.863240</td>\n",
       "    </tr>\n",
       "    <tr>\n",
       "      <td>9600</td>\n",
       "      <td>0.348700</td>\n",
       "      <td>0.345065</td>\n",
       "      <td>0.881032</td>\n",
       "      <td>0.880351</td>\n",
       "      <td>0.881797</td>\n",
       "      <td>0.878673</td>\n",
       "    </tr>\n",
       "    <tr>\n",
       "      <td>14400</td>\n",
       "      <td>0.273700</td>\n",
       "      <td>0.334617</td>\n",
       "      <td>0.887377</td>\n",
       "      <td>0.885286</td>\n",
       "      <td>0.887716</td>\n",
       "      <td>0.885871</td>\n",
       "    </tr>\n",
       "  </tbody>\n",
       "</table><p>"
      ],
      "text/plain": [
       "<IPython.core.display.HTML object>"
      ]
     },
     "metadata": {},
     "output_type": "display_data"
    },
    {
     "data": {
      "text/plain": [
       "TrainOutput(global_step=14658, training_loss=0.3791841368246475, metrics={'train_runtime': 11228.8497, 'train_samples_per_second': 41.768, 'train_steps_per_second': 1.305, 'total_flos': 6.170391883461427e+16, 'train_loss': 0.3791841368246475, 'epoch': 3.0})"
      ]
     },
     "execution_count": 31,
     "metadata": {},
     "output_type": "execute_result"
    }
   ],
   "source": [
    "trainer.train()"
   ]
  },
  {
   "cell_type": "code",
   "execution_count": 32,
   "id": "bf90c4be",
   "metadata": {
    "execution": {
     "iopub.execute_input": "2025-05-06T10:12:41.482164Z",
     "iopub.status.busy": "2025-05-06T10:12:41.481518Z",
     "iopub.status.idle": "2025-05-06T10:15:04.962763Z",
     "shell.execute_reply": "2025-05-06T10:15:04.962003Z"
    },
    "papermill": {
     "duration": 143.490517,
     "end_time": "2025-05-06T10:15:04.963861",
     "exception": false,
     "start_time": "2025-05-06T10:12:41.473344",
     "status": "completed"
    },
    "tags": []
   },
   "outputs": [
    {
     "data": {
      "text/html": [
       "\n",
       "    <div>\n",
       "      \n",
       "      <progress value='611' max='611' style='width:300px; height:20px; vertical-align: middle;'></progress>\n",
       "      [611/611 02:23]\n",
       "    </div>\n",
       "    "
      ],
      "text/plain": [
       "<IPython.core.display.HTML object>"
      ]
     },
     "metadata": {},
     "output_type": "display_data"
    },
    {
     "name": "stdout",
     "output_type": "stream",
     "text": [
      "{'eval_loss': 0.334617018699646, 'eval_Accuracy': 0.8873765542649542, 'eval_Precision': 0.8852855875489518, 'eval_Recall': 0.8877158501312428, 'eval_F-Score': 0.8858714437897255, 'eval_runtime': 143.4737, 'eval_samples_per_second': 136.213, 'eval_steps_per_second': 4.259, 'epoch': 3.0}\n"
     ]
    }
   ],
   "source": [
    "print(trainer.evaluate(eval_dataset=test_dataset))"
   ]
  },
  {
   "cell_type": "code",
   "execution_count": 33,
   "id": "b15a30b6",
   "metadata": {
    "execution": {
     "iopub.execute_input": "2025-05-06T10:15:04.977764Z",
     "iopub.status.busy": "2025-05-06T10:15:04.977566Z",
     "iopub.status.idle": "2025-05-06T10:15:04.982124Z",
     "shell.execute_reply": "2025-05-06T10:15:04.981407Z"
    },
    "papermill": {
     "duration": 0.012609,
     "end_time": "2025-05-06T10:15:04.983259",
     "exception": false,
     "start_time": "2025-05-06T10:15:04.970650",
     "status": "completed"
    },
    "tags": []
   },
   "outputs": [],
   "source": [
    "def predict(model, tokenizer, text, label_encoder, input_sequence_length=256):\n",
    "    inputs = tokenizer(text, padding=True, truncation=True, max_length=input_sequence_length, return_tensors='pt').to('cuda')\n",
    "    outputs = model(**inputs)\n",
    "    probs = outputs[0].softmax(1)\n",
    "    pred_label_idx = probs.argmax()\n",
    "    pred = label_encoder.inverse_transform([pred_label_idx.cpu().numpy()])[0]\n",
    "\n",
    "    return pred"
   ]
  },
  {
   "cell_type": "code",
   "execution_count": 34,
   "id": "d6754af8",
   "metadata": {
    "execution": {
     "iopub.execute_input": "2025-05-06T10:15:04.996415Z",
     "iopub.status.busy": "2025-05-06T10:15:04.996200Z",
     "iopub.status.idle": "2025-05-06T10:15:05.058802Z",
     "shell.execute_reply": "2025-05-06T10:15:05.058207Z"
    },
    "papermill": {
     "duration": 0.070339,
     "end_time": "2025-05-06T10:15:05.059842",
     "exception": false,
     "start_time": "2025-05-06T10:15:04.989503",
     "status": "completed"
    },
    "tags": []
   },
   "outputs": [
    {
     "data": {
      "text/plain": [
       "'समाज'"
      ]
     },
     "execution_count": 34,
     "metadata": {},
     "output_type": "execute_result"
    }
   ],
   "source": [
    "predict(model, tokenizer, random.choice(X_val[10:200]), le, parameters['NEWS_SEQUENCE_LENGTH'])"
   ]
  },
  {
   "cell_type": "code",
   "execution_count": 35,
   "id": "10851d6e",
   "metadata": {
    "execution": {
     "iopub.execute_input": "2025-05-06T10:15:05.073685Z",
     "iopub.status.busy": "2025-05-06T10:15:05.073438Z",
     "iopub.status.idle": "2025-05-06T10:15:06.811839Z",
     "shell.execute_reply": "2025-05-06T10:15:06.811216Z"
    },
    "papermill": {
     "duration": 1.74664,
     "end_time": "2025-05-06T10:15:06.813053",
     "exception": false,
     "start_time": "2025-05-06T10:15:05.066413",
     "status": "completed"
    },
    "tags": []
   },
   "outputs": [
    {
     "data": {
      "text/plain": [
       "('/kaggle/tmp/BERT_nepali_news_classifier_tokenizer/tokenizer_config.json',\n",
       " '/kaggle/tmp/BERT_nepali_news_classifier_tokenizer/special_tokens_map.json',\n",
       " '/kaggle/tmp/BERT_nepali_news_classifier_tokenizer/vocab.txt',\n",
       " '/kaggle/tmp/BERT_nepali_news_classifier_tokenizer/added_tokens.json')"
      ]
     },
     "execution_count": 35,
     "metadata": {},
     "output_type": "execute_result"
    }
   ],
   "source": [
    "trainer.save_model('/kaggle/tmp/BERT_nepali_news_classifier_model')\n",
    "tokenizer.save_pretrained('/kaggle/tmp/BERT_nepali_news_classifier_tokenizer')"
   ]
  },
  {
   "cell_type": "code",
   "execution_count": 36,
   "id": "307f4730",
   "metadata": {
    "execution": {
     "iopub.execute_input": "2025-05-06T10:15:06.827601Z",
     "iopub.status.busy": "2025-05-06T10:15:06.826944Z",
     "iopub.status.idle": "2025-05-06T10:15:06.830945Z",
     "shell.execute_reply": "2025-05-06T10:15:06.830243Z"
    },
    "papermill": {
     "duration": 0.01204,
     "end_time": "2025-05-06T10:15:06.832005",
     "exception": false,
     "start_time": "2025-05-06T10:15:06.819965",
     "status": "completed"
    },
    "tags": []
   },
   "outputs": [],
   "source": [
    "with open('/kaggle/tmp/label_encoder.pkl', 'wb') as f:\n",
    "    pickle.dump(le, f)"
   ]
  },
  {
   "cell_type": "code",
   "execution_count": 37,
   "id": "f59ba190",
   "metadata": {
    "execution": {
     "iopub.execute_input": "2025-05-06T10:15:06.845609Z",
     "iopub.status.busy": "2025-05-06T10:15:06.845374Z",
     "iopub.status.idle": "2025-05-06T10:16:55.116221Z",
     "shell.execute_reply": "2025-05-06T10:16:55.115424Z"
    },
    "papermill": {
     "duration": 108.279333,
     "end_time": "2025-05-06T10:16:55.117839",
     "exception": false,
     "start_time": "2025-05-06T10:15:06.838506",
     "status": "completed"
    },
    "tags": []
   },
   "outputs": [],
   "source": [
    "import tarfile\n",
    "with tarfile.open(\"/kaggle/working/model_outputs.tar.gz\", \"w:gz\") as tar:\n",
    "    tar.add(\"/kaggle/tmp\", arcname=\"model_outputs\")"
   ]
  }
 ],
 "metadata": {
  "kaggle": {
   "accelerator": "none",
   "dataSources": [
    {
     "datasetId": 4484558,
     "sourceId": 7685447,
     "sourceType": "datasetVersion"
    }
   ],
   "dockerImageVersionId": 31012,
   "isGpuEnabled": false,
   "isInternetEnabled": true,
   "language": "python",
   "sourceType": "notebook"
  },
  "kernelspec": {
   "display_name": "Python 3",
   "language": "python",
   "name": "python3"
  },
  "language_info": {
   "codemirror_mode": {
    "name": "ipython",
    "version": 3
   },
   "file_extension": ".py",
   "mimetype": "text/x-python",
   "name": "python",
   "nbconvert_exporter": "python",
   "pygments_lexer": "ipython3",
   "version": "3.11.11"
  },
  "papermill": {
   "default_parameters": {},
   "duration": 12344.25545,
   "end_time": "2025-05-06T10:16:58.256290",
   "environment_variables": {},
   "exception": null,
   "input_path": "__notebook__.ipynb",
   "output_path": "__notebook__.ipynb",
   "parameters": {},
   "start_time": "2025-05-06T06:51:14.000840",
   "version": "2.6.0"
  },
  "widgets": {
   "application/vnd.jupyter.widget-state+json": {
    "state": {
     "0474bbc14ba245a89d5ab47260df74c5": {
      "model_module": "@jupyter-widgets/base",
      "model_module_version": "2.0.0",
      "model_name": "LayoutModel",
      "state": {
       "_model_module": "@jupyter-widgets/base",
       "_model_module_version": "2.0.0",
       "_model_name": "LayoutModel",
       "_view_count": null,
       "_view_module": "@jupyter-widgets/base",
       "_view_module_version": "2.0.0",
       "_view_name": "LayoutView",
       "align_content": null,
       "align_items": null,
       "align_self": null,
       "border_bottom": null,
       "border_left": null,
       "border_right": null,
       "border_top": null,
       "bottom": null,
       "display": null,
       "flex": null,
       "flex_flow": null,
       "grid_area": null,
       "grid_auto_columns": null,
       "grid_auto_flow": null,
       "grid_auto_rows": null,
       "grid_column": null,
       "grid_gap": null,
       "grid_row": null,
       "grid_template_areas": null,
       "grid_template_columns": null,
       "grid_template_rows": null,
       "height": null,
       "justify_content": null,
       "justify_items": null,
       "left": null,
       "margin": null,
       "max_height": null,
       "max_width": null,
       "min_height": null,
       "min_width": null,
       "object_fit": null,
       "object_position": null,
       "order": null,
       "overflow": null,
       "padding": null,
       "right": null,
       "top": null,
       "visibility": null,
       "width": null
      }
     },
     "047ab97769014d33b66c310cbdaf20f0": {
      "model_module": "@jupyter-widgets/base",
      "model_module_version": "2.0.0",
      "model_name": "LayoutModel",
      "state": {
       "_model_module": "@jupyter-widgets/base",
       "_model_module_version": "2.0.0",
       "_model_name": "LayoutModel",
       "_view_count": null,
       "_view_module": "@jupyter-widgets/base",
       "_view_module_version": "2.0.0",
       "_view_name": "LayoutView",
       "align_content": null,
       "align_items": null,
       "align_self": null,
       "border_bottom": null,
       "border_left": null,
       "border_right": null,
       "border_top": null,
       "bottom": null,
       "display": null,
       "flex": null,
       "flex_flow": null,
       "grid_area": null,
       "grid_auto_columns": null,
       "grid_auto_flow": null,
       "grid_auto_rows": null,
       "grid_column": null,
       "grid_gap": null,
       "grid_row": null,
       "grid_template_areas": null,
       "grid_template_columns": null,
       "grid_template_rows": null,
       "height": null,
       "justify_content": null,
       "justify_items": null,
       "left": null,
       "margin": null,
       "max_height": null,
       "max_width": null,
       "min_height": null,
       "min_width": null,
       "object_fit": null,
       "object_position": null,
       "order": null,
       "overflow": null,
       "padding": null,
       "right": null,
       "top": null,
       "visibility": null,
       "width": null
      }
     },
     "10c8687e0dc04c6293a9cf83c96e8745": {
      "model_module": "@jupyter-widgets/controls",
      "model_module_version": "2.0.0",
      "model_name": "HTMLStyleModel",
      "state": {
       "_model_module": "@jupyter-widgets/controls",
       "_model_module_version": "2.0.0",
       "_model_name": "HTMLStyleModel",
       "_view_count": null,
       "_view_module": "@jupyter-widgets/base",
       "_view_module_version": "2.0.0",
       "_view_name": "StyleView",
       "background": null,
       "description_width": "",
       "font_size": null,
       "text_color": null
      }
     },
     "1157814328e046aea4e44fb5c8ee9285": {
      "model_module": "@jupyter-widgets/controls",
      "model_module_version": "2.0.0",
      "model_name": "HBoxModel",
      "state": {
       "_dom_classes": [],
       "_model_module": "@jupyter-widgets/controls",
       "_model_module_version": "2.0.0",
       "_model_name": "HBoxModel",
       "_view_count": null,
       "_view_module": "@jupyter-widgets/controls",
       "_view_module_version": "2.0.0",
       "_view_name": "HBoxView",
       "box_style": "",
       "children": [
        "IPY_MODEL_b1c037a77fdc499a8aa37109a2dfc110",
        "IPY_MODEL_4975f29367d54fc9878f7a6312648eba",
        "IPY_MODEL_6350db160a774ed2928fdba1ef98365c"
       ],
       "layout": "IPY_MODEL_0474bbc14ba245a89d5ab47260df74c5",
       "tabbable": null,
       "tooltip": null
      }
     },
     "13fce9389e5f416aa5cdfd6df28464bf": {
      "model_module": "@jupyter-widgets/controls",
      "model_module_version": "2.0.0",
      "model_name": "ProgressStyleModel",
      "state": {
       "_model_module": "@jupyter-widgets/controls",
       "_model_module_version": "2.0.0",
       "_model_name": "ProgressStyleModel",
       "_view_count": null,
       "_view_module": "@jupyter-widgets/base",
       "_view_module_version": "2.0.0",
       "_view_name": "StyleView",
       "bar_color": null,
       "description_width": ""
      }
     },
     "1441d5e200d647c297fccd8b96b067f8": {
      "model_module": "@jupyter-widgets/controls",
      "model_module_version": "2.0.0",
      "model_name": "ProgressStyleModel",
      "state": {
       "_model_module": "@jupyter-widgets/controls",
       "_model_module_version": "2.0.0",
       "_model_name": "ProgressStyleModel",
       "_view_count": null,
       "_view_module": "@jupyter-widgets/base",
       "_view_module_version": "2.0.0",
       "_view_name": "StyleView",
       "bar_color": null,
       "description_width": ""
      }
     },
     "1ae3bb55ba9c42ad8c35a1f5427b7df3": {
      "model_module": "@jupyter-widgets/base",
      "model_module_version": "2.0.0",
      "model_name": "LayoutModel",
      "state": {
       "_model_module": "@jupyter-widgets/base",
       "_model_module_version": "2.0.0",
       "_model_name": "LayoutModel",
       "_view_count": null,
       "_view_module": "@jupyter-widgets/base",
       "_view_module_version": "2.0.0",
       "_view_name": "LayoutView",
       "align_content": null,
       "align_items": null,
       "align_self": null,
       "border_bottom": null,
       "border_left": null,
       "border_right": null,
       "border_top": null,
       "bottom": null,
       "display": null,
       "flex": null,
       "flex_flow": null,
       "grid_area": null,
       "grid_auto_columns": null,
       "grid_auto_flow": null,
       "grid_auto_rows": null,
       "grid_column": null,
       "grid_gap": null,
       "grid_row": null,
       "grid_template_areas": null,
       "grid_template_columns": null,
       "grid_template_rows": null,
       "height": null,
       "justify_content": null,
       "justify_items": null,
       "left": null,
       "margin": null,
       "max_height": null,
       "max_width": null,
       "min_height": null,
       "min_width": null,
       "object_fit": null,
       "object_position": null,
       "order": null,
       "overflow": null,
       "padding": null,
       "right": null,
       "top": null,
       "visibility": null,
       "width": null
      }
     },
     "1f4c035e4b8b40a896a78950e861f30a": {
      "model_module": "@jupyter-widgets/controls",
      "model_module_version": "2.0.0",
      "model_name": "HBoxModel",
      "state": {
       "_dom_classes": [],
       "_model_module": "@jupyter-widgets/controls",
       "_model_module_version": "2.0.0",
       "_model_name": "HBoxModel",
       "_view_count": null,
       "_view_module": "@jupyter-widgets/controls",
       "_view_module_version": "2.0.0",
       "_view_name": "HBoxView",
       "box_style": "",
       "children": [
        "IPY_MODEL_764cd5cc65cf4af992013ad175170145",
        "IPY_MODEL_4b88efccf8b94e69ada451fb3186c29b",
        "IPY_MODEL_d3fe72b34e35475382fce9404714ed40"
       ],
       "layout": "IPY_MODEL_fbd688a2a3c14b3f9097a501cf93b887",
       "tabbable": null,
       "tooltip": null
      }
     },
     "1f8ae4da54754e6288b8bc4d94d87278": {
      "model_module": "@jupyter-widgets/controls",
      "model_module_version": "2.0.0",
      "model_name": "HTMLModel",
      "state": {
       "_dom_classes": [],
       "_model_module": "@jupyter-widgets/controls",
       "_model_module_version": "2.0.0",
       "_model_name": "HTMLModel",
       "_view_count": null,
       "_view_module": "@jupyter-widgets/controls",
       "_view_module_version": "2.0.0",
       "_view_name": "HTMLView",
       "description": "",
       "description_allow_html": false,
       "layout": "IPY_MODEL_a73ff8560a6b44ca8a4dd6520c9de69e",
       "placeholder": "​",
       "style": "IPY_MODEL_79b2af435f2543ac9d299fe4f5ec53f8",
       "tabbable": null,
       "tooltip": null,
       "value": " 996k/996k [00:00&lt;00:00, 7.67MB/s]"
      }
     },
     "226ac2cbd5a643e5bde8273c087f4597": {
      "model_module": "@jupyter-widgets/controls",
      "model_module_version": "2.0.0",
      "model_name": "HTMLStyleModel",
      "state": {
       "_model_module": "@jupyter-widgets/controls",
       "_model_module_version": "2.0.0",
       "_model_name": "HTMLStyleModel",
       "_view_count": null,
       "_view_module": "@jupyter-widgets/base",
       "_view_module_version": "2.0.0",
       "_view_name": "StyleView",
       "background": null,
       "description_width": "",
       "font_size": null,
       "text_color": null
      }
     },
     "29b7c3b2d09944f78e57bfe5cda208d9": {
      "model_module": "@jupyter-widgets/controls",
      "model_module_version": "2.0.0",
      "model_name": "FloatProgressModel",
      "state": {
       "_dom_classes": [],
       "_model_module": "@jupyter-widgets/controls",
       "_model_module_version": "2.0.0",
       "_model_name": "FloatProgressModel",
       "_view_count": null,
       "_view_module": "@jupyter-widgets/controls",
       "_view_module_version": "2.0.0",
       "_view_name": "ProgressView",
       "bar_style": "success",
       "description": "",
       "description_allow_html": false,
       "layout": "IPY_MODEL_fe6d0138a3014fb282b5b6fb9df8fa19",
       "max": 714290682.0,
       "min": 0.0,
       "orientation": "horizontal",
       "style": "IPY_MODEL_315c1975fa25419db711823bf1010998",
       "tabbable": null,
       "tooltip": null,
       "value": 714290682.0
      }
     },
     "315c1975fa25419db711823bf1010998": {
      "model_module": "@jupyter-widgets/controls",
      "model_module_version": "2.0.0",
      "model_name": "ProgressStyleModel",
      "state": {
       "_model_module": "@jupyter-widgets/controls",
       "_model_module_version": "2.0.0",
       "_model_name": "ProgressStyleModel",
       "_view_count": null,
       "_view_module": "@jupyter-widgets/base",
       "_view_module_version": "2.0.0",
       "_view_name": "StyleView",
       "bar_color": null,
       "description_width": ""
      }
     },
     "333b45961d4c4bc5b3b4709cda7a1c8b": {
      "model_module": "@jupyter-widgets/controls",
      "model_module_version": "2.0.0",
      "model_name": "ProgressStyleModel",
      "state": {
       "_model_module": "@jupyter-widgets/controls",
       "_model_module_version": "2.0.0",
       "_model_name": "ProgressStyleModel",
       "_view_count": null,
       "_view_module": "@jupyter-widgets/base",
       "_view_module_version": "2.0.0",
       "_view_name": "StyleView",
       "bar_color": null,
       "description_width": ""
      }
     },
     "3c450fefd92f4c49a9c958432e7adb77": {
      "model_module": "@jupyter-widgets/controls",
      "model_module_version": "2.0.0",
      "model_name": "HBoxModel",
      "state": {
       "_dom_classes": [],
       "_model_module": "@jupyter-widgets/controls",
       "_model_module_version": "2.0.0",
       "_model_name": "HBoxModel",
       "_view_count": null,
       "_view_module": "@jupyter-widgets/controls",
       "_view_module_version": "2.0.0",
       "_view_name": "HBoxView",
       "box_style": "",
       "children": [
        "IPY_MODEL_757d7f8000e84cc7935ba8184c504e38",
        "IPY_MODEL_d436b28331684c1cb35facd764914bcb",
        "IPY_MODEL_e2f60a7d41c1441db3135347240e46e6"
       ],
       "layout": "IPY_MODEL_4b7aa046cf924a1e95b93726171ee5cf",
       "tabbable": null,
       "tooltip": null
      }
     },
     "425701a75ec3490d8aae51aa5e29975f": {
      "model_module": "@jupyter-widgets/controls",
      "model_module_version": "2.0.0",
      "model_name": "HTMLModel",
      "state": {
       "_dom_classes": [],
       "_model_module": "@jupyter-widgets/controls",
       "_model_module_version": "2.0.0",
       "_model_name": "HTMLModel",
       "_view_count": null,
       "_view_module": "@jupyter-widgets/controls",
       "_view_module_version": "2.0.0",
       "_view_name": "HTMLView",
       "description": "",
       "description_allow_html": false,
       "layout": "IPY_MODEL_e50d0f39d303497b8fe695111013c903",
       "placeholder": "​",
       "style": "IPY_MODEL_a1adb43993f240fea235681fe3e6dc52",
       "tabbable": null,
       "tooltip": null,
       "value": "vocab.txt: 100%"
      }
     },
     "4570b694363541c784d726915e5a46b2": {
      "model_module": "@jupyter-widgets/base",
      "model_module_version": "2.0.0",
      "model_name": "LayoutModel",
      "state": {
       "_model_module": "@jupyter-widgets/base",
       "_model_module_version": "2.0.0",
       "_model_name": "LayoutModel",
       "_view_count": null,
       "_view_module": "@jupyter-widgets/base",
       "_view_module_version": "2.0.0",
       "_view_name": "LayoutView",
       "align_content": null,
       "align_items": null,
       "align_self": null,
       "border_bottom": null,
       "border_left": null,
       "border_right": null,
       "border_top": null,
       "bottom": null,
       "display": null,
       "flex": null,
       "flex_flow": null,
       "grid_area": null,
       "grid_auto_columns": null,
       "grid_auto_flow": null,
       "grid_auto_rows": null,
       "grid_column": null,
       "grid_gap": null,
       "grid_row": null,
       "grid_template_areas": null,
       "grid_template_columns": null,
       "grid_template_rows": null,
       "height": null,
       "justify_content": null,
       "justify_items": null,
       "left": null,
       "margin": null,
       "max_height": null,
       "max_width": null,
       "min_height": null,
       "min_width": null,
       "object_fit": null,
       "object_position": null,
       "order": null,
       "overflow": null,
       "padding": null,
       "right": null,
       "top": null,
       "visibility": null,
       "width": null
      }
     },
     "4975f29367d54fc9878f7a6312648eba": {
      "model_module": "@jupyter-widgets/controls",
      "model_module_version": "2.0.0",
      "model_name": "FloatProgressModel",
      "state": {
       "_dom_classes": [],
       "_model_module": "@jupyter-widgets/controls",
       "_model_module_version": "2.0.0",
       "_model_name": "FloatProgressModel",
       "_view_count": null,
       "_view_module": "@jupyter-widgets/controls",
       "_view_module_version": "2.0.0",
       "_view_name": "ProgressView",
       "bar_style": "success",
       "description": "",
       "description_allow_html": false,
       "layout": "IPY_MODEL_adefe462beec408980491722aa07febe",
       "max": 1961828.0,
       "min": 0.0,
       "orientation": "horizontal",
       "style": "IPY_MODEL_333b45961d4c4bc5b3b4709cda7a1c8b",
       "tabbable": null,
       "tooltip": null,
       "value": 1961828.0
      }
     },
     "4aee919ff7f44919a2f189871858f7e1": {
      "model_module": "@jupyter-widgets/controls",
      "model_module_version": "2.0.0",
      "model_name": "HTMLStyleModel",
      "state": {
       "_model_module": "@jupyter-widgets/controls",
       "_model_module_version": "2.0.0",
       "_model_name": "HTMLStyleModel",
       "_view_count": null,
       "_view_module": "@jupyter-widgets/base",
       "_view_module_version": "2.0.0",
       "_view_name": "StyleView",
       "background": null,
       "description_width": "",
       "font_size": null,
       "text_color": null
      }
     },
     "4b7aa046cf924a1e95b93726171ee5cf": {
      "model_module": "@jupyter-widgets/base",
      "model_module_version": "2.0.0",
      "model_name": "LayoutModel",
      "state": {
       "_model_module": "@jupyter-widgets/base",
       "_model_module_version": "2.0.0",
       "_model_name": "LayoutModel",
       "_view_count": null,
       "_view_module": "@jupyter-widgets/base",
       "_view_module_version": "2.0.0",
       "_view_name": "LayoutView",
       "align_content": null,
       "align_items": null,
       "align_self": null,
       "border_bottom": null,
       "border_left": null,
       "border_right": null,
       "border_top": null,
       "bottom": null,
       "display": null,
       "flex": null,
       "flex_flow": null,
       "grid_area": null,
       "grid_auto_columns": null,
       "grid_auto_flow": null,
       "grid_auto_rows": null,
       "grid_column": null,
       "grid_gap": null,
       "grid_row": null,
       "grid_template_areas": null,
       "grid_template_columns": null,
       "grid_template_rows": null,
       "height": null,
       "justify_content": null,
       "justify_items": null,
       "left": null,
       "margin": null,
       "max_height": null,
       "max_width": null,
       "min_height": null,
       "min_width": null,
       "object_fit": null,
       "object_position": null,
       "order": null,
       "overflow": null,
       "padding": null,
       "right": null,
       "top": null,
       "visibility": null,
       "width": null
      }
     },
     "4b88efccf8b94e69ada451fb3186c29b": {
      "model_module": "@jupyter-widgets/controls",
      "model_module_version": "2.0.0",
      "model_name": "FloatProgressModel",
      "state": {
       "_dom_classes": [],
       "_model_module": "@jupyter-widgets/controls",
       "_model_module_version": "2.0.0",
       "_model_name": "FloatProgressModel",
       "_view_count": null,
       "_view_module": "@jupyter-widgets/controls",
       "_view_module_version": "2.0.0",
       "_view_name": "ProgressView",
       "bar_style": "success",
       "description": "",
       "description_allow_html": false,
       "layout": "IPY_MODEL_bf202185741949b2a4b78eebc7aafbec",
       "max": 625.0,
       "min": 0.0,
       "orientation": "horizontal",
       "style": "IPY_MODEL_13fce9389e5f416aa5cdfd6df28464bf",
       "tabbable": null,
       "tooltip": null,
       "value": 625.0
      }
     },
     "526cc91a857c4be99b5b0eb920166ba2": {
      "model_module": "@jupyter-widgets/base",
      "model_module_version": "2.0.0",
      "model_name": "LayoutModel",
      "state": {
       "_model_module": "@jupyter-widgets/base",
       "_model_module_version": "2.0.0",
       "_model_name": "LayoutModel",
       "_view_count": null,
       "_view_module": "@jupyter-widgets/base",
       "_view_module_version": "2.0.0",
       "_view_name": "LayoutView",
       "align_content": null,
       "align_items": null,
       "align_self": null,
       "border_bottom": null,
       "border_left": null,
       "border_right": null,
       "border_top": null,
       "bottom": null,
       "display": null,
       "flex": null,
       "flex_flow": null,
       "grid_area": null,
       "grid_auto_columns": null,
       "grid_auto_flow": null,
       "grid_auto_rows": null,
       "grid_column": null,
       "grid_gap": null,
       "grid_row": null,
       "grid_template_areas": null,
       "grid_template_columns": null,
       "grid_template_rows": null,
       "height": null,
       "justify_content": null,
       "justify_items": null,
       "left": null,
       "margin": null,
       "max_height": null,
       "max_width": null,
       "min_height": null,
       "min_width": null,
       "object_fit": null,
       "object_position": null,
       "order": null,
       "overflow": null,
       "padding": null,
       "right": null,
       "top": null,
       "visibility": null,
       "width": null
      }
     },
     "5f73623728ac4949b46e105bcddff9d0": {
      "model_module": "@jupyter-widgets/controls",
      "model_module_version": "2.0.0",
      "model_name": "HTMLModel",
      "state": {
       "_dom_classes": [],
       "_model_module": "@jupyter-widgets/controls",
       "_model_module_version": "2.0.0",
       "_model_name": "HTMLModel",
       "_view_count": null,
       "_view_module": "@jupyter-widgets/controls",
       "_view_module_version": "2.0.0",
       "_view_name": "HTMLView",
       "description": "",
       "description_allow_html": false,
       "layout": "IPY_MODEL_4570b694363541c784d726915e5a46b2",
       "placeholder": "​",
       "style": "IPY_MODEL_bb8b5e575ba14b57997bfd5c9a9f58b8",
       "tabbable": null,
       "tooltip": null,
       "value": "model.safetensors: 100%"
      }
     },
     "6350db160a774ed2928fdba1ef98365c": {
      "model_module": "@jupyter-widgets/controls",
      "model_module_version": "2.0.0",
      "model_name": "HTMLModel",
      "state": {
       "_dom_classes": [],
       "_model_module": "@jupyter-widgets/controls",
       "_model_module_version": "2.0.0",
       "_model_name": "HTMLModel",
       "_view_count": null,
       "_view_module": "@jupyter-widgets/controls",
       "_view_module_version": "2.0.0",
       "_view_name": "HTMLView",
       "description": "",
       "description_allow_html": false,
       "layout": "IPY_MODEL_1ae3bb55ba9c42ad8c35a1f5427b7df3",
       "placeholder": "​",
       "style": "IPY_MODEL_226ac2cbd5a643e5bde8273c087f4597",
       "tabbable": null,
       "tooltip": null,
       "value": " 1.96M/1.96M [00:00&lt;00:00, 7.87MB/s]"
      }
     },
     "6a595cf0502d411e8d8bf4cc30d8b855": {
      "model_module": "@jupyter-widgets/controls",
      "model_module_version": "2.0.0",
      "model_name": "ProgressStyleModel",
      "state": {
       "_model_module": "@jupyter-widgets/controls",
       "_model_module_version": "2.0.0",
       "_model_name": "ProgressStyleModel",
       "_view_count": null,
       "_view_module": "@jupyter-widgets/base",
       "_view_module_version": "2.0.0",
       "_view_name": "StyleView",
       "bar_color": null,
       "description_width": ""
      }
     },
     "757d7f8000e84cc7935ba8184c504e38": {
      "model_module": "@jupyter-widgets/controls",
      "model_module_version": "2.0.0",
      "model_name": "HTMLModel",
      "state": {
       "_dom_classes": [],
       "_model_module": "@jupyter-widgets/controls",
       "_model_module_version": "2.0.0",
       "_model_name": "HTMLModel",
       "_view_count": null,
       "_view_module": "@jupyter-widgets/controls",
       "_view_module_version": "2.0.0",
       "_view_name": "HTMLView",
       "description": "",
       "description_allow_html": false,
       "layout": "IPY_MODEL_afe804b45b984561bc5645a59404cdee",
       "placeholder": "​",
       "style": "IPY_MODEL_4aee919ff7f44919a2f189871858f7e1",
       "tabbable": null,
       "tooltip": null,
       "value": "tokenizer_config.json: 100%"
      }
     },
     "764cd5cc65cf4af992013ad175170145": {
      "model_module": "@jupyter-widgets/controls",
      "model_module_version": "2.0.0",
      "model_name": "HTMLModel",
      "state": {
       "_dom_classes": [],
       "_model_module": "@jupyter-widgets/controls",
       "_model_module_version": "2.0.0",
       "_model_name": "HTMLModel",
       "_view_count": null,
       "_view_module": "@jupyter-widgets/controls",
       "_view_module_version": "2.0.0",
       "_view_name": "HTMLView",
       "description": "",
       "description_allow_html": false,
       "layout": "IPY_MODEL_047ab97769014d33b66c310cbdaf20f0",
       "placeholder": "​",
       "style": "IPY_MODEL_10c8687e0dc04c6293a9cf83c96e8745",
       "tabbable": null,
       "tooltip": null,
       "value": "config.json: 100%"
      }
     },
     "79b2af435f2543ac9d299fe4f5ec53f8": {
      "model_module": "@jupyter-widgets/controls",
      "model_module_version": "2.0.0",
      "model_name": "HTMLStyleModel",
      "state": {
       "_model_module": "@jupyter-widgets/controls",
       "_model_module_version": "2.0.0",
       "_model_name": "HTMLStyleModel",
       "_view_count": null,
       "_view_module": "@jupyter-widgets/base",
       "_view_module_version": "2.0.0",
       "_view_name": "StyleView",
       "background": null,
       "description_width": "",
       "font_size": null,
       "text_color": null
      }
     },
     "8de7815e7e204aedb68d6c48da5899f6": {
      "model_module": "@jupyter-widgets/base",
      "model_module_version": "2.0.0",
      "model_name": "LayoutModel",
      "state": {
       "_model_module": "@jupyter-widgets/base",
       "_model_module_version": "2.0.0",
       "_model_name": "LayoutModel",
       "_view_count": null,
       "_view_module": "@jupyter-widgets/base",
       "_view_module_version": "2.0.0",
       "_view_name": "LayoutView",
       "align_content": null,
       "align_items": null,
       "align_self": null,
       "border_bottom": null,
       "border_left": null,
       "border_right": null,
       "border_top": null,
       "bottom": null,
       "display": null,
       "flex": null,
       "flex_flow": null,
       "grid_area": null,
       "grid_auto_columns": null,
       "grid_auto_flow": null,
       "grid_auto_rows": null,
       "grid_column": null,
       "grid_gap": null,
       "grid_row": null,
       "grid_template_areas": null,
       "grid_template_columns": null,
       "grid_template_rows": null,
       "height": null,
       "justify_content": null,
       "justify_items": null,
       "left": null,
       "margin": null,
       "max_height": null,
       "max_width": null,
       "min_height": null,
       "min_width": null,
       "object_fit": null,
       "object_position": null,
       "order": null,
       "overflow": null,
       "padding": null,
       "right": null,
       "top": null,
       "visibility": null,
       "width": null
      }
     },
     "a1adb43993f240fea235681fe3e6dc52": {
      "model_module": "@jupyter-widgets/controls",
      "model_module_version": "2.0.0",
      "model_name": "HTMLStyleModel",
      "state": {
       "_model_module": "@jupyter-widgets/controls",
       "_model_module_version": "2.0.0",
       "_model_name": "HTMLStyleModel",
       "_view_count": null,
       "_view_module": "@jupyter-widgets/base",
       "_view_module_version": "2.0.0",
       "_view_name": "StyleView",
       "background": null,
       "description_width": "",
       "font_size": null,
       "text_color": null
      }
     },
     "a73ff8560a6b44ca8a4dd6520c9de69e": {
      "model_module": "@jupyter-widgets/base",
      "model_module_version": "2.0.0",
      "model_name": "LayoutModel",
      "state": {
       "_model_module": "@jupyter-widgets/base",
       "_model_module_version": "2.0.0",
       "_model_name": "LayoutModel",
       "_view_count": null,
       "_view_module": "@jupyter-widgets/base",
       "_view_module_version": "2.0.0",
       "_view_name": "LayoutView",
       "align_content": null,
       "align_items": null,
       "align_self": null,
       "border_bottom": null,
       "border_left": null,
       "border_right": null,
       "border_top": null,
       "bottom": null,
       "display": null,
       "flex": null,
       "flex_flow": null,
       "grid_area": null,
       "grid_auto_columns": null,
       "grid_auto_flow": null,
       "grid_auto_rows": null,
       "grid_column": null,
       "grid_gap": null,
       "grid_row": null,
       "grid_template_areas": null,
       "grid_template_columns": null,
       "grid_template_rows": null,
       "height": null,
       "justify_content": null,
       "justify_items": null,
       "left": null,
       "margin": null,
       "max_height": null,
       "max_width": null,
       "min_height": null,
       "min_width": null,
       "object_fit": null,
       "object_position": null,
       "order": null,
       "overflow": null,
       "padding": null,
       "right": null,
       "top": null,
       "visibility": null,
       "width": null
      }
     },
     "adefe462beec408980491722aa07febe": {
      "model_module": "@jupyter-widgets/base",
      "model_module_version": "2.0.0",
      "model_name": "LayoutModel",
      "state": {
       "_model_module": "@jupyter-widgets/base",
       "_model_module_version": "2.0.0",
       "_model_name": "LayoutModel",
       "_view_count": null,
       "_view_module": "@jupyter-widgets/base",
       "_view_module_version": "2.0.0",
       "_view_name": "LayoutView",
       "align_content": null,
       "align_items": null,
       "align_self": null,
       "border_bottom": null,
       "border_left": null,
       "border_right": null,
       "border_top": null,
       "bottom": null,
       "display": null,
       "flex": null,
       "flex_flow": null,
       "grid_area": null,
       "grid_auto_columns": null,
       "grid_auto_flow": null,
       "grid_auto_rows": null,
       "grid_column": null,
       "grid_gap": null,
       "grid_row": null,
       "grid_template_areas": null,
       "grid_template_columns": null,
       "grid_template_rows": null,
       "height": null,
       "justify_content": null,
       "justify_items": null,
       "left": null,
       "margin": null,
       "max_height": null,
       "max_width": null,
       "min_height": null,
       "min_width": null,
       "object_fit": null,
       "object_position": null,
       "order": null,
       "overflow": null,
       "padding": null,
       "right": null,
       "top": null,
       "visibility": null,
       "width": null
      }
     },
     "afe804b45b984561bc5645a59404cdee": {
      "model_module": "@jupyter-widgets/base",
      "model_module_version": "2.0.0",
      "model_name": "LayoutModel",
      "state": {
       "_model_module": "@jupyter-widgets/base",
       "_model_module_version": "2.0.0",
       "_model_name": "LayoutModel",
       "_view_count": null,
       "_view_module": "@jupyter-widgets/base",
       "_view_module_version": "2.0.0",
       "_view_name": "LayoutView",
       "align_content": null,
       "align_items": null,
       "align_self": null,
       "border_bottom": null,
       "border_left": null,
       "border_right": null,
       "border_top": null,
       "bottom": null,
       "display": null,
       "flex": null,
       "flex_flow": null,
       "grid_area": null,
       "grid_auto_columns": null,
       "grid_auto_flow": null,
       "grid_auto_rows": null,
       "grid_column": null,
       "grid_gap": null,
       "grid_row": null,
       "grid_template_areas": null,
       "grid_template_columns": null,
       "grid_template_rows": null,
       "height": null,
       "justify_content": null,
       "justify_items": null,
       "left": null,
       "margin": null,
       "max_height": null,
       "max_width": null,
       "min_height": null,
       "min_width": null,
       "object_fit": null,
       "object_position": null,
       "order": null,
       "overflow": null,
       "padding": null,
       "right": null,
       "top": null,
       "visibility": null,
       "width": null
      }
     },
     "b1c037a77fdc499a8aa37109a2dfc110": {
      "model_module": "@jupyter-widgets/controls",
      "model_module_version": "2.0.0",
      "model_name": "HTMLModel",
      "state": {
       "_dom_classes": [],
       "_model_module": "@jupyter-widgets/controls",
       "_model_module_version": "2.0.0",
       "_model_name": "HTMLModel",
       "_view_count": null,
       "_view_module": "@jupyter-widgets/controls",
       "_view_module_version": "2.0.0",
       "_view_name": "HTMLView",
       "description": "",
       "description_allow_html": false,
       "layout": "IPY_MODEL_526cc91a857c4be99b5b0eb920166ba2",
       "placeholder": "​",
       "style": "IPY_MODEL_f6dd9d0e365b4a9b85583397eef0eb27",
       "tabbable": null,
       "tooltip": null,
       "value": "tokenizer.json: 100%"
      }
     },
     "b22a37bc247c410a91334ad030b38dcd": {
      "model_module": "@jupyter-widgets/base",
      "model_module_version": "2.0.0",
      "model_name": "LayoutModel",
      "state": {
       "_model_module": "@jupyter-widgets/base",
       "_model_module_version": "2.0.0",
       "_model_name": "LayoutModel",
       "_view_count": null,
       "_view_module": "@jupyter-widgets/base",
       "_view_module_version": "2.0.0",
       "_view_name": "LayoutView",
       "align_content": null,
       "align_items": null,
       "align_self": null,
       "border_bottom": null,
       "border_left": null,
       "border_right": null,
       "border_top": null,
       "bottom": null,
       "display": null,
       "flex": null,
       "flex_flow": null,
       "grid_area": null,
       "grid_auto_columns": null,
       "grid_auto_flow": null,
       "grid_auto_rows": null,
       "grid_column": null,
       "grid_gap": null,
       "grid_row": null,
       "grid_template_areas": null,
       "grid_template_columns": null,
       "grid_template_rows": null,
       "height": null,
       "justify_content": null,
       "justify_items": null,
       "left": null,
       "margin": null,
       "max_height": null,
       "max_width": null,
       "min_height": null,
       "min_width": null,
       "object_fit": null,
       "object_position": null,
       "order": null,
       "overflow": null,
       "padding": null,
       "right": null,
       "top": null,
       "visibility": null,
       "width": null
      }
     },
     "b64d717069af42c1a3b9c2d8ac234cb4": {
      "model_module": "@jupyter-widgets/base",
      "model_module_version": "2.0.0",
      "model_name": "LayoutModel",
      "state": {
       "_model_module": "@jupyter-widgets/base",
       "_model_module_version": "2.0.0",
       "_model_name": "LayoutModel",
       "_view_count": null,
       "_view_module": "@jupyter-widgets/base",
       "_view_module_version": "2.0.0",
       "_view_name": "LayoutView",
       "align_content": null,
       "align_items": null,
       "align_self": null,
       "border_bottom": null,
       "border_left": null,
       "border_right": null,
       "border_top": null,
       "bottom": null,
       "display": null,
       "flex": null,
       "flex_flow": null,
       "grid_area": null,
       "grid_auto_columns": null,
       "grid_auto_flow": null,
       "grid_auto_rows": null,
       "grid_column": null,
       "grid_gap": null,
       "grid_row": null,
       "grid_template_areas": null,
       "grid_template_columns": null,
       "grid_template_rows": null,
       "height": null,
       "justify_content": null,
       "justify_items": null,
       "left": null,
       "margin": null,
       "max_height": null,
       "max_width": null,
       "min_height": null,
       "min_width": null,
       "object_fit": null,
       "object_position": null,
       "order": null,
       "overflow": null,
       "padding": null,
       "right": null,
       "top": null,
       "visibility": null,
       "width": null
      }
     },
     "b89aedc02e7245828ce8485dd81604fd": {
      "model_module": "@jupyter-widgets/base",
      "model_module_version": "2.0.0",
      "model_name": "LayoutModel",
      "state": {
       "_model_module": "@jupyter-widgets/base",
       "_model_module_version": "2.0.0",
       "_model_name": "LayoutModel",
       "_view_count": null,
       "_view_module": "@jupyter-widgets/base",
       "_view_module_version": "2.0.0",
       "_view_name": "LayoutView",
       "align_content": null,
       "align_items": null,
       "align_self": null,
       "border_bottom": null,
       "border_left": null,
       "border_right": null,
       "border_top": null,
       "bottom": null,
       "display": null,
       "flex": null,
       "flex_flow": null,
       "grid_area": null,
       "grid_auto_columns": null,
       "grid_auto_flow": null,
       "grid_auto_rows": null,
       "grid_column": null,
       "grid_gap": null,
       "grid_row": null,
       "grid_template_areas": null,
       "grid_template_columns": null,
       "grid_template_rows": null,
       "height": null,
       "justify_content": null,
       "justify_items": null,
       "left": null,
       "margin": null,
       "max_height": null,
       "max_width": null,
       "min_height": null,
       "min_width": null,
       "object_fit": null,
       "object_position": null,
       "order": null,
       "overflow": null,
       "padding": null,
       "right": null,
       "top": null,
       "visibility": null,
       "width": null
      }
     },
     "bb8b5e575ba14b57997bfd5c9a9f58b8": {
      "model_module": "@jupyter-widgets/controls",
      "model_module_version": "2.0.0",
      "model_name": "HTMLStyleModel",
      "state": {
       "_model_module": "@jupyter-widgets/controls",
       "_model_module_version": "2.0.0",
       "_model_name": "HTMLStyleModel",
       "_view_count": null,
       "_view_module": "@jupyter-widgets/base",
       "_view_module_version": "2.0.0",
       "_view_name": "StyleView",
       "background": null,
       "description_width": "",
       "font_size": null,
       "text_color": null
      }
     },
     "bf202185741949b2a4b78eebc7aafbec": {
      "model_module": "@jupyter-widgets/base",
      "model_module_version": "2.0.0",
      "model_name": "LayoutModel",
      "state": {
       "_model_module": "@jupyter-widgets/base",
       "_model_module_version": "2.0.0",
       "_model_name": "LayoutModel",
       "_view_count": null,
       "_view_module": "@jupyter-widgets/base",
       "_view_module_version": "2.0.0",
       "_view_name": "LayoutView",
       "align_content": null,
       "align_items": null,
       "align_self": null,
       "border_bottom": null,
       "border_left": null,
       "border_right": null,
       "border_top": null,
       "bottom": null,
       "display": null,
       "flex": null,
       "flex_flow": null,
       "grid_area": null,
       "grid_auto_columns": null,
       "grid_auto_flow": null,
       "grid_auto_rows": null,
       "grid_column": null,
       "grid_gap": null,
       "grid_row": null,
       "grid_template_areas": null,
       "grid_template_columns": null,
       "grid_template_rows": null,
       "height": null,
       "justify_content": null,
       "justify_items": null,
       "left": null,
       "margin": null,
       "max_height": null,
       "max_width": null,
       "min_height": null,
       "min_width": null,
       "object_fit": null,
       "object_position": null,
       "order": null,
       "overflow": null,
       "padding": null,
       "right": null,
       "top": null,
       "visibility": null,
       "width": null
      }
     },
     "c53dfed47c32482c90bf33ea9a2dd584": {
      "model_module": "@jupyter-widgets/base",
      "model_module_version": "2.0.0",
      "model_name": "LayoutModel",
      "state": {
       "_model_module": "@jupyter-widgets/base",
       "_model_module_version": "2.0.0",
       "_model_name": "LayoutModel",
       "_view_count": null,
       "_view_module": "@jupyter-widgets/base",
       "_view_module_version": "2.0.0",
       "_view_name": "LayoutView",
       "align_content": null,
       "align_items": null,
       "align_self": null,
       "border_bottom": null,
       "border_left": null,
       "border_right": null,
       "border_top": null,
       "bottom": null,
       "display": null,
       "flex": null,
       "flex_flow": null,
       "grid_area": null,
       "grid_auto_columns": null,
       "grid_auto_flow": null,
       "grid_auto_rows": null,
       "grid_column": null,
       "grid_gap": null,
       "grid_row": null,
       "grid_template_areas": null,
       "grid_template_columns": null,
       "grid_template_rows": null,
       "height": null,
       "justify_content": null,
       "justify_items": null,
       "left": null,
       "margin": null,
       "max_height": null,
       "max_width": null,
       "min_height": null,
       "min_width": null,
       "object_fit": null,
       "object_position": null,
       "order": null,
       "overflow": null,
       "padding": null,
       "right": null,
       "top": null,
       "visibility": null,
       "width": null
      }
     },
     "d3fe72b34e35475382fce9404714ed40": {
      "model_module": "@jupyter-widgets/controls",
      "model_module_version": "2.0.0",
      "model_name": "HTMLModel",
      "state": {
       "_dom_classes": [],
       "_model_module": "@jupyter-widgets/controls",
       "_model_module_version": "2.0.0",
       "_model_name": "HTMLModel",
       "_view_count": null,
       "_view_module": "@jupyter-widgets/controls",
       "_view_module_version": "2.0.0",
       "_view_name": "HTMLView",
       "description": "",
       "description_allow_html": false,
       "layout": "IPY_MODEL_de10b311ffab47d8918678417fa8b0e6",
       "placeholder": "​",
       "style": "IPY_MODEL_f83746db6f0847daa960b55618b4d01e",
       "tabbable": null,
       "tooltip": null,
       "value": " 625/625 [00:00&lt;00:00, 82.2kB/s]"
      }
     },
     "d436b28331684c1cb35facd764914bcb": {
      "model_module": "@jupyter-widgets/controls",
      "model_module_version": "2.0.0",
      "model_name": "FloatProgressModel",
      "state": {
       "_dom_classes": [],
       "_model_module": "@jupyter-widgets/controls",
       "_model_module_version": "2.0.0",
       "_model_name": "FloatProgressModel",
       "_view_count": null,
       "_view_module": "@jupyter-widgets/controls",
       "_view_module_version": "2.0.0",
       "_view_name": "ProgressView",
       "bar_style": "success",
       "description": "",
       "description_allow_html": false,
       "layout": "IPY_MODEL_b64d717069af42c1a3b9c2d8ac234cb4",
       "max": 49.0,
       "min": 0.0,
       "orientation": "horizontal",
       "style": "IPY_MODEL_6a595cf0502d411e8d8bf4cc30d8b855",
       "tabbable": null,
       "tooltip": null,
       "value": 49.0
      }
     },
     "d6416ca5a9d04521b08bb23e39727be7": {
      "model_module": "@jupyter-widgets/base",
      "model_module_version": "2.0.0",
      "model_name": "LayoutModel",
      "state": {
       "_model_module": "@jupyter-widgets/base",
       "_model_module_version": "2.0.0",
       "_model_name": "LayoutModel",
       "_view_count": null,
       "_view_module": "@jupyter-widgets/base",
       "_view_module_version": "2.0.0",
       "_view_name": "LayoutView",
       "align_content": null,
       "align_items": null,
       "align_self": null,
       "border_bottom": null,
       "border_left": null,
       "border_right": null,
       "border_top": null,
       "bottom": null,
       "display": null,
       "flex": null,
       "flex_flow": null,
       "grid_area": null,
       "grid_auto_columns": null,
       "grid_auto_flow": null,
       "grid_auto_rows": null,
       "grid_column": null,
       "grid_gap": null,
       "grid_row": null,
       "grid_template_areas": null,
       "grid_template_columns": null,
       "grid_template_rows": null,
       "height": null,
       "justify_content": null,
       "justify_items": null,
       "left": null,
       "margin": null,
       "max_height": null,
       "max_width": null,
       "min_height": null,
       "min_width": null,
       "object_fit": null,
       "object_position": null,
       "order": null,
       "overflow": null,
       "padding": null,
       "right": null,
       "top": null,
       "visibility": null,
       "width": null
      }
     },
     "de10b311ffab47d8918678417fa8b0e6": {
      "model_module": "@jupyter-widgets/base",
      "model_module_version": "2.0.0",
      "model_name": "LayoutModel",
      "state": {
       "_model_module": "@jupyter-widgets/base",
       "_model_module_version": "2.0.0",
       "_model_name": "LayoutModel",
       "_view_count": null,
       "_view_module": "@jupyter-widgets/base",
       "_view_module_version": "2.0.0",
       "_view_name": "LayoutView",
       "align_content": null,
       "align_items": null,
       "align_self": null,
       "border_bottom": null,
       "border_left": null,
       "border_right": null,
       "border_top": null,
       "bottom": null,
       "display": null,
       "flex": null,
       "flex_flow": null,
       "grid_area": null,
       "grid_auto_columns": null,
       "grid_auto_flow": null,
       "grid_auto_rows": null,
       "grid_column": null,
       "grid_gap": null,
       "grid_row": null,
       "grid_template_areas": null,
       "grid_template_columns": null,
       "grid_template_rows": null,
       "height": null,
       "justify_content": null,
       "justify_items": null,
       "left": null,
       "margin": null,
       "max_height": null,
       "max_width": null,
       "min_height": null,
       "min_width": null,
       "object_fit": null,
       "object_position": null,
       "order": null,
       "overflow": null,
       "padding": null,
       "right": null,
       "top": null,
       "visibility": null,
       "width": null
      }
     },
     "e006011a5689467da08e1191468279d5": {
      "model_module": "@jupyter-widgets/controls",
      "model_module_version": "2.0.0",
      "model_name": "HBoxModel",
      "state": {
       "_dom_classes": [],
       "_model_module": "@jupyter-widgets/controls",
       "_model_module_version": "2.0.0",
       "_model_name": "HBoxModel",
       "_view_count": null,
       "_view_module": "@jupyter-widgets/controls",
       "_view_module_version": "2.0.0",
       "_view_name": "HBoxView",
       "box_style": "",
       "children": [
        "IPY_MODEL_425701a75ec3490d8aae51aa5e29975f",
        "IPY_MODEL_ea4d3448d50d4e16b7bd7e55264267a3",
        "IPY_MODEL_1f8ae4da54754e6288b8bc4d94d87278"
       ],
       "layout": "IPY_MODEL_c53dfed47c32482c90bf33ea9a2dd584",
       "tabbable": null,
       "tooltip": null
      }
     },
     "e2f60a7d41c1441db3135347240e46e6": {
      "model_module": "@jupyter-widgets/controls",
      "model_module_version": "2.0.0",
      "model_name": "HTMLModel",
      "state": {
       "_dom_classes": [],
       "_model_module": "@jupyter-widgets/controls",
       "_model_module_version": "2.0.0",
       "_model_name": "HTMLModel",
       "_view_count": null,
       "_view_module": "@jupyter-widgets/controls",
       "_view_module_version": "2.0.0",
       "_view_name": "HTMLView",
       "description": "",
       "description_allow_html": false,
       "layout": "IPY_MODEL_b89aedc02e7245828ce8485dd81604fd",
       "placeholder": "​",
       "style": "IPY_MODEL_eef5305c1df54f9a8be3aac93cb56d57",
       "tabbable": null,
       "tooltip": null,
       "value": " 49.0/49.0 [00:00&lt;00:00, 5.92kB/s]"
      }
     },
     "e3bb4d8e411f4e6db63482cff57a845d": {
      "model_module": "@jupyter-widgets/controls",
      "model_module_version": "2.0.0",
      "model_name": "HTMLStyleModel",
      "state": {
       "_model_module": "@jupyter-widgets/controls",
       "_model_module_version": "2.0.0",
       "_model_name": "HTMLStyleModel",
       "_view_count": null,
       "_view_module": "@jupyter-widgets/base",
       "_view_module_version": "2.0.0",
       "_view_name": "StyleView",
       "background": null,
       "description_width": "",
       "font_size": null,
       "text_color": null
      }
     },
     "e50d0f39d303497b8fe695111013c903": {
      "model_module": "@jupyter-widgets/base",
      "model_module_version": "2.0.0",
      "model_name": "LayoutModel",
      "state": {
       "_model_module": "@jupyter-widgets/base",
       "_model_module_version": "2.0.0",
       "_model_name": "LayoutModel",
       "_view_count": null,
       "_view_module": "@jupyter-widgets/base",
       "_view_module_version": "2.0.0",
       "_view_name": "LayoutView",
       "align_content": null,
       "align_items": null,
       "align_self": null,
       "border_bottom": null,
       "border_left": null,
       "border_right": null,
       "border_top": null,
       "bottom": null,
       "display": null,
       "flex": null,
       "flex_flow": null,
       "grid_area": null,
       "grid_auto_columns": null,
       "grid_auto_flow": null,
       "grid_auto_rows": null,
       "grid_column": null,
       "grid_gap": null,
       "grid_row": null,
       "grid_template_areas": null,
       "grid_template_columns": null,
       "grid_template_rows": null,
       "height": null,
       "justify_content": null,
       "justify_items": null,
       "left": null,
       "margin": null,
       "max_height": null,
       "max_width": null,
       "min_height": null,
       "min_width": null,
       "object_fit": null,
       "object_position": null,
       "order": null,
       "overflow": null,
       "padding": null,
       "right": null,
       "top": null,
       "visibility": null,
       "width": null
      }
     },
     "e7fb24f4996a4b5f9c8203c7f2bbf2bd": {
      "model_module": "@jupyter-widgets/controls",
      "model_module_version": "2.0.0",
      "model_name": "HBoxModel",
      "state": {
       "_dom_classes": [],
       "_model_module": "@jupyter-widgets/controls",
       "_model_module_version": "2.0.0",
       "_model_name": "HBoxModel",
       "_view_count": null,
       "_view_module": "@jupyter-widgets/controls",
       "_view_module_version": "2.0.0",
       "_view_name": "HBoxView",
       "box_style": "",
       "children": [
        "IPY_MODEL_5f73623728ac4949b46e105bcddff9d0",
        "IPY_MODEL_29b7c3b2d09944f78e57bfe5cda208d9",
        "IPY_MODEL_f75ee20fe82847ca863631abde571a09"
       ],
       "layout": "IPY_MODEL_8de7815e7e204aedb68d6c48da5899f6",
       "tabbable": null,
       "tooltip": null
      }
     },
     "ea4d3448d50d4e16b7bd7e55264267a3": {
      "model_module": "@jupyter-widgets/controls",
      "model_module_version": "2.0.0",
      "model_name": "FloatProgressModel",
      "state": {
       "_dom_classes": [],
       "_model_module": "@jupyter-widgets/controls",
       "_model_module_version": "2.0.0",
       "_model_name": "FloatProgressModel",
       "_view_count": null,
       "_view_module": "@jupyter-widgets/controls",
       "_view_module_version": "2.0.0",
       "_view_name": "ProgressView",
       "bar_style": "success",
       "description": "",
       "description_allow_html": false,
       "layout": "IPY_MODEL_d6416ca5a9d04521b08bb23e39727be7",
       "max": 995526.0,
       "min": 0.0,
       "orientation": "horizontal",
       "style": "IPY_MODEL_1441d5e200d647c297fccd8b96b067f8",
       "tabbable": null,
       "tooltip": null,
       "value": 995526.0
      }
     },
     "eef5305c1df54f9a8be3aac93cb56d57": {
      "model_module": "@jupyter-widgets/controls",
      "model_module_version": "2.0.0",
      "model_name": "HTMLStyleModel",
      "state": {
       "_model_module": "@jupyter-widgets/controls",
       "_model_module_version": "2.0.0",
       "_model_name": "HTMLStyleModel",
       "_view_count": null,
       "_view_module": "@jupyter-widgets/base",
       "_view_module_version": "2.0.0",
       "_view_name": "StyleView",
       "background": null,
       "description_width": "",
       "font_size": null,
       "text_color": null
      }
     },
     "f6dd9d0e365b4a9b85583397eef0eb27": {
      "model_module": "@jupyter-widgets/controls",
      "model_module_version": "2.0.0",
      "model_name": "HTMLStyleModel",
      "state": {
       "_model_module": "@jupyter-widgets/controls",
       "_model_module_version": "2.0.0",
       "_model_name": "HTMLStyleModel",
       "_view_count": null,
       "_view_module": "@jupyter-widgets/base",
       "_view_module_version": "2.0.0",
       "_view_name": "StyleView",
       "background": null,
       "description_width": "",
       "font_size": null,
       "text_color": null
      }
     },
     "f75ee20fe82847ca863631abde571a09": {
      "model_module": "@jupyter-widgets/controls",
      "model_module_version": "2.0.0",
      "model_name": "HTMLModel",
      "state": {
       "_dom_classes": [],
       "_model_module": "@jupyter-widgets/controls",
       "_model_module_version": "2.0.0",
       "_model_name": "HTMLModel",
       "_view_count": null,
       "_view_module": "@jupyter-widgets/controls",
       "_view_module_version": "2.0.0",
       "_view_name": "HTMLView",
       "description": "",
       "description_allow_html": false,
       "layout": "IPY_MODEL_b22a37bc247c410a91334ad030b38dcd",
       "placeholder": "​",
       "style": "IPY_MODEL_e3bb4d8e411f4e6db63482cff57a845d",
       "tabbable": null,
       "tooltip": null,
       "value": " 714M/714M [00:02&lt;00:00, 319MB/s]"
      }
     },
     "f83746db6f0847daa960b55618b4d01e": {
      "model_module": "@jupyter-widgets/controls",
      "model_module_version": "2.0.0",
      "model_name": "HTMLStyleModel",
      "state": {
       "_model_module": "@jupyter-widgets/controls",
       "_model_module_version": "2.0.0",
       "_model_name": "HTMLStyleModel",
       "_view_count": null,
       "_view_module": "@jupyter-widgets/base",
       "_view_module_version": "2.0.0",
       "_view_name": "StyleView",
       "background": null,
       "description_width": "",
       "font_size": null,
       "text_color": null
      }
     },
     "fbd688a2a3c14b3f9097a501cf93b887": {
      "model_module": "@jupyter-widgets/base",
      "model_module_version": "2.0.0",
      "model_name": "LayoutModel",
      "state": {
       "_model_module": "@jupyter-widgets/base",
       "_model_module_version": "2.0.0",
       "_model_name": "LayoutModel",
       "_view_count": null,
       "_view_module": "@jupyter-widgets/base",
       "_view_module_version": "2.0.0",
       "_view_name": "LayoutView",
       "align_content": null,
       "align_items": null,
       "align_self": null,
       "border_bottom": null,
       "border_left": null,
       "border_right": null,
       "border_top": null,
       "bottom": null,
       "display": null,
       "flex": null,
       "flex_flow": null,
       "grid_area": null,
       "grid_auto_columns": null,
       "grid_auto_flow": null,
       "grid_auto_rows": null,
       "grid_column": null,
       "grid_gap": null,
       "grid_row": null,
       "grid_template_areas": null,
       "grid_template_columns": null,
       "grid_template_rows": null,
       "height": null,
       "justify_content": null,
       "justify_items": null,
       "left": null,
       "margin": null,
       "max_height": null,
       "max_width": null,
       "min_height": null,
       "min_width": null,
       "object_fit": null,
       "object_position": null,
       "order": null,
       "overflow": null,
       "padding": null,
       "right": null,
       "top": null,
       "visibility": null,
       "width": null
      }
     },
     "fe6d0138a3014fb282b5b6fb9df8fa19": {
      "model_module": "@jupyter-widgets/base",
      "model_module_version": "2.0.0",
      "model_name": "LayoutModel",
      "state": {
       "_model_module": "@jupyter-widgets/base",
       "_model_module_version": "2.0.0",
       "_model_name": "LayoutModel",
       "_view_count": null,
       "_view_module": "@jupyter-widgets/base",
       "_view_module_version": "2.0.0",
       "_view_name": "LayoutView",
       "align_content": null,
       "align_items": null,
       "align_self": null,
       "border_bottom": null,
       "border_left": null,
       "border_right": null,
       "border_top": null,
       "bottom": null,
       "display": null,
       "flex": null,
       "flex_flow": null,
       "grid_area": null,
       "grid_auto_columns": null,
       "grid_auto_flow": null,
       "grid_auto_rows": null,
       "grid_column": null,
       "grid_gap": null,
       "grid_row": null,
       "grid_template_areas": null,
       "grid_template_columns": null,
       "grid_template_rows": null,
       "height": null,
       "justify_content": null,
       "justify_items": null,
       "left": null,
       "margin": null,
       "max_height": null,
       "max_width": null,
       "min_height": null,
       "min_width": null,
       "object_fit": null,
       "object_position": null,
       "order": null,
       "overflow": null,
       "padding": null,
       "right": null,
       "top": null,
       "visibility": null,
       "width": null
      }
     }
    },
    "version_major": 2,
    "version_minor": 0
   }
  }
 },
 "nbformat": 4,
 "nbformat_minor": 5
}

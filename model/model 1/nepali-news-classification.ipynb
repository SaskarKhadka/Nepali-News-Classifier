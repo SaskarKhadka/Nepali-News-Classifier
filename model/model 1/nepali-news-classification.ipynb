{
 "cells": [
  {
   "cell_type": "code",
   "execution_count": 1,
   "id": "3690c70d",
   "metadata": {
    "_cell_guid": "b1076dfc-b9ad-4769-8c92-a6c4dae69d19",
    "_uuid": "8f2839f25d086af736a60e9eeb907d3b93b6e0e5",
    "execution": {
     "iopub.execute_input": "2024-02-24T14:15:20.357359Z",
     "iopub.status.busy": "2024-02-24T14:15:20.356578Z",
     "iopub.status.idle": "2024-02-24T14:15:34.189218Z",
     "shell.execute_reply": "2024-02-24T14:15:34.188450Z"
    },
    "papermill": {
     "duration": 13.851861,
     "end_time": "2024-02-24T14:15:34.191599",
     "exception": false,
     "start_time": "2024-02-24T14:15:20.339738",
     "status": "completed"
    },
    "tags": []
   },
   "outputs": [
    {
     "name": "stderr",
     "output_type": "stream",
     "text": [
      "2024-02-24 14:15:23.943449: E external/local_xla/xla/stream_executor/cuda/cuda_dnn.cc:9261] Unable to register cuDNN factory: Attempting to register factory for plugin cuDNN when one has already been registered\n",
      "2024-02-24 14:15:23.943575: E external/local_xla/xla/stream_executor/cuda/cuda_fft.cc:607] Unable to register cuFFT factory: Attempting to register factory for plugin cuFFT when one has already been registered\n",
      "2024-02-24 14:15:24.073692: E external/local_xla/xla/stream_executor/cuda/cuda_blas.cc:1515] Unable to register cuBLAS factory: Attempting to register factory for plugin cuBLAS when one has already been registered\n"
     ]
    }
   ],
   "source": [
    "import numpy as np\n",
    "import pandas as pd\n",
    "import matplotlib.pyplot as plt\n",
    "import seaborn as sns\n",
    "import tensorflow as tf"
   ]
  },
  {
   "cell_type": "code",
   "execution_count": 2,
   "id": "a30a83b7",
   "metadata": {
    "execution": {
     "iopub.execute_input": "2024-02-24T14:15:34.222911Z",
     "iopub.status.busy": "2024-02-24T14:15:34.222359Z",
     "iopub.status.idle": "2024-02-24T14:15:34.226579Z",
     "shell.execute_reply": "2024-02-24T14:15:34.225818Z"
    },
    "papermill": {
     "duration": 0.021716,
     "end_time": "2024-02-24T14:15:34.228506",
     "exception": false,
     "start_time": "2024-02-24T14:15:34.206790",
     "status": "completed"
    },
    "tags": []
   },
   "outputs": [],
   "source": [
    "# To ignore warinings\n",
    "import warnings\n",
    "warnings.filterwarnings('ignore')"
   ]
  },
  {
   "cell_type": "code",
   "execution_count": 3,
   "id": "45fdba8f",
   "metadata": {
    "execution": {
     "iopub.execute_input": "2024-02-24T14:15:34.260751Z",
     "iopub.status.busy": "2024-02-24T14:15:34.260485Z",
     "iopub.status.idle": "2024-02-24T14:16:36.945690Z",
     "shell.execute_reply": "2024-02-24T14:16:36.944847Z"
    },
    "papermill": {
     "duration": 62.704068,
     "end_time": "2024-02-24T14:16:36.948133",
     "exception": false,
     "start_time": "2024-02-24T14:15:34.244065",
     "status": "completed"
    },
    "tags": []
   },
   "outputs": [],
   "source": [
    "# Reading the dataset\n",
    "df = pd.read_csv('/kaggle/input/nepali-news-classification-set/full_cleaned.csv')"
   ]
  },
  {
   "cell_type": "code",
   "execution_count": 4,
   "id": "54552379",
   "metadata": {
    "execution": {
     "iopub.execute_input": "2024-02-24T14:16:36.979481Z",
     "iopub.status.busy": "2024-02-24T14:16:36.979178Z",
     "iopub.status.idle": "2024-02-24T14:16:36.993737Z",
     "shell.execute_reply": "2024-02-24T14:16:36.992916Z"
    },
    "papermill": {
     "duration": 0.032215,
     "end_time": "2024-02-24T14:16:36.995588",
     "exception": false,
     "start_time": "2024-02-24T14:16:36.963373",
     "status": "completed"
    },
    "tags": []
   },
   "outputs": [
    {
     "data": {
      "text/html": [
       "<div>\n",
       "<style scoped>\n",
       "    .dataframe tbody tr th:only-of-type {\n",
       "        vertical-align: middle;\n",
       "    }\n",
       "\n",
       "    .dataframe tbody tr th {\n",
       "        vertical-align: top;\n",
       "    }\n",
       "\n",
       "    .dataframe thead th {\n",
       "        text-align: right;\n",
       "    }\n",
       "</style>\n",
       "<table border=\"1\" class=\"dataframe\">\n",
       "  <thead>\n",
       "    <tr style=\"text-align: right;\">\n",
       "      <th></th>\n",
       "      <th>title</th>\n",
       "      <th>news_stopwords</th>\n",
       "      <th>news_no_stopwords</th>\n",
       "      <th>category</th>\n",
       "    </tr>\n",
       "  </thead>\n",
       "  <tbody>\n",
       "    <tr>\n",
       "      <th>0</th>\n",
       "      <td>निखिल उप्रेतीको भैरव फिल्मले अमेरिकामा रहेका न...</td>\n",
       "      <td>अमेरिकाका नेपालीको प्रतिक्रिया लिने इच्छा व्यक...</td>\n",
       "      <td>अमेरिकाका नेपालीको प्रतिक्रिया लिने इच्छा व्यक...</td>\n",
       "      <td>मनोरञ्जन</td>\n",
       "    </tr>\n",
       "    <tr>\n",
       "      <th>1</th>\n",
       "      <td>सुशील कोइरालाको निधनपछि चौरासी बाले खोले यस्ता...</td>\n",
       "      <td>झण्डै बर्षअघि सुशील कोइरालाले प्रधानमन्त्रीको ...</td>\n",
       "      <td>झण्डै बर्षअघि सुशील कोइरालाले प्रधानमन्त्रीको ...</td>\n",
       "      <td>मनोरञ्जन</td>\n",
       "    </tr>\n",
       "    <tr>\n",
       "      <th>2</th>\n",
       "      <td>लिटल प्रिन्स एण्ड प्रिन्सेसको ग्रान्ड फिनाले</td>\n",
       "      <td>ग्ल्यामरस नेपालले सुरुङ्गामा लिटल प्रिन्स एन्ड...</td>\n",
       "      <td>ग्ल्यामरस नेपालले सुरुङ्गामा लिटल प्रिन्स एन्ड...</td>\n",
       "      <td>मनोरञ्जन</td>\n",
       "    </tr>\n",
       "    <tr>\n",
       "      <th>3</th>\n",
       "      <td>अमेरिकामा सबैभन्दा धेरै कमाउने सिईओ बने पिचाई ...</td>\n",
       "      <td>गूगलका सिईओ सुन्दर पिचाई अमेरिकामा सबैभन्दा धे...</td>\n",
       "      <td>गूगलका सिईओ सुन्दर पिचाई अमेरिकामा सबैभन्दा कम...</td>\n",
       "      <td>मनोरञ्जन</td>\n",
       "    </tr>\n",
       "    <tr>\n",
       "      <th>4</th>\n",
       "      <td>ज्योती मगरको धमाका दोहोरीमा र्याप</td>\n",
       "      <td>दोहोरीमा र्याप बोलको गीतको भिडियो सार्वजनिक भए...</td>\n",
       "      <td>दोहोरीमा र्याप बोलको गीतको भिडियो सार्वजनिक चर...</td>\n",
       "      <td>मनोरञ्जन</td>\n",
       "    </tr>\n",
       "  </tbody>\n",
       "</table>\n",
       "</div>"
      ],
      "text/plain": [
       "                                               title  \\\n",
       "0  निखिल उप्रेतीको भैरव फिल्मले अमेरिकामा रहेका न...   \n",
       "1  सुशील कोइरालाको निधनपछि चौरासी बाले खोले यस्ता...   \n",
       "2       लिटल प्रिन्स एण्ड प्रिन्सेसको ग्रान्ड फिनाले   \n",
       "3  अमेरिकामा सबैभन्दा धेरै कमाउने सिईओ बने पिचाई ...   \n",
       "4                  ज्योती मगरको धमाका दोहोरीमा र्याप   \n",
       "\n",
       "                                      news_stopwords  \\\n",
       "0  अमेरिकाका नेपालीको प्रतिक्रिया लिने इच्छा व्यक...   \n",
       "1  झण्डै बर्षअघि सुशील कोइरालाले प्रधानमन्त्रीको ...   \n",
       "2  ग्ल्यामरस नेपालले सुरुङ्गामा लिटल प्रिन्स एन्ड...   \n",
       "3  गूगलका सिईओ सुन्दर पिचाई अमेरिकामा सबैभन्दा धे...   \n",
       "4  दोहोरीमा र्याप बोलको गीतको भिडियो सार्वजनिक भए...   \n",
       "\n",
       "                                   news_no_stopwords  category  \n",
       "0  अमेरिकाका नेपालीको प्रतिक्रिया लिने इच्छा व्यक...  मनोरञ्जन  \n",
       "1  झण्डै बर्षअघि सुशील कोइरालाले प्रधानमन्त्रीको ...  मनोरञ्जन  \n",
       "2  ग्ल्यामरस नेपालले सुरुङ्गामा लिटल प्रिन्स एन्ड...  मनोरञ्जन  \n",
       "3  गूगलका सिईओ सुन्दर पिचाई अमेरिकामा सबैभन्दा कम...  मनोरञ्जन  \n",
       "4  दोहोरीमा र्याप बोलको गीतको भिडियो सार्वजनिक चर...  मनोरञ्जन  "
      ]
     },
     "execution_count": 4,
     "metadata": {},
     "output_type": "execute_result"
    }
   ],
   "source": [
    "df.head()"
   ]
  },
  {
   "cell_type": "code",
   "execution_count": 5,
   "id": "fb1de3df",
   "metadata": {
    "execution": {
     "iopub.execute_input": "2024-02-24T14:16:37.026468Z",
     "iopub.status.busy": "2024-02-24T14:16:37.026192Z",
     "iopub.status.idle": "2024-02-24T14:16:37.035449Z",
     "shell.execute_reply": "2024-02-24T14:16:37.034696Z"
    },
    "papermill": {
     "duration": 0.026909,
     "end_time": "2024-02-24T14:16:37.037524",
     "exception": false,
     "start_time": "2024-02-24T14:16:37.010615",
     "status": "completed"
    },
    "tags": []
   },
   "outputs": [
    {
     "data": {
      "text/html": [
       "<div>\n",
       "<style scoped>\n",
       "    .dataframe tbody tr th:only-of-type {\n",
       "        vertical-align: middle;\n",
       "    }\n",
       "\n",
       "    .dataframe tbody tr th {\n",
       "        vertical-align: top;\n",
       "    }\n",
       "\n",
       "    .dataframe thead th {\n",
       "        text-align: right;\n",
       "    }\n",
       "</style>\n",
       "<table border=\"1\" class=\"dataframe\">\n",
       "  <thead>\n",
       "    <tr style=\"text-align: right;\">\n",
       "      <th></th>\n",
       "      <th>title</th>\n",
       "      <th>news_stopwords</th>\n",
       "      <th>news_no_stopwords</th>\n",
       "      <th>category</th>\n",
       "    </tr>\n",
       "  </thead>\n",
       "  <tbody>\n",
       "    <tr>\n",
       "      <th>0</th>\n",
       "      <td>निखिल उप्रेतीको भैरव फिल्मले अमेरिकामा रहेका न...</td>\n",
       "      <td>अमेरिकाका नेपालीको प्रतिक्रिया लिने इच्छा व्यक...</td>\n",
       "      <td>अमेरिकाका नेपालीको प्रतिक्रिया लिने इच्छा व्यक...</td>\n",
       "      <td>मनोरञ्जन</td>\n",
       "    </tr>\n",
       "    <tr>\n",
       "      <th>1</th>\n",
       "      <td>सुशील कोइरालाको निधनपछि चौरासी बाले खोले यस्ता...</td>\n",
       "      <td>झण्डै बर्षअघि सुशील कोइरालाले प्रधानमन्त्रीको ...</td>\n",
       "      <td>झण्डै बर्षअघि सुशील कोइरालाले प्रधानमन्त्रीको ...</td>\n",
       "      <td>मनोरञ्जन</td>\n",
       "    </tr>\n",
       "    <tr>\n",
       "      <th>2</th>\n",
       "      <td>लिटल प्रिन्स एण्ड प्रिन्सेसको ग्रान्ड फिनाले</td>\n",
       "      <td>ग्ल्यामरस नेपालले सुरुङ्गामा लिटल प्रिन्स एन्ड...</td>\n",
       "      <td>ग्ल्यामरस नेपालले सुरुङ्गामा लिटल प्रिन्स एन्ड...</td>\n",
       "      <td>मनोरञ्जन</td>\n",
       "    </tr>\n",
       "    <tr>\n",
       "      <th>3</th>\n",
       "      <td>अमेरिकामा सबैभन्दा धेरै कमाउने सिईओ बने पिचाई ...</td>\n",
       "      <td>गूगलका सिईओ सुन्दर पिचाई अमेरिकामा सबैभन्दा धे...</td>\n",
       "      <td>गूगलका सिईओ सुन्दर पिचाई अमेरिकामा सबैभन्दा कम...</td>\n",
       "      <td>मनोरञ्जन</td>\n",
       "    </tr>\n",
       "    <tr>\n",
       "      <th>4</th>\n",
       "      <td>ज्योती मगरको धमाका दोहोरीमा र्याप</td>\n",
       "      <td>दोहोरीमा र्याप बोलको गीतको भिडियो सार्वजनिक भए...</td>\n",
       "      <td>दोहोरीमा र्याप बोलको गीतको भिडियो सार्वजनिक चर...</td>\n",
       "      <td>मनोरञ्जन</td>\n",
       "    </tr>\n",
       "  </tbody>\n",
       "</table>\n",
       "</div>"
      ],
      "text/plain": [
       "                                               title  \\\n",
       "0  निखिल उप्रेतीको भैरव फिल्मले अमेरिकामा रहेका न...   \n",
       "1  सुशील कोइरालाको निधनपछि चौरासी बाले खोले यस्ता...   \n",
       "2       लिटल प्रिन्स एण्ड प्रिन्सेसको ग्रान्ड फिनाले   \n",
       "3  अमेरिकामा सबैभन्दा धेरै कमाउने सिईओ बने पिचाई ...   \n",
       "4                  ज्योती मगरको धमाका दोहोरीमा र्याप   \n",
       "\n",
       "                                      news_stopwords  \\\n",
       "0  अमेरिकाका नेपालीको प्रतिक्रिया लिने इच्छा व्यक...   \n",
       "1  झण्डै बर्षअघि सुशील कोइरालाले प्रधानमन्त्रीको ...   \n",
       "2  ग्ल्यामरस नेपालले सुरुङ्गामा लिटल प्रिन्स एन्ड...   \n",
       "3  गूगलका सिईओ सुन्दर पिचाई अमेरिकामा सबैभन्दा धे...   \n",
       "4  दोहोरीमा र्याप बोलको गीतको भिडियो सार्वजनिक भए...   \n",
       "\n",
       "                                   news_no_stopwords  category  \n",
       "0  अमेरिकाका नेपालीको प्रतिक्रिया लिने इच्छा व्यक...  मनोरञ्जन  \n",
       "1  झण्डै बर्षअघि सुशील कोइरालाले प्रधानमन्त्रीको ...  मनोरञ्जन  \n",
       "2  ग्ल्यामरस नेपालले सुरुङ्गामा लिटल प्रिन्स एन्ड...  मनोरञ्जन  \n",
       "3  गूगलका सिईओ सुन्दर पिचाई अमेरिकामा सबैभन्दा कम...  मनोरञ्जन  \n",
       "4  दोहोरीमा र्याप बोलको गीतको भिडियो सार्वजनिक चर...  मनोरञ्जन  "
      ]
     },
     "execution_count": 5,
     "metadata": {},
     "output_type": "execute_result"
    }
   ],
   "source": [
    "df.head(5)"
   ]
  },
  {
   "cell_type": "code",
   "execution_count": 6,
   "id": "96ca88e2",
   "metadata": {
    "execution": {
     "iopub.execute_input": "2024-02-24T14:16:37.069499Z",
     "iopub.status.busy": "2024-02-24T14:16:37.069232Z",
     "iopub.status.idle": "2024-02-24T14:16:37.074530Z",
     "shell.execute_reply": "2024-02-24T14:16:37.073687Z"
    },
    "papermill": {
     "duration": 0.0234,
     "end_time": "2024-02-24T14:16:37.076341",
     "exception": false,
     "start_time": "2024-02-24T14:16:37.052941",
     "status": "completed"
    },
    "tags": []
   },
   "outputs": [
    {
     "data": {
      "text/plain": [
       "(369800, 4)"
      ]
     },
     "execution_count": 6,
     "metadata": {},
     "output_type": "execute_result"
    }
   ],
   "source": [
    "df.shape"
   ]
  },
  {
   "cell_type": "markdown",
   "id": "7660fcc6",
   "metadata": {
    "papermill": {
     "duration": 0.015068,
     "end_time": "2024-02-24T14:16:37.106834",
     "exception": false,
     "start_time": "2024-02-24T14:16:37.091766",
     "status": "completed"
    },
    "tags": []
   },
   "source": [
    "For classification, we only need the news(news_no_stopwords) and catgeory.<br>\n",
    "So lets remove the other unnecessary columns"
   ]
  },
  {
   "cell_type": "code",
   "execution_count": 7,
   "id": "d6b12c98",
   "metadata": {
    "execution": {
     "iopub.execute_input": "2024-02-24T14:16:37.138864Z",
     "iopub.status.busy": "2024-02-24T14:16:37.138392Z",
     "iopub.status.idle": "2024-02-24T14:16:37.164631Z",
     "shell.execute_reply": "2024-02-24T14:16:37.163769Z"
    },
    "papermill": {
     "duration": 0.04418,
     "end_time": "2024-02-24T14:16:37.166465",
     "exception": false,
     "start_time": "2024-02-24T14:16:37.122285",
     "status": "completed"
    },
    "tags": []
   },
   "outputs": [],
   "source": [
    "df.drop(columns=[\"title\", \"news_stopwords\"], inplace=True)"
   ]
  },
  {
   "cell_type": "code",
   "execution_count": 8,
   "id": "bd22a8a0",
   "metadata": {
    "execution": {
     "iopub.execute_input": "2024-02-24T14:16:37.198230Z",
     "iopub.status.busy": "2024-02-24T14:16:37.197970Z",
     "iopub.status.idle": "2024-02-24T14:16:37.203069Z",
     "shell.execute_reply": "2024-02-24T14:16:37.202253Z"
    },
    "papermill": {
     "duration": 0.023139,
     "end_time": "2024-02-24T14:16:37.204949",
     "exception": false,
     "start_time": "2024-02-24T14:16:37.181810",
     "status": "completed"
    },
    "tags": []
   },
   "outputs": [
    {
     "data": {
      "text/plain": [
       "(369800, 2)"
      ]
     },
     "execution_count": 8,
     "metadata": {},
     "output_type": "execute_result"
    }
   ],
   "source": [
    "df.shape"
   ]
  },
  {
   "cell_type": "code",
   "execution_count": 9,
   "id": "9ef75fa5",
   "metadata": {
    "execution": {
     "iopub.execute_input": "2024-02-24T14:16:37.237863Z",
     "iopub.status.busy": "2024-02-24T14:16:37.237088Z",
     "iopub.status.idle": "2024-02-24T14:16:38.329047Z",
     "shell.execute_reply": "2024-02-24T14:16:38.328072Z"
    },
    "papermill": {
     "duration": 1.110388,
     "end_time": "2024-02-24T14:16:38.331192",
     "exception": false,
     "start_time": "2024-02-24T14:16:37.220804",
     "status": "completed"
    },
    "tags": []
   },
   "outputs": [
    {
     "data": {
      "text/html": [
       "<div>\n",
       "<style scoped>\n",
       "    .dataframe tbody tr th:only-of-type {\n",
       "        vertical-align: middle;\n",
       "    }\n",
       "\n",
       "    .dataframe tbody tr th {\n",
       "        vertical-align: top;\n",
       "    }\n",
       "\n",
       "    .dataframe thead th {\n",
       "        text-align: right;\n",
       "    }\n",
       "</style>\n",
       "<table border=\"1\" class=\"dataframe\">\n",
       "  <thead>\n",
       "    <tr style=\"text-align: right;\">\n",
       "      <th></th>\n",
       "      <th>news_no_stopwords</th>\n",
       "      <th>category</th>\n",
       "    </tr>\n",
       "  </thead>\n",
       "  <tbody>\n",
       "    <tr>\n",
       "      <th>count</th>\n",
       "      <td>369800</td>\n",
       "      <td>369800</td>\n",
       "    </tr>\n",
       "    <tr>\n",
       "      <th>unique</th>\n",
       "      <td>361955</td>\n",
       "      <td>10</td>\n",
       "    </tr>\n",
       "    <tr>\n",
       "      <th>top</th>\n",
       "      <td>थप जनामा कोरोना भाइरस संक्रमण पुष्टि घन्टामा द...</td>\n",
       "      <td>राजनीति</td>\n",
       "    </tr>\n",
       "    <tr>\n",
       "      <th>freq</th>\n",
       "      <td>36</td>\n",
       "      <td>59975</td>\n",
       "    </tr>\n",
       "  </tbody>\n",
       "</table>\n",
       "</div>"
      ],
      "text/plain": [
       "                                        news_no_stopwords category\n",
       "count                                              369800   369800\n",
       "unique                                             361955       10\n",
       "top     थप जनामा कोरोना भाइरस संक्रमण पुष्टि घन्टामा द...  राजनीति\n",
       "freq                                                   36    59975"
      ]
     },
     "execution_count": 9,
     "metadata": {},
     "output_type": "execute_result"
    }
   ],
   "source": [
    "df.describe()"
   ]
  },
  {
   "cell_type": "markdown",
   "id": "e5e7fc35",
   "metadata": {
    "papermill": {
     "duration": 0.01564,
     "end_time": "2024-02-24T14:16:38.363297",
     "exception": false,
     "start_time": "2024-02-24T14:16:38.347657",
     "status": "completed"
    },
    "tags": []
   },
   "source": [
    "So, we have 361955 unique news scattered along 10 different catgeories.<br>\n",
    "There seems to be duplicate news. So lets remove them."
   ]
  },
  {
   "cell_type": "code",
   "execution_count": 10,
   "id": "5cad1082",
   "metadata": {
    "execution": {
     "iopub.execute_input": "2024-02-24T14:16:38.396112Z",
     "iopub.status.busy": "2024-02-24T14:16:38.395806Z",
     "iopub.status.idle": "2024-02-24T14:16:38.499311Z",
     "shell.execute_reply": "2024-02-24T14:16:38.498545Z"
    },
    "papermill": {
     "duration": 0.122442,
     "end_time": "2024-02-24T14:16:38.501464",
     "exception": false,
     "start_time": "2024-02-24T14:16:38.379022",
     "status": "completed"
    },
    "tags": []
   },
   "outputs": [],
   "source": [
    "df.drop_duplicates([\"news_no_stopwords\"], inplace=True)"
   ]
  },
  {
   "cell_type": "code",
   "execution_count": 11,
   "id": "cf40db89",
   "metadata": {
    "execution": {
     "iopub.execute_input": "2024-02-24T14:16:38.534999Z",
     "iopub.status.busy": "2024-02-24T14:16:38.534693Z",
     "iopub.status.idle": "2024-02-24T14:16:39.008426Z",
     "shell.execute_reply": "2024-02-24T14:16:39.007524Z"
    },
    "papermill": {
     "duration": 0.492695,
     "end_time": "2024-02-24T14:16:39.010492",
     "exception": false,
     "start_time": "2024-02-24T14:16:38.517797",
     "status": "completed"
    },
    "tags": []
   },
   "outputs": [
    {
     "data": {
      "text/html": [
       "<div>\n",
       "<style scoped>\n",
       "    .dataframe tbody tr th:only-of-type {\n",
       "        vertical-align: middle;\n",
       "    }\n",
       "\n",
       "    .dataframe tbody tr th {\n",
       "        vertical-align: top;\n",
       "    }\n",
       "\n",
       "    .dataframe thead th {\n",
       "        text-align: right;\n",
       "    }\n",
       "</style>\n",
       "<table border=\"1\" class=\"dataframe\">\n",
       "  <thead>\n",
       "    <tr style=\"text-align: right;\">\n",
       "      <th></th>\n",
       "      <th>news_no_stopwords</th>\n",
       "      <th>category</th>\n",
       "    </tr>\n",
       "  </thead>\n",
       "  <tbody>\n",
       "    <tr>\n",
       "      <th>count</th>\n",
       "      <td>361955</td>\n",
       "      <td>361955</td>\n",
       "    </tr>\n",
       "    <tr>\n",
       "      <th>unique</th>\n",
       "      <td>361955</td>\n",
       "      <td>10</td>\n",
       "    </tr>\n",
       "    <tr>\n",
       "      <th>top</th>\n",
       "      <td>आइसिएफसी फाइनान्स लिमिटेडले रूपन्देहीको तिलोत्...</td>\n",
       "      <td>राजनीति</td>\n",
       "    </tr>\n",
       "    <tr>\n",
       "      <th>freq</th>\n",
       "      <td>1</td>\n",
       "      <td>57256</td>\n",
       "    </tr>\n",
       "  </tbody>\n",
       "</table>\n",
       "</div>"
      ],
      "text/plain": [
       "                                        news_no_stopwords category\n",
       "count                                              361955   361955\n",
       "unique                                             361955       10\n",
       "top     आइसिएफसी फाइनान्स लिमिटेडले रूपन्देहीको तिलोत्...  राजनीति\n",
       "freq                                                    1    57256"
      ]
     },
     "execution_count": 11,
     "metadata": {},
     "output_type": "execute_result"
    }
   ],
   "source": [
    "df.describe()"
   ]
  },
  {
   "cell_type": "markdown",
   "id": "ab773645",
   "metadata": {
    "papermill": {
     "duration": 0.016095,
     "end_time": "2024-02-24T14:16:39.043032",
     "exception": false,
     "start_time": "2024-02-24T14:16:39.026937",
     "status": "completed"
    },
    "tags": []
   },
   "source": [
    "Now lets check if there are any null values.<br>\n",
    "If there are any, we will remove them too"
   ]
  },
  {
   "cell_type": "code",
   "execution_count": 12,
   "id": "908ea468",
   "metadata": {
    "execution": {
     "iopub.execute_input": "2024-02-24T14:16:39.076878Z",
     "iopub.status.busy": "2024-02-24T14:16:39.076272Z",
     "iopub.status.idle": "2024-02-24T14:16:39.160042Z",
     "shell.execute_reply": "2024-02-24T14:16:39.159212Z"
    },
    "papermill": {
     "duration": 0.102752,
     "end_time": "2024-02-24T14:16:39.161944",
     "exception": false,
     "start_time": "2024-02-24T14:16:39.059192",
     "status": "completed"
    },
    "tags": []
   },
   "outputs": [
    {
     "data": {
      "text/plain": [
       "news_no_stopwords    0\n",
       "category             0\n",
       "dtype: int64"
      ]
     },
     "execution_count": 12,
     "metadata": {},
     "output_type": "execute_result"
    }
   ],
   "source": [
    "df.isnull().sum()"
   ]
  },
  {
   "cell_type": "markdown",
   "id": "80c98b58",
   "metadata": {
    "papermill": {
     "duration": 0.016148,
     "end_time": "2024-02-24T14:16:39.194481",
     "exception": false,
     "start_time": "2024-02-24T14:16:39.178333",
     "status": "completed"
    },
    "tags": []
   },
   "source": [
    "Lets check if data is distributed evenly between the catgeories  "
   ]
  },
  {
   "cell_type": "code",
   "execution_count": 13,
   "id": "4573df1a",
   "metadata": {
    "execution": {
     "iopub.execute_input": "2024-02-24T14:16:39.227898Z",
     "iopub.status.busy": "2024-02-24T14:16:39.227615Z",
     "iopub.status.idle": "2024-02-24T14:16:39.837914Z",
     "shell.execute_reply": "2024-02-24T14:16:39.836947Z"
    },
    "papermill": {
     "duration": 0.629283,
     "end_time": "2024-02-24T14:16:39.839928",
     "exception": false,
     "start_time": "2024-02-24T14:16:39.210645",
     "status": "completed"
    },
    "tags": []
   },
   "outputs": [
    {
     "data": {
      "text/plain": [
       "<Axes: xlabel='category', ylabel='count'>"
      ]
     },
     "execution_count": 13,
     "metadata": {},
     "output_type": "execute_result"
    },
    {
     "data": {
      "image/png": "[encoded data removed]",
      "text/plain": [
       "<Figure size 640x480 with 1 Axes>"
      ]
     },
     "metadata": {},
     "output_type": "display_data"
    }
   ],
   "source": [
    "sns.countplot(data=df, x='category')"
   ]
  },
  {
   "cell_type": "markdown",
   "id": "0678c7e2",
   "metadata": {
    "papermill": {
     "duration": 0.016739,
     "end_time": "2024-02-24T14:16:39.873932",
     "exception": false,
     "start_time": "2024-02-24T14:16:39.857193",
     "status": "completed"
    },
    "tags": []
   },
   "source": [
    "The plot is not understanding nepali language, so lets map the catgeories to numbers"
   ]
  },
  {
   "cell_type": "code",
   "execution_count": 14,
   "id": "ae14cb99",
   "metadata": {
    "execution": {
     "iopub.execute_input": "2024-02-24T14:16:39.908761Z",
     "iopub.status.busy": "2024-02-24T14:16:39.908456Z",
     "iopub.status.idle": "2024-02-24T14:16:39.966243Z",
     "shell.execute_reply": "2024-02-24T14:16:39.965387Z"
    },
    "papermill": {
     "duration": 0.077371,
     "end_time": "2024-02-24T14:16:39.968123",
     "exception": false,
     "start_time": "2024-02-24T14:16:39.890752",
     "status": "completed"
    },
    "tags": []
   },
   "outputs": [
    {
     "data": {
      "text/plain": [
       "category\n",
       "राजनीति              57256\n",
       "देश/प्रदेश           50188\n",
       "समाज                 49303\n",
       "खेलकुद               42201\n",
       "अर्थ / वाणिज्य       40238\n",
       "विश्व                37305\n",
       "मनोरञ्जन             34074\n",
       "विज्ञान र प्रविधि    23076\n",
       "स्वास्थ्य            21600\n",
       "शिक्षा                6714\n",
       "Name: count, dtype: int64"
      ]
     },
     "execution_count": 14,
     "metadata": {},
     "output_type": "execute_result"
    }
   ],
   "source": [
    "df[\"category\"].value_counts()"
   ]
  },
  {
   "cell_type": "markdown",
   "id": "57925be6",
   "metadata": {
    "papermill": {
     "duration": 0.016744,
     "end_time": "2024-02-24T14:16:40.001977",
     "exception": false,
     "start_time": "2024-02-24T14:16:39.985233",
     "status": "completed"
    },
    "tags": []
   },
   "source": [
    "The number of samples for catgeory \"शिक्षा\" is extremely low, so lets just remove it from the dataset altogether"
   ]
  },
  {
   "cell_type": "code",
   "execution_count": 15,
   "id": "35c7adfd",
   "metadata": {
    "execution": {
     "iopub.execute_input": "2024-02-24T14:16:40.076565Z",
     "iopub.status.busy": "2024-02-24T14:16:40.076250Z",
     "iopub.status.idle": "2024-02-24T14:16:40.082236Z",
     "shell.execute_reply": "2024-02-24T14:16:40.081431Z"
    },
    "papermill": {
     "duration": 0.025909,
     "end_time": "2024-02-24T14:16:40.084057",
     "exception": false,
     "start_time": "2024-02-24T14:16:40.058148",
     "status": "completed"
    },
    "tags": []
   },
   "outputs": [
    {
     "data": {
      "text/plain": [
       "361955"
      ]
     },
     "execution_count": 15,
     "metadata": {},
     "output_type": "execute_result"
    }
   ],
   "source": [
    "len(df[\"category\"])"
   ]
  },
  {
   "cell_type": "code",
   "execution_count": 16,
   "id": "91f19949",
   "metadata": {
    "execution": {
     "iopub.execute_input": "2024-02-24T14:16:40.119688Z",
     "iopub.status.busy": "2024-02-24T14:16:40.119375Z",
     "iopub.status.idle": "2024-02-24T14:16:40.205147Z",
     "shell.execute_reply": "2024-02-24T14:16:40.204428Z"
    },
    "papermill": {
     "duration": 0.10584,
     "end_time": "2024-02-24T14:16:40.207218",
     "exception": false,
     "start_time": "2024-02-24T14:16:40.101378",
     "status": "completed"
    },
    "tags": []
   },
   "outputs": [],
   "source": [
    "df = df[df[\"category\"] != \"शिक्षा\"]"
   ]
  },
  {
   "cell_type": "code",
   "execution_count": 17,
   "id": "c23b5242",
   "metadata": {
    "execution": {
     "iopub.execute_input": "2024-02-24T14:16:40.243351Z",
     "iopub.status.busy": "2024-02-24T14:16:40.243060Z",
     "iopub.status.idle": "2024-02-24T14:16:40.248853Z",
     "shell.execute_reply": "2024-02-24T14:16:40.247992Z"
    },
    "papermill": {
     "duration": 0.025728,
     "end_time": "2024-02-24T14:16:40.250664",
     "exception": false,
     "start_time": "2024-02-24T14:16:40.224936",
     "status": "completed"
    },
    "tags": []
   },
   "outputs": [
    {
     "data": {
      "text/plain": [
       "6714"
      ]
     },
     "execution_count": 17,
     "metadata": {},
     "output_type": "execute_result"
    }
   ],
   "source": [
    "361955 - len(df[\"category\"])"
   ]
  },
  {
   "cell_type": "code",
   "execution_count": 18,
   "id": "df6bbd6b",
   "metadata": {
    "execution": {
     "iopub.execute_input": "2024-02-24T14:16:40.286965Z",
     "iopub.status.busy": "2024-02-24T14:16:40.286470Z",
     "iopub.status.idle": "2024-02-24T14:16:40.290977Z",
     "shell.execute_reply": "2024-02-24T14:16:40.290167Z"
    },
    "papermill": {
     "duration": 0.024735,
     "end_time": "2024-02-24T14:16:40.292852",
     "exception": false,
     "start_time": "2024-02-24T14:16:40.268117",
     "status": "completed"
    },
    "tags": []
   },
   "outputs": [],
   "source": [
    "category_mapping = {\n",
    "    \"मनोरञ्जन\": 0,\n",
    "    \"देश/प्रदेश\": 1,\n",
    "    \"अर्थ / वाणिज्य\": 2,\n",
    "    \"विश्व\": 3,\n",
    "    \"खेलकुद\": 4,\n",
    "    \"समाज\": 5,\n",
    "    \"राजनीति\": 6,\n",
    "    \"विज्ञान र प्रविधि\": 7,\n",
    "    \"स्वास्थ्य\": 8,\n",
    "} "
   ]
  },
  {
   "cell_type": "code",
   "execution_count": 19,
   "id": "860f14b3",
   "metadata": {
    "execution": {
     "iopub.execute_input": "2024-02-24T14:16:40.329117Z",
     "iopub.status.busy": "2024-02-24T14:16:40.328882Z",
     "iopub.status.idle": "2024-02-24T14:16:40.332660Z",
     "shell.execute_reply": "2024-02-24T14:16:40.331926Z"
    },
    "papermill": {
     "duration": 0.024053,
     "end_time": "2024-02-24T14:16:40.334513",
     "exception": false,
     "start_time": "2024-02-24T14:16:40.310460",
     "status": "completed"
    },
    "tags": []
   },
   "outputs": [],
   "source": [
    "CONSTANTS = {}\n",
    "CONSTANTS[\"total_categories\"] = 9"
   ]
  },
  {
   "cell_type": "code",
   "execution_count": 20,
   "id": "41b2b1b8",
   "metadata": {
    "execution": {
     "iopub.execute_input": "2024-02-24T14:16:40.370827Z",
     "iopub.status.busy": "2024-02-24T14:16:40.370587Z",
     "iopub.status.idle": "2024-02-24T14:16:40.407827Z",
     "shell.execute_reply": "2024-02-24T14:16:40.407123Z"
    },
    "papermill": {
     "duration": 0.05743,
     "end_time": "2024-02-24T14:16:40.409760",
     "exception": false,
     "start_time": "2024-02-24T14:16:40.352330",
     "status": "completed"
    },
    "tags": []
   },
   "outputs": [],
   "source": [
    "df[\"category\"] = df[\"category\"].map(category_mapping)"
   ]
  },
  {
   "cell_type": "markdown",
   "id": "b3638ebb",
   "metadata": {
    "papermill": {
     "duration": 0.017498,
     "end_time": "2024-02-24T14:16:40.445247",
     "exception": false,
     "start_time": "2024-02-24T14:16:40.427749",
     "status": "completed"
    },
    "tags": []
   },
   "source": [
    "Now lets look at the distribution"
   ]
  },
  {
   "cell_type": "code",
   "execution_count": 21,
   "id": "bb41dd6c",
   "metadata": {
    "execution": {
     "iopub.execute_input": "2024-02-24T14:16:40.481527Z",
     "iopub.status.busy": "2024-02-24T14:16:40.481239Z",
     "iopub.status.idle": "2024-02-24T14:16:40.686768Z",
     "shell.execute_reply": "2024-02-24T14:16:40.685902Z"
    },
    "papermill": {
     "duration": 0.225972,
     "end_time": "2024-02-24T14:16:40.688896",
     "exception": false,
     "start_time": "2024-02-24T14:16:40.462924",
     "status": "completed"
    },
    "tags": []
   },
   "outputs": [
    {
     "data": {
      "text/plain": [
       "<Axes: xlabel='category', ylabel='count'>"
      ]
     },
     "execution_count": 21,
     "metadata": {},
     "output_type": "execute_result"
    },
    {
     "data": {
      "image/png": "[encoded data removed]",
      "text/plain": [
       "<Figure size 640x480 with 1 Axes>"
      ]
     },
     "metadata": {},
     "output_type": "display_data"
    }
   ],
   "source": [
    "sns.countplot(data=df, x='category')"
   ]
  },
  {
   "cell_type": "code",
   "execution_count": 22,
   "id": "312e2478",
   "metadata": {
    "execution": {
     "iopub.execute_input": "2024-02-24T14:16:40.727062Z",
     "iopub.status.busy": "2024-02-24T14:16:40.726583Z",
     "iopub.status.idle": "2024-02-24T14:16:40.737175Z",
     "shell.execute_reply": "2024-02-24T14:16:40.736324Z"
    },
    "papermill": {
     "duration": 0.031694,
     "end_time": "2024-02-24T14:16:40.739210",
     "exception": false,
     "start_time": "2024-02-24T14:16:40.707516",
     "status": "completed"
    },
    "tags": []
   },
   "outputs": [
    {
     "data": {
      "text/plain": [
       "category\n",
       "6    57256\n",
       "1    50188\n",
       "5    49303\n",
       "4    42201\n",
       "2    40238\n",
       "3    37305\n",
       "0    34074\n",
       "7    23076\n",
       "8    21600\n",
       "Name: count, dtype: int64"
      ]
     },
     "execution_count": 22,
     "metadata": {},
     "output_type": "execute_result"
    }
   ],
   "source": [
    "df[\"category\"].value_counts()"
   ]
  },
  {
   "cell_type": "markdown",
   "id": "eb49d624",
   "metadata": {
    "papermill": {
     "duration": 0.018124,
     "end_time": "2024-02-24T14:16:40.775684",
     "exception": false,
     "start_time": "2024-02-24T14:16:40.757560",
     "status": "completed"
    },
    "tags": []
   },
   "source": [
    "Our data is highly imbalanced, so lets perform random undersampling so that maximum number of instances for each catgeory is atmost 25K"
   ]
  },
  {
   "cell_type": "code",
   "execution_count": 23,
   "id": "1e8ff878",
   "metadata": {
    "execution": {
     "iopub.execute_input": "2024-02-24T14:16:40.814240Z",
     "iopub.status.busy": "2024-02-24T14:16:40.813311Z",
     "iopub.status.idle": "2024-02-24T14:16:40.818143Z",
     "shell.execute_reply": "2024-02-24T14:16:40.817284Z"
    },
    "papermill": {
     "duration": 0.025909,
     "end_time": "2024-02-24T14:16:40.819946",
     "exception": false,
     "start_time": "2024-02-24T14:16:40.794037",
     "status": "completed"
    },
    "tags": []
   },
   "outputs": [],
   "source": [
    "def random_undersampling(data, random_state):\n",
    "    if len(data) > 25000:\n",
    "        return data.sample(25000, random_state=random_state)\n",
    "    return data"
   ]
  },
  {
   "cell_type": "code",
   "execution_count": 24,
   "id": "d597bcca",
   "metadata": {
    "execution": {
     "iopub.execute_input": "2024-02-24T14:16:40.858094Z",
     "iopub.status.busy": "2024-02-24T14:16:40.857823Z",
     "iopub.status.idle": "2024-02-24T14:16:40.958948Z",
     "shell.execute_reply": "2024-02-24T14:16:40.957928Z"
    },
    "papermill": {
     "duration": 0.12277,
     "end_time": "2024-02-24T14:16:40.961308",
     "exception": false,
     "start_time": "2024-02-24T14:16:40.838538",
     "status": "completed"
    },
    "tags": []
   },
   "outputs": [],
   "source": [
    "df_balanced = pd.DataFrame(columns=['news_no_stopwords', 'category'])\n",
    "for i in range(CONSTANTS[\"total_categories\"]):\n",
    "    res = random_undersampling(df[df[\"category\"] == i], i * np.random.randint(100))\n",
    "    if df_balanced.empty == True:\n",
    "        df_balanced = res\n",
    "    else:\n",
    "        df_balanced = pd.concat([df_balanced, res], ignore_index=True)"
   ]
  },
  {
   "cell_type": "code",
   "execution_count": 25,
   "id": "69cee016",
   "metadata": {
    "execution": {
     "iopub.execute_input": "2024-02-24T14:16:41.000637Z",
     "iopub.status.busy": "2024-02-24T14:16:40.999923Z",
     "iopub.status.idle": "2024-02-24T14:16:41.008633Z",
     "shell.execute_reply": "2024-02-24T14:16:41.007737Z"
    },
    "papermill": {
     "duration": 0.030271,
     "end_time": "2024-02-24T14:16:41.010617",
     "exception": false,
     "start_time": "2024-02-24T14:16:40.980346",
     "status": "completed"
    },
    "tags": []
   },
   "outputs": [
    {
     "data": {
      "text/plain": [
       "category\n",
       "0    25000\n",
       "1    25000\n",
       "2    25000\n",
       "3    25000\n",
       "4    25000\n",
       "5    25000\n",
       "6    25000\n",
       "7    23076\n",
       "8    21600\n",
       "Name: count, dtype: int64"
      ]
     },
     "execution_count": 25,
     "metadata": {},
     "output_type": "execute_result"
    }
   ],
   "source": [
    "df_balanced[\"category\"].value_counts()"
   ]
  },
  {
   "cell_type": "markdown",
   "id": "56ca92b6",
   "metadata": {
    "papermill": {
     "duration": 0.018495,
     "end_time": "2024-02-24T14:16:41.047806",
     "exception": false,
     "start_time": "2024-02-24T14:16:41.029311",
     "status": "completed"
    },
    "tags": []
   },
   "source": [
    "Now, our dataset has been balanced.<br>\n",
    "Lets shuffle the dataset so that their order of news from same categories is not simulatenous"
   ]
  },
  {
   "cell_type": "code",
   "execution_count": 26,
   "id": "23425282",
   "metadata": {
    "execution": {
     "iopub.execute_input": "2024-02-24T14:16:41.086338Z",
     "iopub.status.busy": "2024-02-24T14:16:41.086071Z",
     "iopub.status.idle": "2024-02-24T14:16:41.094380Z",
     "shell.execute_reply": "2024-02-24T14:16:41.093524Z"
    },
    "papermill": {
     "duration": 0.029797,
     "end_time": "2024-02-24T14:16:41.096263",
     "exception": false,
     "start_time": "2024-02-24T14:16:41.066466",
     "status": "completed"
    },
    "tags": []
   },
   "outputs": [
    {
     "data": {
      "text/html": [
       "<div>\n",
       "<style scoped>\n",
       "    .dataframe tbody tr th:only-of-type {\n",
       "        vertical-align: middle;\n",
       "    }\n",
       "\n",
       "    .dataframe tbody tr th {\n",
       "        vertical-align: top;\n",
       "    }\n",
       "\n",
       "    .dataframe thead th {\n",
       "        text-align: right;\n",
       "    }\n",
       "</style>\n",
       "<table border=\"1\" class=\"dataframe\">\n",
       "  <thead>\n",
       "    <tr style=\"text-align: right;\">\n",
       "      <th></th>\n",
       "      <th>news_no_stopwords</th>\n",
       "      <th>category</th>\n",
       "    </tr>\n",
       "  </thead>\n",
       "  <tbody>\n",
       "    <tr>\n",
       "      <th>0</th>\n",
       "      <td>सोसल मिडियामा ऐश्वर्या राय बच्चन अभिषेक बच्चनक...</td>\n",
       "      <td>0</td>\n",
       "    </tr>\n",
       "    <tr>\n",
       "      <th>1</th>\n",
       "      <td>फिल्म होस्टेल रिर्टन्स बाट अभिनयमा डेब्यु अभिन...</td>\n",
       "      <td>0</td>\n",
       "    </tr>\n",
       "    <tr>\n",
       "      <th>2</th>\n",
       "      <td>भारतको केरलकी ट्रान्सवुमन मेकअप आर्टिस्ट सीमा ...</td>\n",
       "      <td>0</td>\n",
       "    </tr>\n",
       "    <tr>\n",
       "      <th>3</th>\n",
       "      <td>वरिष्ठ अभिनेता निर शाहले अन्तर्राष्ट्रिय स्तरक...</td>\n",
       "      <td>0</td>\n",
       "    </tr>\n",
       "    <tr>\n",
       "      <th>4</th>\n",
       "      <td>दिनदेखि दार्जिलिङमा छायांकन भईरहेको चलचित्र चा...</td>\n",
       "      <td>0</td>\n",
       "    </tr>\n",
       "  </tbody>\n",
       "</table>\n",
       "</div>"
      ],
      "text/plain": [
       "                                   news_no_stopwords  category\n",
       "0  सोसल मिडियामा ऐश्वर्या राय बच्चन अभिषेक बच्चनक...         0\n",
       "1  फिल्म होस्टेल रिर्टन्स बाट अभिनयमा डेब्यु अभिन...         0\n",
       "2  भारतको केरलकी ट्रान्सवुमन मेकअप आर्टिस्ट सीमा ...         0\n",
       "3  वरिष्ठ अभिनेता निर शाहले अन्तर्राष्ट्रिय स्तरक...         0\n",
       "4  दिनदेखि दार्जिलिङमा छायांकन भईरहेको चलचित्र चा...         0"
      ]
     },
     "execution_count": 26,
     "metadata": {},
     "output_type": "execute_result"
    }
   ],
   "source": [
    "df_balanced.head()"
   ]
  },
  {
   "cell_type": "code",
   "execution_count": 27,
   "id": "402d2131",
   "metadata": {
    "execution": {
     "iopub.execute_input": "2024-02-24T14:16:41.135970Z",
     "iopub.status.busy": "2024-02-24T14:16:41.135330Z",
     "iopub.status.idle": "2024-02-24T14:16:41.586237Z",
     "shell.execute_reply": "2024-02-24T14:16:41.585213Z"
    },
    "papermill": {
     "duration": 0.473369,
     "end_time": "2024-02-24T14:16:41.588743",
     "exception": false,
     "start_time": "2024-02-24T14:16:41.115374",
     "status": "completed"
    },
    "tags": []
   },
   "outputs": [],
   "source": [
    "for i in range(20):\n",
    "    df_balanced = df_balanced.sample(frac=1)"
   ]
  },
  {
   "cell_type": "code",
   "execution_count": 28,
   "id": "a9516a64",
   "metadata": {
    "execution": {
     "iopub.execute_input": "2024-02-24T14:16:41.628658Z",
     "iopub.status.busy": "2024-02-24T14:16:41.628319Z",
     "iopub.status.idle": "2024-02-24T14:16:41.637122Z",
     "shell.execute_reply": "2024-02-24T14:16:41.636271Z"
    },
    "papermill": {
     "duration": 0.030866,
     "end_time": "2024-02-24T14:16:41.639112",
     "exception": false,
     "start_time": "2024-02-24T14:16:41.608246",
     "status": "completed"
    },
    "tags": []
   },
   "outputs": [
    {
     "data": {
      "text/html": [
       "<div>\n",
       "<style scoped>\n",
       "    .dataframe tbody tr th:only-of-type {\n",
       "        vertical-align: middle;\n",
       "    }\n",
       "\n",
       "    .dataframe tbody tr th {\n",
       "        vertical-align: top;\n",
       "    }\n",
       "\n",
       "    .dataframe thead th {\n",
       "        text-align: right;\n",
       "    }\n",
       "</style>\n",
       "<table border=\"1\" class=\"dataframe\">\n",
       "  <thead>\n",
       "    <tr style=\"text-align: right;\">\n",
       "      <th></th>\n",
       "      <th>news_no_stopwords</th>\n",
       "      <th>category</th>\n",
       "    </tr>\n",
       "  </thead>\n",
       "  <tbody>\n",
       "    <tr>\n",
       "      <th>174789</th>\n",
       "      <td>लुम्बिनी प्रदेशको चालु अधिवेशन अन्त्य मंगलबार ...</td>\n",
       "      <td>6</td>\n",
       "    </tr>\n",
       "    <tr>\n",
       "      <th>153164</th>\n",
       "      <td>नेपालसमेत सदस्य बहुपक्षीय प्राविधिक आर्थिक सहय...</td>\n",
       "      <td>6</td>\n",
       "    </tr>\n",
       "    <tr>\n",
       "      <th>47835</th>\n",
       "      <td>लक्षित वर्गका बनेको कानुन स्थानीय स्तरमा कार्य...</td>\n",
       "      <td>1</td>\n",
       "    </tr>\n",
       "    <tr>\n",
       "      <th>59197</th>\n",
       "      <td>सङ्ख्याविज्ञानमा अङ्क एउटा चक्रको अन्त्य चक्रक...</td>\n",
       "      <td>2</td>\n",
       "    </tr>\n",
       "    <tr>\n",
       "      <th>14848</th>\n",
       "      <td>भारतीय अभिनेत्री अली खान अभिनेता कार्तिक आर्यन...</td>\n",
       "      <td>0</td>\n",
       "    </tr>\n",
       "  </tbody>\n",
       "</table>\n",
       "</div>"
      ],
      "text/plain": [
       "                                        news_no_stopwords  category\n",
       "174789  लुम्बिनी प्रदेशको चालु अधिवेशन अन्त्य मंगलबार ...         6\n",
       "153164  नेपालसमेत सदस्य बहुपक्षीय प्राविधिक आर्थिक सहय...         6\n",
       "47835   लक्षित वर्गका बनेको कानुन स्थानीय स्तरमा कार्य...         1\n",
       "59197   सङ्ख्याविज्ञानमा अङ्क एउटा चक्रको अन्त्य चक्रक...         2\n",
       "14848   भारतीय अभिनेत्री अली खान अभिनेता कार्तिक आर्यन...         0"
      ]
     },
     "execution_count": 28,
     "metadata": {},
     "output_type": "execute_result"
    }
   ],
   "source": [
    "df_balanced.head()"
   ]
  },
  {
   "cell_type": "markdown",
   "id": "0fd47971",
   "metadata": {
    "papermill": {
     "duration": 0.019114,
     "end_time": "2024-02-24T14:16:41.677954",
     "exception": false,
     "start_time": "2024-02-24T14:16:41.658840",
     "status": "completed"
    },
    "tags": []
   },
   "source": [
    "Now lets compute the length of each news article"
   ]
  },
  {
   "cell_type": "code",
   "execution_count": 29,
   "id": "f04e8b4a",
   "metadata": {
    "execution": {
     "iopub.execute_input": "2024-02-24T14:16:41.718041Z",
     "iopub.status.busy": "2024-02-24T14:16:41.717796Z",
     "iopub.status.idle": "2024-02-24T14:16:45.324968Z",
     "shell.execute_reply": "2024-02-24T14:16:45.323522Z"
    },
    "papermill": {
     "duration": 3.631373,
     "end_time": "2024-02-24T14:16:45.328867",
     "exception": false,
     "start_time": "2024-02-24T14:16:41.697494",
     "status": "completed"
    },
    "tags": []
   },
   "outputs": [],
   "source": [
    "df_balanced[\"length\"] = df_balanced[\"news_no_stopwords\"].apply(lambda x: len(x.split()))"
   ]
  },
  {
   "cell_type": "markdown",
   "id": "301b4252",
   "metadata": {
    "papermill": {
     "duration": 0.019464,
     "end_time": "2024-02-24T14:16:45.371782",
     "exception": false,
     "start_time": "2024-02-24T14:16:45.352318",
     "status": "completed"
    },
    "tags": []
   },
   "source": [
    "Lets remove any news of length <30"
   ]
  },
  {
   "cell_type": "code",
   "execution_count": 30,
   "id": "73ab8238",
   "metadata": {
    "execution": {
     "iopub.execute_input": "2024-02-24T14:16:45.411990Z",
     "iopub.status.busy": "2024-02-24T14:16:45.411649Z",
     "iopub.status.idle": "2024-02-24T14:16:45.433490Z",
     "shell.execute_reply": "2024-02-24T14:16:45.432617Z"
    },
    "papermill": {
     "duration": 0.04427,
     "end_time": "2024-02-24T14:16:45.435437",
     "exception": false,
     "start_time": "2024-02-24T14:16:45.391167",
     "status": "completed"
    },
    "tags": []
   },
   "outputs": [],
   "source": [
    "df_balanced = df_balanced[df_balanced[\"length\"] >= 30]"
   ]
  },
  {
   "cell_type": "markdown",
   "id": "1e0832e1",
   "metadata": {
    "papermill": {
     "duration": 0.019321,
     "end_time": "2024-02-24T14:16:45.476233",
     "exception": false,
     "start_time": "2024-02-24T14:16:45.456912",
     "status": "completed"
    },
    "tags": []
   },
   "source": [
    "We will train our model to predict its catgeory using news with maximum length of 250 .<br>\n",
    "So, any news of length >250, we will slice it to be of required length.<br>\n",
    "Similarly, news of length <250 will be extended to to be of required length by padding 0s"
   ]
  },
  {
   "cell_type": "code",
   "execution_count": 31,
   "id": "104fa346",
   "metadata": {
    "execution": {
     "iopub.execute_input": "2024-02-24T14:16:45.517547Z",
     "iopub.status.busy": "2024-02-24T14:16:45.517225Z",
     "iopub.status.idle": "2024-02-24T14:16:45.521571Z",
     "shell.execute_reply": "2024-02-24T14:16:45.520690Z"
    },
    "papermill": {
     "duration": 0.027915,
     "end_time": "2024-02-24T14:16:45.523494",
     "exception": false,
     "start_time": "2024-02-24T14:16:45.495579",
     "status": "completed"
    },
    "tags": []
   },
   "outputs": [],
   "source": [
    "CONSTANTS[\"max_news_length\"]= 250"
   ]
  },
  {
   "cell_type": "code",
   "execution_count": 32,
   "id": "eabe208c",
   "metadata": {
    "execution": {
     "iopub.execute_input": "2024-02-24T14:16:45.564046Z",
     "iopub.status.busy": "2024-02-24T14:16:45.563492Z",
     "iopub.status.idle": "2024-02-24T14:16:50.538072Z",
     "shell.execute_reply": "2024-02-24T14:16:50.537277Z"
    },
    "papermill": {
     "duration": 4.997532,
     "end_time": "2024-02-24T14:16:50.540445",
     "exception": false,
     "start_time": "2024-02-24T14:16:45.542913",
     "status": "completed"
    },
    "tags": []
   },
   "outputs": [],
   "source": [
    "df_balanced[\"news_no_stopwords\"] = df_balanced[\"news_no_stopwords\"].apply(lambda x: \" \".join(x.split()[:CONSTANTS[\"max_news_length\"]]))"
   ]
  },
  {
   "cell_type": "markdown",
   "id": "74453d1c",
   "metadata": {
    "papermill": {
     "duration": 0.019355,
     "end_time": "2024-02-24T14:16:50.580294",
     "exception": false,
     "start_time": "2024-02-24T14:16:50.560939",
     "status": "completed"
    },
    "tags": []
   },
   "source": [
    "Now lets split our dataset into train(70%), validation set(12.5%) and test set(12.5%)"
   ]
  },
  {
   "cell_type": "code",
   "execution_count": 33,
   "id": "9a5b914f",
   "metadata": {
    "execution": {
     "iopub.execute_input": "2024-02-24T14:16:50.620575Z",
     "iopub.status.busy": "2024-02-24T14:16:50.620246Z",
     "iopub.status.idle": "2024-02-24T14:16:50.796244Z",
     "shell.execute_reply": "2024-02-24T14:16:50.795463Z"
    },
    "papermill": {
     "duration": 0.198476,
     "end_time": "2024-02-24T14:16:50.798355",
     "exception": false,
     "start_time": "2024-02-24T14:16:50.599879",
     "status": "completed"
    },
    "tags": []
   },
   "outputs": [],
   "source": [
    "from sklearn.model_selection import train_test_split"
   ]
  },
  {
   "cell_type": "code",
   "execution_count": 34,
   "id": "d4c37a63",
   "metadata": {
    "execution": {
     "iopub.execute_input": "2024-02-24T14:16:50.840538Z",
     "iopub.status.busy": "2024-02-24T14:16:50.840142Z",
     "iopub.status.idle": "2024-02-24T14:16:50.954574Z",
     "shell.execute_reply": "2024-02-24T14:16:50.953723Z"
    },
    "papermill": {
     "duration": 0.13812,
     "end_time": "2024-02-24T14:16:50.956922",
     "exception": false,
     "start_time": "2024-02-24T14:16:50.818802",
     "status": "completed"
    },
    "tags": []
   },
   "outputs": [],
   "source": [
    "X_train, X_val_test, y_train, y_val_test = train_test_split(df_balanced['news_no_stopwords'], df_balanced['category'], test_size=0.25, random_state=21, stratify=df_balanced[\"category\"], shuffle=True)"
   ]
  },
  {
   "cell_type": "code",
   "execution_count": 35,
   "id": "9451eb49",
   "metadata": {
    "execution": {
     "iopub.execute_input": "2024-02-24T14:16:50.998227Z",
     "iopub.status.busy": "2024-02-24T14:16:50.997917Z",
     "iopub.status.idle": "2024-02-24T14:16:51.028661Z",
     "shell.execute_reply": "2024-02-24T14:16:51.027915Z"
    },
    "papermill": {
     "duration": 0.05339,
     "end_time": "2024-02-24T14:16:51.030588",
     "exception": false,
     "start_time": "2024-02-24T14:16:50.977198",
     "status": "completed"
    },
    "tags": []
   },
   "outputs": [],
   "source": [
    "X_val, X_test, y_val, y_test = train_test_split(X_val_test, y_val_test, test_size=0.5, random_state=28, stratify=y_val_test, shuffle=True)"
   ]
  },
  {
   "cell_type": "code",
   "execution_count": 36,
   "id": "5e43dc39",
   "metadata": {
    "execution": {
     "iopub.execute_input": "2024-02-24T14:16:51.071577Z",
     "iopub.status.busy": "2024-02-24T14:16:51.071062Z",
     "iopub.status.idle": "2024-02-24T14:16:51.076781Z",
     "shell.execute_reply": "2024-02-24T14:16:51.075952Z"
    },
    "papermill": {
     "duration": 0.028029,
     "end_time": "2024-02-24T14:16:51.078536",
     "exception": false,
     "start_time": "2024-02-24T14:16:51.050507",
     "status": "completed"
    },
    "tags": []
   },
   "outputs": [
    {
     "data": {
      "text/plain": [
       "((163946,), (27324,), (27325,))"
      ]
     },
     "execution_count": 36,
     "metadata": {},
     "output_type": "execute_result"
    }
   ],
   "source": [
    "X_train.shape, X_val.shape, X_test.shape "
   ]
  },
  {
   "cell_type": "markdown",
   "id": "6a4c37d2",
   "metadata": {
    "papermill": {
     "duration": 0.019842,
     "end_time": "2024-02-24T14:16:51.118073",
     "exception": false,
     "start_time": "2024-02-24T14:16:51.098231",
     "status": "completed"
    },
    "tags": []
   },
   "source": [
    "Now we will create our tokenizer"
   ]
  },
  {
   "cell_type": "code",
   "execution_count": 37,
   "id": "0729a38b",
   "metadata": {
    "execution": {
     "iopub.execute_input": "2024-02-24T14:16:51.158897Z",
     "iopub.status.busy": "2024-02-24T14:16:51.158629Z",
     "iopub.status.idle": "2024-02-24T14:16:51.253611Z",
     "shell.execute_reply": "2024-02-24T14:16:51.252726Z"
    },
    "papermill": {
     "duration": 0.117448,
     "end_time": "2024-02-24T14:16:51.255561",
     "exception": false,
     "start_time": "2024-02-24T14:16:51.138113",
     "status": "completed"
    },
    "tags": []
   },
   "outputs": [],
   "source": [
    "from tensorflow.keras.preprocessing.text import Tokenizer"
   ]
  },
  {
   "cell_type": "code",
   "execution_count": 38,
   "id": "0a21dea3",
   "metadata": {
    "execution": {
     "iopub.execute_input": "2024-02-24T14:16:51.297014Z",
     "iopub.status.busy": "2024-02-24T14:16:51.296748Z",
     "iopub.status.idle": "2024-02-24T14:17:33.599785Z",
     "shell.execute_reply": "2024-02-24T14:17:33.598925Z"
    },
    "papermill": {
     "duration": 42.326854,
     "end_time": "2024-02-24T14:17:33.602520",
     "exception": false,
     "start_time": "2024-02-24T14:16:51.275666",
     "status": "completed"
    },
    "tags": []
   },
   "outputs": [],
   "source": [
    "tokenizer = Tokenizer()\n",
    "tokenizer.fit_on_texts(list(X_train))"
   ]
  },
  {
   "cell_type": "code",
   "execution_count": 39,
   "id": "2a17f889",
   "metadata": {
    "execution": {
     "iopub.execute_input": "2024-02-24T14:17:33.644949Z",
     "iopub.status.busy": "2024-02-24T14:17:33.644635Z",
     "iopub.status.idle": "2024-02-24T14:17:33.648798Z",
     "shell.execute_reply": "2024-02-24T14:17:33.647918Z"
    },
    "papermill": {
     "duration": 0.02685,
     "end_time": "2024-02-24T14:17:33.650614",
     "exception": false,
     "start_time": "2024-02-24T14:17:33.623764",
     "status": "completed"
    },
    "tags": []
   },
   "outputs": [],
   "source": [
    "CONSTANTS[\"voc_size\"] = len(tokenizer.word_index) + 1"
   ]
  },
  {
   "cell_type": "markdown",
   "id": "5a4cecc6",
   "metadata": {
    "papermill": {
     "duration": 0.020324,
     "end_time": "2024-02-24T14:17:33.691304",
     "exception": false,
     "start_time": "2024-02-24T14:17:33.670980",
     "status": "completed"
    },
    "tags": []
   },
   "source": [
    "Now we convert our words to integers"
   ]
  },
  {
   "cell_type": "code",
   "execution_count": 40,
   "id": "92564d2f",
   "metadata": {
    "execution": {
     "iopub.execute_input": "2024-02-24T14:17:33.732587Z",
     "iopub.status.busy": "2024-02-24T14:17:33.731847Z",
     "iopub.status.idle": "2024-02-24T14:18:17.813388Z",
     "shell.execute_reply": "2024-02-24T14:18:17.812282Z"
    },
    "papermill": {
     "duration": 44.104787,
     "end_time": "2024-02-24T14:18:17.816034",
     "exception": false,
     "start_time": "2024-02-24T14:17:33.711247",
     "status": "completed"
    },
    "tags": []
   },
   "outputs": [],
   "source": [
    "X_train_seq = tokenizer.texts_to_sequences(X_train)\n",
    "X_test_seq = tokenizer.texts_to_sequences(X_test)\n",
    "X_val_seq = tokenizer.texts_to_sequences(X_val)"
   ]
  },
  {
   "cell_type": "markdown",
   "id": "5fc9f4da",
   "metadata": {
    "papermill": {
     "duration": 0.020177,
     "end_time": "2024-02-24T14:18:17.858956",
     "exception": false,
     "start_time": "2024-02-24T14:18:17.838779",
     "status": "completed"
    },
    "tags": []
   },
   "source": [
    "Finally we will pad our sequences so that all the inputs are of same length, 200"
   ]
  },
  {
   "cell_type": "code",
   "execution_count": 41,
   "id": "9365f15c",
   "metadata": {
    "execution": {
     "iopub.execute_input": "2024-02-24T14:18:17.901518Z",
     "iopub.status.busy": "2024-02-24T14:18:17.901118Z",
     "iopub.status.idle": "2024-02-24T14:18:17.906511Z",
     "shell.execute_reply": "2024-02-24T14:18:17.905608Z"
    },
    "papermill": {
     "duration": 0.029444,
     "end_time": "2024-02-24T14:18:17.908985",
     "exception": false,
     "start_time": "2024-02-24T14:18:17.879541",
     "status": "completed"
    },
    "tags": []
   },
   "outputs": [],
   "source": [
    "from tensorflow.keras.preprocessing.sequence import pad_sequences"
   ]
  },
  {
   "cell_type": "code",
   "execution_count": 42,
   "id": "3f8204ba",
   "metadata": {
    "execution": {
     "iopub.execute_input": "2024-02-24T14:18:17.954777Z",
     "iopub.status.busy": "2024-02-24T14:18:17.954468Z",
     "iopub.status.idle": "2024-02-24T14:18:21.483429Z",
     "shell.execute_reply": "2024-02-24T14:18:21.482625Z"
    },
    "papermill": {
     "duration": 3.553224,
     "end_time": "2024-02-24T14:18:21.485701",
     "exception": false,
     "start_time": "2024-02-24T14:18:17.932477",
     "status": "completed"
    },
    "tags": []
   },
   "outputs": [],
   "source": [
    "X_train_pad_seq = pad_sequences(X_train_seq,  maxlen=CONSTANTS[\"max_news_length\"], padding='post')\n",
    "X_test_pad_seq = pad_sequences(X_test_seq,  maxlen=CONSTANTS[\"max_news_length\"], padding='post')\n",
    "X_val_pad_seq = pad_sequences(X_val_seq,  maxlen=CONSTANTS[\"max_news_length\"], padding='post')"
   ]
  },
  {
   "cell_type": "code",
   "execution_count": 43,
   "id": "4d069761",
   "metadata": {
    "execution": {
     "iopub.execute_input": "2024-02-24T14:18:21.528478Z",
     "iopub.status.busy": "2024-02-24T14:18:21.528119Z",
     "iopub.status.idle": "2024-02-24T14:18:21.534057Z",
     "shell.execute_reply": "2024-02-24T14:18:21.533150Z"
    },
    "papermill": {
     "duration": 0.029432,
     "end_time": "2024-02-24T14:18:21.536119",
     "exception": false,
     "start_time": "2024-02-24T14:18:21.506687",
     "status": "completed"
    },
    "tags": []
   },
   "outputs": [
    {
     "data": {
      "text/plain": [
       "((163946, 250), (27324, 250), (27325, 250))"
      ]
     },
     "execution_count": 43,
     "metadata": {},
     "output_type": "execute_result"
    }
   ],
   "source": [
    "X_train_pad_seq.shape, X_val_pad_seq.shape, X_test_pad_seq.shape"
   ]
  },
  {
   "cell_type": "code",
   "execution_count": 44,
   "id": "a64a2b84",
   "metadata": {
    "execution": {
     "iopub.execute_input": "2024-02-24T14:18:21.579506Z",
     "iopub.status.busy": "2024-02-24T14:18:21.578855Z",
     "iopub.status.idle": "2024-02-24T14:18:21.583275Z",
     "shell.execute_reply": "2024-02-24T14:18:21.582396Z"
    },
    "papermill": {
     "duration": 0.028153,
     "end_time": "2024-02-24T14:18:21.585131",
     "exception": false,
     "start_time": "2024-02-24T14:18:21.556978",
     "status": "completed"
    },
    "tags": []
   },
   "outputs": [],
   "source": [
    "CONSTANTS[\"total_categories\"] = 9"
   ]
  },
  {
   "cell_type": "markdown",
   "id": "1591a08c",
   "metadata": {
    "papermill": {
     "duration": 0.020837,
     "end_time": "2024-02-24T14:18:21.626879",
     "exception": false,
     "start_time": "2024-02-24T14:18:21.606042",
     "status": "completed"
    },
    "tags": []
   },
   "source": [
    "If target variables are simply a list of targets. Eg: [[1], [2], [0]] then, we can use the sparse catgeorical crossentropy loss"
   ]
  },
  {
   "cell_type": "markdown",
   "id": "4373dec6",
   "metadata": {
    "papermill": {
     "duration": 0.020225,
     "end_time": "2024-02-24T14:18:21.667748",
     "exception": false,
     "start_time": "2024-02-24T14:18:21.647523",
     "status": "completed"
    },
    "tags": []
   },
   "source": [
    "Similarly, we can only one-hot-encode each target value in which case we would use categorical crossentropy loss"
   ]
  },
  {
   "cell_type": "code",
   "execution_count": 45,
   "id": "f9988022",
   "metadata": {
    "execution": {
     "iopub.execute_input": "2024-02-24T14:18:21.710323Z",
     "iopub.status.busy": "2024-02-24T14:18:21.709707Z",
     "iopub.status.idle": "2024-02-24T14:18:21.721623Z",
     "shell.execute_reply": "2024-02-24T14:18:21.720888Z"
    },
    "papermill": {
     "duration": 0.035267,
     "end_time": "2024-02-24T14:18:21.723478",
     "exception": false,
     "start_time": "2024-02-24T14:18:21.688211",
     "status": "completed"
    },
    "tags": []
   },
   "outputs": [],
   "source": [
    "y_train = tf.keras.utils.to_categorical(y_train, CONSTANTS[\"total_categories\"])\n",
    "y_val = tf.keras.utils.to_categorical(y_val, CONSTANTS[\"total_categories\"])\n",
    "y_test = tf.keras.utils.to_categorical(y_test, CONSTANTS[\"total_categories\"])"
   ]
  },
  {
   "cell_type": "code",
   "execution_count": 46,
   "id": "df12dae9",
   "metadata": {
    "execution": {
     "iopub.execute_input": "2024-02-24T14:18:21.765149Z",
     "iopub.status.busy": "2024-02-24T14:18:21.764886Z",
     "iopub.status.idle": "2024-02-24T14:18:21.770873Z",
     "shell.execute_reply": "2024-02-24T14:18:21.769916Z"
    },
    "papermill": {
     "duration": 0.029061,
     "end_time": "2024-02-24T14:18:21.772878",
     "exception": false,
     "start_time": "2024-02-24T14:18:21.743817",
     "status": "completed"
    },
    "tags": []
   },
   "outputs": [
    {
     "data": {
      "text/plain": [
       "((163946, 9), (27324, 9), (27325, 9))"
      ]
     },
     "execution_count": 46,
     "metadata": {},
     "output_type": "execute_result"
    }
   ],
   "source": [
    "y_train.shape, y_val.shape, y_test.shape"
   ]
  },
  {
   "cell_type": "markdown",
   "id": "c8005b41",
   "metadata": {
    "papermill": {
     "duration": 0.020451,
     "end_time": "2024-02-24T14:18:21.813874",
     "exception": false,
     "start_time": "2024-02-24T14:18:21.793423",
     "status": "completed"
    },
    "tags": []
   },
   "source": [
    "Now lets create our LSTM model for news classification"
   ]
  },
  {
   "cell_type": "code",
   "execution_count": 47,
   "id": "70aed8f0",
   "metadata": {
    "execution": {
     "iopub.execute_input": "2024-02-24T14:18:21.857569Z",
     "iopub.status.busy": "2024-02-24T14:18:21.857214Z",
     "iopub.status.idle": "2024-02-24T14:18:21.861440Z",
     "shell.execute_reply": "2024-02-24T14:18:21.860582Z"
    },
    "papermill": {
     "duration": 0.028903,
     "end_time": "2024-02-24T14:18:21.863335",
     "exception": false,
     "start_time": "2024-02-24T14:18:21.834432",
     "status": "completed"
    },
    "tags": []
   },
   "outputs": [],
   "source": [
    "CONSTANTS[\"embedding_dim\"] = 50\n",
    "CONSTANTS[\"latent_dim\"] = 8"
   ]
  },
  {
   "cell_type": "code",
   "execution_count": 48,
   "id": "1ab0bae5",
   "metadata": {
    "execution": {
     "iopub.execute_input": "2024-02-24T14:18:21.906857Z",
     "iopub.status.busy": "2024-02-24T14:18:21.906272Z",
     "iopub.status.idle": "2024-02-24T14:18:23.369371Z",
     "shell.execute_reply": "2024-02-24T14:18:23.368446Z"
    },
    "papermill": {
     "duration": 1.488171,
     "end_time": "2024-02-24T14:18:23.372552",
     "exception": false,
     "start_time": "2024-02-24T14:18:21.884381",
     "status": "completed"
    },
    "tags": []
   },
   "outputs": [
    {
     "name": "stdout",
     "output_type": "stream",
     "text": [
      "Model: \"sequential\"\n",
      "_________________________________________________________________\n",
      " Layer (type)                Output Shape              Param #   \n",
      "=================================================================\n",
      " Embedding_Layer (Embedding  (None, 250, 50)           36887800  \n",
      " )                                                               \n",
      "                                                                 \n",
      " bidirectional (Bidirection  (None, 16)                3776      \n",
      " al)                                                             \n",
      "                                                                 \n",
      " Softmax_Layer (Dense)       (None, 9)                 153       \n",
      "                                                                 \n",
      "=================================================================\n",
      "Total params: 36891729 (140.73 MB)\n",
      "Trainable params: 36891729 (140.73 MB)\n",
      "Non-trainable params: 0 (0.00 Byte)\n",
      "_________________________________________________________________\n"
     ]
    }
   ],
   "source": [
    "model = tf.keras.Sequential()\n",
    "model.add(tf.keras.layers.Embedding(CONSTANTS[\"voc_size\"], CONSTANTS[\"embedding_dim\"], trainable=True, input_length=CONSTANTS[\"max_news_length\"], name=\"Embedding_Layer\"))\n",
    "model.add(tf.keras.layers.Bidirectional(tf.keras.layers.LSTM(CONSTANTS[\"latent_dim\"], return_sequences=False, dropout=0.2, recurrent_dropout=0.2, name=\"BiLSTM_Layer\")))\n",
    "model.add(tf.keras.layers.Dense(CONSTANTS[\"total_categories\"], activation='softmax', name=\"Softmax_Layer\"))\n",
    "model.summary()"
   ]
  },
  {
   "cell_type": "code",
   "execution_count": 49,
   "id": "39aada43",
   "metadata": {
    "execution": {
     "iopub.execute_input": "2024-02-24T14:18:23.419490Z",
     "iopub.status.busy": "2024-02-24T14:18:23.419140Z",
     "iopub.status.idle": "2024-02-24T14:18:23.612715Z",
     "shell.execute_reply": "2024-02-24T14:18:23.611792Z"
    },
    "papermill": {
     "duration": 0.219648,
     "end_time": "2024-02-24T14:18:23.614868",
     "exception": false,
     "start_time": "2024-02-24T14:18:23.395220",
     "status": "completed"
    },
    "tags": []
   },
   "outputs": [
    {
     "data": {
      "image/png": "[encoded data removed]",
      "text/plain": [
       "<IPython.core.display.Image object>"
      ]
     },
     "execution_count": 49,
     "metadata": {},
     "output_type": "execute_result"
    }
   ],
   "source": [
    "tf.keras.utils.plot_model(model, to_file='/kaggle/working/model_architecture.png', show_shapes=True)"
   ]
  },
  {
   "cell_type": "code",
   "execution_count": 50,
   "id": "a75acea8",
   "metadata": {
    "execution": {
     "iopub.execute_input": "2024-02-24T14:18:23.662748Z",
     "iopub.status.busy": "2024-02-24T14:18:23.662392Z",
     "iopub.status.idle": "2024-02-24T14:18:23.692325Z",
     "shell.execute_reply": "2024-02-24T14:18:23.691591Z"
    },
    "papermill": {
     "duration": 0.056014,
     "end_time": "2024-02-24T14:18:23.694273",
     "exception": false,
     "start_time": "2024-02-24T14:18:23.638259",
     "status": "completed"
    },
    "tags": []
   },
   "outputs": [],
   "source": [
    "model.compile(loss='categorical_crossentropy',\n",
    "              optimizer=\"adam\",\n",
    "              metrics=['accuracy', tf.keras.metrics.F1Score(), tf.keras.metrics.Precision(), tf.keras.metrics.Recall()]\n",
    "              )"
   ]
  },
  {
   "cell_type": "code",
   "execution_count": 51,
   "id": "0f168342",
   "metadata": {
    "execution": {
     "iopub.execute_input": "2024-02-24T14:18:23.742087Z",
     "iopub.status.busy": "2024-02-24T14:18:23.741803Z",
     "iopub.status.idle": "2024-02-24T14:18:23.746125Z",
     "shell.execute_reply": "2024-02-24T14:18:23.745179Z"
    },
    "papermill": {
     "duration": 0.030306,
     "end_time": "2024-02-24T14:18:23.747998",
     "exception": false,
     "start_time": "2024-02-24T14:18:23.717692",
     "status": "completed"
    },
    "tags": []
   },
   "outputs": [],
   "source": [
    "CONSTANTS[\"batch_size\"] = 512\n",
    "CONSTANTS[\"epochs\"] = 16\n",
    "CONSTANTS[\"patience\"] = 3"
   ]
  },
  {
   "cell_type": "markdown",
   "id": "76cb3815",
   "metadata": {
    "papermill": {
     "duration": 0.02269,
     "end_time": "2024-02-24T14:18:23.793666",
     "exception": false,
     "start_time": "2024-02-24T14:18:23.770976",
     "status": "completed"
    },
    "tags": []
   },
   "source": [
    "We will train using early stopping"
   ]
  },
  {
   "cell_type": "code",
   "execution_count": 52,
   "id": "f4899770",
   "metadata": {
    "execution": {
     "iopub.execute_input": "2024-02-24T14:18:23.840597Z",
     "iopub.status.busy": "2024-02-24T14:18:23.840272Z",
     "iopub.status.idle": "2024-02-24T14:18:23.845307Z",
     "shell.execute_reply": "2024-02-24T14:18:23.844491Z"
    },
    "papermill": {
     "duration": 0.030715,
     "end_time": "2024-02-24T14:18:23.847160",
     "exception": false,
     "start_time": "2024-02-24T14:18:23.816445",
     "status": "completed"
    },
    "tags": []
   },
   "outputs": [],
   "source": [
    "es = tf.keras.callbacks.EarlyStopping(monitor='val_loss', mode='min', verbose=1, patience=CONSTANTS[\"patience\"])\n",
    "cp = tf.keras.callbacks.ModelCheckpoint(\"/kaggle/working/NepaliNewsClassifier\", monitor=\"val_loss\", mode=\"min\", save_best_only=True)"
   ]
  },
  {
   "cell_type": "code",
   "execution_count": 53,
   "id": "d308851f",
   "metadata": {
    "execution": {
     "iopub.execute_input": "2024-02-24T14:18:23.896475Z",
     "iopub.status.busy": "2024-02-24T14:18:23.896166Z",
     "iopub.status.idle": "2024-02-24T15:09:33.663014Z",
     "shell.execute_reply": "2024-02-24T15:09:33.662013Z"
    },
    "papermill": {
     "duration": 3069.998241,
     "end_time": "2024-02-24T15:09:33.870178",
     "exception": false,
     "start_time": "2024-02-24T14:18:23.871937",
     "status": "completed"
    },
    "tags": []
   },
   "outputs": [
    {
     "name": "stdout",
     "output_type": "stream",
     "text": [
      "Epoch 1/16\n"
     ]
    },
    {
     "name": "stderr",
     "output_type": "stream",
     "text": [
      "WARNING: All log messages before absl::InitializeLog() is called are written to STDERR\n",
      "I0000 00:00:1708784312.258010      70 device_compiler.h:186] Compiled cluster using XLA!  This line is logged at most once for the lifetime of the process.\n"
     ]
    },
    {
     "name": "stdout",
     "output_type": "stream",
     "text": [
      "321/321 [==============================] - 466s 1s/step - loss: 1.4889 - accuracy: 0.5479 - f1_score: 0.5301 - precision: 0.8974 - recall: 0.1635 - val_loss: 0.9658 - val_accuracy: 0.7079 - val_f1_score: 0.6904 - val_precision: 0.8724 - val_recall: 0.4198\n",
      "Epoch 2/16\n",
      "321/321 [==============================] - 450s 1s/step - loss: 0.8372 - accuracy: 0.7410 - f1_score: 0.7350 - precision: 0.8761 - recall: 0.5254 - val_loss: 0.7957 - val_accuracy: 0.7467 - val_f1_score: 0.7411 - val_precision: 0.8494 - val_recall: 0.6207\n",
      "Epoch 3/16\n",
      "321/321 [==============================] - 445s 1s/step - loss: 0.6506 - accuracy: 0.7979 - f1_score: 0.7953 - precision: 0.8698 - recall: 0.7024 - val_loss: 0.7209 - val_accuracy: 0.7649 - val_f1_score: 0.7611 - val_precision: 0.8230 - val_recall: 0.7060\n",
      "Epoch 4/16\n",
      "321/321 [==============================] - 438s 1s/step - loss: 0.4984 - accuracy: 0.8473 - f1_score: 0.8458 - precision: 0.8854 - recall: 0.8015 - val_loss: 0.6904 - val_accuracy: 0.7723 - val_f1_score: 0.7708 - val_precision: 0.8101 - val_recall: 0.7380\n",
      "Epoch 5/16\n",
      "321/321 [==============================] - 429s 1s/step - loss: 0.3938 - accuracy: 0.8814 - f1_score: 0.8806 - precision: 0.9056 - recall: 0.8558 - val_loss: 0.6954 - val_accuracy: 0.7743 - val_f1_score: 0.7735 - val_precision: 0.8038 - val_recall: 0.7486\n",
      "Epoch 6/16\n",
      "321/321 [==============================] - 425s 1s/step - loss: 0.3140 - accuracy: 0.9090 - f1_score: 0.9086 - precision: 0.9258 - recall: 0.8915 - val_loss: 0.7298 - val_accuracy: 0.7725 - val_f1_score: 0.7708 - val_precision: 0.7960 - val_recall: 0.7537\n",
      "Epoch 7/16\n",
      "321/321 [==============================] - 417s 1s/step - loss: 0.2499 - accuracy: 0.9297 - f1_score: 0.9294 - precision: 0.9416 - recall: 0.9177 - val_loss: 0.7609 - val_accuracy: 0.7716 - val_f1_score: 0.7719 - val_precision: 0.7912 - val_recall: 0.7564\n",
      "Epoch 7: early stopping\n"
     ]
    }
   ],
   "source": [
    "history = model.fit(X_train_pad_seq, y_train,\n",
    "                    batch_size=CONSTANTS[\"batch_size\"],\n",
    "                    epochs=CONSTANTS[\"epochs\"],\n",
    "                    validation_data=(X_val_pad_seq, y_val),\n",
    "                    callbacks=[es, cp])"
   ]
  },
  {
   "cell_type": "markdown",
   "id": "1269f718",
   "metadata": {
    "papermill": {
     "duration": 0.200271,
     "end_time": "2024-02-24T15:09:34.273255",
     "exception": false,
     "start_time": "2024-02-24T15:09:34.072984",
     "status": "completed"
    },
    "tags": []
   },
   "source": [
    "Now lets evalaute our model on the test set"
   ]
  },
  {
   "cell_type": "code",
   "execution_count": 54,
   "id": "7ef19306",
   "metadata": {
    "execution": {
     "iopub.execute_input": "2024-02-24T15:09:34.677003Z",
     "iopub.status.busy": "2024-02-24T15:09:34.676135Z",
     "iopub.status.idle": "2024-02-24T15:11:09.353085Z",
     "shell.execute_reply": "2024-02-24T15:11:09.352138Z"
    },
    "papermill": {
     "duration": 94.880294,
     "end_time": "2024-02-24T15:11:09.355012",
     "exception": false,
     "start_time": "2024-02-24T15:09:34.474718",
     "status": "completed"
    },
    "tags": []
   },
   "outputs": [
    {
     "name": "stdout",
     "output_type": "stream",
     "text": [
      "854/854 [==============================] - 95s 111ms/step - loss: 0.7730 - accuracy: 0.7670 - f1_score: 0.7681 - precision: 0.7869 - recall: 0.7531\n"
     ]
    },
    {
     "data": {
      "text/plain": [
       "[0.7729761004447937,\n",
       " 0.7669899463653564,\n",
       " array([0.9453252 , 0.50337994, 0.7305634 , 0.86688095, 0.9633541 ,\n",
       "        0.5210967 , 0.75191474, 0.8378662 , 0.79251516], dtype=float32),\n",
       " 0.786929726600647,\n",
       " 0.7531198263168335]"
      ]
     },
     "execution_count": 54,
     "metadata": {},
     "output_type": "execute_result"
    }
   ],
   "source": [
    "model.evaluate(X_test_pad_seq, y_test)"
   ]
  },
  {
   "cell_type": "markdown",
   "id": "1ff1519b",
   "metadata": {
    "papermill": {
     "duration": 0.272898,
     "end_time": "2024-02-24T15:11:09.904532",
     "exception": false,
     "start_time": "2024-02-24T15:11:09.631634",
     "status": "completed"
    },
    "tags": []
   },
   "source": [
    "Finally, lets save our tokenizer, CONSTANTS"
   ]
  },
  {
   "cell_type": "code",
   "execution_count": 55,
   "id": "6d9e330c",
   "metadata": {
    "execution": {
     "iopub.execute_input": "2024-02-24T15:11:10.453693Z",
     "iopub.status.busy": "2024-02-24T15:11:10.452943Z",
     "iopub.status.idle": "2024-02-24T15:11:10.457335Z",
     "shell.execute_reply": "2024-02-24T15:11:10.456408Z"
    },
    "papermill": {
     "duration": 0.283147,
     "end_time": "2024-02-24T15:11:10.459163",
     "exception": false,
     "start_time": "2024-02-24T15:11:10.176016",
     "status": "completed"
    },
    "tags": []
   },
   "outputs": [],
   "source": [
    "import io, json"
   ]
  },
  {
   "cell_type": "code",
   "execution_count": 56,
   "id": "ec04d407",
   "metadata": {
    "execution": {
     "iopub.execute_input": "2024-02-24T15:11:11.069907Z",
     "iopub.status.busy": "2024-02-24T15:11:11.069249Z",
     "iopub.status.idle": "2024-02-24T15:11:11.074495Z",
     "shell.execute_reply": "2024-02-24T15:11:11.073610Z"
    },
    "papermill": {
     "duration": 0.310436,
     "end_time": "2024-02-24T15:11:11.076454",
     "exception": false,
     "start_time": "2024-02-24T15:11:10.766018",
     "status": "completed"
    },
    "tags": []
   },
   "outputs": [],
   "source": [
    "# Convert and write JSON object to file\n",
    "with open(\"/kaggle/working/constants.json\", \"w\") as const: \n",
    "    json.dump(CONSTANTS, const)"
   ]
  },
  {
   "cell_type": "code",
   "execution_count": 57,
   "id": "3f8dc1ca",
   "metadata": {
    "execution": {
     "iopub.execute_input": "2024-02-24T15:11:11.655746Z",
     "iopub.status.busy": "2024-02-24T15:11:11.655090Z",
     "iopub.status.idle": "2024-02-24T15:11:21.544021Z",
     "shell.execute_reply": "2024-02-24T15:11:21.543211Z"
    },
    "papermill": {
     "duration": 10.170446,
     "end_time": "2024-02-24T15:11:21.546189",
     "exception": false,
     "start_time": "2024-02-24T15:11:11.375743",
     "status": "completed"
    },
    "tags": []
   },
   "outputs": [],
   "source": [
    "with io.open('/kaggle/working/tokenizer.json', 'w', encoding='utf-8') as tok:\n",
    "    tok.write(json.dumps(tokenizer.to_json(), ensure_ascii=False))"
   ]
  },
  {
   "cell_type": "code",
   "execution_count": 58,
   "id": "8991ac34",
   "metadata": {
    "execution": {
     "iopub.execute_input": "2024-02-24T15:11:22.092264Z",
     "iopub.status.busy": "2024-02-24T15:11:22.091511Z",
     "iopub.status.idle": "2024-02-24T15:11:54.678423Z",
     "shell.execute_reply": "2024-02-24T15:11:54.676975Z"
    },
    "papermill": {
     "duration": 33.057386,
     "end_time": "2024-02-24T15:11:54.876163",
     "exception": false,
     "start_time": "2024-02-24T15:11:21.818777",
     "status": "completed"
    },
    "tags": []
   },
   "outputs": [
    {
     "name": "stdout",
     "output_type": "stream",
     "text": [
      "  adding: kaggle/working/ (stored 0%)\r\n",
      "  adding: kaggle/working/tokenizer.json (deflated 89%)\r\n",
      "  adding: kaggle/working/__notebook__.ipynb (deflated 92%)\r\n",
      "  adding: kaggle/working/NepaliNewsClassifier/ (stored 0%)\r\n",
      "  adding: kaggle/working/NepaliNewsClassifier/variables/ (stored 0%)\r\n",
      "  adding: kaggle/working/NepaliNewsClassifier/variables/variables.data-00000-of-00001 (deflated 4%)\r\n",
      "  adding: kaggle/working/NepaliNewsClassifier/variables/variables.index (deflated 64%)\r\n",
      "  adding: kaggle/working/NepaliNewsClassifier/assets/ (stored 0%)\r\n",
      "  adding: kaggle/working/NepaliNewsClassifier/fingerprint.pb (stored 0%)\r\n",
      "  adding: kaggle/working/NepaliNewsClassifier/saved_model.pb (deflated 91%)\r\n",
      "  adding: kaggle/working/NepaliNewsClassifier/keras_metadata.pb (deflated 89%)\r\n",
      "  adding: kaggle/working/constants.json (deflated 23%)\r\n",
      "  adding: kaggle/working/model_architecture.png (deflated 10%)\r\n"
     ]
    }
   ],
   "source": [
    "!zip -r model_ouput.zip /kaggle/working"
   ]
  }
 ],
 "metadata": {
  "kaggle": {
   "accelerator": "gpu",
   "dataSources": [
    {
     "datasetId": 4484558,
     "sourceId": 7685447,
     "sourceType": "datasetVersion"
    }
   ],
   "dockerImageVersionId": 30648,
   "isGpuEnabled": true,
   "isInternetEnabled": true,
   "language": "python",
   "sourceType": "notebook"
  },
  "kernelspec": {
   "display_name": "Python 3",
   "language": "python",
   "name": "python3"
  },
  "language_info": {
   "codemirror_mode": {
    "name": "ipython",
    "version": 3
   },
   "file_extension": ".py",
   "mimetype": "text/x-python",
   "name": "python",
   "nbconvert_exporter": "python",
   "pygments_lexer": "ipython3",
   "version": "3.10.13"
  },
  "papermill": {
   "default_parameters": {},
   "duration": 3400.577278,
   "end_time": "2024-02-24T15:11:58.238719",
   "environment_variables": {},
   "exception": null,
   "input_path": "__notebook__.ipynb",
   "output_path": "__notebook__.ipynb",
   "parameters": {},
   "start_time": "2024-02-24T14:15:17.661441",
   "version": "2.5.0"
  }
 },
 "nbformat": 4,
 "nbformat_minor": 5
}

{
 "cells": [
  {
   "cell_type": "code",
   "execution_count": 42,
   "id": "3690c70d",
   "metadata": {
    "_cell_guid": "b1076dfc-b9ad-4769-8c92-a6c4dae69d19",
    "_uuid": "8f2839f25d086af736a60e9eeb907d3b93b6e0e5",
    "execution": {
     "iopub.execute_input": "2024-02-24T14:15:20.357359Z",
     "iopub.status.busy": "2024-02-24T14:15:20.356578Z",
     "iopub.status.idle": "2024-02-24T14:15:34.189218Z",
     "shell.execute_reply": "2024-02-24T14:15:34.188450Z"
    },
    "papermill": {
     "duration": 13.851861,
     "end_time": "2024-02-24T14:15:34.191599",
     "exception": false,
     "start_time": "2024-02-24T14:15:20.339738",
     "status": "completed"
    },
    "tags": []
   },
   "outputs": [],
   "source": [
    "import numpy as np\n",
    "import pandas as pd\n",
    "import seaborn as sns\n",
    "import tensorflow as tf\n",
    "from sklearn.preprocessing import LabelEncoder\n",
    "from sklearn.model_selection import train_test_split\n",
    "from tensorflow.keras.preprocessing.text import Tokenizer\n",
    "from tensorflow.keras.preprocessing.sequence import pad_sequences"
   ]
  },
  {
   "cell_type": "code",
   "execution_count": 7,
   "id": "a30a83b7",
   "metadata": {
    "execution": {
     "iopub.execute_input": "2024-02-24T14:15:34.222911Z",
     "iopub.status.busy": "2024-02-24T14:15:34.222359Z",
     "iopub.status.idle": "2024-02-24T14:15:34.226579Z",
     "shell.execute_reply": "2024-02-24T14:15:34.225818Z"
    },
    "papermill": {
     "duration": 0.021716,
     "end_time": "2024-02-24T14:15:34.228506",
     "exception": false,
     "start_time": "2024-02-24T14:15:34.206790",
     "status": "completed"
    },
    "tags": []
   },
   "outputs": [],
   "source": [
    "# To ignore warinings\n",
    "import warnings\n",
    "warnings.filterwarnings('ignore')"
   ]
  },
  {
   "cell_type": "code",
   "execution_count": 12,
   "id": "45fdba8f",
   "metadata": {
    "execution": {
     "iopub.execute_input": "2024-02-24T14:15:34.260751Z",
     "iopub.status.busy": "2024-02-24T14:15:34.260485Z",
     "iopub.status.idle": "2024-02-24T14:16:36.945690Z",
     "shell.execute_reply": "2024-02-24T14:16:36.944847Z"
    },
    "papermill": {
     "duration": 62.704068,
     "end_time": "2024-02-24T14:16:36.948133",
     "exception": false,
     "start_time": "2024-02-24T14:15:34.244065",
     "status": "completed"
    },
    "tags": []
   },
   "outputs": [],
   "source": [
    "# Reading the dataset\n",
    "df = pd.read_csv('../../data/full_cleaned.csv')"
   ]
  },
  {
   "cell_type": "code",
   "execution_count": 13,
   "id": "54552379",
   "metadata": {
    "execution": {
     "iopub.execute_input": "2024-02-24T14:16:36.979481Z",
     "iopub.status.busy": "2024-02-24T14:16:36.979178Z",
     "iopub.status.idle": "2024-02-24T14:16:36.993737Z",
     "shell.execute_reply": "2024-02-24T14:16:36.992916Z"
    },
    "papermill": {
     "duration": 0.032215,
     "end_time": "2024-02-24T14:16:36.995588",
     "exception": false,
     "start_time": "2024-02-24T14:16:36.963373",
     "status": "completed"
    },
    "tags": []
   },
   "outputs": [
    {
     "data": {
      "text/html": [
       "<div>\n",
       "<style scoped>\n",
       "    .dataframe tbody tr th:only-of-type {\n",
       "        vertical-align: middle;\n",
       "    }\n",
       "\n",
       "    .dataframe tbody tr th {\n",
       "        vertical-align: top;\n",
       "    }\n",
       "\n",
       "    .dataframe thead th {\n",
       "        text-align: right;\n",
       "    }\n",
       "</style>\n",
       "<table border=\"1\" class=\"dataframe\">\n",
       "  <thead>\n",
       "    <tr style=\"text-align: right;\">\n",
       "      <th></th>\n",
       "      <th>title</th>\n",
       "      <th>news_stopwords</th>\n",
       "      <th>news_no_stopwords</th>\n",
       "      <th>category</th>\n",
       "    </tr>\n",
       "  </thead>\n",
       "  <tbody>\n",
       "    <tr>\n",
       "      <th>0</th>\n",
       "      <td>निखिल उप्रेतीको भैरव फिल्मले अमेरिकामा रहेका न...</td>\n",
       "      <td>अमेरिकाका नेपालीको प्रतिक्रिया लिने इच्छा व्यक...</td>\n",
       "      <td>अमेरिकाका नेपालीको प्रतिक्रिया लिने इच्छा व्यक...</td>\n",
       "      <td>मनोरञ्जन</td>\n",
       "    </tr>\n",
       "    <tr>\n",
       "      <th>1</th>\n",
       "      <td>सुशील कोइरालाको निधनपछि चौरासी बाले खोले यस्ता...</td>\n",
       "      <td>झण्डै बर्षअघि सुशील कोइरालाले प्रधानमन्त्रीको ...</td>\n",
       "      <td>झण्डै बर्षअघि सुशील कोइरालाले प्रधानमन्त्रीको ...</td>\n",
       "      <td>मनोरञ्जन</td>\n",
       "    </tr>\n",
       "    <tr>\n",
       "      <th>2</th>\n",
       "      <td>लिटल प्रिन्स एण्ड प्रिन्सेसको ग्रान्ड फिनाले</td>\n",
       "      <td>ग्ल्यामरस नेपालले सुरुङ्गामा लिटल प्रिन्स एन्ड...</td>\n",
       "      <td>ग्ल्यामरस नेपालले सुरुङ्गामा लिटल प्रिन्स एन्ड...</td>\n",
       "      <td>मनोरञ्जन</td>\n",
       "    </tr>\n",
       "    <tr>\n",
       "      <th>3</th>\n",
       "      <td>अमेरिकामा सबैभन्दा धेरै कमाउने सिईओ बने पिचाई ...</td>\n",
       "      <td>गूगलका सिईओ सुन्दर पिचाई अमेरिकामा सबैभन्दा धे...</td>\n",
       "      <td>गूगलका सिईओ सुन्दर पिचाई अमेरिकामा सबैभन्दा कम...</td>\n",
       "      <td>मनोरञ्जन</td>\n",
       "    </tr>\n",
       "    <tr>\n",
       "      <th>4</th>\n",
       "      <td>ज्योती मगरको धमाका दोहोरीमा र्याप</td>\n",
       "      <td>दोहोरीमा र्याप बोलको गीतको भिडियो सार्वजनिक भए...</td>\n",
       "      <td>दोहोरीमा र्याप बोलको गीतको भिडियो सार्वजनिक चर...</td>\n",
       "      <td>मनोरञ्जन</td>\n",
       "    </tr>\n",
       "  </tbody>\n",
       "</table>\n",
       "</div>"
      ],
      "text/plain": [
       "                                               title  \\\n",
       "0  निखिल उप्रेतीको भैरव फिल्मले अमेरिकामा रहेका न...   \n",
       "1  सुशील कोइरालाको निधनपछि चौरासी बाले खोले यस्ता...   \n",
       "2       लिटल प्रिन्स एण्ड प्रिन्सेसको ग्रान्ड फिनाले   \n",
       "3  अमेरिकामा सबैभन्दा धेरै कमाउने सिईओ बने पिचाई ...   \n",
       "4                  ज्योती मगरको धमाका दोहोरीमा र्याप   \n",
       "\n",
       "                                      news_stopwords  \\\n",
       "0  अमेरिकाका नेपालीको प्रतिक्रिया लिने इच्छा व्यक...   \n",
       "1  झण्डै बर्षअघि सुशील कोइरालाले प्रधानमन्त्रीको ...   \n",
       "2  ग्ल्यामरस नेपालले सुरुङ्गामा लिटल प्रिन्स एन्ड...   \n",
       "3  गूगलका सिईओ सुन्दर पिचाई अमेरिकामा सबैभन्दा धे...   \n",
       "4  दोहोरीमा र्याप बोलको गीतको भिडियो सार्वजनिक भए...   \n",
       "\n",
       "                                   news_no_stopwords  category  \n",
       "0  अमेरिकाका नेपालीको प्रतिक्रिया लिने इच्छा व्यक...  मनोरञ्जन  \n",
       "1  झण्डै बर्षअघि सुशील कोइरालाले प्रधानमन्त्रीको ...  मनोरञ्जन  \n",
       "2  ग्ल्यामरस नेपालले सुरुङ्गामा लिटल प्रिन्स एन्ड...  मनोरञ्जन  \n",
       "3  गूगलका सिईओ सुन्दर पिचाई अमेरिकामा सबैभन्दा कम...  मनोरञ्जन  \n",
       "4  दोहोरीमा र्याप बोलको गीतको भिडियो सार्वजनिक चर...  मनोरञ्जन  "
      ]
     },
     "execution_count": 13,
     "metadata": {},
     "output_type": "execute_result"
    }
   ],
   "source": [
    "df.head()"
   ]
  },
  {
   "cell_type": "code",
   "execution_count": 15,
   "id": "96ca88e2",
   "metadata": {
    "execution": {
     "iopub.execute_input": "2024-02-24T14:16:37.069499Z",
     "iopub.status.busy": "2024-02-24T14:16:37.069232Z",
     "iopub.status.idle": "2024-02-24T14:16:37.074530Z",
     "shell.execute_reply": "2024-02-24T14:16:37.073687Z"
    },
    "papermill": {
     "duration": 0.0234,
     "end_time": "2024-02-24T14:16:37.076341",
     "exception": false,
     "start_time": "2024-02-24T14:16:37.052941",
     "status": "completed"
    },
    "tags": []
   },
   "outputs": [
    {
     "data": {
      "text/plain": [
       "(369800, 4)"
      ]
     },
     "execution_count": 15,
     "metadata": {},
     "output_type": "execute_result"
    }
   ],
   "source": [
    "df.shape"
   ]
  },
  {
   "cell_type": "code",
   "execution_count": 16,
   "id": "d6b12c98",
   "metadata": {
    "execution": {
     "iopub.execute_input": "2024-02-24T14:16:37.138864Z",
     "iopub.status.busy": "2024-02-24T14:16:37.138392Z",
     "iopub.status.idle": "2024-02-24T14:16:37.164631Z",
     "shell.execute_reply": "2024-02-24T14:16:37.163769Z"
    },
    "papermill": {
     "duration": 0.04418,
     "end_time": "2024-02-24T14:16:37.166465",
     "exception": false,
     "start_time": "2024-02-24T14:16:37.122285",
     "status": "completed"
    },
    "tags": []
   },
   "outputs": [],
   "source": [
    "df.drop(columns=[\"title\", \"news_stopwords\"], inplace=True)"
   ]
  },
  {
   "cell_type": "code",
   "execution_count": 23,
   "id": "9a3011d9",
   "metadata": {},
   "outputs": [],
   "source": [
    "# Remove sikshya category\n",
    "df = df[df[\"category\"] != \"शिक्षा\"]\n",
    "# Remove desh pradesh category\n",
    "df = df[df[\"category\"] != \"देश/प्रदेश\"]"
   ]
  },
  {
   "cell_type": "code",
   "execution_count": 24,
   "id": "bd22a8a0",
   "metadata": {
    "execution": {
     "iopub.execute_input": "2024-02-24T14:16:37.198230Z",
     "iopub.status.busy": "2024-02-24T14:16:37.197970Z",
     "iopub.status.idle": "2024-02-24T14:16:37.203069Z",
     "shell.execute_reply": "2024-02-24T14:16:37.202253Z"
    },
    "papermill": {
     "duration": 0.023139,
     "end_time": "2024-02-24T14:16:37.204949",
     "exception": false,
     "start_time": "2024-02-24T14:16:37.181810",
     "status": "completed"
    },
    "tags": []
   },
   "outputs": [],
   "source": [
    "le = LabelEncoder()\n",
    "df['label'] = le.fit_transform(df['category'])"
   ]
  },
  {
   "cell_type": "code",
   "execution_count": 25,
   "id": "9ef75fa5",
   "metadata": {
    "execution": {
     "iopub.execute_input": "2024-02-24T14:16:37.237863Z",
     "iopub.status.busy": "2024-02-24T14:16:37.237088Z",
     "iopub.status.idle": "2024-02-24T14:16:38.329047Z",
     "shell.execute_reply": "2024-02-24T14:16:38.328072Z"
    },
    "papermill": {
     "duration": 1.110388,
     "end_time": "2024-02-24T14:16:38.331192",
     "exception": false,
     "start_time": "2024-02-24T14:16:37.220804",
     "status": "completed"
    },
    "tags": []
   },
   "outputs": [],
   "source": [
    "def random_undersampling(data, random_state):\n",
    "    if len(data) > 25000:\n",
    "        return data.sample(25000, random_state=random_state)\n",
    "    return data"
   ]
  },
  {
   "cell_type": "code",
   "execution_count": 59,
   "id": "4a55d974",
   "metadata": {},
   "outputs": [],
   "source": [
    "parameters = {\n",
    "    'MAX_NEWS_LENGTH': 256,\n",
    "    'TOTAL_CATEGORIES': df['label'].nunique(),\n",
    "    'VOCAB_SIZE': 52_000,\n",
    "    'EMBEDDING_DIMENSION': 50,\n",
    "    'FIRST_HIDDEN_DIM': 16,\n",
    "    'DROPOUT': 0.2,\n",
    "    'BATCH_SIZE': 512,\n",
    "    'EPOCHS': 16,\n",
    "    'EARLY_STOPPING': 3\n",
    "}"
   ]
  },
  {
   "cell_type": "code",
   "execution_count": 26,
   "id": "c0004429",
   "metadata": {},
   "outputs": [],
   "source": [
    "# Drop Duplicates\n",
    "df.drop_duplicates([\"news_no_stopwords\"], inplace=True)\n",
    "# Remove rows with null values\n",
    "df.dropna(inplace=True, axis=0)\n",
    "# Compute length of each news articles\n",
    "df[\"length\"] = df[\"news_no_stopwords\"].apply(lambda x: len(x.split()))\n",
    "# Remove all news with <30 words\n",
    "df = df[df[\"length\"] >= 30]"
   ]
  },
  {
   "cell_type": "markdown",
   "id": "e5e7fc35",
   "metadata": {
    "papermill": {
     "duration": 0.01564,
     "end_time": "2024-02-24T14:16:38.363297",
     "exception": false,
     "start_time": "2024-02-24T14:16:38.347657",
     "status": "completed"
    },
    "tags": []
   },
   "source": [
    "So, we have 361955 unique news scattered along 10 different catgeories.<br>\n",
    "There seems to be duplicate news. So lets remove them."
   ]
  },
  {
   "cell_type": "code",
   "execution_count": 28,
   "id": "5cad1082",
   "metadata": {
    "execution": {
     "iopub.execute_input": "2024-02-24T14:16:38.396112Z",
     "iopub.status.busy": "2024-02-24T14:16:38.395806Z",
     "iopub.status.idle": "2024-02-24T14:16:38.499311Z",
     "shell.execute_reply": "2024-02-24T14:16:38.498545Z"
    },
    "papermill": {
     "duration": 0.122442,
     "end_time": "2024-02-24T14:16:38.501464",
     "exception": false,
     "start_time": "2024-02-24T14:16:38.379022",
     "status": "completed"
    },
    "tags": []
   },
   "outputs": [],
   "source": [
    "df[\"news_no_stopwords\"] = df[\"news_no_stopwords\"].apply(lambda x: \" \".join(x.split()[:parameters[\"MAX_NEWS_LENGTH\"]]))\n",
    "# Perform random undersampling\n",
    "df_balanced = pd.DataFrame(columns=['news_no_stopwords', 'label'])\n",
    "for i in range(parameters[\"TOTAL_CATEGORIES\"]):\n",
    "    res = random_undersampling(df[df[\"label\"] == i], i * np.random.randint(100))\n",
    "    if df_balanced.empty == True:\n",
    "        df_balanced = res\n",
    "    else:\n",
    "        df_balanced = pd.concat([df_balanced, res], ignore_index=True)\n",
    "\n",
    "# Shuffle the dataset\n",
    "for i in range(20):\n",
    "    df_balanced = df_balanced.sample(frac=1)"
   ]
  },
  {
   "cell_type": "code",
   "execution_count": 29,
   "id": "f400e50a",
   "metadata": {},
   "outputs": [
    {
     "data": {
      "text/plain": [
       "category\n",
       "विश्व                25000\n",
       "मनोरञ्जन             25000\n",
       "अर्थ / वाणिज्य       25000\n",
       "राजनीति              25000\n",
       "समाज                 25000\n",
       "खेलकुद               25000\n",
       "विज्ञान र प्रविधि    23027\n",
       "स्वास्थ्य            21490\n",
       "Name: count, dtype: int64"
      ]
     },
     "execution_count": 29,
     "metadata": {},
     "output_type": "execute_result"
    }
   ],
   "source": [
    "df_balanced['category'].value_counts()"
   ]
  },
  {
   "cell_type": "code",
   "execution_count": 34,
   "id": "cf40db89",
   "metadata": {
    "execution": {
     "iopub.execute_input": "2024-02-24T14:16:38.534999Z",
     "iopub.status.busy": "2024-02-24T14:16:38.534693Z",
     "iopub.status.idle": "2024-02-24T14:16:39.008426Z",
     "shell.execute_reply": "2024-02-24T14:16:39.007524Z"
    },
    "papermill": {
     "duration": 0.492695,
     "end_time": "2024-02-24T14:16:39.010492",
     "exception": false,
     "start_time": "2024-02-24T14:16:38.517797",
     "status": "completed"
    },
    "tags": []
   },
   "outputs": [],
   "source": [
    "X_train, X_val_test, y_train, y_val_test = train_test_split(df_balanced[\"news_no_stopwords\"], df_balanced[\"label\"], test_size=0.20, random_state=34, stratify=df_balanced[\"label\"])"
   ]
  },
  {
   "cell_type": "code",
   "execution_count": 35,
   "id": "9451eb49",
   "metadata": {
    "execution": {
     "iopub.execute_input": "2024-02-24T14:16:50.998227Z",
     "iopub.status.busy": "2024-02-24T14:16:50.997917Z",
     "iopub.status.idle": "2024-02-24T14:16:51.028661Z",
     "shell.execute_reply": "2024-02-24T14:16:51.027915Z"
    },
    "papermill": {
     "duration": 0.05339,
     "end_time": "2024-02-24T14:16:51.030588",
     "exception": false,
     "start_time": "2024-02-24T14:16:50.977198",
     "status": "completed"
    },
    "tags": []
   },
   "outputs": [],
   "source": [
    "X_val, X_test, y_val, y_test = train_test_split(X_val_test, y_val_test, test_size=0.5, random_state=28, stratify=y_val_test, shuffle=True)"
   ]
  },
  {
   "cell_type": "code",
   "execution_count": 36,
   "id": "5e43dc39",
   "metadata": {
    "execution": {
     "iopub.execute_input": "2024-02-24T14:16:51.071577Z",
     "iopub.status.busy": "2024-02-24T14:16:51.071062Z",
     "iopub.status.idle": "2024-02-24T14:16:51.076781Z",
     "shell.execute_reply": "2024-02-24T14:16:51.075952Z"
    },
    "papermill": {
     "duration": 0.028029,
     "end_time": "2024-02-24T14:16:51.078536",
     "exception": false,
     "start_time": "2024-02-24T14:16:51.050507",
     "status": "completed"
    },
    "tags": []
   },
   "outputs": [
    {
     "data": {
      "text/plain": [
       "((155613,), (19452,), (19452,))"
      ]
     },
     "execution_count": 36,
     "metadata": {},
     "output_type": "execute_result"
    }
   ],
   "source": [
    "X_train.shape, X_val.shape, X_test.shape "
   ]
  },
  {
   "cell_type": "markdown",
   "id": "6a4c37d2",
   "metadata": {
    "papermill": {
     "duration": 0.019842,
     "end_time": "2024-02-24T14:16:51.118073",
     "exception": false,
     "start_time": "2024-02-24T14:16:51.098231",
     "status": "completed"
    },
    "tags": []
   },
   "source": [
    "Now we will create our tokenizer"
   ]
  },
  {
   "cell_type": "code",
   "execution_count": null,
   "id": "0729a38b",
   "metadata": {
    "execution": {
     "iopub.execute_input": "2024-02-24T14:16:51.158897Z",
     "iopub.status.busy": "2024-02-24T14:16:51.158629Z",
     "iopub.status.idle": "2024-02-24T14:16:51.253611Z",
     "shell.execute_reply": "2024-02-24T14:16:51.252726Z"
    },
    "papermill": {
     "duration": 0.117448,
     "end_time": "2024-02-24T14:16:51.255561",
     "exception": false,
     "start_time": "2024-02-24T14:16:51.138113",
     "status": "completed"
    },
    "tags": []
   },
   "outputs": [],
   "source": []
  },
  {
   "cell_type": "code",
   "execution_count": 40,
   "id": "0a21dea3",
   "metadata": {
    "execution": {
     "iopub.execute_input": "2024-02-24T14:16:51.297014Z",
     "iopub.status.busy": "2024-02-24T14:16:51.296748Z",
     "iopub.status.idle": "2024-02-24T14:17:33.599785Z",
     "shell.execute_reply": "2024-02-24T14:17:33.598925Z"
    },
    "papermill": {
     "duration": 42.326854,
     "end_time": "2024-02-24T14:17:33.602520",
     "exception": false,
     "start_time": "2024-02-24T14:16:51.275666",
     "status": "completed"
    },
    "tags": []
   },
   "outputs": [],
   "source": [
    "tokenizer = Tokenizer(num_words=parameters['VOCAB_SIZE'])\n",
    "tokenizer.fit_on_texts(list(X_train))"
   ]
  },
  {
   "cell_type": "markdown",
   "id": "5a4cecc6",
   "metadata": {
    "papermill": {
     "duration": 0.020324,
     "end_time": "2024-02-24T14:17:33.691304",
     "exception": false,
     "start_time": "2024-02-24T14:17:33.670980",
     "status": "completed"
    },
    "tags": []
   },
   "source": [
    "Now we convert our words to integers"
   ]
  },
  {
   "cell_type": "code",
   "execution_count": 41,
   "id": "92564d2f",
   "metadata": {
    "execution": {
     "iopub.execute_input": "2024-02-24T14:17:33.732587Z",
     "iopub.status.busy": "2024-02-24T14:17:33.731847Z",
     "iopub.status.idle": "2024-02-24T14:18:17.813388Z",
     "shell.execute_reply": "2024-02-24T14:18:17.812282Z"
    },
    "papermill": {
     "duration": 44.104787,
     "end_time": "2024-02-24T14:18:17.816034",
     "exception": false,
     "start_time": "2024-02-24T14:17:33.711247",
     "status": "completed"
    },
    "tags": []
   },
   "outputs": [],
   "source": [
    "X_train_seq = tokenizer.texts_to_sequences(X_train)\n",
    "X_test_seq = tokenizer.texts_to_sequences(X_test)\n",
    "X_val_seq = tokenizer.texts_to_sequences(X_val)"
   ]
  },
  {
   "cell_type": "markdown",
   "id": "5fc9f4da",
   "metadata": {
    "papermill": {
     "duration": 0.020177,
     "end_time": "2024-02-24T14:18:17.858956",
     "exception": false,
     "start_time": "2024-02-24T14:18:17.838779",
     "status": "completed"
    },
    "tags": []
   },
   "source": [
    "Finally we will pad our sequences so that all the inputs are of same length, 200"
   ]
  },
  {
   "cell_type": "code",
   "execution_count": 43,
   "id": "3f8204ba",
   "metadata": {
    "execution": {
     "iopub.execute_input": "2024-02-24T14:18:17.954777Z",
     "iopub.status.busy": "2024-02-24T14:18:17.954468Z",
     "iopub.status.idle": "2024-02-24T14:18:21.483429Z",
     "shell.execute_reply": "2024-02-24T14:18:21.482625Z"
    },
    "papermill": {
     "duration": 3.553224,
     "end_time": "2024-02-24T14:18:21.485701",
     "exception": false,
     "start_time": "2024-02-24T14:18:17.932477",
     "status": "completed"
    },
    "tags": []
   },
   "outputs": [],
   "source": [
    "X_train_pad_seq = pad_sequences(X_train_seq,  maxlen=parameters[\"MAX_NEWS_LENGTH\"], padding='post')\n",
    "X_test_pad_seq = pad_sequences(X_test_seq,  maxlen=parameters[\"MAX_NEWS_LENGTH\"], padding='post')\n",
    "X_val_pad_seq = pad_sequences(X_val_seq,  maxlen=parameters[\"MAX_NEWS_LENGTH\"], padding='post')"
   ]
  },
  {
   "cell_type": "code",
   "execution_count": 44,
   "id": "4d069761",
   "metadata": {
    "execution": {
     "iopub.execute_input": "2024-02-24T14:18:21.528478Z",
     "iopub.status.busy": "2024-02-24T14:18:21.528119Z",
     "iopub.status.idle": "2024-02-24T14:18:21.534057Z",
     "shell.execute_reply": "2024-02-24T14:18:21.533150Z"
    },
    "papermill": {
     "duration": 0.029432,
     "end_time": "2024-02-24T14:18:21.536119",
     "exception": false,
     "start_time": "2024-02-24T14:18:21.506687",
     "status": "completed"
    },
    "tags": []
   },
   "outputs": [
    {
     "data": {
      "text/plain": [
       "((155613, 256), (19452, 256), (19452, 256))"
      ]
     },
     "execution_count": 44,
     "metadata": {},
     "output_type": "execute_result"
    }
   ],
   "source": [
    "X_train_pad_seq.shape, X_val_pad_seq.shape, X_test_pad_seq.shape"
   ]
  },
  {
   "cell_type": "code",
   "execution_count": 45,
   "id": "f9988022",
   "metadata": {
    "execution": {
     "iopub.execute_input": "2024-02-24T14:18:21.710323Z",
     "iopub.status.busy": "2024-02-24T14:18:21.709707Z",
     "iopub.status.idle": "2024-02-24T14:18:21.721623Z",
     "shell.execute_reply": "2024-02-24T14:18:21.720888Z"
    },
    "papermill": {
     "duration": 0.035267,
     "end_time": "2024-02-24T14:18:21.723478",
     "exception": false,
     "start_time": "2024-02-24T14:18:21.688211",
     "status": "completed"
    },
    "tags": []
   },
   "outputs": [],
   "source": [
    "y_train = tf.keras.utils.to_categorical(y_train, parameters[\"TOTAL_CATEGORIES\"])\n",
    "y_val = tf.keras.utils.to_categorical(y_val, parameters[\"TOTAL_CATEGORIES\"])\n",
    "y_test = tf.keras.utils.to_categorical(y_test, parameters[\"TOTAL_CATEGORIES\"])"
   ]
  },
  {
   "cell_type": "code",
   "execution_count": 46,
   "id": "df12dae9",
   "metadata": {
    "execution": {
     "iopub.execute_input": "2024-02-24T14:18:21.765149Z",
     "iopub.status.busy": "2024-02-24T14:18:21.764886Z",
     "iopub.status.idle": "2024-02-24T14:18:21.770873Z",
     "shell.execute_reply": "2024-02-24T14:18:21.769916Z"
    },
    "papermill": {
     "duration": 0.029061,
     "end_time": "2024-02-24T14:18:21.772878",
     "exception": false,
     "start_time": "2024-02-24T14:18:21.743817",
     "status": "completed"
    },
    "tags": []
   },
   "outputs": [
    {
     "data": {
      "text/plain": [
       "((155613, 8), (19452, 8), (19452, 8))"
      ]
     },
     "execution_count": 46,
     "metadata": {},
     "output_type": "execute_result"
    }
   ],
   "source": [
    "y_train.shape, y_val.shape, y_test.shape"
   ]
  },
  {
   "cell_type": "markdown",
   "id": "c8005b41",
   "metadata": {
    "papermill": {
     "duration": 0.020451,
     "end_time": "2024-02-24T14:18:21.813874",
     "exception": false,
     "start_time": "2024-02-24T14:18:21.793423",
     "status": "completed"
    },
    "tags": []
   },
   "source": [
    "Now lets create our LSTM model for news classification"
   ]
  },
  {
   "cell_type": "code",
   "execution_count": 66,
   "id": "1ab0bae5",
   "metadata": {
    "execution": {
     "iopub.execute_input": "2024-02-24T14:18:21.906857Z",
     "iopub.status.busy": "2024-02-24T14:18:21.906272Z",
     "iopub.status.idle": "2024-02-24T14:18:23.369371Z",
     "shell.execute_reply": "2024-02-24T14:18:23.368446Z"
    },
    "papermill": {
     "duration": 1.488171,
     "end_time": "2024-02-24T14:18:23.372552",
     "exception": false,
     "start_time": "2024-02-24T14:18:21.884381",
     "status": "completed"
    },
    "tags": []
   },
   "outputs": [
    {
     "data": {
      "text/html": [
       "<pre style=\"white-space:pre;overflow-x:auto;line-height:normal;font-family:Menlo,'DejaVu Sans Mono',consolas,'Courier New',monospace\"><span style=\"font-weight: bold\">Model: \"sequential_4\"</span>\n",
       "</pre>\n"
      ],
      "text/plain": [
       "\u001b[1mModel: \"sequential_4\"\u001b[0m\n"
      ]
     },
     "metadata": {},
     "output_type": "display_data"
    },
    {
     "data": {
      "text/html": [
       "<pre style=\"white-space:pre;overflow-x:auto;line-height:normal;font-family:Menlo,'DejaVu Sans Mono',consolas,'Courier New',monospace\">┏━━━━━━━━━━━━━━━━━━━━━━━━━━━━━━━━━┳━━━━━━━━━━━━━━━━━━━━━━━━┳━━━━━━━━━━━━━━━┓\n",
       "┃<span style=\"font-weight: bold\"> Layer (type)                    </span>┃<span style=\"font-weight: bold\"> Output Shape           </span>┃<span style=\"font-weight: bold\">       Param # </span>┃\n",
       "┡━━━━━━━━━━━━━━━━━━━━━━━━━━━━━━━━━╇━━━━━━━━━━━━━━━━━━━━━━━━╇━━━━━━━━━━━━━━━┩\n",
       "│ Embedding_Layer (<span style=\"color: #0087ff; text-decoration-color: #0087ff\">Embedding</span>)     │ (<span style=\"color: #00d7ff; text-decoration-color: #00d7ff\">None</span>, <span style=\"color: #00af00; text-decoration-color: #00af00\">256</span>, <span style=\"color: #00af00; text-decoration-color: #00af00\">50</span>)        │     <span style=\"color: #00af00; text-decoration-color: #00af00\">2,600,000</span> │\n",
       "├─────────────────────────────────┼────────────────────────┼───────────────┤\n",
       "│ global_average_pooling1d_3      │ (<span style=\"color: #00d7ff; text-decoration-color: #00d7ff\">None</span>, <span style=\"color: #00af00; text-decoration-color: #00af00\">50</span>)             │             <span style=\"color: #00af00; text-decoration-color: #00af00\">0</span> │\n",
       "│ (<span style=\"color: #0087ff; text-decoration-color: #0087ff\">GlobalAveragePooling1D</span>)        │                        │               │\n",
       "├─────────────────────────────────┼────────────────────────┼───────────────┤\n",
       "│ dense_12 (<span style=\"color: #0087ff; text-decoration-color: #0087ff\">Dense</span>)                │ (<span style=\"color: #00d7ff; text-decoration-color: #00d7ff\">None</span>, <span style=\"color: #00af00; text-decoration-color: #00af00\">16</span>)             │           <span style=\"color: #00af00; text-decoration-color: #00af00\">816</span> │\n",
       "├─────────────────────────────────┼────────────────────────┼───────────────┤\n",
       "│ dropout_8 (<span style=\"color: #0087ff; text-decoration-color: #0087ff\">Dropout</span>)             │ (<span style=\"color: #00d7ff; text-decoration-color: #00d7ff\">None</span>, <span style=\"color: #00af00; text-decoration-color: #00af00\">16</span>)             │             <span style=\"color: #00af00; text-decoration-color: #00af00\">0</span> │\n",
       "├─────────────────────────────────┼────────────────────────┼───────────────┤\n",
       "│ dense_13 (<span style=\"color: #0087ff; text-decoration-color: #0087ff\">Dense</span>)                │ (<span style=\"color: #00d7ff; text-decoration-color: #00d7ff\">None</span>, <span style=\"color: #00af00; text-decoration-color: #00af00\">32</span>)             │           <span style=\"color: #00af00; text-decoration-color: #00af00\">544</span> │\n",
       "├─────────────────────────────────┼────────────────────────┼───────────────┤\n",
       "│ dropout_9 (<span style=\"color: #0087ff; text-decoration-color: #0087ff\">Dropout</span>)             │ (<span style=\"color: #00d7ff; text-decoration-color: #00d7ff\">None</span>, <span style=\"color: #00af00; text-decoration-color: #00af00\">32</span>)             │             <span style=\"color: #00af00; text-decoration-color: #00af00\">0</span> │\n",
       "├─────────────────────────────────┼────────────────────────┼───────────────┤\n",
       "│ Softmax_Layer (<span style=\"color: #0087ff; text-decoration-color: #0087ff\">Dense</span>)           │ (<span style=\"color: #00d7ff; text-decoration-color: #00d7ff\">None</span>, <span style=\"color: #00af00; text-decoration-color: #00af00\">8</span>)              │           <span style=\"color: #00af00; text-decoration-color: #00af00\">264</span> │\n",
       "└─────────────────────────────────┴────────────────────────┴───────────────┘\n",
       "</pre>\n"
      ],
      "text/plain": [
       "┏━━━━━━━━━━━━━━━━━━━━━━━━━━━━━━━━━┳━━━━━━━━━━━━━━━━━━━━━━━━┳━━━━━━━━━━━━━━━┓\n",
       "┃\u001b[1m \u001b[0m\u001b[1mLayer (type)                   \u001b[0m\u001b[1m \u001b[0m┃\u001b[1m \u001b[0m\u001b[1mOutput Shape          \u001b[0m\u001b[1m \u001b[0m┃\u001b[1m \u001b[0m\u001b[1m      Param #\u001b[0m\u001b[1m \u001b[0m┃\n",
       "┡━━━━━━━━━━━━━━━━━━━━━━━━━━━━━━━━━╇━━━━━━━━━━━━━━━━━━━━━━━━╇━━━━━━━━━━━━━━━┩\n",
       "│ Embedding_Layer (\u001b[38;5;33mEmbedding\u001b[0m)     │ (\u001b[38;5;45mNone\u001b[0m, \u001b[38;5;34m256\u001b[0m, \u001b[38;5;34m50\u001b[0m)        │     \u001b[38;5;34m2,600,000\u001b[0m │\n",
       "├─────────────────────────────────┼────────────────────────┼───────────────┤\n",
       "│ global_average_pooling1d_3      │ (\u001b[38;5;45mNone\u001b[0m, \u001b[38;5;34m50\u001b[0m)             │             \u001b[38;5;34m0\u001b[0m │\n",
       "│ (\u001b[38;5;33mGlobalAveragePooling1D\u001b[0m)        │                        │               │\n",
       "├─────────────────────────────────┼────────────────────────┼───────────────┤\n",
       "│ dense_12 (\u001b[38;5;33mDense\u001b[0m)                │ (\u001b[38;5;45mNone\u001b[0m, \u001b[38;5;34m16\u001b[0m)             │           \u001b[38;5;34m816\u001b[0m │\n",
       "├─────────────────────────────────┼────────────────────────┼───────────────┤\n",
       "│ dropout_8 (\u001b[38;5;33mDropout\u001b[0m)             │ (\u001b[38;5;45mNone\u001b[0m, \u001b[38;5;34m16\u001b[0m)             │             \u001b[38;5;34m0\u001b[0m │\n",
       "├─────────────────────────────────┼────────────────────────┼───────────────┤\n",
       "│ dense_13 (\u001b[38;5;33mDense\u001b[0m)                │ (\u001b[38;5;45mNone\u001b[0m, \u001b[38;5;34m32\u001b[0m)             │           \u001b[38;5;34m544\u001b[0m │\n",
       "├─────────────────────────────────┼────────────────────────┼───────────────┤\n",
       "│ dropout_9 (\u001b[38;5;33mDropout\u001b[0m)             │ (\u001b[38;5;45mNone\u001b[0m, \u001b[38;5;34m32\u001b[0m)             │             \u001b[38;5;34m0\u001b[0m │\n",
       "├─────────────────────────────────┼────────────────────────┼───────────────┤\n",
       "│ Softmax_Layer (\u001b[38;5;33mDense\u001b[0m)           │ (\u001b[38;5;45mNone\u001b[0m, \u001b[38;5;34m8\u001b[0m)              │           \u001b[38;5;34m264\u001b[0m │\n",
       "└─────────────────────────────────┴────────────────────────┴───────────────┘\n"
      ]
     },
     "metadata": {},
     "output_type": "display_data"
    },
    {
     "data": {
      "text/html": [
       "<pre style=\"white-space:pre;overflow-x:auto;line-height:normal;font-family:Menlo,'DejaVu Sans Mono',consolas,'Courier New',monospace\"><span style=\"font-weight: bold\"> Total params: </span><span style=\"color: #00af00; text-decoration-color: #00af00\">2,601,624</span> (9.92 MB)\n",
       "</pre>\n"
      ],
      "text/plain": [
       "\u001b[1m Total params: \u001b[0m\u001b[38;5;34m2,601,624\u001b[0m (9.92 MB)\n"
      ]
     },
     "metadata": {},
     "output_type": "display_data"
    },
    {
     "data": {
      "text/html": [
       "<pre style=\"white-space:pre;overflow-x:auto;line-height:normal;font-family:Menlo,'DejaVu Sans Mono',consolas,'Courier New',monospace\"><span style=\"font-weight: bold\"> Trainable params: </span><span style=\"color: #00af00; text-decoration-color: #00af00\">2,601,624</span> (9.92 MB)\n",
       "</pre>\n"
      ],
      "text/plain": [
       "\u001b[1m Trainable params: \u001b[0m\u001b[38;5;34m2,601,624\u001b[0m (9.92 MB)\n"
      ]
     },
     "metadata": {},
     "output_type": "display_data"
    },
    {
     "data": {
      "text/html": [
       "<pre style=\"white-space:pre;overflow-x:auto;line-height:normal;font-family:Menlo,'DejaVu Sans Mono',consolas,'Courier New',monospace\"><span style=\"font-weight: bold\"> Non-trainable params: </span><span style=\"color: #00af00; text-decoration-color: #00af00\">0</span> (0.00 B)\n",
       "</pre>\n"
      ],
      "text/plain": [
       "\u001b[1m Non-trainable params: \u001b[0m\u001b[38;5;34m0\u001b[0m (0.00 B)\n"
      ]
     },
     "metadata": {},
     "output_type": "display_data"
    }
   ],
   "source": [
    "model = tf.keras.Sequential()\n",
    "model.add(tf.keras.layers.Input(shape=(parameters['MAX_NEWS_LENGTH'],)))\n",
    "model.add(tf.keras.layers.Embedding(parameters[\"VOCAB_SIZE\"], parameters[\"EMBEDDING_DIMENSION\"], input_length=parameters[\"MAX_NEWS_LENGTH\"], name=\"Embedding_Layer\"))\n",
    "model.add(tf.keras.layers.GlobalAveragePooling1D())\n",
    "model.add(tf.keras.layers.Dense(parameters['FIRST_HIDDEN_DIM'], activation='relu'))\n",
    "model.add(tf.keras.layers.Dropout(parameters['DROPOUT']))\n",
    "model.add(tf.keras.layers.Dense(parameters['FIRST_HIDDEN_DIM'] * 2, activation='relu'))\n",
    "model.add(tf.keras.layers.Dropout(parameters['DROPOUT']))\n",
    "# model.add(tf.keras.layers.Dense(parameters['FIRST_HIDDEN_DIM'], activation='relu'))\n",
    "model.add(tf.keras.layers.Dense(parameters[\"TOTAL_CATEGORIES\"], activation='softmax', name=\"Softmax_Layer\"))\n",
    "model.summary()"
   ]
  },
  {
   "cell_type": "code",
   "execution_count": 67,
   "id": "a75acea8",
   "metadata": {
    "execution": {
     "iopub.execute_input": "2024-02-24T14:18:23.662748Z",
     "iopub.status.busy": "2024-02-24T14:18:23.662392Z",
     "iopub.status.idle": "2024-02-24T14:18:23.692325Z",
     "shell.execute_reply": "2024-02-24T14:18:23.691591Z"
    },
    "papermill": {
     "duration": 0.056014,
     "end_time": "2024-02-24T14:18:23.694273",
     "exception": false,
     "start_time": "2024-02-24T14:18:23.638259",
     "status": "completed"
    },
    "tags": []
   },
   "outputs": [],
   "source": [
    "model.compile(loss='categorical_crossentropy',\n",
    "    optimizer=\"adam\",\n",
    "    metrics=['accuracy', tf.keras.metrics.F1Score(), tf.keras.metrics.Precision(), tf.keras.metrics.Recall()]\n",
    ")"
   ]
  },
  {
   "cell_type": "code",
   "execution_count": 68,
   "id": "0f168342",
   "metadata": {
    "execution": {
     "iopub.execute_input": "2024-02-24T14:18:23.742087Z",
     "iopub.status.busy": "2024-02-24T14:18:23.741803Z",
     "iopub.status.idle": "2024-02-24T14:18:23.746125Z",
     "shell.execute_reply": "2024-02-24T14:18:23.745179Z"
    },
    "papermill": {
     "duration": 0.030306,
     "end_time": "2024-02-24T14:18:23.747998",
     "exception": false,
     "start_time": "2024-02-24T14:18:23.717692",
     "status": "completed"
    },
    "tags": []
   },
   "outputs": [],
   "source": [
    "es = tf.keras.callbacks.EarlyStopping(monitor='val_loss', mode='min', verbose=1, patience=parameters[\"EARLY_STOPPING\"])\n",
    "cp = tf.keras.callbacks.ModelCheckpoint(\"../../outputs/mlp/MLP_nepali_news_classifier_model.keras\", monitor=\"val_loss\", mode=\"min\", save_best_only=True)"
   ]
  },
  {
   "cell_type": "code",
   "execution_count": 69,
   "id": "d308851f",
   "metadata": {
    "execution": {
     "iopub.execute_input": "2024-02-24T14:18:23.896475Z",
     "iopub.status.busy": "2024-02-24T14:18:23.896166Z",
     "iopub.status.idle": "2024-02-24T15:09:33.663014Z",
     "shell.execute_reply": "2024-02-24T15:09:33.662013Z"
    },
    "papermill": {
     "duration": 3069.998241,
     "end_time": "2024-02-24T15:09:33.870178",
     "exception": false,
     "start_time": "2024-02-24T14:18:23.871937",
     "status": "completed"
    },
    "tags": []
   },
   "outputs": [
    {
     "name": "stdout",
     "output_type": "stream",
     "text": [
      "Epoch 1/16\n",
      "\u001b[1m304/304\u001b[0m \u001b[32m━━━━━━━━━━━━━━━━━━━━\u001b[0m\u001b[37m\u001b[0m \u001b[1m4s\u001b[0m 12ms/step - accuracy: 0.4002 - f1_score: 0.3742 - loss: 1.7241 - precision_3: 0.6755 - recall_3: 0.0995 - val_accuracy: 0.8317 - val_f1_score: 0.8297 - val_loss: 0.6127 - val_precision_3: 0.9104 - val_recall_3: 0.6792\n",
      "Epoch 2/16\n",
      "\u001b[1m304/304\u001b[0m \u001b[32m━━━━━━━━━━━━━━━━━━━━\u001b[0m\u001b[37m\u001b[0m \u001b[1m4s\u001b[0m 12ms/step - accuracy: 0.7882 - f1_score: 0.7869 - loss: 0.6742 - precision_3: 0.8752 - recall_3: 0.6721 - val_accuracy: 0.8630 - val_f1_score: 0.8614 - val_loss: 0.4631 - val_precision_3: 0.9000 - val_recall_3: 0.8155\n",
      "Epoch 3/16\n",
      "\u001b[1m304/304\u001b[0m \u001b[32m━━━━━━━━━━━━━━━━━━━━\u001b[0m\u001b[37m\u001b[0m \u001b[1m3s\u001b[0m 11ms/step - accuracy: 0.8384 - f1_score: 0.8378 - loss: 0.5317 - precision_3: 0.8871 - recall_3: 0.7732 - val_accuracy: 0.8728 - val_f1_score: 0.8721 - val_loss: 0.4249 - val_precision_3: 0.9018 - val_recall_3: 0.8411\n",
      "Epoch 4/16\n",
      "\u001b[1m304/304\u001b[0m \u001b[32m━━━━━━━━━━━━━━━━━━━━\u001b[0m\u001b[37m\u001b[0m \u001b[1m3s\u001b[0m 11ms/step - accuracy: 0.8592 - f1_score: 0.8580 - loss: 0.4658 - precision_3: 0.8991 - recall_3: 0.8106 - val_accuracy: 0.8755 - val_f1_score: 0.8735 - val_loss: 0.4141 - val_precision_3: 0.9032 - val_recall_3: 0.8480\n",
      "Epoch 5/16\n",
      "\u001b[1m304/304\u001b[0m \u001b[32m━━━━━━━━━━━━━━━━━━━━\u001b[0m\u001b[37m\u001b[0m \u001b[1m3s\u001b[0m 11ms/step - accuracy: 0.8753 - f1_score: 0.8742 - loss: 0.4162 - precision_3: 0.9075 - recall_3: 0.8352 - val_accuracy: 0.8769 - val_f1_score: 0.8752 - val_loss: 0.4030 - val_precision_3: 0.9001 - val_recall_3: 0.8552\n",
      "Epoch 6/16\n",
      "\u001b[1m304/304\u001b[0m \u001b[32m━━━━━━━━━━━━━━━━━━━━\u001b[0m\u001b[37m\u001b[0m \u001b[1m3s\u001b[0m 11ms/step - accuracy: 0.8863 - f1_score: 0.8854 - loss: 0.3832 - precision_3: 0.9150 - recall_3: 0.8530 - val_accuracy: 0.8819 - val_f1_score: 0.8809 - val_loss: 0.3950 - val_precision_3: 0.9028 - val_recall_3: 0.8634\n",
      "Epoch 7/16\n",
      "\u001b[1m304/304\u001b[0m \u001b[32m━━━━━━━━━━━━━━━━━━━━\u001b[0m\u001b[37m\u001b[0m \u001b[1m4s\u001b[0m 12ms/step - accuracy: 0.8958 - f1_score: 0.8948 - loss: 0.3444 - precision_3: 0.9198 - recall_3: 0.8688 - val_accuracy: 0.8823 - val_f1_score: 0.8817 - val_loss: 0.3912 - val_precision_3: 0.9003 - val_recall_3: 0.8662\n",
      "Epoch 8/16\n",
      "\u001b[1m304/304\u001b[0m \u001b[32m━━━━━━━━━━━━━━━━━━━━\u001b[0m\u001b[37m\u001b[0m \u001b[1m3s\u001b[0m 11ms/step - accuracy: 0.9060 - f1_score: 0.9052 - loss: 0.3175 - precision_3: 0.9268 - recall_3: 0.8816 - val_accuracy: 0.8815 - val_f1_score: 0.8811 - val_loss: 0.3946 - val_precision_3: 0.8977 - val_recall_3: 0.8692\n",
      "Epoch 9/16\n",
      "\u001b[1m304/304\u001b[0m \u001b[32m━━━━━━━━━━━━━━━━━━━━\u001b[0m\u001b[37m\u001b[0m \u001b[1m3s\u001b[0m 11ms/step - accuracy: 0.9126 - f1_score: 0.9118 - loss: 0.2943 - precision_3: 0.9322 - recall_3: 0.8918 - val_accuracy: 0.8811 - val_f1_score: 0.8809 - val_loss: 0.4023 - val_precision_3: 0.8972 - val_recall_3: 0.8697\n",
      "Epoch 10/16\n",
      "\u001b[1m304/304\u001b[0m \u001b[32m━━━━━━━━━━━━━━━━━━━━\u001b[0m\u001b[37m\u001b[0m \u001b[1m3s\u001b[0m 11ms/step - accuracy: 0.9165 - f1_score: 0.9157 - loss: 0.2765 - precision_3: 0.9344 - recall_3: 0.8976 - val_accuracy: 0.8784 - val_f1_score: 0.8787 - val_loss: 0.4202 - val_precision_3: 0.8924 - val_recall_3: 0.8690\n",
      "Epoch 10: early stopping\n"
     ]
    }
   ],
   "source": [
    "history = model.fit(X_train_pad_seq, y_train,\n",
    "    batch_size=parameters[\"BATCH_SIZE\"],\n",
    "    epochs=parameters[\"EPOCHS\"],\n",
    "    validation_data=(X_val_pad_seq, y_val),\n",
    "    callbacks=[es, cp]\n",
    ")"
   ]
  },
  {
   "cell_type": "code",
   "execution_count": 70,
   "id": "7ef19306",
   "metadata": {
    "execution": {
     "iopub.execute_input": "2024-02-24T15:09:34.677003Z",
     "iopub.status.busy": "2024-02-24T15:09:34.676135Z",
     "iopub.status.idle": "2024-02-24T15:11:09.353085Z",
     "shell.execute_reply": "2024-02-24T15:11:09.352138Z"
    },
    "papermill": {
     "duration": 94.880294,
     "end_time": "2024-02-24T15:11:09.355012",
     "exception": false,
     "start_time": "2024-02-24T15:09:34.474718",
     "status": "completed"
    },
    "tags": []
   },
   "outputs": [
    {
     "name": "stdout",
     "output_type": "stream",
     "text": [
      "\u001b[1m608/608\u001b[0m \u001b[32m━━━━━━━━━━━━━━━━━━━━\u001b[0m\u001b[37m\u001b[0m \u001b[1m0s\u001b[0m 553us/step - accuracy: 0.8754 - f1_score: 0.8745 - loss: 0.4308 - precision_3: 0.8888 - recall_3: 0.8666\n"
     ]
    },
    {
     "data": {
      "text/plain": [
       "[0.43674236536026,\n",
       " 0.874254584312439,\n",
       " <tf.Tensor: shape=(8,), dtype=float32, numpy=\n",
       " array([0.8072855 , 0.97948617, 0.9542352 , 0.87502474, 0.8890389 ,\n",
       "        0.9099756 , 0.7238019 , 0.8572086 ], dtype=float32)>,\n",
       " 0.8866115212440491,\n",
       " 0.8650524616241455]"
      ]
     },
     "execution_count": 70,
     "metadata": {},
     "output_type": "execute_result"
    }
   ],
   "source": [
    "model.evaluate(X_test_pad_seq, y_test)"
   ]
  },
  {
   "cell_type": "markdown",
   "id": "1ff1519b",
   "metadata": {
    "papermill": {
     "duration": 0.272898,
     "end_time": "2024-02-24T15:11:09.904532",
     "exception": false,
     "start_time": "2024-02-24T15:11:09.631634",
     "status": "completed"
    },
    "tags": []
   },
   "source": [
    "Finally, lets save our tokenizer, CONSTANTS"
   ]
  },
  {
   "cell_type": "code",
   "execution_count": 73,
   "id": "6d9e330c",
   "metadata": {
    "execution": {
     "iopub.execute_input": "2024-02-24T15:11:10.453693Z",
     "iopub.status.busy": "2024-02-24T15:11:10.452943Z",
     "iopub.status.idle": "2024-02-24T15:11:10.457335Z",
     "shell.execute_reply": "2024-02-24T15:11:10.456408Z"
    },
    "papermill": {
     "duration": 0.283147,
     "end_time": "2024-02-24T15:11:10.459163",
     "exception": false,
     "start_time": "2024-02-24T15:11:10.176016",
     "status": "completed"
    },
    "tags": []
   },
   "outputs": [],
   "source": [
    "import io, json, pickle"
   ]
  },
  {
   "cell_type": "code",
   "execution_count": 74,
   "id": "ec04d407",
   "metadata": {
    "execution": {
     "iopub.execute_input": "2024-02-24T15:11:11.069907Z",
     "iopub.status.busy": "2024-02-24T15:11:11.069249Z",
     "iopub.status.idle": "2024-02-24T15:11:11.074495Z",
     "shell.execute_reply": "2024-02-24T15:11:11.073610Z"
    },
    "papermill": {
     "duration": 0.310436,
     "end_time": "2024-02-24T15:11:11.076454",
     "exception": false,
     "start_time": "2024-02-24T15:11:10.766018",
     "status": "completed"
    },
    "tags": []
   },
   "outputs": [],
   "source": [
    "with open('../../outputs/mlp/train_history.pkl', 'wb') as hist:\n",
    "    pickle.dump(history.history, hist)"
   ]
  },
  {
   "cell_type": "code",
   "execution_count": 75,
   "id": "36eb0ce5",
   "metadata": {},
   "outputs": [],
   "source": [
    "with open(\"../../outputs/mlp/parameters.json\", \"w\") as const: \n",
    "    json.dump(parameters, const)"
   ]
  },
  {
   "cell_type": "code",
   "execution_count": 76,
   "id": "1b82ebb8",
   "metadata": {},
   "outputs": [],
   "source": [
    "with io.open('../../outputs/mlp//tokenizer.json', 'w', encoding='utf-8') as tok:\n",
    "    tok.write(json.dumps(tokenizer.to_json(), ensure_ascii=False))"
   ]
  },
  {
   "cell_type": "code",
   "execution_count": 77,
   "id": "38861e1a",
   "metadata": {},
   "outputs": [],
   "source": [
    "with open('../../outputs/mlp/label_encoder.pkl', 'wb') as f:\n",
    "    pickle.dump(le, f)"
   ]
  }
 ],
 "metadata": {
  "kaggle": {
   "accelerator": "gpu",
   "dataSources": [
    {
     "datasetId": 4484558,
     "sourceId": 7685447,
     "sourceType": "datasetVersion"
    }
   ],
   "dockerImageVersionId": 30648,
   "isGpuEnabled": true,
   "isInternetEnabled": true,
   "language": "python",
   "sourceType": "notebook"
  },
  "kernelspec": {
   "display_name": ".venv",
   "language": "python",
   "name": "python3"
  },
  "language_info": {
   "codemirror_mode": {
    "name": "ipython",
    "version": 3
   },
   "file_extension": ".py",
   "mimetype": "text/x-python",
   "name": "python",
   "nbconvert_exporter": "python",
   "pygments_lexer": "ipython3",
   "version": "3.11.11"
  },
  "papermill": {
   "default_parameters": {},
   "duration": 3400.577278,
   "end_time": "2024-02-24T15:11:58.238719",
   "environment_variables": {},
   "exception": null,
   "input_path": "__notebook__.ipynb",
   "output_path": "__notebook__.ipynb",
   "parameters": {},
   "start_time": "2024-02-24T14:15:17.661441",
   "version": "2.5.0"
  }
 },
 "nbformat": 4,
 "nbformat_minor": 5
}

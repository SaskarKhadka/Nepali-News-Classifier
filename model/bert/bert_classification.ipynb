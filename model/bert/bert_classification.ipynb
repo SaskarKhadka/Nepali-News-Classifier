{
 "cells": [
  {
   "cell_type": "code",
   "execution_count": 1,
   "id": "7e8e6ca4",
   "metadata": {
    "execution": {
     "iopub.execute_input": "2025-05-10T05:35:09.123538Z",
     "iopub.status.busy": "2025-05-10T05:35:09.123257Z",
     "iopub.status.idle": "2025-05-10T05:35:12.585605Z",
     "shell.execute_reply": "2025-05-10T05:35:12.584966Z"
    },
    "papermill": {
     "duration": 3.470987,
     "end_time": "2025-05-10T05:35:12.587214",
     "exception": false,
     "start_time": "2025-05-10T05:35:09.116227",
     "status": "completed"
    },
    "tags": []
   },
   "outputs": [],
   "source": [
    "import torch\n",
    "from torch.utils.data import Dataset, DataLoader\n",
    "from torch.optim import AdamW"
   ]
  },
  {
   "cell_type": "code",
   "execution_count": 2,
   "id": "7ec1c61b",
   "metadata": {
    "_cell_guid": "b1076dfc-b9ad-4769-8c92-a6c4dae69d19",
    "_uuid": "8f2839f25d086af736a60e9eeb907d3b93b6e0e5",
    "execution": {
     "iopub.execute_input": "2025-05-10T05:35:12.600102Z",
     "iopub.status.busy": "2025-05-10T05:35:12.599776Z",
     "iopub.status.idle": "2025-05-10T05:35:36.621296Z",
     "shell.execute_reply": "2025-05-10T05:35:36.620660Z"
    },
    "papermill": {
     "duration": 24.029849,
     "end_time": "2025-05-10T05:35:36.622694",
     "exception": false,
     "start_time": "2025-05-10T05:35:12.592845",
     "status": "completed"
    },
    "tags": []
   },
   "outputs": [
    {
     "name": "stderr",
     "output_type": "stream",
     "text": [
      "2025-05-10 05:35:24.325005: E external/local_xla/xla/stream_executor/cuda/cuda_fft.cc:477] Unable to register cuFFT factory: Attempting to register factory for plugin cuFFT when one has already been registered\n",
      "WARNING: All log messages before absl::InitializeLog() is called are written to STDERR\n",
      "E0000 00:00:1746855324.476194      19 cuda_dnn.cc:8310] Unable to register cuDNN factory: Attempting to register factory for plugin cuDNN when one has already been registered\n",
      "E0000 00:00:1746855324.519129      19 cuda_blas.cc:1418] Unable to register cuBLAS factory: Attempting to register factory for plugin cuBLAS when one has already been registered\n"
     ]
    }
   ],
   "source": [
    "import pandas as pd\n",
    "import numpy as np\n",
    "import random\n",
    "from transformers import BertTokenizer, BertForSequenceClassification, TrainingArguments, Trainer\n",
    "from sklearn.model_selection import train_test_split\n",
    "from sklearn.preprocessing import LabelEncoder\n",
    "from tqdm import tqdm\n",
    "from sklearn.metrics import accuracy_score, precision_recall_fscore_support\n",
    "from sklearn.model_selection import train_test_split\n",
    "import pickle"
   ]
  },
  {
   "cell_type": "code",
   "execution_count": 3,
   "id": "928d3387",
   "metadata": {
    "execution": {
     "iopub.execute_input": "2025-05-10T05:35:36.633960Z",
     "iopub.status.busy": "2025-05-10T05:35:36.633492Z",
     "iopub.status.idle": "2025-05-10T05:35:36.637132Z",
     "shell.execute_reply": "2025-05-10T05:35:36.636613Z"
    },
    "papermill": {
     "duration": 0.010351,
     "end_time": "2025-05-10T05:35:36.638288",
     "exception": false,
     "start_time": "2025-05-10T05:35:36.627937",
     "status": "completed"
    },
    "tags": []
   },
   "outputs": [],
   "source": [
    "parameters = {\n",
    "    'NEWS_SEQUENCE_LENGTH': 256,\n",
    "    \n",
    "    'TRAIN_BATCH_SIZE': 32,\n",
    "    'EVAL_BATCH_SIZE': 32,\n",
    "    'EPOCHS': 6,\n",
    "    'LEARNING_RATE': 5e-5,\n",
    "    'WARMUP_STEPS': 1_000,\n",
    "    'GRADIENT_ACCUMULATION_STEPS': 4,\n",
    "    'L2_REG': 0.01,\n",
    "    # 'MAX_STEPS': 3664 # dataset_size / (BATCH*GRADIENT_ACCUMULATION_STEPS) = 1 epoch = 1221.375\n",
    "}"
   ]
  },
  {
   "cell_type": "code",
   "execution_count": 4,
   "id": "f89bd03a",
   "metadata": {
    "execution": {
     "iopub.execute_input": "2025-05-10T05:35:36.648575Z",
     "iopub.status.busy": "2025-05-10T05:35:36.648370Z",
     "iopub.status.idle": "2025-05-10T05:36:38.007995Z",
     "shell.execute_reply": "2025-05-10T05:36:38.007315Z"
    },
    "papermill": {
     "duration": 61.366439,
     "end_time": "2025-05-10T05:36:38.009510",
     "exception": false,
     "start_time": "2025-05-10T05:35:36.643071",
     "status": "completed"
    },
    "tags": []
   },
   "outputs": [],
   "source": [
    "df = pd.read_csv('/kaggle/input/nepali-news-classification-set/full_cleaned.csv')"
   ]
  },
  {
   "cell_type": "code",
   "execution_count": 5,
   "id": "373696f2",
   "metadata": {
    "execution": {
     "iopub.execute_input": "2025-05-10T05:36:38.020874Z",
     "iopub.status.busy": "2025-05-10T05:36:38.020627Z",
     "iopub.status.idle": "2025-05-10T05:36:38.040320Z",
     "shell.execute_reply": "2025-05-10T05:36:38.039557Z"
    },
    "papermill": {
     "duration": 0.026463,
     "end_time": "2025-05-10T05:36:38.041424",
     "exception": false,
     "start_time": "2025-05-10T05:36:38.014961",
     "status": "completed"
    },
    "tags": []
   },
   "outputs": [
    {
     "data": {
      "text/html": [
       "<div>\n",
       "<style scoped>\n",
       "    .dataframe tbody tr th:only-of-type {\n",
       "        vertical-align: middle;\n",
       "    }\n",
       "\n",
       "    .dataframe tbody tr th {\n",
       "        vertical-align: top;\n",
       "    }\n",
       "\n",
       "    .dataframe thead th {\n",
       "        text-align: right;\n",
       "    }\n",
       "</style>\n",
       "<table border=\"1\" class=\"dataframe\">\n",
       "  <thead>\n",
       "    <tr style=\"text-align: right;\">\n",
       "      <th></th>\n",
       "      <th>title</th>\n",
       "      <th>news_stopwords</th>\n",
       "      <th>news_no_stopwords</th>\n",
       "      <th>category</th>\n",
       "    </tr>\n",
       "  </thead>\n",
       "  <tbody>\n",
       "    <tr>\n",
       "      <th>0</th>\n",
       "      <td>निखिल उप्रेतीको भैरव फिल्मले अमेरिकामा रहेका न...</td>\n",
       "      <td>अमेरिकाका नेपालीको प्रतिक्रिया लिने इच्छा व्यक...</td>\n",
       "      <td>अमेरिकाका नेपालीको प्रतिक्रिया लिने इच्छा व्यक...</td>\n",
       "      <td>मनोरञ्जन</td>\n",
       "    </tr>\n",
       "    <tr>\n",
       "      <th>1</th>\n",
       "      <td>सुशील कोइरालाको निधनपछि चौरासी बाले खोले यस्ता...</td>\n",
       "      <td>झण्डै बर्षअघि सुशील कोइरालाले प्रधानमन्त्रीको ...</td>\n",
       "      <td>झण्डै बर्षअघि सुशील कोइरालाले प्रधानमन्त्रीको ...</td>\n",
       "      <td>मनोरञ्जन</td>\n",
       "    </tr>\n",
       "    <tr>\n",
       "      <th>2</th>\n",
       "      <td>लिटल प्रिन्स एण्ड प्रिन्सेसको ग्रान्ड फिनाले</td>\n",
       "      <td>ग्ल्यामरस नेपालले सुरुङ्गामा लिटल प्रिन्स एन्ड...</td>\n",
       "      <td>ग्ल्यामरस नेपालले सुरुङ्गामा लिटल प्रिन्स एन्ड...</td>\n",
       "      <td>मनोरञ्जन</td>\n",
       "    </tr>\n",
       "  </tbody>\n",
       "</table>\n",
       "</div>"
      ],
      "text/plain": [
       "                                               title  \\\n",
       "0  निखिल उप्रेतीको भैरव फिल्मले अमेरिकामा रहेका न...   \n",
       "1  सुशील कोइरालाको निधनपछि चौरासी बाले खोले यस्ता...   \n",
       "2       लिटल प्रिन्स एण्ड प्रिन्सेसको ग्रान्ड फिनाले   \n",
       "\n",
       "                                      news_stopwords  \\\n",
       "0  अमेरिकाका नेपालीको प्रतिक्रिया लिने इच्छा व्यक...   \n",
       "1  झण्डै बर्षअघि सुशील कोइरालाले प्रधानमन्त्रीको ...   \n",
       "2  ग्ल्यामरस नेपालले सुरुङ्गामा लिटल प्रिन्स एन्ड...   \n",
       "\n",
       "                                   news_no_stopwords  category  \n",
       "0  अमेरिकाका नेपालीको प्रतिक्रिया लिने इच्छा व्यक...  मनोरञ्जन  \n",
       "1  झण्डै बर्षअघि सुशील कोइरालाले प्रधानमन्त्रीको ...  मनोरञ्जन  \n",
       "2  ग्ल्यामरस नेपालले सुरुङ्गामा लिटल प्रिन्स एन्ड...  मनोरञ्जन  "
      ]
     },
     "execution_count": 5,
     "metadata": {},
     "output_type": "execute_result"
    }
   ],
   "source": [
    "df.head(3)"
   ]
  },
  {
   "cell_type": "markdown",
   "id": "24829efb",
   "metadata": {
    "papermill": {
     "duration": 0.00515,
     "end_time": "2025-05-10T05:36:38.051890",
     "exception": false,
     "start_time": "2025-05-10T05:36:38.046740",
     "status": "completed"
    },
    "tags": []
   },
   "source": [
    "Apply same preprocessing as in the LSTM Network."
   ]
  },
  {
   "cell_type": "code",
   "execution_count": 6,
   "id": "ebb852f2",
   "metadata": {
    "execution": {
     "iopub.execute_input": "2025-05-10T05:36:38.062961Z",
     "iopub.status.busy": "2025-05-10T05:36:38.062745Z",
     "iopub.status.idle": "2025-05-10T05:36:38.083697Z",
     "shell.execute_reply": "2025-05-10T05:36:38.083205Z"
    },
    "papermill": {
     "duration": 0.027829,
     "end_time": "2025-05-10T05:36:38.084800",
     "exception": false,
     "start_time": "2025-05-10T05:36:38.056971",
     "status": "completed"
    },
    "tags": []
   },
   "outputs": [],
   "source": [
    "df.drop(columns=[\"title\", \"news_no_stopwords\"], inplace=True)"
   ]
  },
  {
   "cell_type": "code",
   "execution_count": 7,
   "id": "eb82ba0a",
   "metadata": {
    "execution": {
     "iopub.execute_input": "2025-05-10T05:36:38.095463Z",
     "iopub.status.busy": "2025-05-10T05:36:38.095275Z",
     "iopub.status.idle": "2025-05-10T05:36:39.017729Z",
     "shell.execute_reply": "2025-05-10T05:36:39.017016Z"
    },
    "papermill": {
     "duration": 0.929033,
     "end_time": "2025-05-10T05:36:39.018923",
     "exception": false,
     "start_time": "2025-05-10T05:36:38.089890",
     "status": "completed"
    },
    "tags": []
   },
   "outputs": [
    {
     "data": {
      "text/html": [
       "<div>\n",
       "<style scoped>\n",
       "    .dataframe tbody tr th:only-of-type {\n",
       "        vertical-align: middle;\n",
       "    }\n",
       "\n",
       "    .dataframe tbody tr th {\n",
       "        vertical-align: top;\n",
       "    }\n",
       "\n",
       "    .dataframe thead th {\n",
       "        text-align: right;\n",
       "    }\n",
       "</style>\n",
       "<table border=\"1\" class=\"dataframe\">\n",
       "  <thead>\n",
       "    <tr style=\"text-align: right;\">\n",
       "      <th></th>\n",
       "      <th>news_stopwords</th>\n",
       "      <th>category</th>\n",
       "    </tr>\n",
       "  </thead>\n",
       "  <tbody>\n",
       "    <tr>\n",
       "      <th>count</th>\n",
       "      <td>369800</td>\n",
       "      <td>369800</td>\n",
       "    </tr>\n",
       "    <tr>\n",
       "      <th>unique</th>\n",
       "      <td>362052</td>\n",
       "      <td>10</td>\n",
       "    </tr>\n",
       "    <tr>\n",
       "      <th>top</th>\n",
       "      <td>थप जनामा कोरोना भाइरस संक्रमण पुष्टि भएको छ पछ...</td>\n",
       "      <td>राजनीति</td>\n",
       "    </tr>\n",
       "    <tr>\n",
       "      <th>freq</th>\n",
       "      <td>35</td>\n",
       "      <td>59975</td>\n",
       "    </tr>\n",
       "  </tbody>\n",
       "</table>\n",
       "</div>"
      ],
      "text/plain": [
       "                                           news_stopwords category\n",
       "count                                              369800   369800\n",
       "unique                                             362052       10\n",
       "top     थप जनामा कोरोना भाइरस संक्रमण पुष्टि भएको छ पछ...  राजनीति\n",
       "freq                                                   35    59975"
      ]
     },
     "execution_count": 7,
     "metadata": {},
     "output_type": "execute_result"
    }
   ],
   "source": [
    "df.describe()"
   ]
  },
  {
   "cell_type": "code",
   "execution_count": 8,
   "id": "ae5b5aeb",
   "metadata": {
    "execution": {
     "iopub.execute_input": "2025-05-10T05:36:39.031141Z",
     "iopub.status.busy": "2025-05-10T05:36:39.030655Z",
     "iopub.status.idle": "2025-05-10T05:36:45.376935Z",
     "shell.execute_reply": "2025-05-10T05:36:45.376086Z"
    },
    "papermill": {
     "duration": 6.353824,
     "end_time": "2025-05-10T05:36:45.378452",
     "exception": false,
     "start_time": "2025-05-10T05:36:39.024628",
     "status": "completed"
    },
    "tags": []
   },
   "outputs": [],
   "source": [
    "df[\"length\"] = df[\"news_stopwords\"].apply(lambda x: len(x.split()))\n",
    "df = df[df[\"length\"] >= 30]"
   ]
  },
  {
   "cell_type": "code",
   "execution_count": 9,
   "id": "ab1aaf3d",
   "metadata": {
    "execution": {
     "iopub.execute_input": "2025-05-10T05:36:45.390120Z",
     "iopub.status.busy": "2025-05-10T05:36:45.389919Z",
     "iopub.status.idle": "2025-05-10T05:36:54.144412Z",
     "shell.execute_reply": "2025-05-10T05:36:54.143821Z"
    },
    "papermill": {
     "duration": 8.761634,
     "end_time": "2025-05-10T05:36:54.145851",
     "exception": false,
     "start_time": "2025-05-10T05:36:45.384217",
     "status": "completed"
    },
    "tags": []
   },
   "outputs": [],
   "source": [
    "df[\"news_stopwords\"] = df[\"news_stopwords\"].apply(lambda x: \" \".join(x.split()[:parameters[\"NEWS_SEQUENCE_LENGTH\"]]))"
   ]
  },
  {
   "cell_type": "code",
   "execution_count": 10,
   "id": "cd583026",
   "metadata": {
    "execution": {
     "iopub.execute_input": "2025-05-10T05:36:54.157437Z",
     "iopub.status.busy": "2025-05-10T05:36:54.157240Z",
     "iopub.status.idle": "2025-05-10T05:36:54.299700Z",
     "shell.execute_reply": "2025-05-10T05:36:54.299016Z"
    },
    "papermill": {
     "duration": 0.149594,
     "end_time": "2025-05-10T05:36:54.301053",
     "exception": false,
     "start_time": "2025-05-10T05:36:54.151459",
     "status": "completed"
    },
    "tags": []
   },
   "outputs": [],
   "source": [
    "df = df[df[\"category\"] != \"शिक्षा\"]\n",
    "df = df[df[\"category\"] != \"देश/प्रदेश\"]"
   ]
  },
  {
   "cell_type": "code",
   "execution_count": 11,
   "id": "d63f9e1b",
   "metadata": {
    "execution": {
     "iopub.execute_input": "2025-05-10T05:36:54.312572Z",
     "iopub.status.busy": "2025-05-10T05:36:54.312363Z",
     "iopub.status.idle": "2025-05-10T05:36:54.361823Z",
     "shell.execute_reply": "2025-05-10T05:36:54.361267Z"
    },
    "papermill": {
     "duration": 0.056343,
     "end_time": "2025-05-10T05:36:54.362988",
     "exception": false,
     "start_time": "2025-05-10T05:36:54.306645",
     "status": "completed"
    },
    "tags": []
   },
   "outputs": [],
   "source": [
    "le = LabelEncoder()\n",
    "df['label'] = le.fit_transform(df['category'])"
   ]
  },
  {
   "cell_type": "code",
   "execution_count": 12,
   "id": "72fcb948",
   "metadata": {
    "execution": {
     "iopub.execute_input": "2025-05-10T05:36:54.374109Z",
     "iopub.status.busy": "2025-05-10T05:36:54.373901Z",
     "iopub.status.idle": "2025-05-10T05:36:54.379724Z",
     "shell.execute_reply": "2025-05-10T05:36:54.379202Z"
    },
    "papermill": {
     "duration": 0.012586,
     "end_time": "2025-05-10T05:36:54.380836",
     "exception": false,
     "start_time": "2025-05-10T05:36:54.368250",
     "status": "completed"
    },
    "tags": []
   },
   "outputs": [],
   "source": [
    "parameters[\"TOTAL_CATEGORIES\"] = df['label'].nunique()"
   ]
  },
  {
   "cell_type": "code",
   "execution_count": 13,
   "id": "b9392266",
   "metadata": {
    "execution": {
     "iopub.execute_input": "2025-05-10T05:36:54.392021Z",
     "iopub.status.busy": "2025-05-10T05:36:54.391573Z",
     "iopub.status.idle": "2025-05-10T05:36:54.398098Z",
     "shell.execute_reply": "2025-05-10T05:36:54.397509Z"
    },
    "papermill": {
     "duration": 0.013168,
     "end_time": "2025-05-10T05:36:54.399100",
     "exception": false,
     "start_time": "2025-05-10T05:36:54.385932",
     "status": "completed"
    },
    "tags": []
   },
   "outputs": [
    {
     "data": {
      "text/html": [
       "<div>\n",
       "<style scoped>\n",
       "    .dataframe tbody tr th:only-of-type {\n",
       "        vertical-align: middle;\n",
       "    }\n",
       "\n",
       "    .dataframe tbody tr th {\n",
       "        vertical-align: top;\n",
       "    }\n",
       "\n",
       "    .dataframe thead th {\n",
       "        text-align: right;\n",
       "    }\n",
       "</style>\n",
       "<table border=\"1\" class=\"dataframe\">\n",
       "  <thead>\n",
       "    <tr style=\"text-align: right;\">\n",
       "      <th></th>\n",
       "      <th>news_stopwords</th>\n",
       "      <th>category</th>\n",
       "      <th>length</th>\n",
       "      <th>label</th>\n",
       "    </tr>\n",
       "  </thead>\n",
       "  <tbody>\n",
       "    <tr>\n",
       "      <th>0</th>\n",
       "      <td>अमेरिकाका नेपालीको प्रतिक्रिया लिने इच्छा व्यक...</td>\n",
       "      <td>मनोरञ्जन</td>\n",
       "      <td>268</td>\n",
       "      <td>2</td>\n",
       "    </tr>\n",
       "    <tr>\n",
       "      <th>1</th>\n",
       "      <td>झण्डै बर्षअघि सुशील कोइरालाले प्रधानमन्त्रीको ...</td>\n",
       "      <td>मनोरञ्जन</td>\n",
       "      <td>406</td>\n",
       "      <td>2</td>\n",
       "    </tr>\n",
       "  </tbody>\n",
       "</table>\n",
       "</div>"
      ],
      "text/plain": [
       "                                      news_stopwords  category  length  label\n",
       "0  अमेरिकाका नेपालीको प्रतिक्रिया लिने इच्छा व्यक...  मनोरञ्जन     268      2\n",
       "1  झण्डै बर्षअघि सुशील कोइरालाले प्रधानमन्त्रीको ...  मनोरञ्जन     406      2"
      ]
     },
     "execution_count": 13,
     "metadata": {},
     "output_type": "execute_result"
    }
   ],
   "source": [
    "df.head(2)"
   ]
  },
  {
   "cell_type": "code",
   "execution_count": 14,
   "id": "38febdf7",
   "metadata": {
    "execution": {
     "iopub.execute_input": "2025-05-10T05:36:54.410228Z",
     "iopub.status.busy": "2025-05-10T05:36:54.410019Z",
     "iopub.status.idle": "2025-05-10T05:36:54.413261Z",
     "shell.execute_reply": "2025-05-10T05:36:54.412741Z"
    },
    "papermill": {
     "duration": 0.009781,
     "end_time": "2025-05-10T05:36:54.414190",
     "exception": false,
     "start_time": "2025-05-10T05:36:54.404409",
     "status": "completed"
    },
    "tags": []
   },
   "outputs": [],
   "source": [
    "def random_undersampling(data, random_state):\n",
    "    if len(data) > 25000:\n",
    "        return data.sample(25000, random_state=random_state)\n",
    "    return data"
   ]
  },
  {
   "cell_type": "code",
   "execution_count": 15,
   "id": "e7f9c5a5",
   "metadata": {
    "execution": {
     "iopub.execute_input": "2025-05-10T05:36:54.424965Z",
     "iopub.status.busy": "2025-05-10T05:36:54.424796Z",
     "iopub.status.idle": "2025-05-10T05:36:54.531630Z",
     "shell.execute_reply": "2025-05-10T05:36:54.530826Z"
    },
    "papermill": {
     "duration": 0.114124,
     "end_time": "2025-05-10T05:36:54.533383",
     "exception": false,
     "start_time": "2025-05-10T05:36:54.419259",
     "status": "completed"
    },
    "tags": []
   },
   "outputs": [],
   "source": [
    "df_balanced = pd.DataFrame(columns=['news_stopwords', 'label'])\n",
    "for i in range(parameters[\"TOTAL_CATEGORIES\"]):\n",
    "    res = random_undersampling(df[df[\"label\"] == i], i * np.random.randint(100))\n",
    "    if df_balanced.empty == True:\n",
    "        df_balanced = res\n",
    "    else:\n",
    "        df_balanced = pd.concat([df_balanced, res], ignore_index=True)"
   ]
  },
  {
   "cell_type": "code",
   "execution_count": 16,
   "id": "71a31cfd",
   "metadata": {
    "execution": {
     "iopub.execute_input": "2025-05-10T05:36:54.544958Z",
     "iopub.status.busy": "2025-05-10T05:36:54.544742Z",
     "iopub.status.idle": "2025-05-10T05:36:54.562654Z",
     "shell.execute_reply": "2025-05-10T05:36:54.561897Z"
    },
    "papermill": {
     "duration": 0.024966,
     "end_time": "2025-05-10T05:36:54.563856",
     "exception": false,
     "start_time": "2025-05-10T05:36:54.538890",
     "status": "completed"
    },
    "tags": []
   },
   "outputs": [
    {
     "data": {
      "text/plain": [
       "category\n",
       "अर्थ / वाणिज्य       25000\n",
       "खेलकुद               25000\n",
       "मनोरञ्जन             25000\n",
       "राजनीति              25000\n",
       "विश्व                25000\n",
       "समाज                 25000\n",
       "विज्ञान र प्रविधि    23072\n",
       "स्वास्थ्य            22349\n",
       "Name: count, dtype: int64"
      ]
     },
     "execution_count": 16,
     "metadata": {},
     "output_type": "execute_result"
    }
   ],
   "source": [
    "df_balanced[\"category\"].value_counts()"
   ]
  },
  {
   "cell_type": "code",
   "execution_count": 17,
   "id": "3afd209a",
   "metadata": {
    "execution": {
     "iopub.execute_input": "2025-05-10T05:36:54.575746Z",
     "iopub.status.busy": "2025-05-10T05:36:54.575329Z",
     "iopub.status.idle": "2025-05-10T05:36:54.583572Z",
     "shell.execute_reply": "2025-05-10T05:36:54.582787Z"
    },
    "papermill": {
     "duration": 0.015254,
     "end_time": "2025-05-10T05:36:54.584632",
     "exception": false,
     "start_time": "2025-05-10T05:36:54.569378",
     "status": "completed"
    },
    "tags": []
   },
   "outputs": [
    {
     "data": {
      "text/plain": [
       "label\n",
       "0    25000\n",
       "1    25000\n",
       "2    25000\n",
       "3    25000\n",
       "5    25000\n",
       "6    25000\n",
       "4    23072\n",
       "7    22349\n",
       "Name: count, dtype: int64"
      ]
     },
     "execution_count": 17,
     "metadata": {},
     "output_type": "execute_result"
    }
   ],
   "source": [
    "df_balanced[\"label\"].value_counts()"
   ]
  },
  {
   "cell_type": "code",
   "execution_count": 18,
   "id": "cac039a3",
   "metadata": {
    "execution": {
     "iopub.execute_input": "2025-05-10T05:36:54.596268Z",
     "iopub.status.busy": "2025-05-10T05:36:54.595815Z",
     "iopub.status.idle": "2025-05-10T05:36:55.557983Z",
     "shell.execute_reply": "2025-05-10T05:36:55.557036Z"
    },
    "papermill": {
     "duration": 0.969585,
     "end_time": "2025-05-10T05:36:55.559557",
     "exception": false,
     "start_time": "2025-05-10T05:36:54.589972",
     "status": "completed"
    },
    "tags": []
   },
   "outputs": [],
   "source": [
    "for i in range(20):\n",
    "    df_balanced = df_balanced.sample(frac=1).reset_index(drop=True)"
   ]
  },
  {
   "cell_type": "code",
   "execution_count": 19,
   "id": "d2d869b8",
   "metadata": {
    "execution": {
     "iopub.execute_input": "2025-05-10T05:36:55.571827Z",
     "iopub.status.busy": "2025-05-10T05:36:55.571581Z",
     "iopub.status.idle": "2025-05-10T05:36:55.578897Z",
     "shell.execute_reply": "2025-05-10T05:36:55.578327Z"
    },
    "papermill": {
     "duration": 0.014728,
     "end_time": "2025-05-10T05:36:55.580086",
     "exception": false,
     "start_time": "2025-05-10T05:36:55.565358",
     "status": "completed"
    },
    "tags": []
   },
   "outputs": [
    {
     "data": {
      "text/html": [
       "<div>\n",
       "<style scoped>\n",
       "    .dataframe tbody tr th:only-of-type {\n",
       "        vertical-align: middle;\n",
       "    }\n",
       "\n",
       "    .dataframe tbody tr th {\n",
       "        vertical-align: top;\n",
       "    }\n",
       "\n",
       "    .dataframe thead th {\n",
       "        text-align: right;\n",
       "    }\n",
       "</style>\n",
       "<table border=\"1\" class=\"dataframe\">\n",
       "  <thead>\n",
       "    <tr style=\"text-align: right;\">\n",
       "      <th></th>\n",
       "      <th>news_stopwords</th>\n",
       "      <th>category</th>\n",
       "      <th>length</th>\n",
       "      <th>label</th>\n",
       "    </tr>\n",
       "  </thead>\n",
       "  <tbody>\n",
       "    <tr>\n",
       "      <th>0</th>\n",
       "      <td>तस्वीर: रासस धनगढीमा जारी प्रतियोगितामा टस हार...</td>\n",
       "      <td>खेलकुद</td>\n",
       "      <td>103</td>\n",
       "      <td>1</td>\n",
       "    </tr>\n",
       "    <tr>\n",
       "      <th>1</th>\n",
       "      <td>आँबुखैरेनी स्थित कन्यादेवी माध्यमिक विद्यालयमा...</td>\n",
       "      <td>समाज</td>\n",
       "      <td>277</td>\n",
       "      <td>6</td>\n",
       "    </tr>\n",
       "  </tbody>\n",
       "</table>\n",
       "</div>"
      ],
      "text/plain": [
       "                                      news_stopwords category  length  label\n",
       "0  तस्वीर: रासस धनगढीमा जारी प्रतियोगितामा टस हार...   खेलकुद     103      1\n",
       "1  आँबुखैरेनी स्थित कन्यादेवी माध्यमिक विद्यालयमा...     समाज     277      6"
      ]
     },
     "execution_count": 19,
     "metadata": {},
     "output_type": "execute_result"
    }
   ],
   "source": [
    "df_balanced.head(2)"
   ]
  },
  {
   "cell_type": "code",
   "execution_count": 20,
   "id": "5bd4aad1",
   "metadata": {
    "execution": {
     "iopub.execute_input": "2025-05-10T05:36:55.591868Z",
     "iopub.status.busy": "2025-05-10T05:36:55.591642Z",
     "iopub.status.idle": "2025-05-10T05:36:55.766487Z",
     "shell.execute_reply": "2025-05-10T05:36:55.765722Z"
    },
    "papermill": {
     "duration": 0.182368,
     "end_time": "2025-05-10T05:36:55.767921",
     "exception": false,
     "start_time": "2025-05-10T05:36:55.585553",
     "status": "completed"
    },
    "tags": []
   },
   "outputs": [],
   "source": [
    "X_train, X_val_test, y_train, y_val_test = train_test_split(df_balanced['news_stopwords'].tolist(), df_balanced['label'].tolist(), test_size=0.20, random_state=21, stratify=df_balanced[\"label\"], shuffle=True)"
   ]
  },
  {
   "cell_type": "code",
   "execution_count": 21,
   "id": "d79c88f4",
   "metadata": {
    "execution": {
     "iopub.execute_input": "2025-05-10T05:36:55.780296Z",
     "iopub.status.busy": "2025-05-10T05:36:55.780054Z",
     "iopub.status.idle": "2025-05-10T05:36:55.813076Z",
     "shell.execute_reply": "2025-05-10T05:36:55.812534Z"
    },
    "papermill": {
     "duration": 0.040553,
     "end_time": "2025-05-10T05:36:55.814530",
     "exception": false,
     "start_time": "2025-05-10T05:36:55.773977",
     "status": "completed"
    },
    "tags": []
   },
   "outputs": [],
   "source": [
    "X_val, X_test, y_val, y_test = train_test_split(X_val_test, y_val_test, test_size=0.5, random_state=28, stratify=y_val_test, shuffle=True)"
   ]
  },
  {
   "cell_type": "code",
   "execution_count": 22,
   "id": "dfd79b37",
   "metadata": {
    "execution": {
     "iopub.execute_input": "2025-05-10T05:36:55.879036Z",
     "iopub.status.busy": "2025-05-10T05:36:55.878792Z",
     "iopub.status.idle": "2025-05-10T05:36:55.883676Z",
     "shell.execute_reply": "2025-05-10T05:36:55.883127Z"
    },
    "papermill": {
     "duration": 0.012242,
     "end_time": "2025-05-10T05:36:55.884734",
     "exception": false,
     "start_time": "2025-05-10T05:36:55.872492",
     "status": "completed"
    },
    "tags": []
   },
   "outputs": [
    {
     "data": {
      "text/plain": [
       "(156336, 19543, 19542)"
      ]
     },
     "execution_count": 22,
     "metadata": {},
     "output_type": "execute_result"
    }
   ],
   "source": [
    "len(X_train), len(X_test), len(X_val)"
   ]
  },
  {
   "cell_type": "code",
   "execution_count": 23,
   "id": "dd831da2",
   "metadata": {
    "execution": {
     "iopub.execute_input": "2025-05-10T05:36:55.896401Z",
     "iopub.status.busy": "2025-05-10T05:36:55.896203Z",
     "iopub.status.idle": "2025-05-10T05:36:59.290338Z",
     "shell.execute_reply": "2025-05-10T05:36:59.289667Z"
    },
    "papermill": {
     "duration": 3.401416,
     "end_time": "2025-05-10T05:36:59.291703",
     "exception": false,
     "start_time": "2025-05-10T05:36:55.890287",
     "status": "completed"
    },
    "tags": []
   },
   "outputs": [
    {
     "data": {
      "application/vnd.jupyter.widget-view+json": {
       "model_id": "d6a3a04ca81a4aa18f92bf6fec55ad45",
       "version_major": 2,
       "version_minor": 0
      },
      "text/plain": [
       "tokenizer_config.json:   0%|          | 0.00/49.0 [00:00<?, ?B/s]"
      ]
     },
     "metadata": {},
     "output_type": "display_data"
    },
    {
     "data": {
      "application/vnd.jupyter.widget-view+json": {
       "model_id": "47b0f355704947a296cce8d24c534441",
       "version_major": 2,
       "version_minor": 0
      },
      "text/plain": [
       "vocab.txt:   0%|          | 0.00/996k [00:00<?, ?B/s]"
      ]
     },
     "metadata": {},
     "output_type": "display_data"
    },
    {
     "data": {
      "application/vnd.jupyter.widget-view+json": {
       "model_id": "0fac640121d146709eff35c34a7df47c",
       "version_major": 2,
       "version_minor": 0
      },
      "text/plain": [
       "tokenizer.json:   0%|          | 0.00/1.96M [00:00<?, ?B/s]"
      ]
     },
     "metadata": {},
     "output_type": "display_data"
    },
    {
     "data": {
      "application/vnd.jupyter.widget-view+json": {
       "model_id": "8928d628cac5467facd04102273e24ce",
       "version_major": 2,
       "version_minor": 0
      },
      "text/plain": [
       "config.json:   0%|          | 0.00/625 [00:00<?, ?B/s]"
      ]
     },
     "metadata": {},
     "output_type": "display_data"
    }
   ],
   "source": [
    "tokenizer = BertTokenizer.from_pretrained('bert-base-multilingual-cased')"
   ]
  },
  {
   "cell_type": "code",
   "execution_count": 24,
   "id": "7baa71fb",
   "metadata": {
    "execution": {
     "iopub.execute_input": "2025-05-10T05:36:59.305878Z",
     "iopub.status.busy": "2025-05-10T05:36:59.305633Z",
     "iopub.status.idle": "2025-05-10T05:36:59.310316Z",
     "shell.execute_reply": "2025-05-10T05:36:59.309758Z"
    },
    "papermill": {
     "duration": 0.012882,
     "end_time": "2025-05-10T05:36:59.311422",
     "exception": false,
     "start_time": "2025-05-10T05:36:59.298540",
     "status": "completed"
    },
    "tags": []
   },
   "outputs": [],
   "source": [
    "class NepaliNewsDataset(Dataset):\n",
    "    def __init__(self, texts, labels, tokenizer, max_len=256):\n",
    "        self.encodings = tokenizer(texts, truncation=True, padding=True, max_length=max_len)\n",
    "        self.labels = labels\n",
    "\n",
    "    def __getitem__(self, idx):\n",
    "        item = {key: torch.tensor(val[idx]) for key, val in self.encodings.items()}\n",
    "        item['labels'] = torch.tensor(self.labels[idx])\n",
    "        return item\n",
    "\n",
    "    def __len__(self):\n",
    "        return len(self.labels)"
   ]
  },
  {
   "cell_type": "code",
   "execution_count": 25,
   "id": "8faf981e",
   "metadata": {
    "execution": {
     "iopub.execute_input": "2025-05-10T05:36:59.324054Z",
     "iopub.status.busy": "2025-05-10T05:36:59.323849Z",
     "iopub.status.idle": "2025-05-10T05:49:03.323312Z",
     "shell.execute_reply": "2025-05-10T05:49:03.322446Z"
    },
    "papermill": {
     "duration": 724.007899,
     "end_time": "2025-05-10T05:49:03.325314",
     "exception": false,
     "start_time": "2025-05-10T05:36:59.317415",
     "status": "completed"
    },
    "tags": []
   },
   "outputs": [],
   "source": [
    "train_dataset = NepaliNewsDataset(X_train, y_train, tokenizer)\n",
    "test_dataset = NepaliNewsDataset(X_test, y_test, tokenizer)\n",
    "val_dataset = NepaliNewsDataset(X_val, y_val, tokenizer)"
   ]
  },
  {
   "cell_type": "markdown",
   "id": "fe672ebf",
   "metadata": {
    "papermill": {
     "duration": 0.005675,
     "end_time": "2025-05-10T05:49:03.337998",
     "exception": false,
     "start_time": "2025-05-10T05:49:03.332323",
     "status": "completed"
    },
    "tags": []
   },
   "source": [
    "### Define the evaluation metrics: Accuracy, Precision, Recall, and F-Score"
   ]
  },
  {
   "cell_type": "code",
   "execution_count": 26,
   "id": "a67a91d4",
   "metadata": {
    "execution": {
     "iopub.execute_input": "2025-05-10T05:49:03.350896Z",
     "iopub.status.busy": "2025-05-10T05:49:03.350290Z",
     "iopub.status.idle": "2025-05-10T05:49:03.354503Z",
     "shell.execute_reply": "2025-05-10T05:49:03.353982Z"
    },
    "papermill": {
     "duration": 0.011723,
     "end_time": "2025-05-10T05:49:03.355565",
     "exception": false,
     "start_time": "2025-05-10T05:49:03.343842",
     "status": "completed"
    },
    "tags": []
   },
   "outputs": [],
   "source": [
    "def compute_metrics(preds):\n",
    "    logits, labels = preds\n",
    "    pred = logits.argmax(-1)\n",
    "    precision, recall, fscore, _ = precision_recall_fscore_support(labels, pred, average='macro', zero_division=0)\n",
    "    accuracy = accuracy_score(labels, pred)\n",
    "\n",
    "    return {\n",
    "        'Accuracy': accuracy,\n",
    "        'Precision': precision,\n",
    "        'Recall': recall,\n",
    "        'F-Score': fscore,\n",
    "    }"
   ]
  },
  {
   "cell_type": "code",
   "execution_count": 27,
   "id": "7f02073b",
   "metadata": {
    "execution": {
     "iopub.execute_input": "2025-05-10T05:49:03.368391Z",
     "iopub.status.busy": "2025-05-10T05:49:03.367912Z",
     "iopub.status.idle": "2025-05-10T05:49:03.396736Z",
     "shell.execute_reply": "2025-05-10T05:49:03.396190Z"
    },
    "papermill": {
     "duration": 0.036618,
     "end_time": "2025-05-10T05:49:03.397948",
     "exception": false,
     "start_time": "2025-05-10T05:49:03.361330",
     "status": "completed"
    },
    "tags": []
   },
   "outputs": [],
   "source": [
    "training_args = TrainingArguments(\n",
    "    output_dir=\"/kaggle/tmp/\", \n",
    "    do_train=True,\n",
    "    do_eval=True,\n",
    "    overwrite_output_dir=True,\n",
    "    eval_strategy='steps',\n",
    "    eval_steps=4_800,\n",
    "    per_device_train_batch_size=parameters['TRAIN_BATCH_SIZE'],\n",
    "    per_device_eval_batch_size=parameters['EVAL_BATCH_SIZE'],\n",
    "    warmup_steps=parameters['WARMUP_STEPS'],\n",
    "    learning_rate=parameters['LEARNING_RATE'], \n",
    "    num_train_epochs=parameters['EPOCHS'],\n",
    "    # max_steps=parameters['MAX_STEPS'],\n",
    "    weight_decay=parameters['L2_REG'],  \n",
    "    save_steps=4_800,\n",
    "    save_total_limit=1,              \n",
    "    load_best_model_at_end=True,     \n",
    "    logging_dir=\"/kaggle/tmp/\",            \n",
    "    logging_steps=4_800,\n",
    "    fp16=True,                     \n",
    "    metric_for_best_model=\"loss\",\n",
    "    greater_is_better=False,\n",
    "    report_to=\"none\",\n",
    ")"
   ]
  },
  {
   "cell_type": "code",
   "execution_count": 28,
   "id": "ee464154",
   "metadata": {
    "execution": {
     "iopub.execute_input": "2025-05-10T05:49:03.410876Z",
     "iopub.status.busy": "2025-05-10T05:49:03.410651Z",
     "iopub.status.idle": "2025-05-10T05:49:03.415017Z",
     "shell.execute_reply": "2025-05-10T05:49:03.414371Z"
    },
    "papermill": {
     "duration": 0.011999,
     "end_time": "2025-05-10T05:49:03.416148",
     "exception": false,
     "start_time": "2025-05-10T05:49:03.404149",
     "status": "completed"
    },
    "tags": []
   },
   "outputs": [
    {
     "data": {
      "text/plain": [
       "8"
      ]
     },
     "execution_count": 28,
     "metadata": {},
     "output_type": "execute_result"
    }
   ],
   "source": [
    "parameters['TOTAL_CATEGORIES']"
   ]
  },
  {
   "cell_type": "code",
   "execution_count": 29,
   "id": "fe4f1731",
   "metadata": {
    "execution": {
     "iopub.execute_input": "2025-05-10T05:49:03.428989Z",
     "iopub.status.busy": "2025-05-10T05:49:03.428366Z",
     "iopub.status.idle": "2025-05-10T05:49:06.444032Z",
     "shell.execute_reply": "2025-05-10T05:49:06.443506Z"
    },
    "papermill": {
     "duration": 3.023104,
     "end_time": "2025-05-10T05:49:06.445160",
     "exception": false,
     "start_time": "2025-05-10T05:49:03.422056",
     "status": "completed"
    },
    "tags": []
   },
   "outputs": [
    {
     "name": "stderr",
     "output_type": "stream",
     "text": [
      "Xet Storage is enabled for this repo, but the 'hf_xet' package is not installed. Falling back to regular HTTP download. For better performance, install the package with: `pip install huggingface_hub[hf_xet]` or `pip install hf_xet`\n"
     ]
    },
    {
     "data": {
      "application/vnd.jupyter.widget-view+json": {
       "model_id": "f135842ee05b404daefd5f8fe1bccef6",
       "version_major": 2,
       "version_minor": 0
      },
      "text/plain": [
       "model.safetensors:   0%|          | 0.00/714M [00:00<?, ?B/s]"
      ]
     },
     "metadata": {},
     "output_type": "display_data"
    },
    {
     "name": "stderr",
     "output_type": "stream",
     "text": [
      "Some weights of BertForSequenceClassification were not initialized from the model checkpoint at bert-base-multilingual-cased and are newly initialized: ['classifier.bias', 'classifier.weight']\n",
      "You should probably TRAIN this model on a down-stream task to be able to use it for predictions and inference.\n"
     ]
    }
   ],
   "source": [
    "model = BertForSequenceClassification.from_pretrained('bert-base-multilingual-cased', num_labels=parameters['TOTAL_CATEGORIES'])"
   ]
  },
  {
   "cell_type": "code",
   "execution_count": 30,
   "id": "9b2f325a",
   "metadata": {
    "execution": {
     "iopub.execute_input": "2025-05-10T05:49:06.458491Z",
     "iopub.status.busy": "2025-05-10T05:49:06.458293Z",
     "iopub.status.idle": "2025-05-10T05:49:06.856827Z",
     "shell.execute_reply": "2025-05-10T05:49:06.856160Z"
    },
    "papermill": {
     "duration": 0.406584,
     "end_time": "2025-05-10T05:49:06.858138",
     "exception": false,
     "start_time": "2025-05-10T05:49:06.451554",
     "status": "completed"
    },
    "tags": []
   },
   "outputs": [],
   "source": [
    "trainer = Trainer(\n",
    "    model=model,\n",
    "    args=training_args,\n",
    "    train_dataset=train_dataset,\n",
    "    eval_dataset=test_dataset,\n",
    "    compute_metrics=compute_metrics\n",
    ")"
   ]
  },
  {
   "cell_type": "code",
   "execution_count": 31,
   "id": "823dc8d9",
   "metadata": {
    "execution": {
     "iopub.execute_input": "2025-05-10T05:49:06.871717Z",
     "iopub.status.busy": "2025-05-10T05:49:06.871470Z",
     "iopub.status.idle": "2025-05-10T12:03:27.130909Z",
     "shell.execute_reply": "2025-05-10T12:03:27.130112Z"
    },
    "papermill": {
     "duration": 22460.267414,
     "end_time": "2025-05-10T12:03:27.132133",
     "exception": false,
     "start_time": "2025-05-10T05:49:06.864719",
     "status": "completed"
    },
    "tags": []
   },
   "outputs": [
    {
     "data": {
      "text/html": [
       "\n",
       "    <div>\n",
       "      \n",
       "      <progress value='29316' max='29316' style='width:300px; height:20px; vertical-align: middle;'></progress>\n",
       "      [29316/29316 6:14:17, Epoch 6/6]\n",
       "    </div>\n",
       "    <table border=\"1\" class=\"dataframe\">\n",
       "  <thead>\n",
       " <tr style=\"text-align: left;\">\n",
       "      <th>Step</th>\n",
       "      <th>Training Loss</th>\n",
       "      <th>Validation Loss</th>\n",
       "      <th>Accuracy</th>\n",
       "      <th>Precision</th>\n",
       "      <th>Recall</th>\n",
       "      <th>F-score</th>\n",
       "    </tr>\n",
       "  </thead>\n",
       "  <tbody>\n",
       "    <tr>\n",
       "      <td>4800</td>\n",
       "      <td>0.531000</td>\n",
       "      <td>0.415546</td>\n",
       "      <td>0.861690</td>\n",
       "      <td>0.862370</td>\n",
       "      <td>0.863406</td>\n",
       "      <td>0.857159</td>\n",
       "    </tr>\n",
       "    <tr>\n",
       "      <td>9600</td>\n",
       "      <td>0.374000</td>\n",
       "      <td>0.390756</td>\n",
       "      <td>0.864299</td>\n",
       "      <td>0.868362</td>\n",
       "      <td>0.864424</td>\n",
       "      <td>0.863748</td>\n",
       "    </tr>\n",
       "    <tr>\n",
       "      <td>14400</td>\n",
       "      <td>0.318300</td>\n",
       "      <td>0.347734</td>\n",
       "      <td>0.879957</td>\n",
       "      <td>0.878909</td>\n",
       "      <td>0.879724</td>\n",
       "      <td>0.878038</td>\n",
       "    </tr>\n",
       "    <tr>\n",
       "      <td>19200</td>\n",
       "      <td>0.269000</td>\n",
       "      <td>0.345029</td>\n",
       "      <td>0.885176</td>\n",
       "      <td>0.883303</td>\n",
       "      <td>0.885585</td>\n",
       "      <td>0.883919</td>\n",
       "    </tr>\n",
       "    <tr>\n",
       "      <td>24000</td>\n",
       "      <td>0.217400</td>\n",
       "      <td>0.359761</td>\n",
       "      <td>0.889474</td>\n",
       "      <td>0.887584</td>\n",
       "      <td>0.889911</td>\n",
       "      <td>0.888309</td>\n",
       "    </tr>\n",
       "    <tr>\n",
       "      <td>28800</td>\n",
       "      <td>0.164800</td>\n",
       "      <td>0.408303</td>\n",
       "      <td>0.886200</td>\n",
       "      <td>0.885128</td>\n",
       "      <td>0.886331</td>\n",
       "      <td>0.885632</td>\n",
       "    </tr>\n",
       "  </tbody>\n",
       "</table><p>"
      ],
      "text/plain": [
       "<IPython.core.display.HTML object>"
      ]
     },
     "metadata": {},
     "output_type": "display_data"
    },
    {
     "data": {
      "text/plain": [
       "TrainOutput(global_step=29316, training_loss=0.3098760629061349, metrics={'train_runtime': 22458.4649, 'train_samples_per_second': 41.767, 'train_steps_per_second': 1.305, 'total_flos': 1.2340783766922854e+17, 'train_loss': 0.3098760629061349, 'epoch': 6.0})"
      ]
     },
     "execution_count": 31,
     "metadata": {},
     "output_type": "execute_result"
    }
   ],
   "source": [
    "trainer.train()"
   ]
  },
  {
   "cell_type": "code",
   "execution_count": 32,
   "id": "4d3eb0ef",
   "metadata": {
    "execution": {
     "iopub.execute_input": "2025-05-10T12:03:27.146743Z",
     "iopub.status.busy": "2025-05-10T12:03:27.146331Z",
     "iopub.status.idle": "2025-05-10T12:05:50.079677Z",
     "shell.execute_reply": "2025-05-10T12:05:50.078884Z"
    },
    "papermill": {
     "duration": 142.941489,
     "end_time": "2025-05-10T12:05:50.080796",
     "exception": false,
     "start_time": "2025-05-10T12:03:27.139307",
     "status": "completed"
    },
    "tags": []
   },
   "outputs": [
    {
     "data": {
      "text/html": [
       "\n",
       "    <div>\n",
       "      \n",
       "      <progress value='611' max='611' style='width:300px; height:20px; vertical-align: middle;'></progress>\n",
       "      [611/611 02:22]\n",
       "    </div>\n",
       "    "
      ],
      "text/plain": [
       "<IPython.core.display.HTML object>"
      ]
     },
     "metadata": {},
     "output_type": "display_data"
    },
    {
     "name": "stdout",
     "output_type": "stream",
     "text": [
      "{'eval_loss': 0.34502872824668884, 'eval_Accuracy': 0.8851762779511846, 'eval_Precision': 0.8833025915716493, 'eval_Recall': 0.885585499905009, 'eval_F-Score': 0.8839186733199047, 'eval_runtime': 142.9273, 'eval_samples_per_second': 136.734, 'eval_steps_per_second': 4.275, 'epoch': 6.0}\n"
     ]
    }
   ],
   "source": [
    "print(trainer.evaluate(eval_dataset=test_dataset))"
   ]
  },
  {
   "cell_type": "code",
   "execution_count": 33,
   "id": "3874ce13",
   "metadata": {
    "execution": {
     "iopub.execute_input": "2025-05-10T12:05:50.095013Z",
     "iopub.status.busy": "2025-05-10T12:05:50.094819Z",
     "iopub.status.idle": "2025-05-10T12:05:50.099321Z",
     "shell.execute_reply": "2025-05-10T12:05:50.098525Z"
    },
    "papermill": {
     "duration": 0.012862,
     "end_time": "2025-05-10T12:05:50.100559",
     "exception": false,
     "start_time": "2025-05-10T12:05:50.087697",
     "status": "completed"
    },
    "tags": []
   },
   "outputs": [],
   "source": [
    "def predict(model, tokenizer, text, label_encoder, input_sequence_length=256):\n",
    "    inputs = tokenizer(text, padding=True, truncation=True, max_length=input_sequence_length, return_tensors='pt').to('cuda')\n",
    "    outputs = model(**inputs)\n",
    "    probs = outputs[0].softmax(1)\n",
    "    pred_label_idx = probs.argmax()\n",
    "    pred = label_encoder.inverse_transform([pred_label_idx.cpu().numpy()])[0]\n",
    "\n",
    "    return pred"
   ]
  },
  {
   "cell_type": "code",
   "execution_count": 34,
   "id": "a051b5de",
   "metadata": {
    "execution": {
     "iopub.execute_input": "2025-05-10T12:05:50.114038Z",
     "iopub.status.busy": "2025-05-10T12:05:50.113847Z",
     "iopub.status.idle": "2025-05-10T12:05:50.167909Z",
     "shell.execute_reply": "2025-05-10T12:05:50.167399Z"
    },
    "papermill": {
     "duration": 0.062113,
     "end_time": "2025-05-10T12:05:50.169045",
     "exception": false,
     "start_time": "2025-05-10T12:05:50.106932",
     "status": "completed"
    },
    "tags": []
   },
   "outputs": [
    {
     "data": {
      "text/plain": [
       "'स्वास्थ्य'"
      ]
     },
     "execution_count": 34,
     "metadata": {},
     "output_type": "execute_result"
    }
   ],
   "source": [
    "predict(model, tokenizer, random.choice(X_val[10:200]), le, parameters['NEWS_SEQUENCE_LENGTH'])"
   ]
  },
  {
   "cell_type": "code",
   "execution_count": 35,
   "id": "5806d709",
   "metadata": {
    "execution": {
     "iopub.execute_input": "2025-05-10T12:05:50.182912Z",
     "iopub.status.busy": "2025-05-10T12:05:50.182723Z",
     "iopub.status.idle": "2025-05-10T12:05:51.893319Z",
     "shell.execute_reply": "2025-05-10T12:05:51.892532Z"
    },
    "papermill": {
     "duration": 1.718653,
     "end_time": "2025-05-10T12:05:51.894530",
     "exception": false,
     "start_time": "2025-05-10T12:05:50.175877",
     "status": "completed"
    },
    "tags": []
   },
   "outputs": [
    {
     "data": {
      "text/plain": [
       "('/kaggle/tmp/BERT_nepali_news_classifier_tokenizer/tokenizer_config.json',\n",
       " '/kaggle/tmp/BERT_nepali_news_classifier_tokenizer/special_tokens_map.json',\n",
       " '/kaggle/tmp/BERT_nepali_news_classifier_tokenizer/vocab.txt',\n",
       " '/kaggle/tmp/BERT_nepali_news_classifier_tokenizer/added_tokens.json')"
      ]
     },
     "execution_count": 35,
     "metadata": {},
     "output_type": "execute_result"
    }
   ],
   "source": [
    "trainer.save_model('/kaggle/tmp/BERT_nepali_news_classifier_model')\n",
    "tokenizer.save_pretrained('/kaggle/tmp/BERT_nepali_news_classifier_tokenizer')"
   ]
  },
  {
   "cell_type": "code",
   "execution_count": 36,
   "id": "67de84ef",
   "metadata": {
    "execution": {
     "iopub.execute_input": "2025-05-10T12:05:51.908699Z",
     "iopub.status.busy": "2025-05-10T12:05:51.908492Z",
     "iopub.status.idle": "2025-05-10T12:05:51.911992Z",
     "shell.execute_reply": "2025-05-10T12:05:51.911502Z"
    },
    "papermill": {
     "duration": 0.011586,
     "end_time": "2025-05-10T12:05:51.913024",
     "exception": false,
     "start_time": "2025-05-10T12:05:51.901438",
     "status": "completed"
    },
    "tags": []
   },
   "outputs": [],
   "source": [
    "with open('/kaggle/tmp/label_encoder.pkl', 'wb') as f:\n",
    "    pickle.dump(le, f)"
   ]
  },
  {
   "cell_type": "code",
   "execution_count": 37,
   "id": "cdec5d9e",
   "metadata": {
    "execution": {
     "iopub.execute_input": "2025-05-10T12:05:51.926486Z",
     "iopub.status.busy": "2025-05-10T12:05:51.926305Z",
     "iopub.status.idle": "2025-05-10T12:07:39.288907Z",
     "shell.execute_reply": "2025-05-10T12:07:39.288329Z"
    },
    "papermill": {
     "duration": 107.370956,
     "end_time": "2025-05-10T12:07:39.290383",
     "exception": false,
     "start_time": "2025-05-10T12:05:51.919427",
     "status": "completed"
    },
    "tags": []
   },
   "outputs": [],
   "source": [
    "import tarfile\n",
    "with tarfile.open(\"/kaggle/working/model_outputs.tar.gz\", \"w:gz\") as tar:\n",
    "    tar.add(\"/kaggle/tmp\", arcname=\"model_outputs\")"
   ]
  }
 ],
 "metadata": {
  "kaggle": {
   "accelerator": "none",
   "dataSources": [
    {
     "datasetId": 4484558,
     "sourceId": 7685447,
     "sourceType": "datasetVersion"
    }
   ],
   "dockerImageVersionId": 31012,
   "isGpuEnabled": false,
   "isInternetEnabled": true,
   "language": "python",
   "sourceType": "notebook"
  },
  "kernelspec": {
   "display_name": "Python 3",
   "language": "python",
   "name": "python3"
  },
  "language_info": {
   "codemirror_mode": {
    "name": "ipython",
    "version": 3
   },
   "file_extension": ".py",
   "mimetype": "text/x-python",
   "name": "python",
   "nbconvert_exporter": "python",
   "pygments_lexer": "ipython3",
   "version": "3.11.11"
  },
  "papermill": {
   "default_parameters": {},
   "duration": 23557.271237,
   "end_time": "2025-05-10T12:07:42.438940",
   "environment_variables": {},
   "exception": null,
   "input_path": "__notebook__.ipynb",
   "output_path": "__notebook__.ipynb",
   "parameters": {},
   "start_time": "2025-05-10T05:35:05.167703",
   "version": "2.6.0"
  },
  "widgets": {
   "application/vnd.jupyter.widget-state+json": {
    "state": {
     "0fac640121d146709eff35c34a7df47c": {
      "model_module": "@jupyter-widgets/controls",
      "model_module_version": "2.0.0",
      "model_name": "HBoxModel",
      "state": {
       "_dom_classes": [],
       "_model_module": "@jupyter-widgets/controls",
       "_model_module_version": "2.0.0",
       "_model_name": "HBoxModel",
       "_view_count": null,
       "_view_module": "@jupyter-widgets/controls",
       "_view_module_version": "2.0.0",
       "_view_name": "HBoxView",
       "box_style": "",
       "children": [
        "IPY_MODEL_81bb52e2b5dc4f7dabdfd5c90ddfa7b3",
        "IPY_MODEL_1bd91acae1fb4bcdabcaf518c390d420",
        "IPY_MODEL_41b77917049d40729b5ab039831bdb47"
       ],
       "layout": "IPY_MODEL_14507f6db147426db72fb3971357f0fc",
       "tabbable": null,
       "tooltip": null
      }
     },
     "14507f6db147426db72fb3971357f0fc": {
      "model_module": "@jupyter-widgets/base",
      "model_module_version": "2.0.0",
      "model_name": "LayoutModel",
      "state": {
       "_model_module": "@jupyter-widgets/base",
       "_model_module_version": "2.0.0",
       "_model_name": "LayoutModel",
       "_view_count": null,
       "_view_module": "@jupyter-widgets/base",
       "_view_module_version": "2.0.0",
       "_view_name": "LayoutView",
       "align_content": null,
       "align_items": null,
       "align_self": null,
       "border_bottom": null,
       "border_left": null,
       "border_right": null,
       "border_top": null,
       "bottom": null,
       "display": null,
       "flex": null,
       "flex_flow": null,
       "grid_area": null,
       "grid_auto_columns": null,
       "grid_auto_flow": null,
       "grid_auto_rows": null,
       "grid_column": null,
       "grid_gap": null,
       "grid_row": null,
       "grid_template_areas": null,
       "grid_template_columns": null,
       "grid_template_rows": null,
       "height": null,
       "justify_content": null,
       "justify_items": null,
       "left": null,
       "margin": null,
       "max_height": null,
       "max_width": null,
       "min_height": null,
       "min_width": null,
       "object_fit": null,
       "object_position": null,
       "order": null,
       "overflow": null,
       "padding": null,
       "right": null,
       "top": null,
       "visibility": null,
       "width": null
      }
     },
     "1a79d49281724a069206a1bba8b9a3d3": {
      "model_module": "@jupyter-widgets/controls",
      "model_module_version": "2.0.0",
      "model_name": "HTMLModel",
      "state": {
       "_dom_classes": [],
       "_model_module": "@jupyter-widgets/controls",
       "_model_module_version": "2.0.0",
       "_model_name": "HTMLModel",
       "_view_count": null,
       "_view_module": "@jupyter-widgets/controls",
       "_view_module_version": "2.0.0",
       "_view_name": "HTMLView",
       "description": "",
       "description_allow_html": false,
       "layout": "IPY_MODEL_fda4d929ede04034a5bf4130e6e8f42e",
       "placeholder": "​",
       "style": "IPY_MODEL_93bfb0ca739b4bd48b127855ac882976",
       "tabbable": null,
       "tooltip": null,
       "value": "config.json: 100%"
      }
     },
     "1ab977a9750b49199e053ff8fcd0fdf8": {
      "model_module": "@jupyter-widgets/base",
      "model_module_version": "2.0.0",
      "model_name": "LayoutModel",
      "state": {
       "_model_module": "@jupyter-widgets/base",
       "_model_module_version": "2.0.0",
       "_model_name": "LayoutModel",
       "_view_count": null,
       "_view_module": "@jupyter-widgets/base",
       "_view_module_version": "2.0.0",
       "_view_name": "LayoutView",
       "align_content": null,
       "align_items": null,
       "align_self": null,
       "border_bottom": null,
       "border_left": null,
       "border_right": null,
       "border_top": null,
       "bottom": null,
       "display": null,
       "flex": null,
       "flex_flow": null,
       "grid_area": null,
       "grid_auto_columns": null,
       "grid_auto_flow": null,
       "grid_auto_rows": null,
       "grid_column": null,
       "grid_gap": null,
       "grid_row": null,
       "grid_template_areas": null,
       "grid_template_columns": null,
       "grid_template_rows": null,
       "height": null,
       "justify_content": null,
       "justify_items": null,
       "left": null,
       "margin": null,
       "max_height": null,
       "max_width": null,
       "min_height": null,
       "min_width": null,
       "object_fit": null,
       "object_position": null,
       "order": null,
       "overflow": null,
       "padding": null,
       "right": null,
       "top": null,
       "visibility": null,
       "width": null
      }
     },
     "1bd91acae1fb4bcdabcaf518c390d420": {
      "model_module": "@jupyter-widgets/controls",
      "model_module_version": "2.0.0",
      "model_name": "FloatProgressModel",
      "state": {
       "_dom_classes": [],
       "_model_module": "@jupyter-widgets/controls",
       "_model_module_version": "2.0.0",
       "_model_name": "FloatProgressModel",
       "_view_count": null,
       "_view_module": "@jupyter-widgets/controls",
       "_view_module_version": "2.0.0",
       "_view_name": "ProgressView",
       "bar_style": "success",
       "description": "",
       "description_allow_html": false,
       "layout": "IPY_MODEL_c73679d091c1460a87c7352cb523fa4d",
       "max": 1961828.0,
       "min": 0.0,
       "orientation": "horizontal",
       "style": "IPY_MODEL_48da4b9671a749b9bf862cdf602a448a",
       "tabbable": null,
       "tooltip": null,
       "value": 1961828.0
      }
     },
     "2d2cde7bf90841f98eb2ba340d182720": {
      "model_module": "@jupyter-widgets/controls",
      "model_module_version": "2.0.0",
      "model_name": "HTMLStyleModel",
      "state": {
       "_model_module": "@jupyter-widgets/controls",
       "_model_module_version": "2.0.0",
       "_model_name": "HTMLStyleModel",
       "_view_count": null,
       "_view_module": "@jupyter-widgets/base",
       "_view_module_version": "2.0.0",
       "_view_name": "StyleView",
       "background": null,
       "description_width": "",
       "font_size": null,
       "text_color": null
      }
     },
     "3148d36cabd0426bbf8906362d109b05": {
      "model_module": "@jupyter-widgets/base",
      "model_module_version": "2.0.0",
      "model_name": "LayoutModel",
      "state": {
       "_model_module": "@jupyter-widgets/base",
       "_model_module_version": "2.0.0",
       "_model_name": "LayoutModel",
       "_view_count": null,
       "_view_module": "@jupyter-widgets/base",
       "_view_module_version": "2.0.0",
       "_view_name": "LayoutView",
       "align_content": null,
       "align_items": null,
       "align_self": null,
       "border_bottom": null,
       "border_left": null,
       "border_right": null,
       "border_top": null,
       "bottom": null,
       "display": null,
       "flex": null,
       "flex_flow": null,
       "grid_area": null,
       "grid_auto_columns": null,
       "grid_auto_flow": null,
       "grid_auto_rows": null,
       "grid_column": null,
       "grid_gap": null,
       "grid_row": null,
       "grid_template_areas": null,
       "grid_template_columns": null,
       "grid_template_rows": null,
       "height": null,
       "justify_content": null,
       "justify_items": null,
       "left": null,
       "margin": null,
       "max_height": null,
       "max_width": null,
       "min_height": null,
       "min_width": null,
       "object_fit": null,
       "object_position": null,
       "order": null,
       "overflow": null,
       "padding": null,
       "right": null,
       "top": null,
       "visibility": null,
       "width": null
      }
     },
     "36fa5a93793c487f868fadcb9eb8c5b2": {
      "model_module": "@jupyter-widgets/controls",
      "model_module_version": "2.0.0",
      "model_name": "FloatProgressModel",
      "state": {
       "_dom_classes": [],
       "_model_module": "@jupyter-widgets/controls",
       "_model_module_version": "2.0.0",
       "_model_name": "FloatProgressModel",
       "_view_count": null,
       "_view_module": "@jupyter-widgets/controls",
       "_view_module_version": "2.0.0",
       "_view_name": "ProgressView",
       "bar_style": "success",
       "description": "",
       "description_allow_html": false,
       "layout": "IPY_MODEL_6aeb74d6e28749eaa38cc4902b748d14",
       "max": 714290682.0,
       "min": 0.0,
       "orientation": "horizontal",
       "style": "IPY_MODEL_d8a4cb82ba9146668c60cc741c427411",
       "tabbable": null,
       "tooltip": null,
       "value": 714290682.0
      }
     },
     "41b77917049d40729b5ab039831bdb47": {
      "model_module": "@jupyter-widgets/controls",
      "model_module_version": "2.0.0",
      "model_name": "HTMLModel",
      "state": {
       "_dom_classes": [],
       "_model_module": "@jupyter-widgets/controls",
       "_model_module_version": "2.0.0",
       "_model_name": "HTMLModel",
       "_view_count": null,
       "_view_module": "@jupyter-widgets/controls",
       "_view_module_version": "2.0.0",
       "_view_name": "HTMLView",
       "description": "",
       "description_allow_html": false,
       "layout": "IPY_MODEL_cf161043f55f43f99946abfac7a53e89",
       "placeholder": "​",
       "style": "IPY_MODEL_7bce6ebeb72644fc914ff49d96114bec",
       "tabbable": null,
       "tooltip": null,
       "value": " 1.96M/1.96M [00:00&lt;00:00, 47.6MB/s]"
      }
     },
     "47a5ad95393e47a98cf5f734c4b47fe2": {
      "model_module": "@jupyter-widgets/base",
      "model_module_version": "2.0.0",
      "model_name": "LayoutModel",
      "state": {
       "_model_module": "@jupyter-widgets/base",
       "_model_module_version": "2.0.0",
       "_model_name": "LayoutModel",
       "_view_count": null,
       "_view_module": "@jupyter-widgets/base",
       "_view_module_version": "2.0.0",
       "_view_name": "LayoutView",
       "align_content": null,
       "align_items": null,
       "align_self": null,
       "border_bottom": null,
       "border_left": null,
       "border_right": null,
       "border_top": null,
       "bottom": null,
       "display": null,
       "flex": null,
       "flex_flow": null,
       "grid_area": null,
       "grid_auto_columns": null,
       "grid_auto_flow": null,
       "grid_auto_rows": null,
       "grid_column": null,
       "grid_gap": null,
       "grid_row": null,
       "grid_template_areas": null,
       "grid_template_columns": null,
       "grid_template_rows": null,
       "height": null,
       "justify_content": null,
       "justify_items": null,
       "left": null,
       "margin": null,
       "max_height": null,
       "max_width": null,
       "min_height": null,
       "min_width": null,
       "object_fit": null,
       "object_position": null,
       "order": null,
       "overflow": null,
       "padding": null,
       "right": null,
       "top": null,
       "visibility": null,
       "width": null
      }
     },
     "47b0f355704947a296cce8d24c534441": {
      "model_module": "@jupyter-widgets/controls",
      "model_module_version": "2.0.0",
      "model_name": "HBoxModel",
      "state": {
       "_dom_classes": [],
       "_model_module": "@jupyter-widgets/controls",
       "_model_module_version": "2.0.0",
       "_model_name": "HBoxModel",
       "_view_count": null,
       "_view_module": "@jupyter-widgets/controls",
       "_view_module_version": "2.0.0",
       "_view_name": "HBoxView",
       "box_style": "",
       "children": [
        "IPY_MODEL_88db497f98c3440485b7e86d2c98fcf5",
        "IPY_MODEL_bddb87d0fb8442be9ff90cafa421207d",
        "IPY_MODEL_ce95cdf1aef849bd864c94e5008c289c"
       ],
       "layout": "IPY_MODEL_6709ac1e37b64b7291acf72bf8e73c33",
       "tabbable": null,
       "tooltip": null
      }
     },
     "48da4b9671a749b9bf862cdf602a448a": {
      "model_module": "@jupyter-widgets/controls",
      "model_module_version": "2.0.0",
      "model_name": "ProgressStyleModel",
      "state": {
       "_model_module": "@jupyter-widgets/controls",
       "_model_module_version": "2.0.0",
       "_model_name": "ProgressStyleModel",
       "_view_count": null,
       "_view_module": "@jupyter-widgets/base",
       "_view_module_version": "2.0.0",
       "_view_name": "StyleView",
       "bar_color": null,
       "description_width": ""
      }
     },
     "4c2bbd3c96e94ac8b9065f1a6a9bec4b": {
      "model_module": "@jupyter-widgets/controls",
      "model_module_version": "2.0.0",
      "model_name": "ProgressStyleModel",
      "state": {
       "_model_module": "@jupyter-widgets/controls",
       "_model_module_version": "2.0.0",
       "_model_name": "ProgressStyleModel",
       "_view_count": null,
       "_view_module": "@jupyter-widgets/base",
       "_view_module_version": "2.0.0",
       "_view_name": "StyleView",
       "bar_color": null,
       "description_width": ""
      }
     },
     "4fc9892517be41e7b110dbc8912264aa": {
      "model_module": "@jupyter-widgets/controls",
      "model_module_version": "2.0.0",
      "model_name": "ProgressStyleModel",
      "state": {
       "_model_module": "@jupyter-widgets/controls",
       "_model_module_version": "2.0.0",
       "_model_name": "ProgressStyleModel",
       "_view_count": null,
       "_view_module": "@jupyter-widgets/base",
       "_view_module_version": "2.0.0",
       "_view_name": "StyleView",
       "bar_color": null,
       "description_width": ""
      }
     },
     "5093a71208d44edcaba943b835df2410": {
      "model_module": "@jupyter-widgets/controls",
      "model_module_version": "2.0.0",
      "model_name": "HTMLModel",
      "state": {
       "_dom_classes": [],
       "_model_module": "@jupyter-widgets/controls",
       "_model_module_version": "2.0.0",
       "_model_name": "HTMLModel",
       "_view_count": null,
       "_view_module": "@jupyter-widgets/controls",
       "_view_module_version": "2.0.0",
       "_view_name": "HTMLView",
       "description": "",
       "description_allow_html": false,
       "layout": "IPY_MODEL_1ab977a9750b49199e053ff8fcd0fdf8",
       "placeholder": "​",
       "style": "IPY_MODEL_c55025cacef04fe089dcf1532e250d92",
       "tabbable": null,
       "tooltip": null,
       "value": "tokenizer_config.json: 100%"
      }
     },
     "5f1ceb9976ef488880b2af56e0947d69": {
      "model_module": "@jupyter-widgets/base",
      "model_module_version": "2.0.0",
      "model_name": "LayoutModel",
      "state": {
       "_model_module": "@jupyter-widgets/base",
       "_model_module_version": "2.0.0",
       "_model_name": "LayoutModel",
       "_view_count": null,
       "_view_module": "@jupyter-widgets/base",
       "_view_module_version": "2.0.0",
       "_view_name": "LayoutView",
       "align_content": null,
       "align_items": null,
       "align_self": null,
       "border_bottom": null,
       "border_left": null,
       "border_right": null,
       "border_top": null,
       "bottom": null,
       "display": null,
       "flex": null,
       "flex_flow": null,
       "grid_area": null,
       "grid_auto_columns": null,
       "grid_auto_flow": null,
       "grid_auto_rows": null,
       "grid_column": null,
       "grid_gap": null,
       "grid_row": null,
       "grid_template_areas": null,
       "grid_template_columns": null,
       "grid_template_rows": null,
       "height": null,
       "justify_content": null,
       "justify_items": null,
       "left": null,
       "margin": null,
       "max_height": null,
       "max_width": null,
       "min_height": null,
       "min_width": null,
       "object_fit": null,
       "object_position": null,
       "order": null,
       "overflow": null,
       "padding": null,
       "right": null,
       "top": null,
       "visibility": null,
       "width": null
      }
     },
     "6709ac1e37b64b7291acf72bf8e73c33": {
      "model_module": "@jupyter-widgets/base",
      "model_module_version": "2.0.0",
      "model_name": "LayoutModel",
      "state": {
       "_model_module": "@jupyter-widgets/base",
       "_model_module_version": "2.0.0",
       "_model_name": "LayoutModel",
       "_view_count": null,
       "_view_module": "@jupyter-widgets/base",
       "_view_module_version": "2.0.0",
       "_view_name": "LayoutView",
       "align_content": null,
       "align_items": null,
       "align_self": null,
       "border_bottom": null,
       "border_left": null,
       "border_right": null,
       "border_top": null,
       "bottom": null,
       "display": null,
       "flex": null,
       "flex_flow": null,
       "grid_area": null,
       "grid_auto_columns": null,
       "grid_auto_flow": null,
       "grid_auto_rows": null,
       "grid_column": null,
       "grid_gap": null,
       "grid_row": null,
       "grid_template_areas": null,
       "grid_template_columns": null,
       "grid_template_rows": null,
       "height": null,
       "justify_content": null,
       "justify_items": null,
       "left": null,
       "margin": null,
       "max_height": null,
       "max_width": null,
       "min_height": null,
       "min_width": null,
       "object_fit": null,
       "object_position": null,
       "order": null,
       "overflow": null,
       "padding": null,
       "right": null,
       "top": null,
       "visibility": null,
       "width": null
      }
     },
     "6aeb74d6e28749eaa38cc4902b748d14": {
      "model_module": "@jupyter-widgets/base",
      "model_module_version": "2.0.0",
      "model_name": "LayoutModel",
      "state": {
       "_model_module": "@jupyter-widgets/base",
       "_model_module_version": "2.0.0",
       "_model_name": "LayoutModel",
       "_view_count": null,
       "_view_module": "@jupyter-widgets/base",
       "_view_module_version": "2.0.0",
       "_view_name": "LayoutView",
       "align_content": null,
       "align_items": null,
       "align_self": null,
       "border_bottom": null,
       "border_left": null,
       "border_right": null,
       "border_top": null,
       "bottom": null,
       "display": null,
       "flex": null,
       "flex_flow": null,
       "grid_area": null,
       "grid_auto_columns": null,
       "grid_auto_flow": null,
       "grid_auto_rows": null,
       "grid_column": null,
       "grid_gap": null,
       "grid_row": null,
       "grid_template_areas": null,
       "grid_template_columns": null,
       "grid_template_rows": null,
       "height": null,
       "justify_content": null,
       "justify_items": null,
       "left": null,
       "margin": null,
       "max_height": null,
       "max_width": null,
       "min_height": null,
       "min_width": null,
       "object_fit": null,
       "object_position": null,
       "order": null,
       "overflow": null,
       "padding": null,
       "right": null,
       "top": null,
       "visibility": null,
       "width": null
      }
     },
     "6ee0f9e5eb9f4e42ba1569736c272126": {
      "model_module": "@jupyter-widgets/controls",
      "model_module_version": "2.0.0",
      "model_name": "FloatProgressModel",
      "state": {
       "_dom_classes": [],
       "_model_module": "@jupyter-widgets/controls",
       "_model_module_version": "2.0.0",
       "_model_name": "FloatProgressModel",
       "_view_count": null,
       "_view_module": "@jupyter-widgets/controls",
       "_view_module_version": "2.0.0",
       "_view_name": "ProgressView",
       "bar_style": "success",
       "description": "",
       "description_allow_html": false,
       "layout": "IPY_MODEL_dc1ad504107948c2bd35fdd65cda5b8d",
       "max": 625.0,
       "min": 0.0,
       "orientation": "horizontal",
       "style": "IPY_MODEL_4c2bbd3c96e94ac8b9065f1a6a9bec4b",
       "tabbable": null,
       "tooltip": null,
       "value": 625.0
      }
     },
     "70d30bafbf2a453a942169c2067e8778": {
      "model_module": "@jupyter-widgets/base",
      "model_module_version": "2.0.0",
      "model_name": "LayoutModel",
      "state": {
       "_model_module": "@jupyter-widgets/base",
       "_model_module_version": "2.0.0",
       "_model_name": "LayoutModel",
       "_view_count": null,
       "_view_module": "@jupyter-widgets/base",
       "_view_module_version": "2.0.0",
       "_view_name": "LayoutView",
       "align_content": null,
       "align_items": null,
       "align_self": null,
       "border_bottom": null,
       "border_left": null,
       "border_right": null,
       "border_top": null,
       "bottom": null,
       "display": null,
       "flex": null,
       "flex_flow": null,
       "grid_area": null,
       "grid_auto_columns": null,
       "grid_auto_flow": null,
       "grid_auto_rows": null,
       "grid_column": null,
       "grid_gap": null,
       "grid_row": null,
       "grid_template_areas": null,
       "grid_template_columns": null,
       "grid_template_rows": null,
       "height": null,
       "justify_content": null,
       "justify_items": null,
       "left": null,
       "margin": null,
       "max_height": null,
       "max_width": null,
       "min_height": null,
       "min_width": null,
       "object_fit": null,
       "object_position": null,
       "order": null,
       "overflow": null,
       "padding": null,
       "right": null,
       "top": null,
       "visibility": null,
       "width": null
      }
     },
     "7a0de2dcee2e41d99d01f8a783411a4a": {
      "model_module": "@jupyter-widgets/base",
      "model_module_version": "2.0.0",
      "model_name": "LayoutModel",
      "state": {
       "_model_module": "@jupyter-widgets/base",
       "_model_module_version": "2.0.0",
       "_model_name": "LayoutModel",
       "_view_count": null,
       "_view_module": "@jupyter-widgets/base",
       "_view_module_version": "2.0.0",
       "_view_name": "LayoutView",
       "align_content": null,
       "align_items": null,
       "align_self": null,
       "border_bottom": null,
       "border_left": null,
       "border_right": null,
       "border_top": null,
       "bottom": null,
       "display": null,
       "flex": null,
       "flex_flow": null,
       "grid_area": null,
       "grid_auto_columns": null,
       "grid_auto_flow": null,
       "grid_auto_rows": null,
       "grid_column": null,
       "grid_gap": null,
       "grid_row": null,
       "grid_template_areas": null,
       "grid_template_columns": null,
       "grid_template_rows": null,
       "height": null,
       "justify_content": null,
       "justify_items": null,
       "left": null,
       "margin": null,
       "max_height": null,
       "max_width": null,
       "min_height": null,
       "min_width": null,
       "object_fit": null,
       "object_position": null,
       "order": null,
       "overflow": null,
       "padding": null,
       "right": null,
       "top": null,
       "visibility": null,
       "width": null
      }
     },
     "7bce6ebeb72644fc914ff49d96114bec": {
      "model_module": "@jupyter-widgets/controls",
      "model_module_version": "2.0.0",
      "model_name": "HTMLStyleModel",
      "state": {
       "_model_module": "@jupyter-widgets/controls",
       "_model_module_version": "2.0.0",
       "_model_name": "HTMLStyleModel",
       "_view_count": null,
       "_view_module": "@jupyter-widgets/base",
       "_view_module_version": "2.0.0",
       "_view_name": "StyleView",
       "background": null,
       "description_width": "",
       "font_size": null,
       "text_color": null
      }
     },
     "80ac3f534c2b439c8a372619d69970e7": {
      "model_module": "@jupyter-widgets/base",
      "model_module_version": "2.0.0",
      "model_name": "LayoutModel",
      "state": {
       "_model_module": "@jupyter-widgets/base",
       "_model_module_version": "2.0.0",
       "_model_name": "LayoutModel",
       "_view_count": null,
       "_view_module": "@jupyter-widgets/base",
       "_view_module_version": "2.0.0",
       "_view_name": "LayoutView",
       "align_content": null,
       "align_items": null,
       "align_self": null,
       "border_bottom": null,
       "border_left": null,
       "border_right": null,
       "border_top": null,
       "bottom": null,
       "display": null,
       "flex": null,
       "flex_flow": null,
       "grid_area": null,
       "grid_auto_columns": null,
       "grid_auto_flow": null,
       "grid_auto_rows": null,
       "grid_column": null,
       "grid_gap": null,
       "grid_row": null,
       "grid_template_areas": null,
       "grid_template_columns": null,
       "grid_template_rows": null,
       "height": null,
       "justify_content": null,
       "justify_items": null,
       "left": null,
       "margin": null,
       "max_height": null,
       "max_width": null,
       "min_height": null,
       "min_width": null,
       "object_fit": null,
       "object_position": null,
       "order": null,
       "overflow": null,
       "padding": null,
       "right": null,
       "top": null,
       "visibility": null,
       "width": null
      }
     },
     "81bb52e2b5dc4f7dabdfd5c90ddfa7b3": {
      "model_module": "@jupyter-widgets/controls",
      "model_module_version": "2.0.0",
      "model_name": "HTMLModel",
      "state": {
       "_dom_classes": [],
       "_model_module": "@jupyter-widgets/controls",
       "_model_module_version": "2.0.0",
       "_model_name": "HTMLModel",
       "_view_count": null,
       "_view_module": "@jupyter-widgets/controls",
       "_view_module_version": "2.0.0",
       "_view_name": "HTMLView",
       "description": "",
       "description_allow_html": false,
       "layout": "IPY_MODEL_7a0de2dcee2e41d99d01f8a783411a4a",
       "placeholder": "​",
       "style": "IPY_MODEL_b0e7ad7607074db390fc4eea81f5fa5f",
       "tabbable": null,
       "tooltip": null,
       "value": "tokenizer.json: 100%"
      }
     },
     "8241e64afd11457b84ae11a63ed722aa": {
      "model_module": "@jupyter-widgets/base",
      "model_module_version": "2.0.0",
      "model_name": "LayoutModel",
      "state": {
       "_model_module": "@jupyter-widgets/base",
       "_model_module_version": "2.0.0",
       "_model_name": "LayoutModel",
       "_view_count": null,
       "_view_module": "@jupyter-widgets/base",
       "_view_module_version": "2.0.0",
       "_view_name": "LayoutView",
       "align_content": null,
       "align_items": null,
       "align_self": null,
       "border_bottom": null,
       "border_left": null,
       "border_right": null,
       "border_top": null,
       "bottom": null,
       "display": null,
       "flex": null,
       "flex_flow": null,
       "grid_area": null,
       "grid_auto_columns": null,
       "grid_auto_flow": null,
       "grid_auto_rows": null,
       "grid_column": null,
       "grid_gap": null,
       "grid_row": null,
       "grid_template_areas": null,
       "grid_template_columns": null,
       "grid_template_rows": null,
       "height": null,
       "justify_content": null,
       "justify_items": null,
       "left": null,
       "margin": null,
       "max_height": null,
       "max_width": null,
       "min_height": null,
       "min_width": null,
       "object_fit": null,
       "object_position": null,
       "order": null,
       "overflow": null,
       "padding": null,
       "right": null,
       "top": null,
       "visibility": null,
       "width": null
      }
     },
     "879acb6ce4e7478ea0c14dba8f1ee59d": {
      "model_module": "@jupyter-widgets/controls",
      "model_module_version": "2.0.0",
      "model_name": "HTMLModel",
      "state": {
       "_dom_classes": [],
       "_model_module": "@jupyter-widgets/controls",
       "_model_module_version": "2.0.0",
       "_model_name": "HTMLModel",
       "_view_count": null,
       "_view_module": "@jupyter-widgets/controls",
       "_view_module_version": "2.0.0",
       "_view_name": "HTMLView",
       "description": "",
       "description_allow_html": false,
       "layout": "IPY_MODEL_47a5ad95393e47a98cf5f734c4b47fe2",
       "placeholder": "​",
       "style": "IPY_MODEL_bac46ba2c556443b8bbf5ab914aed46a",
       "tabbable": null,
       "tooltip": null,
       "value": " 49.0/49.0 [00:00&lt;00:00, 5.97kB/s]"
      }
     },
     "889245dc9af147cb99b204bca2917daa": {
      "model_module": "@jupyter-widgets/controls",
      "model_module_version": "2.0.0",
      "model_name": "HTMLStyleModel",
      "state": {
       "_model_module": "@jupyter-widgets/controls",
       "_model_module_version": "2.0.0",
       "_model_name": "HTMLStyleModel",
       "_view_count": null,
       "_view_module": "@jupyter-widgets/base",
       "_view_module_version": "2.0.0",
       "_view_name": "StyleView",
       "background": null,
       "description_width": "",
       "font_size": null,
       "text_color": null
      }
     },
     "88db497f98c3440485b7e86d2c98fcf5": {
      "model_module": "@jupyter-widgets/controls",
      "model_module_version": "2.0.0",
      "model_name": "HTMLModel",
      "state": {
       "_dom_classes": [],
       "_model_module": "@jupyter-widgets/controls",
       "_model_module_version": "2.0.0",
       "_model_name": "HTMLModel",
       "_view_count": null,
       "_view_module": "@jupyter-widgets/controls",
       "_view_module_version": "2.0.0",
       "_view_name": "HTMLView",
       "description": "",
       "description_allow_html": false,
       "layout": "IPY_MODEL_9cf17bd870f242bc8e10a48b158799f6",
       "placeholder": "​",
       "style": "IPY_MODEL_2d2cde7bf90841f98eb2ba340d182720",
       "tabbable": null,
       "tooltip": null,
       "value": "vocab.txt: 100%"
      }
     },
     "8928d628cac5467facd04102273e24ce": {
      "model_module": "@jupyter-widgets/controls",
      "model_module_version": "2.0.0",
      "model_name": "HBoxModel",
      "state": {
       "_dom_classes": [],
       "_model_module": "@jupyter-widgets/controls",
       "_model_module_version": "2.0.0",
       "_model_name": "HBoxModel",
       "_view_count": null,
       "_view_module": "@jupyter-widgets/controls",
       "_view_module_version": "2.0.0",
       "_view_name": "HBoxView",
       "box_style": "",
       "children": [
        "IPY_MODEL_1a79d49281724a069206a1bba8b9a3d3",
        "IPY_MODEL_6ee0f9e5eb9f4e42ba1569736c272126",
        "IPY_MODEL_92951647c38043a5a0467e38bd7abacf"
       ],
       "layout": "IPY_MODEL_80ac3f534c2b439c8a372619d69970e7",
       "tabbable": null,
       "tooltip": null
      }
     },
     "8a05da47e7d1416abae946ed169a8cd9": {
      "model_module": "@jupyter-widgets/controls",
      "model_module_version": "2.0.0",
      "model_name": "HTMLStyleModel",
      "state": {
       "_model_module": "@jupyter-widgets/controls",
       "_model_module_version": "2.0.0",
       "_model_name": "HTMLStyleModel",
       "_view_count": null,
       "_view_module": "@jupyter-widgets/base",
       "_view_module_version": "2.0.0",
       "_view_name": "StyleView",
       "background": null,
       "description_width": "",
       "font_size": null,
       "text_color": null
      }
     },
     "92951647c38043a5a0467e38bd7abacf": {
      "model_module": "@jupyter-widgets/controls",
      "model_module_version": "2.0.0",
      "model_name": "HTMLModel",
      "state": {
       "_dom_classes": [],
       "_model_module": "@jupyter-widgets/controls",
       "_model_module_version": "2.0.0",
       "_model_name": "HTMLModel",
       "_view_count": null,
       "_view_module": "@jupyter-widgets/controls",
       "_view_module_version": "2.0.0",
       "_view_name": "HTMLView",
       "description": "",
       "description_allow_html": false,
       "layout": "IPY_MODEL_3148d36cabd0426bbf8906362d109b05",
       "placeholder": "​",
       "style": "IPY_MODEL_8a05da47e7d1416abae946ed169a8cd9",
       "tabbable": null,
       "tooltip": null,
       "value": " 625/625 [00:00&lt;00:00, 71.9kB/s]"
      }
     },
     "93bfb0ca739b4bd48b127855ac882976": {
      "model_module": "@jupyter-widgets/controls",
      "model_module_version": "2.0.0",
      "model_name": "HTMLStyleModel",
      "state": {
       "_model_module": "@jupyter-widgets/controls",
       "_model_module_version": "2.0.0",
       "_model_name": "HTMLStyleModel",
       "_view_count": null,
       "_view_module": "@jupyter-widgets/base",
       "_view_module_version": "2.0.0",
       "_view_name": "StyleView",
       "background": null,
       "description_width": "",
       "font_size": null,
       "text_color": null
      }
     },
     "96e9ffb5484440faa259d71694733c74": {
      "model_module": "@jupyter-widgets/base",
      "model_module_version": "2.0.0",
      "model_name": "LayoutModel",
      "state": {
       "_model_module": "@jupyter-widgets/base",
       "_model_module_version": "2.0.0",
       "_model_name": "LayoutModel",
       "_view_count": null,
       "_view_module": "@jupyter-widgets/base",
       "_view_module_version": "2.0.0",
       "_view_name": "LayoutView",
       "align_content": null,
       "align_items": null,
       "align_self": null,
       "border_bottom": null,
       "border_left": null,
       "border_right": null,
       "border_top": null,
       "bottom": null,
       "display": null,
       "flex": null,
       "flex_flow": null,
       "grid_area": null,
       "grid_auto_columns": null,
       "grid_auto_flow": null,
       "grid_auto_rows": null,
       "grid_column": null,
       "grid_gap": null,
       "grid_row": null,
       "grid_template_areas": null,
       "grid_template_columns": null,
       "grid_template_rows": null,
       "height": null,
       "justify_content": null,
       "justify_items": null,
       "left": null,
       "margin": null,
       "max_height": null,
       "max_width": null,
       "min_height": null,
       "min_width": null,
       "object_fit": null,
       "object_position": null,
       "order": null,
       "overflow": null,
       "padding": null,
       "right": null,
       "top": null,
       "visibility": null,
       "width": null
      }
     },
     "9b1dbcee59dc463988455e42c744f71a": {
      "model_module": "@jupyter-widgets/controls",
      "model_module_version": "2.0.0",
      "model_name": "FloatProgressModel",
      "state": {
       "_dom_classes": [],
       "_model_module": "@jupyter-widgets/controls",
       "_model_module_version": "2.0.0",
       "_model_name": "FloatProgressModel",
       "_view_count": null,
       "_view_module": "@jupyter-widgets/controls",
       "_view_module_version": "2.0.0",
       "_view_name": "ProgressView",
       "bar_style": "success",
       "description": "",
       "description_allow_html": false,
       "layout": "IPY_MODEL_96e9ffb5484440faa259d71694733c74",
       "max": 49.0,
       "min": 0.0,
       "orientation": "horizontal",
       "style": "IPY_MODEL_4fc9892517be41e7b110dbc8912264aa",
       "tabbable": null,
       "tooltip": null,
       "value": 49.0
      }
     },
     "9cf17bd870f242bc8e10a48b158799f6": {
      "model_module": "@jupyter-widgets/base",
      "model_module_version": "2.0.0",
      "model_name": "LayoutModel",
      "state": {
       "_model_module": "@jupyter-widgets/base",
       "_model_module_version": "2.0.0",
       "_model_name": "LayoutModel",
       "_view_count": null,
       "_view_module": "@jupyter-widgets/base",
       "_view_module_version": "2.0.0",
       "_view_name": "LayoutView",
       "align_content": null,
       "align_items": null,
       "align_self": null,
       "border_bottom": null,
       "border_left": null,
       "border_right": null,
       "border_top": null,
       "bottom": null,
       "display": null,
       "flex": null,
       "flex_flow": null,
       "grid_area": null,
       "grid_auto_columns": null,
       "grid_auto_flow": null,
       "grid_auto_rows": null,
       "grid_column": null,
       "grid_gap": null,
       "grid_row": null,
       "grid_template_areas": null,
       "grid_template_columns": null,
       "grid_template_rows": null,
       "height": null,
       "justify_content": null,
       "justify_items": null,
       "left": null,
       "margin": null,
       "max_height": null,
       "max_width": null,
       "min_height": null,
       "min_width": null,
       "object_fit": null,
       "object_position": null,
       "order": null,
       "overflow": null,
       "padding": null,
       "right": null,
       "top": null,
       "visibility": null,
       "width": null
      }
     },
     "9d42603f0a3a432c96cd8b254a5e40ec": {
      "model_module": "@jupyter-widgets/controls",
      "model_module_version": "2.0.0",
      "model_name": "ProgressStyleModel",
      "state": {
       "_model_module": "@jupyter-widgets/controls",
       "_model_module_version": "2.0.0",
       "_model_name": "ProgressStyleModel",
       "_view_count": null,
       "_view_module": "@jupyter-widgets/base",
       "_view_module_version": "2.0.0",
       "_view_name": "StyleView",
       "bar_color": null,
       "description_width": ""
      }
     },
     "a058868c136744388765e2df5f1aa697": {
      "model_module": "@jupyter-widgets/controls",
      "model_module_version": "2.0.0",
      "model_name": "HTMLStyleModel",
      "state": {
       "_model_module": "@jupyter-widgets/controls",
       "_model_module_version": "2.0.0",
       "_model_name": "HTMLStyleModel",
       "_view_count": null,
       "_view_module": "@jupyter-widgets/base",
       "_view_module_version": "2.0.0",
       "_view_name": "StyleView",
       "background": null,
       "description_width": "",
       "font_size": null,
       "text_color": null
      }
     },
     "a30e0b250d6c4fd2abbf2692b03ba58a": {
      "model_module": "@jupyter-widgets/base",
      "model_module_version": "2.0.0",
      "model_name": "LayoutModel",
      "state": {
       "_model_module": "@jupyter-widgets/base",
       "_model_module_version": "2.0.0",
       "_model_name": "LayoutModel",
       "_view_count": null,
       "_view_module": "@jupyter-widgets/base",
       "_view_module_version": "2.0.0",
       "_view_name": "LayoutView",
       "align_content": null,
       "align_items": null,
       "align_self": null,
       "border_bottom": null,
       "border_left": null,
       "border_right": null,
       "border_top": null,
       "bottom": null,
       "display": null,
       "flex": null,
       "flex_flow": null,
       "grid_area": null,
       "grid_auto_columns": null,
       "grid_auto_flow": null,
       "grid_auto_rows": null,
       "grid_column": null,
       "grid_gap": null,
       "grid_row": null,
       "grid_template_areas": null,
       "grid_template_columns": null,
       "grid_template_rows": null,
       "height": null,
       "justify_content": null,
       "justify_items": null,
       "left": null,
       "margin": null,
       "max_height": null,
       "max_width": null,
       "min_height": null,
       "min_width": null,
       "object_fit": null,
       "object_position": null,
       "order": null,
       "overflow": null,
       "padding": null,
       "right": null,
       "top": null,
       "visibility": null,
       "width": null
      }
     },
     "a733f80887054ad9aec9e9fbca98b921": {
      "model_module": "@jupyter-widgets/controls",
      "model_module_version": "2.0.0",
      "model_name": "HTMLStyleModel",
      "state": {
       "_model_module": "@jupyter-widgets/controls",
       "_model_module_version": "2.0.0",
       "_model_name": "HTMLStyleModel",
       "_view_count": null,
       "_view_module": "@jupyter-widgets/base",
       "_view_module_version": "2.0.0",
       "_view_name": "StyleView",
       "background": null,
       "description_width": "",
       "font_size": null,
       "text_color": null
      }
     },
     "af0e5ef35ca34a62b60c85c1ac0732de": {
      "model_module": "@jupyter-widgets/controls",
      "model_module_version": "2.0.0",
      "model_name": "HTMLModel",
      "state": {
       "_dom_classes": [],
       "_model_module": "@jupyter-widgets/controls",
       "_model_module_version": "2.0.0",
       "_model_name": "HTMLModel",
       "_view_count": null,
       "_view_module": "@jupyter-widgets/controls",
       "_view_module_version": "2.0.0",
       "_view_name": "HTMLView",
       "description": "",
       "description_allow_html": false,
       "layout": "IPY_MODEL_a30e0b250d6c4fd2abbf2692b03ba58a",
       "placeholder": "​",
       "style": "IPY_MODEL_a058868c136744388765e2df5f1aa697",
       "tabbable": null,
       "tooltip": null,
       "value": "model.safetensors: 100%"
      }
     },
     "b0e7ad7607074db390fc4eea81f5fa5f": {
      "model_module": "@jupyter-widgets/controls",
      "model_module_version": "2.0.0",
      "model_name": "HTMLStyleModel",
      "state": {
       "_model_module": "@jupyter-widgets/controls",
       "_model_module_version": "2.0.0",
       "_model_name": "HTMLStyleModel",
       "_view_count": null,
       "_view_module": "@jupyter-widgets/base",
       "_view_module_version": "2.0.0",
       "_view_name": "StyleView",
       "background": null,
       "description_width": "",
       "font_size": null,
       "text_color": null
      }
     },
     "bac46ba2c556443b8bbf5ab914aed46a": {
      "model_module": "@jupyter-widgets/controls",
      "model_module_version": "2.0.0",
      "model_name": "HTMLStyleModel",
      "state": {
       "_model_module": "@jupyter-widgets/controls",
       "_model_module_version": "2.0.0",
       "_model_name": "HTMLStyleModel",
       "_view_count": null,
       "_view_module": "@jupyter-widgets/base",
       "_view_module_version": "2.0.0",
       "_view_name": "StyleView",
       "background": null,
       "description_width": "",
       "font_size": null,
       "text_color": null
      }
     },
     "bddb87d0fb8442be9ff90cafa421207d": {
      "model_module": "@jupyter-widgets/controls",
      "model_module_version": "2.0.0",
      "model_name": "FloatProgressModel",
      "state": {
       "_dom_classes": [],
       "_model_module": "@jupyter-widgets/controls",
       "_model_module_version": "2.0.0",
       "_model_name": "FloatProgressModel",
       "_view_count": null,
       "_view_module": "@jupyter-widgets/controls",
       "_view_module_version": "2.0.0",
       "_view_name": "ProgressView",
       "bar_style": "success",
       "description": "",
       "description_allow_html": false,
       "layout": "IPY_MODEL_5f1ceb9976ef488880b2af56e0947d69",
       "max": 995526.0,
       "min": 0.0,
       "orientation": "horizontal",
       "style": "IPY_MODEL_9d42603f0a3a432c96cd8b254a5e40ec",
       "tabbable": null,
       "tooltip": null,
       "value": 995526.0
      }
     },
     "c55025cacef04fe089dcf1532e250d92": {
      "model_module": "@jupyter-widgets/controls",
      "model_module_version": "2.0.0",
      "model_name": "HTMLStyleModel",
      "state": {
       "_model_module": "@jupyter-widgets/controls",
       "_model_module_version": "2.0.0",
       "_model_name": "HTMLStyleModel",
       "_view_count": null,
       "_view_module": "@jupyter-widgets/base",
       "_view_module_version": "2.0.0",
       "_view_name": "StyleView",
       "background": null,
       "description_width": "",
       "font_size": null,
       "text_color": null
      }
     },
     "c608b48601604502a30665c17e3596fa": {
      "model_module": "@jupyter-widgets/base",
      "model_module_version": "2.0.0",
      "model_name": "LayoutModel",
      "state": {
       "_model_module": "@jupyter-widgets/base",
       "_model_module_version": "2.0.0",
       "_model_name": "LayoutModel",
       "_view_count": null,
       "_view_module": "@jupyter-widgets/base",
       "_view_module_version": "2.0.0",
       "_view_name": "LayoutView",
       "align_content": null,
       "align_items": null,
       "align_self": null,
       "border_bottom": null,
       "border_left": null,
       "border_right": null,
       "border_top": null,
       "bottom": null,
       "display": null,
       "flex": null,
       "flex_flow": null,
       "grid_area": null,
       "grid_auto_columns": null,
       "grid_auto_flow": null,
       "grid_auto_rows": null,
       "grid_column": null,
       "grid_gap": null,
       "grid_row": null,
       "grid_template_areas": null,
       "grid_template_columns": null,
       "grid_template_rows": null,
       "height": null,
       "justify_content": null,
       "justify_items": null,
       "left": null,
       "margin": null,
       "max_height": null,
       "max_width": null,
       "min_height": null,
       "min_width": null,
       "object_fit": null,
       "object_position": null,
       "order": null,
       "overflow": null,
       "padding": null,
       "right": null,
       "top": null,
       "visibility": null,
       "width": null
      }
     },
     "c73679d091c1460a87c7352cb523fa4d": {
      "model_module": "@jupyter-widgets/base",
      "model_module_version": "2.0.0",
      "model_name": "LayoutModel",
      "state": {
       "_model_module": "@jupyter-widgets/base",
       "_model_module_version": "2.0.0",
       "_model_name": "LayoutModel",
       "_view_count": null,
       "_view_module": "@jupyter-widgets/base",
       "_view_module_version": "2.0.0",
       "_view_name": "LayoutView",
       "align_content": null,
       "align_items": null,
       "align_self": null,
       "border_bottom": null,
       "border_left": null,
       "border_right": null,
       "border_top": null,
       "bottom": null,
       "display": null,
       "flex": null,
       "flex_flow": null,
       "grid_area": null,
       "grid_auto_columns": null,
       "grid_auto_flow": null,
       "grid_auto_rows": null,
       "grid_column": null,
       "grid_gap": null,
       "grid_row": null,
       "grid_template_areas": null,
       "grid_template_columns": null,
       "grid_template_rows": null,
       "height": null,
       "justify_content": null,
       "justify_items": null,
       "left": null,
       "margin": null,
       "max_height": null,
       "max_width": null,
       "min_height": null,
       "min_width": null,
       "object_fit": null,
       "object_position": null,
       "order": null,
       "overflow": null,
       "padding": null,
       "right": null,
       "top": null,
       "visibility": null,
       "width": null
      }
     },
     "ce95cdf1aef849bd864c94e5008c289c": {
      "model_module": "@jupyter-widgets/controls",
      "model_module_version": "2.0.0",
      "model_name": "HTMLModel",
      "state": {
       "_dom_classes": [],
       "_model_module": "@jupyter-widgets/controls",
       "_model_module_version": "2.0.0",
       "_model_name": "HTMLModel",
       "_view_count": null,
       "_view_module": "@jupyter-widgets/controls",
       "_view_module_version": "2.0.0",
       "_view_name": "HTMLView",
       "description": "",
       "description_allow_html": false,
       "layout": "IPY_MODEL_eceb010d70ae4930ae9d4b1976c35254",
       "placeholder": "​",
       "style": "IPY_MODEL_a733f80887054ad9aec9e9fbca98b921",
       "tabbable": null,
       "tooltip": null,
       "value": " 996k/996k [00:00&lt;00:00, 1.67MB/s]"
      }
     },
     "cf161043f55f43f99946abfac7a53e89": {
      "model_module": "@jupyter-widgets/base",
      "model_module_version": "2.0.0",
      "model_name": "LayoutModel",
      "state": {
       "_model_module": "@jupyter-widgets/base",
       "_model_module_version": "2.0.0",
       "_model_name": "LayoutModel",
       "_view_count": null,
       "_view_module": "@jupyter-widgets/base",
       "_view_module_version": "2.0.0",
       "_view_name": "LayoutView",
       "align_content": null,
       "align_items": null,
       "align_self": null,
       "border_bottom": null,
       "border_left": null,
       "border_right": null,
       "border_top": null,
       "bottom": null,
       "display": null,
       "flex": null,
       "flex_flow": null,
       "grid_area": null,
       "grid_auto_columns": null,
       "grid_auto_flow": null,
       "grid_auto_rows": null,
       "grid_column": null,
       "grid_gap": null,
       "grid_row": null,
       "grid_template_areas": null,
       "grid_template_columns": null,
       "grid_template_rows": null,
       "height": null,
       "justify_content": null,
       "justify_items": null,
       "left": null,
       "margin": null,
       "max_height": null,
       "max_width": null,
       "min_height": null,
       "min_width": null,
       "object_fit": null,
       "object_position": null,
       "order": null,
       "overflow": null,
       "padding": null,
       "right": null,
       "top": null,
       "visibility": null,
       "width": null
      }
     },
     "d55241a1117847fabd928d07a5625eb5": {
      "model_module": "@jupyter-widgets/controls",
      "model_module_version": "2.0.0",
      "model_name": "HTMLModel",
      "state": {
       "_dom_classes": [],
       "_model_module": "@jupyter-widgets/controls",
       "_model_module_version": "2.0.0",
       "_model_name": "HTMLModel",
       "_view_count": null,
       "_view_module": "@jupyter-widgets/controls",
       "_view_module_version": "2.0.0",
       "_view_name": "HTMLView",
       "description": "",
       "description_allow_html": false,
       "layout": "IPY_MODEL_c608b48601604502a30665c17e3596fa",
       "placeholder": "​",
       "style": "IPY_MODEL_889245dc9af147cb99b204bca2917daa",
       "tabbable": null,
       "tooltip": null,
       "value": " 714M/714M [00:01&lt;00:00, 439MB/s]"
      }
     },
     "d6a3a04ca81a4aa18f92bf6fec55ad45": {
      "model_module": "@jupyter-widgets/controls",
      "model_module_version": "2.0.0",
      "model_name": "HBoxModel",
      "state": {
       "_dom_classes": [],
       "_model_module": "@jupyter-widgets/controls",
       "_model_module_version": "2.0.0",
       "_model_name": "HBoxModel",
       "_view_count": null,
       "_view_module": "@jupyter-widgets/controls",
       "_view_module_version": "2.0.0",
       "_view_name": "HBoxView",
       "box_style": "",
       "children": [
        "IPY_MODEL_5093a71208d44edcaba943b835df2410",
        "IPY_MODEL_9b1dbcee59dc463988455e42c744f71a",
        "IPY_MODEL_879acb6ce4e7478ea0c14dba8f1ee59d"
       ],
       "layout": "IPY_MODEL_70d30bafbf2a453a942169c2067e8778",
       "tabbable": null,
       "tooltip": null
      }
     },
     "d8a4cb82ba9146668c60cc741c427411": {
      "model_module": "@jupyter-widgets/controls",
      "model_module_version": "2.0.0",
      "model_name": "ProgressStyleModel",
      "state": {
       "_model_module": "@jupyter-widgets/controls",
       "_model_module_version": "2.0.0",
       "_model_name": "ProgressStyleModel",
       "_view_count": null,
       "_view_module": "@jupyter-widgets/base",
       "_view_module_version": "2.0.0",
       "_view_name": "StyleView",
       "bar_color": null,
       "description_width": ""
      }
     },
     "dc1ad504107948c2bd35fdd65cda5b8d": {
      "model_module": "@jupyter-widgets/base",
      "model_module_version": "2.0.0",
      "model_name": "LayoutModel",
      "state": {
       "_model_module": "@jupyter-widgets/base",
       "_model_module_version": "2.0.0",
       "_model_name": "LayoutModel",
       "_view_count": null,
       "_view_module": "@jupyter-widgets/base",
       "_view_module_version": "2.0.0",
       "_view_name": "LayoutView",
       "align_content": null,
       "align_items": null,
       "align_self": null,
       "border_bottom": null,
       "border_left": null,
       "border_right": null,
       "border_top": null,
       "bottom": null,
       "display": null,
       "flex": null,
       "flex_flow": null,
       "grid_area": null,
       "grid_auto_columns": null,
       "grid_auto_flow": null,
       "grid_auto_rows": null,
       "grid_column": null,
       "grid_gap": null,
       "grid_row": null,
       "grid_template_areas": null,
       "grid_template_columns": null,
       "grid_template_rows": null,
       "height": null,
       "justify_content": null,
       "justify_items": null,
       "left": null,
       "margin": null,
       "max_height": null,
       "max_width": null,
       "min_height": null,
       "min_width": null,
       "object_fit": null,
       "object_position": null,
       "order": null,
       "overflow": null,
       "padding": null,
       "right": null,
       "top": null,
       "visibility": null,
       "width": null
      }
     },
     "eceb010d70ae4930ae9d4b1976c35254": {
      "model_module": "@jupyter-widgets/base",
      "model_module_version": "2.0.0",
      "model_name": "LayoutModel",
      "state": {
       "_model_module": "@jupyter-widgets/base",
       "_model_module_version": "2.0.0",
       "_model_name": "LayoutModel",
       "_view_count": null,
       "_view_module": "@jupyter-widgets/base",
       "_view_module_version": "2.0.0",
       "_view_name": "LayoutView",
       "align_content": null,
       "align_items": null,
       "align_self": null,
       "border_bottom": null,
       "border_left": null,
       "border_right": null,
       "border_top": null,
       "bottom": null,
       "display": null,
       "flex": null,
       "flex_flow": null,
       "grid_area": null,
       "grid_auto_columns": null,
       "grid_auto_flow": null,
       "grid_auto_rows": null,
       "grid_column": null,
       "grid_gap": null,
       "grid_row": null,
       "grid_template_areas": null,
       "grid_template_columns": null,
       "grid_template_rows": null,
       "height": null,
       "justify_content": null,
       "justify_items": null,
       "left": null,
       "margin": null,
       "max_height": null,
       "max_width": null,
       "min_height": null,
       "min_width": null,
       "object_fit": null,
       "object_position": null,
       "order": null,
       "overflow": null,
       "padding": null,
       "right": null,
       "top": null,
       "visibility": null,
       "width": null
      }
     },
     "f135842ee05b404daefd5f8fe1bccef6": {
      "model_module": "@jupyter-widgets/controls",
      "model_module_version": "2.0.0",
      "model_name": "HBoxModel",
      "state": {
       "_dom_classes": [],
       "_model_module": "@jupyter-widgets/controls",
       "_model_module_version": "2.0.0",
       "_model_name": "HBoxModel",
       "_view_count": null,
       "_view_module": "@jupyter-widgets/controls",
       "_view_module_version": "2.0.0",
       "_view_name": "HBoxView",
       "box_style": "",
       "children": [
        "IPY_MODEL_af0e5ef35ca34a62b60c85c1ac0732de",
        "IPY_MODEL_36fa5a93793c487f868fadcb9eb8c5b2",
        "IPY_MODEL_d55241a1117847fabd928d07a5625eb5"
       ],
       "layout": "IPY_MODEL_8241e64afd11457b84ae11a63ed722aa",
       "tabbable": null,
       "tooltip": null
      }
     },
     "fda4d929ede04034a5bf4130e6e8f42e": {
      "model_module": "@jupyter-widgets/base",
      "model_module_version": "2.0.0",
      "model_name": "LayoutModel",
      "state": {
       "_model_module": "@jupyter-widgets/base",
       "_model_module_version": "2.0.0",
       "_model_name": "LayoutModel",
       "_view_count": null,
       "_view_module": "@jupyter-widgets/base",
       "_view_module_version": "2.0.0",
       "_view_name": "LayoutView",
       "align_content": null,
       "align_items": null,
       "align_self": null,
       "border_bottom": null,
       "border_left": null,
       "border_right": null,
       "border_top": null,
       "bottom": null,
       "display": null,
       "flex": null,
       "flex_flow": null,
       "grid_area": null,
       "grid_auto_columns": null,
       "grid_auto_flow": null,
       "grid_auto_rows": null,
       "grid_column": null,
       "grid_gap": null,
       "grid_row": null,
       "grid_template_areas": null,
       "grid_template_columns": null,
       "grid_template_rows": null,
       "height": null,
       "justify_content": null,
       "justify_items": null,
       "left": null,
       "margin": null,
       "max_height": null,
       "max_width": null,
       "min_height": null,
       "min_width": null,
       "object_fit": null,
       "object_position": null,
       "order": null,
       "overflow": null,
       "padding": null,
       "right": null,
       "top": null,
       "visibility": null,
       "width": null
      }
     }
    },
    "version_major": 2,
    "version_minor": 0
   }
  }
 },
 "nbformat": 4,
 "nbformat_minor": 5
}
